{
 "cells": [
  {
   "cell_type": "code",
   "execution_count": 1,
   "metadata": {},
   "outputs": [
    {
     "name": "stdout",
     "output_type": "stream",
     "text": [
      "regular price 1928.99\n",
      "sale price 1699.99\n"
     ]
    }
   ],
   "source": [
    "## gets sale price and regular price for dell xps\n",
    "\n",
    "from bs4 import BeautifulSoup\n",
    "import re\n",
    "import requests\n",
    "import datetime\n",
    "import os\n",
    "import csv\n",
    "import sys\n",
    "\n",
    "URL = \"https://www.dell.com/en-us/shop/dell-laptops/new-xps-13-touch/spd/xps-13-9380-laptop/xnita3ws707h\"\n",
    "\n",
    "page = requests.get(URL)\n",
    "\n",
    "soup = BeautifulSoup(page.content, 'html.parser')\n",
    "\n",
    "estimatedValue = soup.find_all(class_='cf-i')\n",
    "\n",
    "evalString = estimatedValue[0].find_all(\"div\", class_ = \"strikethrough cf-price\")[0].get_text()\n",
    "\n",
    "non_decimal = re.compile(r'[^\\d.]+')\n",
    "regPrice = float(non_decimal.sub('', evalString))\n",
    "print(\"regular price\", regPrice)\n",
    "\n",
    "dellValue = soup.find_all(class_='cf-rr-total cf-rr-price-display')[0].find_all(\"div\")[0].get_text()\n",
    "\n",
    "salePrice = float(non_decimal.sub('', dellValue))\n",
    "print(\"sale price\", salePrice)\n",
    "\n",
    "tmp = [str(regPrice), str(salePrice), str(datetime.datetime.now())]"
   ]
  },
  {
   "cell_type": "code",
   "execution_count": 8,
   "metadata": {},
   "outputs": [],
   "source": [
    "filePath = r\"D:\\Dropbox\\AcademiaDropbox\\dellXpsPrices.csv\"\n",
    "exists = os.path.isfile(filePath)\n",
    "\n",
    "if sys.version[0:3] == '3.7':\n",
    "    openType = 'a+'\n",
    "else:\n",
    "    openType = 'a+b'\n",
    "\n",
    "with open(filePath, openType) as myfile:\n",
    "    wr = csv.writer(myfile, quoting=csv.QUOTE_ALL)\n",
    "    if not exists:\n",
    "        wr.writerows([[\"RegPrice\", \"SalePrice\", \"Datetime\"]])\n",
    "    wr.writerows([tmp])"
   ]
  },
  {
   "cell_type": "code",
   "execution_count": null,
   "metadata": {},
   "outputs": [],
   "source": []
  }
 ],
 "metadata": {
  "kernelspec": {
   "display_name": "Python 3",
   "language": "python",
   "name": "python3"
  },
  "language_info": {
   "codemirror_mode": {
    "name": "ipython",
    "version": 3
   },
   "file_extension": ".py",
   "mimetype": "text/x-python",
   "name": "python",
   "nbconvert_exporter": "python",
   "pygments_lexer": "ipython3",
   "version": "3.7.0"
  }
 },
 "nbformat": 4,
 "nbformat_minor": 2
}
