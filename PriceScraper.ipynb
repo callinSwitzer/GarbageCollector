{
 "cells": [
  {
   "cell_type": "code",
   "execution_count": 151,
   "metadata": {},
   "outputs": [],
   "source": [
    "## gets sale price and regular price for dell xps\n",
    "\n",
    "from bs4 import BeautifulSoup\n",
    "import re\n",
    "import requests\n",
    "import datetime\n",
    "import os\n",
    "import csv\n",
    "\n",
    "URL = \"https://www.dell.com/en-us/shop/dell-laptops/new-xps-13-touch/spd/xps-13-9380-laptop/xnita3ws707h\"\n",
    "\n",
    "page = requests.get(URL)\n",
    "\n",
    "soup = BeautifulSoup(page.content, 'html.parser')\n",
    "\n",
    "estimatedValue = soup.find_all(class_='cf-i')\n",
    "\n",
    "evalString = estimatedValue[0].find_all(\"div\", class_ = \"strikethrough cf-price\")[0].get_text()\n",
    "\n",
    "non_decimal = re.compile(r'[^\\d.]+')\n",
    "regPrice = float(non_decimal.sub('', evalString))\n",
    "print(\"regular price\", regPrice)\n",
    "\n",
    "dellValue = soup.find_all(class_='cf-rr-total cf-rr-price-display')[0].find_all(\"div\")[0].get_text()\n",
    "\n",
    "salePrice = float(non_decimal.sub('', dellValue))\n",
    "print(\"sale price\", salePrice)\n",
    "\n",
    "tmp = [str(regPrice), str(salePrice), str(datetime.datetime.now())]\n",
    "\n",
    "filePath = r\"D:\\Dropbox\\AcademiaDropbox\\dellXpsPrices.csv\"\n",
    "exists = os.path.isfile(filePath)\n",
    "\n",
    "with open(filePath, 'a+b') as myfile:\n",
    "    wr = csv.writer(myfile, quoting=csv.QUOTE_ALL)\n",
    "    if not exists:\n",
    "        wr.writerows([[\"RegPrice\", \"SalePrice\", \"Datetime\"]])\n",
    "    wr.writerows([tmp])"
   ]
  },
  {
   "cell_type": "code",
   "execution_count": null,
   "metadata": {},
   "outputs": [],
   "source": []
  }
 ],
 "metadata": {
  "kernelspec": {
   "display_name": "Python3",
   "language": "python",
   "name": "python3"
  },
  "language_info": {
   "codemirror_mode": {
    "name": "ipython",
    "version": 2
   },
   "file_extension": ".py",
   "mimetype": "text/x-python",
   "name": "python",
   "nbconvert_exporter": "python",
   "pygments_lexer": "ipython2",
   "version": "2.7.15"
  }
 },
 "nbformat": 4,
 "nbformat_minor": 2
}
