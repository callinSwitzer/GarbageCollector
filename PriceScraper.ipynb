{
 "cells": [
  {
   "cell_type": "code",
   "execution_count": 13,
   "metadata": {},
   "outputs": [],
   "source": [
    "## gets sale price and regular price for dell xps\n",
    "\n",
    "from bs4 import BeautifulSoup\n",
    "import re\n",
    "import requests\n",
    "import datetime\n",
    "import os\n",
    "import csv\n",
    "import sys\n",
    "\n",
    "non_decimal = re.compile(r'[^\\d.]+')\n",
    "\n",
    "URL = \"https://www.dell.com/en-us/shop/dell-laptops/new-xps-13-touch/spd/xps-13-9380-laptop/xnita3ws707h\"\n",
    "\n",
    "page = requests.get(URL)\n",
    "\n",
    "soup = BeautifulSoup(page.content, 'html.parser')"
   ]
  },
  {
   "cell_type": "code",
   "execution_count": 20,
   "metadata": {},
   "outputs": [
    {
     "name": "stdout",
     "output_type": "stream",
     "text": [
      "sale price 1859.99\n",
      "regular price 1859.99\n"
     ]
    }
   ],
   "source": [
    "dellValue = soup.find_all(class_='cf-rr-total cf-rr-price-display')[0].find_all(\"div\")[0].get_text()\n",
    "\n",
    "salePrice = float(non_decimal.sub('', dellValue))\n",
    "print(\"sale price\", salePrice)\n",
    "\n",
    "estimatedValue = soup.find_all(class_='cf-i')\n",
    "try:\n",
    "    evalString = estimatedValue[0].find_all(\"div\", class_ = \"strikethrough cf-price\")[0].get_text()\n",
    "    regPrice = float(non_decimal.sub('', evalString))\n",
    "except:\n",
    "    regPrice = str(salePrice)\n",
    "print(\"regular price\", regPrice)\n",
    "tmp = [str(regPrice), str(salePrice), str(datetime.datetime.now())]"
   ]
  },
  {
   "cell_type": "code",
   "execution_count": 21,
   "metadata": {},
   "outputs": [],
   "source": [
    "filePath = r\"D:\\Dropbox\\AcademiaDropbox\\dellXpsPrices.csv\"\n",
    "exists = os.path.isfile(filePath)\n",
    "\n",
    "if sys.version[0:3] == '3.7':\n",
    "    openType = 'a+'\n",
    "else:\n",
    "    openType = 'a+'\n",
    "\n",
    "with open(filePath, openType) as myfile:\n",
    "    wr = csv.writer(myfile, quoting=csv.QUOTE_ALL)\n",
    "    if not exists:\n",
    "        wr.writerows([[\"RegPrice\", \"SalePrice\", \"Datetime\"]])\n",
    "    wr.writerows([tmp])"
   ]
  },
  {
   "cell_type": "code",
   "execution_count": 15,
   "metadata": {},
   "outputs": [
    {
     "ename": "AttributeError",
     "evalue": "'numpy.ndarray' object has no attribute 'encode'",
     "output_type": "error",
     "traceback": [
      "\u001b[1;31m---------------------------------------------------------------------------\u001b[0m",
      "\u001b[1;31mAttributeError\u001b[0m                            Traceback (most recent call last)",
      "\u001b[1;32m<ipython-input-15-6263e23f1082>\u001b[0m in \u001b[0;36m<module>\u001b[1;34m()\u001b[0m\n\u001b[1;32m----> 1\u001b[1;33m \u001b[0mnp\u001b[0m\u001b[1;33m.\u001b[0m\u001b[0marray\u001b[0m\u001b[1;33m(\u001b[0m\u001b[1;33m[\u001b[0m\u001b[0mtmp\u001b[0m\u001b[1;33m]\u001b[0m\u001b[1;33m)\u001b[0m\u001b[1;33m.\u001b[0m\u001b[0mencode\u001b[0m\u001b[1;33m(\u001b[0m\u001b[1;33m)\u001b[0m\u001b[1;33m\u001b[0m\u001b[0m\n\u001b[0m",
      "\u001b[1;31mAttributeError\u001b[0m: 'numpy.ndarray' object has no attribute 'encode'"
     ]
    }
   ],
   "source": [
    "np.array([tmp]).encode()"
   ]
  },
  {
   "cell_type": "code",
   "execution_count": 6,
   "metadata": {},
   "outputs": [
    {
     "data": {
      "text/plain": [
       "'a+b'"
      ]
     },
     "execution_count": 6,
     "metadata": {},
     "output_type": "execute_result"
    }
   ],
   "source": [
    "\n",
    "    non_decimal = re.compile(r'[^\\d.]+')\n",
    "\n",
    "    URL = \"https://www.dell.com/en-us/shop/dell-laptops/new-xps-13-touch/spd/xps-13-9380-laptop/xnita3ws707h\"\n",
    "\n",
    "    page = requests.get(URL)\n",
    "\n",
    "    soup = BeautifulSoup(page.content, 'html.parser')\n",
    "    dellValue = soup.find_all(class_='cf-rr-total cf-rr-price-display')[0].find_all(\"div\")[0].get_text()\n",
    "\n",
    "    salePrice = float(non_decimal.sub('', dellValue))\n",
    "    print(\"sale price\", salePrice)\n",
    "\n",
    "    estimatedValue = soup.find_all(class_='cf-i')\n",
    "\n",
    "    try:\n",
    "        evalString = estimatedValue[0].find_all(\"div\", class_ = \"strikethrough cf-price\")[0].get_text()\n",
    "        regPrice = float(non_decimal.sub('', evalString))\n",
    "    except:\n",
    "        regPrice = str(salePrice)\n",
    "    print(\"regular price\", regPrice)\n",
    "\n",
    "    tmp = [str(regPrice), str(salePrice), str(datetime.datetime.now())]exists = os.path.isfile(filePath)\n",
    "\n",
    "    if sys.version[0:3] == '3.7':\n",
    "        openType =  'a+'\n",
    "    elif sys.version[0:3] == '3.5':\n",
    "        openType = 'a+'\n",
    "    else:\n",
    "        openType = 'a+b'\n",
    "\n",
    "    with open(filePath, openType) as myfile:\n",
    "        wr = csv.writer(myfile, quoting=csv.QUOTE_ALL)\n",
    "        if not exists:\n",
    "            wr.writerows([[\"RegPrice\", \"SalePrice\", \"Datetime\"]])\n",
    "        wr.writerows([tmp])"
   ]
  },
  {
   "cell_type": "code",
   "execution_count": null,
   "metadata": {},
   "outputs": [],
   "source": []
  }
 ],
 "metadata": {
  "kernelspec": {
   "display_name": "NectarCamera",
   "language": "python",
   "name": "nectarcamera"
  },
  "language_info": {
   "codemirror_mode": {
    "name": "ipython",
    "version": 3
   },
   "file_extension": ".py",
   "mimetype": "text/x-python",
   "name": "python",
   "nbconvert_exporter": "python",
   "pygments_lexer": "ipython3",
   "version": "3.5.4"
  }
 },
 "nbformat": 4,
 "nbformat_minor": 2
}
