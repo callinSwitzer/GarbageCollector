{
 "cells": [
  {
   "cell_type": "code",
   "execution_count": 5,
   "metadata": {
    "collapsed": true
   },
   "outputs": [],
   "source": [
    "import math\n",
    "import os\n",
    "import random\n",
    "import re\n",
    "import sys\n",
    "from collections import Counter\n",
    "import numpy as np\n",
    "\n",
    "n = 10\n",
    "arr = np.array([1,2,1,2,1,1,2,3,3,5])\n",
    "\n",
    "aa = Counter(arr)\n",
    "np.floor(np.array(list(aa.items()))[:, 1] / 2).sum().astype(int)\n",
    "\n",
    "\n",
    "\n",
    "    \n",
    "# Complete the sockMerchant function below.\n",
    "# def sockMerchant(n, ar):\n",
    "#     Counter(ar)"
   ]
  },
  {
   "cell_type": "code",
   "execution_count": 13,
   "metadata": {},
   "outputs": [
    {
     "data": {
      "text/plain": [
       "4"
      ]
     },
     "execution_count": 13,
     "metadata": {},
     "output_type": "execute_result"
    }
   ],
   "source": [
    "np.floor(np.array(list(aa.items()))[:, 1] / 2).sum().astype(int)"
   ]
  },
  {
   "cell_type": "code",
   "execution_count": null,
   "metadata": {},
   "outputs": [],
   "source": []
  }
 ],
 "metadata": {
  "kernelspec": {
   "display_name": "numSolve",
   "language": "python",
   "name": "numsolve"
  },
  "language_info": {
   "codemirror_mode": {
    "name": "ipython",
    "version": 3
   },
   "file_extension": ".py",
   "mimetype": "text/x-python",
   "name": "python",
   "nbconvert_exporter": "python",
   "pygments_lexer": "ipython3",
   "version": "3.6.6"
  }
 },
 "nbformat": 4,
 "nbformat_minor": 2
}
