{
 "cells": [
  {
   "cell_type": "code",
   "execution_count": 1,
   "metadata": {},
   "outputs": [
    {
     "data": {
      "text/plain": [
       "'3.4.1'"
      ]
     },
     "execution_count": 1,
     "metadata": {},
     "output_type": "execute_result"
    }
   ],
   "source": [
    "import cv2\n",
    "cv2.__version__"
   ]
  },
  {
   "cell_type": "code",
   "execution_count": 2,
   "metadata": {},
   "outputs": [
    {
     "name": "stdout",
     "output_type": "stream",
     "text": [
      "3.6.5 | packaged by conda-forge | (default, Apr  6 2018, 13:44:09) \n",
      "[GCC 4.2.1 Compatible Apple LLVM 6.1.0 (clang-602.0.53)]\n"
     ]
    }
   ],
   "source": [
    "import sys\n",
    "print(sys.version)"
   ]
  },
  {
   "cell_type": "code",
   "execution_count": 3,
   "metadata": {},
   "outputs": [
    {
     "data": {
      "text/plain": [
       "'/Users/cswitzer/anaconda/envs/opencv3/bin'"
      ]
     },
     "execution_count": 3,
     "metadata": {},
     "output_type": "execute_result"
    }
   ],
   "source": [
    "import numpy as np\n",
    "import matplotlib\n",
    "matplotlib.use(\"TkAgg\") # have to use this for tkinter to  work below\n",
    "from matplotlib import pyplot as plt\n",
    "%matplotlib tk\n",
    "import time\n",
    "import pandas as pd\n",
    "\n",
    "import skimage.io as io\n",
    "\n",
    "import os\n",
    "\n",
    "import imageio\n",
    "# print environment\n",
    "os.path.dirname(sys.executable)"
   ]
  },
  {
   "cell_type": "code",
   "execution_count": 4,
   "metadata": {},
   "outputs": [
    {
     "data": {
      "text/plain": [
       "True"
      ]
     },
     "execution_count": 4,
     "metadata": {},
     "output_type": "execute_result"
    }
   ],
   "source": [
    "#vidPath = \"D:/BeeTwoFlowerExperiment/2018_02_27__14_04_52_556/2018_02_27__14_04_55_680_cam1-0000.avi\"\n",
    "vidPath = r\"D:\\BeeTwoFlowerExperiment\\2018_02_27__14_04_52_556\\2018_02_27__14_04_55_680_cam1-0000.avi\"\n",
    "vidPath = r\"/Users/cswitzer/Dropbox/SharedThesisStuff/ThesisImages/2015-08-29_000004.avi\"\n",
    "#vidPath = r\"/Users/cswitzer/Dropbox/UW/GonzagaSeminar_BuzzingBehaviorBiomech2.key/Data/Video Jul 26, 9 14 14 AM-121.mov\"\n",
    "os.path.isfile(vidPath)"
   ]
  },
  {
   "cell_type": "code",
   "execution_count": 5,
   "metadata": {},
   "outputs": [
    {
     "name": "stdout",
     "output_type": "stream",
     "text": [
      "566 1280 1024 30.0\n"
     ]
    }
   ],
   "source": [
    "cap = cv2.VideoCapture(vidPath)\n",
    "\n",
    "\n",
    "length = int(cap.get(cv2.CAP_PROP_FRAME_COUNT))\n",
    "width  = int(cap.get(cv2.CAP_PROP_FRAME_WIDTH))\n",
    "height = int(cap.get(cv2.CAP_PROP_FRAME_HEIGHT))\n",
    "fps    = cap.get(cv2.CAP_PROP_FPS)\n",
    "\n",
    "print(length, width, height, fps)\n",
    "cap.release()"
   ]
  },
  {
   "cell_type": "code",
   "execution_count": 6,
   "metadata": {},
   "outputs": [],
   "source": [
    "def load_imgs(vidPath, start, stop):\n",
    "    cap = cv2.VideoCapture(vidPath)\n",
    "    imgs = []\n",
    "    for ff in range(length):\n",
    "        \n",
    "        \n",
    "        ret, frame = cap.read()\n",
    "        \n",
    "        if np.mod(ff, 10) == 0:\n",
    "            print(ff)\n",
    "        \n",
    "\n",
    "        img = cv2.cvtColor(frame, cv2.COLOR_BGR2RGB)\n",
    "        imgs.append(img)\n",
    "        \n",
    "        if ff > stop:\n",
    "            break\n",
    "            \n",
    "    cap.release()\n",
    "    return imgs"
   ]
  },
  {
   "cell_type": "code",
   "execution_count": 7,
   "metadata": {},
   "outputs": [
    {
     "name": "stdout",
     "output_type": "stream",
     "text": [
      "0\n",
      "10\n",
      "20\n",
      "30\n",
      "40\n",
      "50\n"
     ]
    }
   ],
   "source": [
    "imgs = load_imgs(vidPath, 0, 50)"
   ]
  },
  {
   "cell_type": "code",
   "execution_count": 8,
   "metadata": {},
   "outputs": [
    {
     "data": {
      "text/plain": [
       "<matplotlib.image.AxesImage at 0x820b3de48>"
      ]
     },
     "execution_count": 8,
     "metadata": {},
     "output_type": "execute_result"
    }
   ],
   "source": [
    "io.imshow(imgs[0])"
   ]
  },
  {
   "cell_type": "code",
   "execution_count": 9,
   "metadata": {},
   "outputs": [
    {
     "name": "stdout",
     "output_type": "stream",
     "text": [
      "['EVENT_FLAG_ALTKEY', 'EVENT_FLAG_CTRLKEY', 'EVENT_FLAG_LBUTTON', 'EVENT_FLAG_MBUTTON', 'EVENT_FLAG_RBUTTON', 'EVENT_FLAG_SHIFTKEY', 'EVENT_LBUTTONDBLCLK', 'EVENT_LBUTTONDOWN', 'EVENT_LBUTTONUP', 'EVENT_MBUTTONDBLCLK', 'EVENT_MBUTTONDOWN', 'EVENT_MBUTTONUP', 'EVENT_MOUSEHWHEEL', 'EVENT_MOUSEMOVE', 'EVENT_MOUSEWHEEL', 'EVENT_RBUTTONDBLCLK', 'EVENT_RBUTTONDOWN', 'EVENT_RBUTTONUP']\n"
     ]
    }
   ],
   "source": [
    "# possible opencv events\n",
    "events = [i for i in dir(cv2) if 'EVENT' in i]\n",
    "print( events )"
   ]
  },
  {
   "cell_type": "code",
   "execution_count": 10,
   "metadata": {},
   "outputs": [
    {
     "data": {
      "text/plain": [
       "52"
      ]
     },
     "execution_count": 10,
     "metadata": {},
     "output_type": "execute_result"
    }
   ],
   "source": [
    "len(imgs)"
   ]
  },
  {
   "cell_type": "code",
   "execution_count": 11,
   "metadata": {},
   "outputs": [
    {
     "data": {
      "text/html": [
       "<div>\n",
       "<style scoped>\n",
       "    .dataframe tbody tr th:only-of-type {\n",
       "        vertical-align: middle;\n",
       "    }\n",
       "\n",
       "    .dataframe tbody tr th {\n",
       "        vertical-align: top;\n",
       "    }\n",
       "\n",
       "    .dataframe thead th {\n",
       "        text-align: right;\n",
       "    }\n",
       "</style>\n",
       "<table border=\"1\" class=\"dataframe\">\n",
       "  <thead>\n",
       "    <tr style=\"text-align: right;\">\n",
       "      <th></th>\n",
       "      <th>x1</th>\n",
       "      <th>y1</th>\n",
       "      <th>x2</th>\n",
       "      <th>y2</th>\n",
       "      <th>frameNum</th>\n",
       "      <th>vidPath</th>\n",
       "      <th>behavior</th>\n",
       "      <th>notes</th>\n",
       "    </tr>\n",
       "  </thead>\n",
       "  <tbody>\n",
       "    <tr>\n",
       "      <th>0</th>\n",
       "      <td>818</td>\n",
       "      <td>416</td>\n",
       "      <td>1015</td>\n",
       "      <td>594</td>\n",
       "      <td>0</td>\n",
       "      <td>/Users/cswitzer/Dropbox/SharedThesisStuff/Thes...</td>\n",
       "      <td>l</td>\n",
       "      <td></td>\n",
       "    </tr>\n",
       "    <tr>\n",
       "      <th>1</th>\n",
       "      <td>592</td>\n",
       "      <td>439</td>\n",
       "      <td>831</td>\n",
       "      <td>653</td>\n",
       "      <td>1</td>\n",
       "      <td>/Users/cswitzer/Dropbox/SharedThesisStuff/Thes...</td>\n",
       "      <td>t</td>\n",
       "      <td></td>\n",
       "    </tr>\n",
       "    <tr>\n",
       "      <th>2</th>\n",
       "      <td>782</td>\n",
       "      <td>80</td>\n",
       "      <td>944</td>\n",
       "      <td>211</td>\n",
       "      <td>2</td>\n",
       "      <td>/Users/cswitzer/Dropbox/SharedThesisStuff/Thes...</td>\n",
       "      <td>p</td>\n",
       "      <td></td>\n",
       "    </tr>\n",
       "    <tr>\n",
       "      <th>3</th>\n",
       "      <td>612</td>\n",
       "      <td>169</td>\n",
       "      <td>805</td>\n",
       "      <td>387</td>\n",
       "      <td>3</td>\n",
       "      <td>/Users/cswitzer/Dropbox/SharedThesisStuff/Thes...</td>\n",
       "      <td>t</td>\n",
       "      <td></td>\n",
       "    </tr>\n",
       "  </tbody>\n",
       "</table>\n",
       "</div>"
      ],
      "text/plain": [
       "    x1   y1    x2   y2  frameNum  \\\n",
       "0  818  416  1015  594         0   \n",
       "1  592  439   831  653         1   \n",
       "2  782   80   944  211         2   \n",
       "3  612  169   805  387         3   \n",
       "\n",
       "                                             vidPath behavior notes  \n",
       "0  /Users/cswitzer/Dropbox/SharedThesisStuff/Thes...        l        \n",
       "1  /Users/cswitzer/Dropbox/SharedThesisStuff/Thes...        t        \n",
       "2  /Users/cswitzer/Dropbox/SharedThesisStuff/Thes...        p        \n",
       "3  /Users/cswitzer/Dropbox/SharedThesisStuff/Thes...        t        "
      ]
     },
     "execution_count": 11,
     "metadata": {},
     "output_type": "execute_result"
    }
   ],
   "source": [
    "# mouse hover and draw\n",
    "\n",
    "\n",
    "vid = imgs\n",
    "\n",
    "\n",
    "\n",
    "rect = len(imgs) * [[None, None, None, None,None, None, None, None]]\n",
    "ix,iy = -1,-1\n",
    "drawing  = False\n",
    "moving = False\n",
    "buttonRelease = False\n",
    "doneFrames = []\n",
    "# mouse callback function\n",
    "def draw_circle(event,x,y,flags,param):\n",
    "    global ix,iy, drawing, moving, im3, buttonRelease, xx, yy, im2\n",
    "    if event == cv2.EVENT_LBUTTONDOWN:\n",
    "        drawing = True\n",
    "        ix,iy = x,y\n",
    "    elif event == cv2.EVENT_MOUSEMOVE:\n",
    "        moving = True\n",
    "        im3 = img\n",
    "        #cv2.circle(img,(x,y),10,(255,0,0, 0.1),-1)\n",
    "        cv2.line(img,(img.shape[1],y),(0,y),  color = (0,0,0))\n",
    "        cv2.line(img,(x,0),(x,img.shape[0]),  color = (0,0,0))\n",
    "        if drawing == True:\n",
    "            cv2.rectangle(img,(ix,iy),(x,y),(100,100,255),1)\n",
    "\n",
    "    elif event == cv2.EVENT_LBUTTONUP:\n",
    "        buttonRelease = True\n",
    "        #moving = True\n",
    "        drawing = False\n",
    "        cv2.rectangle(im2,(ix,iy),(x,y),(0,255,0),1)\n",
    "        xx, yy = x,y\n",
    "        \n",
    "    \n",
    "img = imgs[0].copy()\n",
    "im2 = img.copy()\n",
    "im3 = img.copy()\n",
    "cv2.namedWindow('image')\n",
    "cv2.setMouseCallback('image',draw_circle)\n",
    "\n",
    "ctr = 0\n",
    "behavior = \"\"\n",
    "\n",
    "while(1):\n",
    "    if ctr < 0:\n",
    "        ctr = 0\n",
    "        cv2.putText(img,\"1st frame of vid\",(450,30), font, 1,(100,100,100),2,cv2.LINE_AA)\n",
    "    font = cv2.FONT_HERSHEY_SIMPLEX\n",
    "    cv2.putText(img,'frame:' + str(ctr),(1,30), font, 1,(100,100,100),2,cv2.LINE_AA)\n",
    "    cv2.putText(img,'f:forward one frame, no change to data',(1,500), font, 1,(100,100,100),2,cv2.LINE_AA)\n",
    "    cv2.putText(img,'n:next frame, no bee in this frame',(1,530), font, 1,(100,100,100),2,cv2.LINE_AA)\n",
    "    \n",
    "    if ctr in doneFrames:\n",
    "        cv2.putText(img,'frame:' + str(ctr) + \" already done\",(1,30), font, 1,(100,100,100),2,cv2.LINE_AA)\n",
    "    if buttonRelease: \n",
    "        cv2.putText(img,\"Press a key to indicate behavior\",(1,60), font, 1,(100,100,100),2,cv2.LINE_AA)\n",
    "        cv2.putText(img,\"l:landing\",(1,90), font, 1,(100,100,100),2,cv2.LINE_AA)\n",
    "        cv2.putText(img,\"f:flying\",(1,120), font, 1,(100,100,100),2,cv2.LINE_AA)\n",
    "        cv2.putText(img,\"p:pollinating\",(1,150), font, 1,(100,100,100),2,cv2.LINE_AA)\n",
    "        cv2.putText(img,\"g:grooming (while landed)\",(1,180), font, 1,(100,100,100),2,cv2.LINE_AA)\n",
    "        cv2.putText(img,\"t:takeoff\",(1,210), font, 1,(100,100,100),2,cv2.LINE_AA)\n",
    "        cv2.putText(img,\"a:add manual note (in other window)\",(1,240), font, 1,(100,100,100),2,cv2.LINE_AA)\n",
    "        cv2.putText(img,\"f:forward frame- don't save data\",(1,270), font, 1,(100,100,100),2,cv2.LINE_AA)\n",
    "        cv2.putText(img,\"esc:retry drawing the box\",(1,300), font, 1,(100,100,100),2,cv2.LINE_AA)\n",
    "        cv2.putText(img,\"n:next frame, no bee in frame\",(1,330), font, 1,(100,100,100),2,cv2.LINE_AA)\n",
    "        \n",
    "    cv2.imshow('image',img)\n",
    "    if moving: # if mouse is moving, then reload the image\n",
    "        img = im2.copy()\n",
    "    else:\n",
    "        img = im3\n",
    "    moving = False\n",
    "    if buttonRelease:\n",
    "        note = \"\"\n",
    "#         print([ix, iy, xx, yy])\n",
    "        buttonRelease = False\n",
    "        img = imgs[ctr].copy()\n",
    "        im2 = img.copy()\n",
    "        im3 = img.copy()\n",
    "        while(1):\n",
    "            k = cv2.waitKey(1) & 0xFF\n",
    "            if k == ord('l'): # landing\n",
    "                break\n",
    "            elif k == ord(\"p\"): # pollinating\n",
    "                break\n",
    "            elif k == ord(\"f\"): # flying\n",
    "                break\n",
    "            elif k == ord(\"g\"): # grooming\n",
    "                break\n",
    "            elif k == ord(\"t\"): # takeoff \n",
    "                break\n",
    "            elif k == ord(\"a\"): # add note\n",
    "                note = input(\"Notes \")\n",
    "                break\n",
    "            elif k == ord(\"n\"): #move forward, no bee in frame\n",
    "                ix, iy, xx, yy, note, = np.nan, np.nan, np.nan, np.nan, \"no bee in frame\"\n",
    "                break\n",
    "            elif k == ord('b'): # back one frame\n",
    "                ctr -= 1\n",
    "                break\n",
    "            elif k == ord('f'):  # if there is no bee in frame\n",
    "                ix, iy, xx, yy = np.nan, np.nan, np.nan, None\n",
    "                note = \"\"\n",
    "                break\n",
    "            elif k == 27:\n",
    "                #ctr -= 1\n",
    "                ix, iy, xx, yy, note, = np.nan, np.nan, np.nan, np.nan, None\n",
    "                k = ord(\"e\")\n",
    "                break  \n",
    "            \n",
    "        if (ctr >= 0) and( k != ord(\"e\")):         \n",
    "            rect[ctr] = [ix, iy, xx, yy, int(ctr), vidPath, chr(k), note]\n",
    "            doneFrames = [ii for ii in range(len(rect)) if None not in rect[ii]]  \n",
    "            ctr += 1    \n",
    "\n",
    "    k = cv2.waitKey(1) & 0xFF\n",
    "    if k == 27:\n",
    "        break  \n",
    "    elif k == ord(\"b\"): # back one frame\n",
    "        ctr -= 1\n",
    "        img = imgs[ctr].copy()\n",
    "        im2 = img.copy()\n",
    "        im3 = img.copy()\n",
    "    elif k == ord(\"n\"): # if there is no bee in frame\n",
    "        rect[ctr] = [np.nan, np.nan, np.nan, np.nan, int(ctr), vidPath, chr(k), note]\n",
    "        doneFrames = [ii for ii in range(len(rect)) if None not in rect[ii]] \n",
    "        ctr += 1\n",
    "        img = imgs[ctr].copy()\n",
    "        im2 = img.copy()\n",
    "        im3 = img.copy()\n",
    "        note = \"no bee in frame\"\n",
    "    elif k == ord(\"f\"): # move forward without inputting any data\n",
    "        ctr += 1\n",
    "        img = imgs[ctr].copy()\n",
    "        im2 = img.copy()\n",
    "        im3 = img.copy()\n",
    "        note = \"no bee in frame\"\n",
    "        \n",
    "cv2.destroyAllWindows()\n",
    "\n",
    "rect2 = [rect[ii] for ii in doneFrames]\n",
    "pd.DataFrame(rect2, columns = [\"x1\", \"y1\", \"x2\", \"y2\", \"frameNum\", \"vidPath\", \"behavior\", \"notes\"])"
   ]
  },
  {
   "cell_type": "code",
   "execution_count": null,
   "metadata": {},
   "outputs": [],
   "source": [
    "pd.DataFrame(rect, columns = [\"x1\", \"y1\", \"x2\", \"y2\", \"frameNum\", \"vidPath\", \"behavior\", \"notes\"])"
   ]
  },
  {
   "cell_type": "code",
   "execution_count": null,
   "metadata": {},
   "outputs": [],
   "source": [
    "len(rect)"
   ]
  },
  {
   "cell_type": "code",
   "execution_count": null,
   "metadata": {},
   "outputs": [],
   "source": [
    "rect[ctr][4] in [rect[i][4] for i in range(len(rect))]"
   ]
  },
  {
   "cell_type": "code",
   "execution_count": null,
   "metadata": {},
   "outputs": [],
   "source": [
    "doneFrames = [rect[i][4] for i in range(len(rect))]\n",
    "\n",
    "whichFrames = [rect[ctr][4] == doneFrames[ii] for ii in range(len(doneFrames))]\n",
    "any(whichFrames)\n",
    "doneIndex = [i for i, x in enumerate(whichFrames) if x]\n",
    "doneIndex"
   ]
  },
  {
   "cell_type": "code",
   "execution_count": null,
   "metadata": {},
   "outputs": [],
   "source": []
  },
  {
   "cell_type": "code",
   "execution_count": null,
   "metadata": {},
   "outputs": [],
   "source": [
    "img = np.zeros((512,512,3), np.uint8)\n",
    "cv2.rectangle(img,(33 ,28),(496 ,494),(0,255,0),-1)\n",
    "alpha = 0.1\n",
    "overlay = img.copy()\n",
    "cv2.addWeighted(overlay, alpha, img, 1-alpha, 0 )\n",
    "cv2.imshow('image',overlay)"
   ]
  },
  {
   "cell_type": "code",
   "execution_count": null,
   "metadata": {},
   "outputs": [],
   "source": [
    "img = imgs[0].copy()\n",
    "im3 = img.copy()\n",
    "alpha = 0.5\n",
    "cv2.rectangle(im3, (33 ,28),(496 ,494),(0, 0, 255), -1)\n",
    "cv2.addWeighted(im3, alpha, img, 1 - alpha,0, img)\n",
    "cv2.imshow(\"output\", img)"
   ]
  },
  {
   "cell_type": "code",
   "execution_count": null,
   "metadata": {},
   "outputs": [],
   "source": [
    "cv2.rectangle(img,(ix,iy),(xx,yy),(0,255,0),2)\n",
    "im2 = img.copy()\n",
    "io.imshow(im2)"
   ]
  },
  {
   "cell_type": "code",
   "execution_count": null,
   "metadata": {},
   "outputs": [],
   "source": [
    "# get user input\n",
    "for ii in range(4):\n",
    "    a = input(\"behavior\")\n",
    "    print(a)\n"
   ]
  },
  {
   "cell_type": "code",
   "execution_count": null,
   "metadata": {},
   "outputs": [],
   "source": [
    "font = cv2.FONT_HERSHEY_SIMPLEX\n",
    "cv2.putText(img,'frame:' + str(ctr),(1,30), font, 1,(255,255,255),2,cv2.LINE_AA)\n",
    "cv2.imshow(\"img\", img)"
   ]
  },
  {
   "cell_type": "code",
   "execution_count": null,
   "metadata": {},
   "outputs": [],
   "source": []
  },
  {
   "cell_type": "code",
   "execution_count": null,
   "metadata": {},
   "outputs": [],
   "source": []
  },
  {
   "cell_type": "code",
   "execution_count": null,
   "metadata": {},
   "outputs": [],
   "source": [
    "# open dialog box"
   ]
  },
  {
   "cell_type": "code",
   "execution_count": null,
   "metadata": {},
   "outputs": [],
   "source": [
    "import tkinter as tk\n",
    "from tkinter import simpledialog\n",
    "def center_window(root, width=300, height=300):\n",
    "    # get screen width and height\n",
    "    screen_width = root.winfo_screenwidth()\n",
    "    screen_height = root.winfo_screenheight()\n",
    "\n",
    "    # calculate position x and y coordinates\n",
    "    x = (screen_width/2) - (width/2)\n",
    "    y = (screen_height/2) - (height/2)\n",
    "    root.geometry('%dx%d+%d+%d' % (width, height, x, y))\n",
    "\n",
    "\n",
    "\n",
    "application_window = tk.Tk()\n",
    "center_window( application_window)\n",
    "\n",
    "\n",
    "answer = simpledialog.askstring(\"Input\", \"What the behavior?\",\n",
    "                                parent=application_window)\n",
    "if answer is not None:\n",
    "    print(\"Your first name is \", answer)\n",
    "else:\n",
    "    print(\"You don't have a first name?\")\n",
    "application_window.destroy()\n",
    "\n"
   ]
  },
  {
   "cell_type": "raw",
   "metadata": {},
   "source": [
    "\n",
    "\n"
   ]
  },
  {
   "cell_type": "code",
   "execution_count": null,
   "metadata": {},
   "outputs": [],
   "source": [
    "print(\"hi\")"
   ]
  },
  {
   "cell_type": "code",
   "execution_count": null,
   "metadata": {},
   "outputs": [],
   "source": []
  }
 ],
 "metadata": {
  "kernelspec": {
   "display_name": "opencv3",
   "language": "python",
   "name": "opencv3"
  },
  "language_info": {
   "codemirror_mode": {
    "name": "ipython",
    "version": 3
   },
   "file_extension": ".py",
   "mimetype": "text/x-python",
   "name": "python",
   "nbconvert_exporter": "python",
   "pygments_lexer": "ipython3",
   "version": "3.6.5"
  }
 },
 "nbformat": 4,
 "nbformat_minor": 2
}
