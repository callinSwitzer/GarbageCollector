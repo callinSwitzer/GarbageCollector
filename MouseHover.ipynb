{
 "cells": [
  {
   "cell_type": "code",
   "execution_count": 1,
   "metadata": {},
   "outputs": [
    {
     "data": {
      "text/plain": [
       "'3.3.1'"
      ]
     },
     "execution_count": 1,
     "metadata": {},
     "output_type": "execute_result"
    }
   ],
   "source": [
    "import cv2\n",
    "cv2.__version__"
   ]
  },
  {
   "cell_type": "code",
   "execution_count": 2,
   "metadata": {},
   "outputs": [
    {
     "data": {
      "text/plain": [
       "'3.6.4 |Anaconda custom (64-bit)| (default, Jan 16 2018, 10:22:32) [MSC v.1900 64 bit (AMD64)]'"
      ]
     },
     "execution_count": 2,
     "metadata": {},
     "output_type": "execute_result"
    }
   ],
   "source": [
    "import sys\n",
    "sys.version"
   ]
  },
  {
   "cell_type": "code",
   "execution_count": 3,
   "metadata": {},
   "outputs": [
    {
     "name": "stdout",
     "output_type": "stream",
     "text": [
      "1.14.1\n"
     ]
    }
   ],
   "source": [
    "import numpy as np\n",
    "print(np.__version__)\n",
    "\n",
    "\n",
    "\n",
    "import matplotlib\n",
    "matplotlib.use(\"TkAgg\") # have to use this for tkinter to  work below\n",
    "from matplotlib import pyplot as plt\n",
    "%matplotlib tk\n",
    "import time\n",
    "\n",
    "\n",
    "import skimage.io as io\n",
    "\n",
    "import os\n",
    "\n",
    "import imageio"
   ]
  },
  {
   "cell_type": "code",
   "execution_count": 4,
   "metadata": {},
   "outputs": [
    {
     "data": {
      "text/plain": [
       "True"
      ]
     },
     "execution_count": 4,
     "metadata": {},
     "output_type": "execute_result"
    }
   ],
   "source": [
    "#vidPath = \"D:/BeeTwoFlowerExperiment/2018_02_27__14_04_52_556/2018_02_27__14_04_55_680_cam1-0000.avi\"\n",
    "vidPath = r\"D:\\BeeTwoFlowerExperiment\\2018_02_27__14_04_52_556\\2018_02_27__14_04_55_680_cam1-0000.avi\"\n",
    "os.path.isfile(vidPath)"
   ]
  },
  {
   "cell_type": "code",
   "execution_count": 5,
   "metadata": {},
   "outputs": [
    {
     "name": "stdout",
     "output_type": "stream",
     "text": [
      "546 1280 1024 10.0\n"
     ]
    }
   ],
   "source": [
    "cap = cv2.VideoCapture(vidPath)\n",
    "\n",
    "\n",
    "length = int(cap.get(cv2.CAP_PROP_FRAME_COUNT))\n",
    "width  = int(cap.get(cv2.CAP_PROP_FRAME_WIDTH))\n",
    "height = int(cap.get(cv2.CAP_PROP_FRAME_HEIGHT))\n",
    "fps    = cap.get(cv2.CAP_PROP_FPS)\n",
    "\n",
    "print(length, width, height, fps)\n",
    "cap.release()"
   ]
  },
  {
   "cell_type": "code",
   "execution_count": 6,
   "metadata": {},
   "outputs": [],
   "source": [
    "def load_imgs(vidPath, start, stop):\n",
    "    cap = cv2.VideoCapture(vidPath)\n",
    "    imgs = []\n",
    "    for ff in range(length):\n",
    "        \n",
    "        \n",
    "        ret, frame = cap.read()\n",
    "        \n",
    "        if np.mod(ff, 10) == 0:\n",
    "            print(ff)\n",
    "        \n",
    "\n",
    "        img = cv2.cvtColor(frame, cv2.COLOR_BGR2RGB)\n",
    "        imgs.append(img)\n",
    "        \n",
    "        if ff > stop:\n",
    "            break\n",
    "            \n",
    "    cap.release()\n",
    "    return imgs"
   ]
  },
  {
   "cell_type": "code",
   "execution_count": 7,
   "metadata": {},
   "outputs": [
    {
     "name": "stdout",
     "output_type": "stream",
     "text": [
      "0\n",
      "10\n",
      "20\n",
      "30\n",
      "40\n",
      "50\n"
     ]
    }
   ],
   "source": [
    "imgs = load_imgs(vidPath, 0, 50)"
   ]
  },
  {
   "cell_type": "code",
   "execution_count": 8,
   "metadata": {},
   "outputs": [
    {
     "data": {
      "text/plain": [
       "<matplotlib.image.AxesImage at 0x1dc84276550>"
      ]
     },
     "execution_count": 8,
     "metadata": {},
     "output_type": "execute_result"
    }
   ],
   "source": [
    "io.imshow(imgs[0])"
   ]
  },
  {
   "cell_type": "code",
   "execution_count": 9,
   "metadata": {},
   "outputs": [],
   "source": [
    "r = cv2.selectROI(imgs[0], showCrosshair = True, fromCenter = False)\n",
    "cv2.destroyAllWindows()"
   ]
  },
  {
   "cell_type": "code",
   "execution_count": 10,
   "metadata": {},
   "outputs": [
    {
     "data": {
      "text/plain": [
       "(389, 572, 513, 237)"
      ]
     },
     "execution_count": 10,
     "metadata": {},
     "output_type": "execute_result"
    }
   ],
   "source": [
    "r"
   ]
  },
  {
   "cell_type": "code",
   "execution_count": 10,
   "metadata": {},
   "outputs": [
    {
     "name": "stdout",
     "output_type": "stream",
     "text": [
      "['EVENT_FLAG_ALTKEY', 'EVENT_FLAG_CTRLKEY', 'EVENT_FLAG_LBUTTON', 'EVENT_FLAG_MBUTTON', 'EVENT_FLAG_RBUTTON', 'EVENT_FLAG_SHIFTKEY', 'EVENT_LBUTTONDBLCLK', 'EVENT_LBUTTONDOWN', 'EVENT_LBUTTONUP', 'EVENT_MBUTTONDBLCLK', 'EVENT_MBUTTONDOWN', 'EVENT_MBUTTONUP', 'EVENT_MOUSEHWHEEL', 'EVENT_MOUSEMOVE', 'EVENT_MOUSEWHEEL', 'EVENT_RBUTTONDBLCLK', 'EVENT_RBUTTONDOWN', 'EVENT_RBUTTONUP']\n"
     ]
    }
   ],
   "source": [
    "# possible opencv events\n",
    "events = [i for i in dir(cv2) if 'EVENT' in i]\n",
    "print( events )"
   ]
  },
  {
   "cell_type": "code",
   "execution_count": 66,
   "metadata": {},
   "outputs": [
    {
     "data": {
      "text/plain": [
       "(1024, 1280, 3)"
      ]
     },
     "execution_count": 66,
     "metadata": {},
     "output_type": "execute_result"
    }
   ],
   "source": [
    "img.shape"
   ]
  },
  {
   "cell_type": "code",
   "execution_count": 26,
   "metadata": {},
   "outputs": [
    {
     "name": "stdout",
     "output_type": "stream",
     "text": [
      "484 620 652 795\n"
     ]
    }
   ],
   "source": [
    "ix,iy = -1,-1\n",
    "drawing  = False\n",
    "moving = False\n",
    "buttonRelease = False\n",
    "# mouse callback function\n",
    "def draw_circle(event,x,y,flags,param):\n",
    "    global ix,iy, drawing, moving, im3, buttonRelease, xx, yy, im2\n",
    "    if event == cv2.EVENT_LBUTTONDOWN:\n",
    "        drawing = True\n",
    "        ix,iy = x,y\n",
    "    elif event == cv2.EVENT_MOUSEMOVE:\n",
    "        moving = True\n",
    "        im3 = img\n",
    "        #cv2.circle(img,(x,y),10,(255,0,0, 0.1),-1)\n",
    "        cv2.line(img,(img.shape[1],y),(0,y),  color = (0,0,0))\n",
    "        cv2.line(img,(x,0),(x,img.shape[0]),  color = (0,0,0))\n",
    "        if drawing == True:\n",
    "            cv2.rectangle(img,(ix,iy),(x,y),(100,100,255),2)\n",
    "\n",
    "    elif event == cv2.EVENT_LBUTTONUP:\n",
    "        buttonRelease = True\n",
    "        #moving = True\n",
    "        drawing = False\n",
    "        cv2.rectangle(im2,(ix,iy),(x,y),(0,255,0),2)\n",
    "        xx, yy = x,y\n",
    "        \n",
    "    \n",
    "img = imgs[5].copy()\n",
    "im2 = img.copy()\n",
    "im3 = img.copy()\n",
    "cv2.namedWindow('image')\n",
    "cv2.setMouseCallback('image',draw_circle)\n",
    "\n",
    "while(1):\n",
    "    cv2.imshow('image',img)\n",
    "    if moving: # if mouse is moving, then reload the image\n",
    "        img = im2.copy()\n",
    "    else:\n",
    "        img = im3\n",
    "    moving = False\n",
    "    if buttonRelease:\n",
    "        print(ix, iy, xx, yy)\n",
    "        buttonRelease = False\n",
    "    k = cv2.waitKey(1) & 0xFF\n",
    "    if k == 27:\n",
    "        break\n",
    "cv2.destroyAllWindows()"
   ]
  },
  {
   "cell_type": "code",
   "execution_count": 83,
   "metadata": {},
   "outputs": [],
   "source": [
    "img = np.zeros((512,512,3), np.uint8)\n",
    "cv2.rectangle(img,(33 ,28),(496 ,494),(0,255,0),-1)\n",
    "alpha = 0.1\n",
    "overlay = img.copy()\n",
    "cv2.addWeighted(overlay, alpha, img, 1-alpha, 0 )\n",
    "cv2.imshow('image',overlay)"
   ]
  },
  {
   "cell_type": "code",
   "execution_count": 115,
   "metadata": {},
   "outputs": [],
   "source": [
    "img = imgs[0].copy()\n",
    "im3 = img.copy()\n",
    "alpha = 0.5\n",
    "cv2.rectangle(im3, (33 ,28),(496 ,494),(0, 0, 255), -1)\n",
    "cv2.addWeighted(im3, alpha, img, 1 - alpha,0, img)\n",
    "cv2.imshow(\"output\", img)"
   ]
  },
  {
   "cell_type": "code",
   "execution_count": 21,
   "metadata": {},
   "outputs": [
    {
     "data": {
      "text/plain": [
       "<matplotlib.image.AxesImage at 0x1dc841b8748>"
      ]
     },
     "execution_count": 21,
     "metadata": {},
     "output_type": "execute_result"
    }
   ],
   "source": [
    "cv2.rectangle(img,(ix,iy),(xx,yy),(0,255,0),2)\n",
    "im2 = img.copy()\n",
    "io.imshow(im2)"
   ]
  },
  {
   "cell_type": "code",
   "execution_count": null,
   "metadata": {},
   "outputs": [],
   "source": []
  },
  {
   "cell_type": "code",
   "execution_count": null,
   "metadata": {},
   "outputs": [],
   "source": []
  },
  {
   "cell_type": "code",
   "execution_count": null,
   "metadata": {},
   "outputs": [],
   "source": []
  },
  {
   "cell_type": "code",
   "execution_count": null,
   "metadata": {},
   "outputs": [],
   "source": []
  },
  {
   "cell_type": "code",
   "execution_count": 130,
   "metadata": {},
   "outputs": [],
   "source": [
    "# open dialog box"
   ]
  },
  {
   "cell_type": "code",
   "execution_count": 141,
   "metadata": {},
   "outputs": [
    {
     "name": "stdout",
     "output_type": "stream",
     "text": [
      "Your first name is  231\n"
     ]
    }
   ],
   "source": [
    "import tkinter as tk\n",
    "from tkinter import simpledialog\n",
    "def center_window(root, width=300, height=300):\n",
    "    # get screen width and height\n",
    "    screen_width = root.winfo_screenwidth()\n",
    "    screen_height = root.winfo_screenheight()\n",
    "\n",
    "    # calculate position x and y coordinates\n",
    "    x = (screen_width/2) - (width/2)\n",
    "    y = (screen_height/2) - (height/2)\n",
    "    root.geometry('%dx%d+%d+%d' % (width, height, x, y))\n",
    "\n",
    "\n",
    "\n",
    "application_window = tk.Tk()\n",
    "center_window( application_window)\n",
    "\n",
    "\n",
    "answer = simpledialog.askstring(\"Input\", \"What is your first name?\",\n",
    "                                parent=application_window)\n",
    "if answer is not None:\n",
    "    print(\"Your first name is \", answer)\n",
    "else:\n",
    "    print(\"You don't have a first name?\")\n",
    "application_window.destroy()\n",
    "\n"
   ]
  },
  {
   "cell_type": "code",
   "execution_count": 137,
   "metadata": {},
   "outputs": [],
   "source": [
    "\n",
    "\n"
   ]
  },
  {
   "cell_type": "code",
   "execution_count": null,
   "metadata": {},
   "outputs": [],
   "source": [
    "print(\"hi\")"
   ]
  },
  {
   "cell_type": "code",
   "execution_count": null,
   "metadata": {},
   "outputs": [],
   "source": []
  }
 ],
 "metadata": {
  "kernelspec": {
   "display_name": "opencv",
   "language": "python",
   "name": "opencv"
  },
  "language_info": {
   "codemirror_mode": {
    "name": "ipython",
    "version": 3
   },
   "file_extension": ".py",
   "mimetype": "text/x-python",
   "name": "python",
   "nbconvert_exporter": "python",
   "pygments_lexer": "ipython3",
   "version": "3.6.4"
  }
 },
 "nbformat": 4,
 "nbformat_minor": 2
}
