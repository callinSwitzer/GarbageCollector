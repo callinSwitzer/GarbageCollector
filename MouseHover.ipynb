{
 "cells": [
  {
   "cell_type": "code",
   "execution_count": 1,
   "metadata": {},
   "outputs": [
    {
     "data": {
      "text/plain": [
       "'3.3.1'"
      ]
     },
     "execution_count": 1,
     "metadata": {},
     "output_type": "execute_result"
    }
   ],
   "source": [
    "import cv2\n",
    "cv2.__version__"
   ]
  },
  {
   "cell_type": "code",
   "execution_count": 2,
   "metadata": {},
   "outputs": [
    {
     "data": {
      "text/plain": [
       "'3.6.4 |Anaconda custom (64-bit)| (default, Jan 16 2018, 10:22:32) [MSC v.1900 64 bit (AMD64)]'"
      ]
     },
     "execution_count": 2,
     "metadata": {},
     "output_type": "execute_result"
    }
   ],
   "source": [
    "import sys\n",
    "sys.version"
   ]
  },
  {
   "cell_type": "code",
   "execution_count": 3,
   "metadata": {},
   "outputs": [
    {
     "name": "stdout",
     "output_type": "stream",
     "text": [
      "1.14.1\n"
     ]
    }
   ],
   "source": [
    "import numpy as np\n",
    "print(np.__version__)\n",
    "\n",
    "\n",
    "\n",
    "import matplotlib\n",
    "matplotlib.use(\"TkAgg\") # have to use this for tkinter to  work below\n",
    "from matplotlib import pyplot as plt\n",
    "%matplotlib tk\n",
    "import time\n",
    "import pandas as pd\n",
    "\n",
    "import skimage.io as io\n",
    "\n",
    "import os\n",
    "\n",
    "import imageio"
   ]
  },
  {
   "cell_type": "code",
   "execution_count": 4,
   "metadata": {},
   "outputs": [
    {
     "data": {
      "text/plain": [
       "True"
      ]
     },
     "execution_count": 4,
     "metadata": {},
     "output_type": "execute_result"
    }
   ],
   "source": [
    "#vidPath = \"D:/BeeTwoFlowerExperiment/2018_02_27__14_04_52_556/2018_02_27__14_04_55_680_cam1-0000.avi\"\n",
    "vidPath = r\"D:\\BeeTwoFlowerExperiment\\2018_02_27__14_04_52_556\\2018_02_27__14_04_55_680_cam1-0000.avi\"\n",
    "os.path.isfile(vidPath)"
   ]
  },
  {
   "cell_type": "code",
   "execution_count": 5,
   "metadata": {},
   "outputs": [
    {
     "name": "stdout",
     "output_type": "stream",
     "text": [
      "546 1280 1024 10.0\n"
     ]
    }
   ],
   "source": [
    "cap = cv2.VideoCapture(vidPath)\n",
    "\n",
    "\n",
    "length = int(cap.get(cv2.CAP_PROP_FRAME_COUNT))\n",
    "width  = int(cap.get(cv2.CAP_PROP_FRAME_WIDTH))\n",
    "height = int(cap.get(cv2.CAP_PROP_FRAME_HEIGHT))\n",
    "fps    = cap.get(cv2.CAP_PROP_FPS)\n",
    "\n",
    "print(length, width, height, fps)\n",
    "cap.release()"
   ]
  },
  {
   "cell_type": "code",
   "execution_count": 6,
   "metadata": {},
   "outputs": [],
   "source": [
    "def load_imgs(vidPath, start, stop):\n",
    "    cap = cv2.VideoCapture(vidPath)\n",
    "    imgs = []\n",
    "    for ff in range(length):\n",
    "        \n",
    "        \n",
    "        ret, frame = cap.read()\n",
    "        \n",
    "        if np.mod(ff, 10) == 0:\n",
    "            print(ff)\n",
    "        \n",
    "\n",
    "        img = cv2.cvtColor(frame, cv2.COLOR_BGR2RGB)\n",
    "        imgs.append(img)\n",
    "        \n",
    "        if ff > stop:\n",
    "            break\n",
    "            \n",
    "    cap.release()\n",
    "    return imgs"
   ]
  },
  {
   "cell_type": "code",
   "execution_count": 7,
   "metadata": {},
   "outputs": [
    {
     "name": "stdout",
     "output_type": "stream",
     "text": [
      "0\n",
      "10\n",
      "20\n",
      "30\n",
      "40\n",
      "50\n"
     ]
    }
   ],
   "source": [
    "imgs = load_imgs(vidPath, 0, 50)"
   ]
  },
  {
   "cell_type": "code",
   "execution_count": 8,
   "metadata": {},
   "outputs": [
    {
     "data": {
      "text/plain": [
       "<matplotlib.image.AxesImage at 0x19a02741860>"
      ]
     },
     "execution_count": 8,
     "metadata": {},
     "output_type": "execute_result"
    }
   ],
   "source": [
    "io.imshow(imgs[0])"
   ]
  },
  {
   "cell_type": "code",
   "execution_count": 9,
   "metadata": {},
   "outputs": [],
   "source": [
    "r = cv2.selectROI(imgs[0], showCrosshair = True, fromCenter = False)\n",
    "cv2.destroyAllWindows()"
   ]
  },
  {
   "cell_type": "code",
   "execution_count": 10,
   "metadata": {},
   "outputs": [
    {
     "data": {
      "text/plain": [
       "(484, 571, 173, 179)"
      ]
     },
     "execution_count": 10,
     "metadata": {},
     "output_type": "execute_result"
    }
   ],
   "source": [
    "r"
   ]
  },
  {
   "cell_type": "code",
   "execution_count": 11,
   "metadata": {},
   "outputs": [
    {
     "name": "stdout",
     "output_type": "stream",
     "text": [
      "['EVENT_FLAG_ALTKEY', 'EVENT_FLAG_CTRLKEY', 'EVENT_FLAG_LBUTTON', 'EVENT_FLAG_MBUTTON', 'EVENT_FLAG_RBUTTON', 'EVENT_FLAG_SHIFTKEY', 'EVENT_LBUTTONDBLCLK', 'EVENT_LBUTTONDOWN', 'EVENT_LBUTTONUP', 'EVENT_MBUTTONDBLCLK', 'EVENT_MBUTTONDOWN', 'EVENT_MBUTTONUP', 'EVENT_MOUSEHWHEEL', 'EVENT_MOUSEMOVE', 'EVENT_MOUSEWHEEL', 'EVENT_RBUTTONDBLCLK', 'EVENT_RBUTTONDOWN', 'EVENT_RBUTTONUP']\n"
     ]
    }
   ],
   "source": [
    "# possible opencv events\n",
    "events = [i for i in dir(cv2) if 'EVENT' in i]\n",
    "print( events )"
   ]
  },
  {
   "cell_type": "code",
   "execution_count": null,
   "metadata": {},
   "outputs": [],
   "source": [
    "img.shape"
   ]
  },
  {
   "cell_type": "code",
   "execution_count": 97,
   "metadata": {},
   "outputs": [
    {
     "name": "stdout",
     "output_type": "stream",
     "text": [
      "[470, 619, 702, 825]\n",
      "False\n",
      "[467, 602, 701, 811]\n",
      "False\n",
      "[458, 599, 694, 820]\n",
      "False\n",
      "[463, 608, 680, 839]\n",
      "True\n",
      "[472, 617, 711, 817]\n",
      "False\n",
      "[431, 555, 660, 823]\n",
      "False\n",
      "[505, 594, 664, 856]\n",
      "False\n",
      "[443, 599, 681, 842]\n",
      "False\n",
      "[449, 601, 687, 840]\n",
      "False\n",
      "[463, 594, 677, 822]\n",
      "True\n",
      "[457, 577, 676, 827]\n",
      "True\n",
      "[441, 481, 737, 706]\n",
      "False\n",
      "[449, 541, 692, 724]\n",
      "False\n",
      "[488, 487, 747, 754]\n",
      "False\n"
     ]
    },
    {
     "data": {
      "text/html": [
       "<div>\n",
       "<style scoped>\n",
       "    .dataframe tbody tr th:only-of-type {\n",
       "        vertical-align: middle;\n",
       "    }\n",
       "\n",
       "    .dataframe tbody tr th {\n",
       "        vertical-align: top;\n",
       "    }\n",
       "\n",
       "    .dataframe thead th {\n",
       "        text-align: right;\n",
       "    }\n",
       "</style>\n",
       "<table border=\"1\" class=\"dataframe\">\n",
       "  <thead>\n",
       "    <tr style=\"text-align: right;\">\n",
       "      <th></th>\n",
       "      <th>x1</th>\n",
       "      <th>y1</th>\n",
       "      <th>x2</th>\n",
       "      <th>y2</th>\n",
       "      <th>frameNum</th>\n",
       "      <th>vidPath</th>\n",
       "      <th>behavior</th>\n",
       "      <th>notes</th>\n",
       "    </tr>\n",
       "  </thead>\n",
       "  <tbody>\n",
       "    <tr>\n",
       "      <th>0</th>\n",
       "      <td>470.0</td>\n",
       "      <td>619.0</td>\n",
       "      <td>702.0</td>\n",
       "      <td>825.0</td>\n",
       "      <td>1</td>\n",
       "      <td>D:\\BeeTwoFlowerExperiment\\2018_02_27__14_04_52...</td>\n",
       "      <td>l</td>\n",
       "      <td></td>\n",
       "    </tr>\n",
       "    <tr>\n",
       "      <th>1</th>\n",
       "      <td>467.0</td>\n",
       "      <td>602.0</td>\n",
       "      <td>701.0</td>\n",
       "      <td>811.0</td>\n",
       "      <td>2</td>\n",
       "      <td>D:\\BeeTwoFlowerExperiment\\2018_02_27__14_04_52...</td>\n",
       "      <td>l</td>\n",
       "      <td></td>\n",
       "    </tr>\n",
       "    <tr>\n",
       "      <th>2</th>\n",
       "      <td>463.0</td>\n",
       "      <td>608.0</td>\n",
       "      <td>680.0</td>\n",
       "      <td>839.0</td>\n",
       "      <td>3</td>\n",
       "      <td>D:\\BeeTwoFlowerExperiment\\2018_02_27__14_04_52...</td>\n",
       "      <td>l</td>\n",
       "      <td></td>\n",
       "    </tr>\n",
       "    <tr>\n",
       "      <th>3</th>\n",
       "      <td>472.0</td>\n",
       "      <td>617.0</td>\n",
       "      <td>711.0</td>\n",
       "      <td>817.0</td>\n",
       "      <td>4</td>\n",
       "      <td>D:\\BeeTwoFlowerExperiment\\2018_02_27__14_04_52...</td>\n",
       "      <td>l</td>\n",
       "      <td></td>\n",
       "    </tr>\n",
       "    <tr>\n",
       "      <th>4</th>\n",
       "      <td>431.0</td>\n",
       "      <td>555.0</td>\n",
       "      <td>660.0</td>\n",
       "      <td>823.0</td>\n",
       "      <td>5</td>\n",
       "      <td>D:\\BeeTwoFlowerExperiment\\2018_02_27__14_04_52...</td>\n",
       "      <td>l</td>\n",
       "      <td></td>\n",
       "    </tr>\n",
       "    <tr>\n",
       "      <th>5</th>\n",
       "      <td>505.0</td>\n",
       "      <td>594.0</td>\n",
       "      <td>664.0</td>\n",
       "      <td>856.0</td>\n",
       "      <td>6</td>\n",
       "      <td>D:\\BeeTwoFlowerExperiment\\2018_02_27__14_04_52...</td>\n",
       "      <td>l</td>\n",
       "      <td></td>\n",
       "    </tr>\n",
       "    <tr>\n",
       "      <th>6</th>\n",
       "      <td>463.0</td>\n",
       "      <td>594.0</td>\n",
       "      <td>677.0</td>\n",
       "      <td>822.0</td>\n",
       "      <td>7</td>\n",
       "      <td>D:\\BeeTwoFlowerExperiment\\2018_02_27__14_04_52...</td>\n",
       "      <td>l</td>\n",
       "      <td></td>\n",
       "    </tr>\n",
       "    <tr>\n",
       "      <th>7</th>\n",
       "      <td>457.0</td>\n",
       "      <td>577.0</td>\n",
       "      <td>676.0</td>\n",
       "      <td>827.0</td>\n",
       "      <td>8</td>\n",
       "      <td>D:\\BeeTwoFlowerExperiment\\2018_02_27__14_04_52...</td>\n",
       "      <td>l</td>\n",
       "      <td></td>\n",
       "    </tr>\n",
       "    <tr>\n",
       "      <th>8</th>\n",
       "      <td>NaN</td>\n",
       "      <td>NaN</td>\n",
       "      <td>NaN</td>\n",
       "      <td>NaN</td>\n",
       "      <td>6</td>\n",
       "      <td>D:\\BeeTwoFlowerExperiment\\2018_02_27__14_04_52...</td>\n",
       "      <td>z</td>\n",
       "      <td>no bee in frame</td>\n",
       "    </tr>\n",
       "    <tr>\n",
       "      <th>9</th>\n",
       "      <td>NaN</td>\n",
       "      <td>NaN</td>\n",
       "      <td>NaN</td>\n",
       "      <td>NaN</td>\n",
       "      <td>7</td>\n",
       "      <td>D:\\BeeTwoFlowerExperiment\\2018_02_27__14_04_52...</td>\n",
       "      <td>z</td>\n",
       "      <td>no bee in frame</td>\n",
       "    </tr>\n",
       "    <tr>\n",
       "      <th>10</th>\n",
       "      <td>NaN</td>\n",
       "      <td>NaN</td>\n",
       "      <td>NaN</td>\n",
       "      <td>NaN</td>\n",
       "      <td>8</td>\n",
       "      <td>D:\\BeeTwoFlowerExperiment\\2018_02_27__14_04_52...</td>\n",
       "      <td>z</td>\n",
       "      <td>no bee in frame</td>\n",
       "    </tr>\n",
       "    <tr>\n",
       "      <th>11</th>\n",
       "      <td>NaN</td>\n",
       "      <td>NaN</td>\n",
       "      <td>NaN</td>\n",
       "      <td>NaN</td>\n",
       "      <td>9</td>\n",
       "      <td>D:\\BeeTwoFlowerExperiment\\2018_02_27__14_04_52...</td>\n",
       "      <td>z</td>\n",
       "      <td>no bee in frame</td>\n",
       "    </tr>\n",
       "    <tr>\n",
       "      <th>12</th>\n",
       "      <td>NaN</td>\n",
       "      <td>NaN</td>\n",
       "      <td>NaN</td>\n",
       "      <td>NaN</td>\n",
       "      <td>9</td>\n",
       "      <td>D:\\BeeTwoFlowerExperiment\\2018_02_27__14_04_52...</td>\n",
       "      <td>z</td>\n",
       "      <td>no bee in frame</td>\n",
       "    </tr>\n",
       "    <tr>\n",
       "      <th>13</th>\n",
       "      <td>NaN</td>\n",
       "      <td>NaN</td>\n",
       "      <td>NaN</td>\n",
       "      <td>NaN</td>\n",
       "      <td>10</td>\n",
       "      <td>D:\\BeeTwoFlowerExperiment\\2018_02_27__14_04_52...</td>\n",
       "      <td>z</td>\n",
       "      <td>no bee in frame</td>\n",
       "    </tr>\n",
       "    <tr>\n",
       "      <th>14</th>\n",
       "      <td>NaN</td>\n",
       "      <td>NaN</td>\n",
       "      <td>NaN</td>\n",
       "      <td>NaN</td>\n",
       "      <td>11</td>\n",
       "      <td>D:\\BeeTwoFlowerExperiment\\2018_02_27__14_04_52...</td>\n",
       "      <td>z</td>\n",
       "      <td>no bee in frame</td>\n",
       "    </tr>\n",
       "    <tr>\n",
       "      <th>15</th>\n",
       "      <td>NaN</td>\n",
       "      <td>NaN</td>\n",
       "      <td>NaN</td>\n",
       "      <td>NaN</td>\n",
       "      <td>5</td>\n",
       "      <td>D:\\BeeTwoFlowerExperiment\\2018_02_27__14_04_52...</td>\n",
       "      <td>z</td>\n",
       "      <td>no bee in frame</td>\n",
       "    </tr>\n",
       "    <tr>\n",
       "      <th>16</th>\n",
       "      <td>NaN</td>\n",
       "      <td>NaN</td>\n",
       "      <td>NaN</td>\n",
       "      <td>NaN</td>\n",
       "      <td>6</td>\n",
       "      <td>D:\\BeeTwoFlowerExperiment\\2018_02_27__14_04_52...</td>\n",
       "      <td>z</td>\n",
       "      <td>no bee in frame</td>\n",
       "    </tr>\n",
       "    <tr>\n",
       "      <th>17</th>\n",
       "      <td>NaN</td>\n",
       "      <td>NaN</td>\n",
       "      <td>NaN</td>\n",
       "      <td>NaN</td>\n",
       "      <td>7</td>\n",
       "      <td>D:\\BeeTwoFlowerExperiment\\2018_02_27__14_04_52...</td>\n",
       "      <td>z</td>\n",
       "      <td>no bee in frame</td>\n",
       "    </tr>\n",
       "    <tr>\n",
       "      <th>18</th>\n",
       "      <td>NaN</td>\n",
       "      <td>NaN</td>\n",
       "      <td>NaN</td>\n",
       "      <td>NaN</td>\n",
       "      <td>8</td>\n",
       "      <td>D:\\BeeTwoFlowerExperiment\\2018_02_27__14_04_52...</td>\n",
       "      <td>z</td>\n",
       "      <td>no bee in frame</td>\n",
       "    </tr>\n",
       "    <tr>\n",
       "      <th>19</th>\n",
       "      <td>NaN</td>\n",
       "      <td>NaN</td>\n",
       "      <td>NaN</td>\n",
       "      <td>NaN</td>\n",
       "      <td>9</td>\n",
       "      <td>D:\\BeeTwoFlowerExperiment\\2018_02_27__14_04_52...</td>\n",
       "      <td>z</td>\n",
       "      <td>no bee in frame</td>\n",
       "    </tr>\n",
       "    <tr>\n",
       "      <th>20</th>\n",
       "      <td>NaN</td>\n",
       "      <td>NaN</td>\n",
       "      <td>NaN</td>\n",
       "      <td>NaN</td>\n",
       "      <td>10</td>\n",
       "      <td>D:\\BeeTwoFlowerExperiment\\2018_02_27__14_04_52...</td>\n",
       "      <td>z</td>\n",
       "      <td>no bee in frame</td>\n",
       "    </tr>\n",
       "    <tr>\n",
       "      <th>21</th>\n",
       "      <td>NaN</td>\n",
       "      <td>NaN</td>\n",
       "      <td>NaN</td>\n",
       "      <td>NaN</td>\n",
       "      <td>10</td>\n",
       "      <td>D:\\BeeTwoFlowerExperiment\\2018_02_27__14_04_52...</td>\n",
       "      <td>z</td>\n",
       "      <td>no bee in frame</td>\n",
       "    </tr>\n",
       "    <tr>\n",
       "      <th>22</th>\n",
       "      <td>NaN</td>\n",
       "      <td>NaN</td>\n",
       "      <td>NaN</td>\n",
       "      <td>NaN</td>\n",
       "      <td>11</td>\n",
       "      <td>D:\\BeeTwoFlowerExperiment\\2018_02_27__14_04_52...</td>\n",
       "      <td>z</td>\n",
       "      <td>no bee in frame</td>\n",
       "    </tr>\n",
       "    <tr>\n",
       "      <th>23</th>\n",
       "      <td>NaN</td>\n",
       "      <td>NaN</td>\n",
       "      <td>NaN</td>\n",
       "      <td>NaN</td>\n",
       "      <td>12</td>\n",
       "      <td>D:\\BeeTwoFlowerExperiment\\2018_02_27__14_04_52...</td>\n",
       "      <td>z</td>\n",
       "      <td>no bee in frame</td>\n",
       "    </tr>\n",
       "    <tr>\n",
       "      <th>24</th>\n",
       "      <td>NaN</td>\n",
       "      <td>NaN</td>\n",
       "      <td>NaN</td>\n",
       "      <td>NaN</td>\n",
       "      <td>13</td>\n",
       "      <td>D:\\BeeTwoFlowerExperiment\\2018_02_27__14_04_52...</td>\n",
       "      <td>z</td>\n",
       "      <td>no bee in frame</td>\n",
       "    </tr>\n",
       "    <tr>\n",
       "      <th>25</th>\n",
       "      <td>NaN</td>\n",
       "      <td>NaN</td>\n",
       "      <td>NaN</td>\n",
       "      <td>NaN</td>\n",
       "      <td>14</td>\n",
       "      <td>D:\\BeeTwoFlowerExperiment\\2018_02_27__14_04_52...</td>\n",
       "      <td>z</td>\n",
       "      <td>no bee in frame</td>\n",
       "    </tr>\n",
       "    <tr>\n",
       "      <th>26</th>\n",
       "      <td>NaN</td>\n",
       "      <td>NaN</td>\n",
       "      <td>NaN</td>\n",
       "      <td>NaN</td>\n",
       "      <td>15</td>\n",
       "      <td>D:\\BeeTwoFlowerExperiment\\2018_02_27__14_04_52...</td>\n",
       "      <td>z</td>\n",
       "      <td>no bee in frame</td>\n",
       "    </tr>\n",
       "    <tr>\n",
       "      <th>27</th>\n",
       "      <td>NaN</td>\n",
       "      <td>NaN</td>\n",
       "      <td>NaN</td>\n",
       "      <td>NaN</td>\n",
       "      <td>16</td>\n",
       "      <td>D:\\BeeTwoFlowerExperiment\\2018_02_27__14_04_52...</td>\n",
       "      <td>z</td>\n",
       "      <td>no bee in frame</td>\n",
       "    </tr>\n",
       "    <tr>\n",
       "      <th>28</th>\n",
       "      <td>NaN</td>\n",
       "      <td>NaN</td>\n",
       "      <td>NaN</td>\n",
       "      <td>NaN</td>\n",
       "      <td>17</td>\n",
       "      <td>D:\\BeeTwoFlowerExperiment\\2018_02_27__14_04_52...</td>\n",
       "      <td>z</td>\n",
       "      <td>no bee in frame</td>\n",
       "    </tr>\n",
       "    <tr>\n",
       "      <th>29</th>\n",
       "      <td>NaN</td>\n",
       "      <td>NaN</td>\n",
       "      <td>NaN</td>\n",
       "      <td>NaN</td>\n",
       "      <td>18</td>\n",
       "      <td>D:\\BeeTwoFlowerExperiment\\2018_02_27__14_04_52...</td>\n",
       "      <td>z</td>\n",
       "      <td>no bee in frame</td>\n",
       "    </tr>\n",
       "    <tr>\n",
       "      <th>30</th>\n",
       "      <td>NaN</td>\n",
       "      <td>NaN</td>\n",
       "      <td>NaN</td>\n",
       "      <td>NaN</td>\n",
       "      <td>19</td>\n",
       "      <td>D:\\BeeTwoFlowerExperiment\\2018_02_27__14_04_52...</td>\n",
       "      <td>z</td>\n",
       "      <td>no bee in frame</td>\n",
       "    </tr>\n",
       "    <tr>\n",
       "      <th>31</th>\n",
       "      <td>NaN</td>\n",
       "      <td>NaN</td>\n",
       "      <td>NaN</td>\n",
       "      <td>NaN</td>\n",
       "      <td>20</td>\n",
       "      <td>D:\\BeeTwoFlowerExperiment\\2018_02_27__14_04_52...</td>\n",
       "      <td>z</td>\n",
       "      <td>no bee in frame</td>\n",
       "    </tr>\n",
       "    <tr>\n",
       "      <th>32</th>\n",
       "      <td>NaN</td>\n",
       "      <td>NaN</td>\n",
       "      <td>NaN</td>\n",
       "      <td>NaN</td>\n",
       "      <td>21</td>\n",
       "      <td>D:\\BeeTwoFlowerExperiment\\2018_02_27__14_04_52...</td>\n",
       "      <td>z</td>\n",
       "      <td>no bee in frame</td>\n",
       "    </tr>\n",
       "    <tr>\n",
       "      <th>33</th>\n",
       "      <td>NaN</td>\n",
       "      <td>NaN</td>\n",
       "      <td>NaN</td>\n",
       "      <td>NaN</td>\n",
       "      <td>22</td>\n",
       "      <td>D:\\BeeTwoFlowerExperiment\\2018_02_27__14_04_52...</td>\n",
       "      <td>z</td>\n",
       "      <td>no bee in frame</td>\n",
       "    </tr>\n",
       "    <tr>\n",
       "      <th>34</th>\n",
       "      <td>NaN</td>\n",
       "      <td>NaN</td>\n",
       "      <td>NaN</td>\n",
       "      <td>NaN</td>\n",
       "      <td>23</td>\n",
       "      <td>D:\\BeeTwoFlowerExperiment\\2018_02_27__14_04_52...</td>\n",
       "      <td>z</td>\n",
       "      <td>no bee in frame</td>\n",
       "    </tr>\n",
       "    <tr>\n",
       "      <th>35</th>\n",
       "      <td>NaN</td>\n",
       "      <td>NaN</td>\n",
       "      <td>NaN</td>\n",
       "      <td>NaN</td>\n",
       "      <td>24</td>\n",
       "      <td>D:\\BeeTwoFlowerExperiment\\2018_02_27__14_04_52...</td>\n",
       "      <td>z</td>\n",
       "      <td>no bee in frame</td>\n",
       "    </tr>\n",
       "    <tr>\n",
       "      <th>36</th>\n",
       "      <td>449.0</td>\n",
       "      <td>541.0</td>\n",
       "      <td>692.0</td>\n",
       "      <td>724.0</td>\n",
       "      <td>25</td>\n",
       "      <td>D:\\BeeTwoFlowerExperiment\\2018_02_27__14_04_52...</td>\n",
       "      <td>l</td>\n",
       "      <td></td>\n",
       "    </tr>\n",
       "    <tr>\n",
       "      <th>37</th>\n",
       "      <td>488.0</td>\n",
       "      <td>487.0</td>\n",
       "      <td>747.0</td>\n",
       "      <td>754.0</td>\n",
       "      <td>26</td>\n",
       "      <td>D:\\BeeTwoFlowerExperiment\\2018_02_27__14_04_52...</td>\n",
       "      <td>l</td>\n",
       "      <td></td>\n",
       "    </tr>\n",
       "  </tbody>\n",
       "</table>\n",
       "</div>"
      ],
      "text/plain": [
       "       x1     y1     x2     y2  frameNum  \\\n",
       "0   470.0  619.0  702.0  825.0         1   \n",
       "1   467.0  602.0  701.0  811.0         2   \n",
       "2   463.0  608.0  680.0  839.0         3   \n",
       "3   472.0  617.0  711.0  817.0         4   \n",
       "4   431.0  555.0  660.0  823.0         5   \n",
       "5   505.0  594.0  664.0  856.0         6   \n",
       "6   463.0  594.0  677.0  822.0         7   \n",
       "7   457.0  577.0  676.0  827.0         8   \n",
       "8     NaN    NaN    NaN    NaN         6   \n",
       "9     NaN    NaN    NaN    NaN         7   \n",
       "10    NaN    NaN    NaN    NaN         8   \n",
       "11    NaN    NaN    NaN    NaN         9   \n",
       "12    NaN    NaN    NaN    NaN         9   \n",
       "13    NaN    NaN    NaN    NaN        10   \n",
       "14    NaN    NaN    NaN    NaN        11   \n",
       "15    NaN    NaN    NaN    NaN         5   \n",
       "16    NaN    NaN    NaN    NaN         6   \n",
       "17    NaN    NaN    NaN    NaN         7   \n",
       "18    NaN    NaN    NaN    NaN         8   \n",
       "19    NaN    NaN    NaN    NaN         9   \n",
       "20    NaN    NaN    NaN    NaN        10   \n",
       "21    NaN    NaN    NaN    NaN        10   \n",
       "22    NaN    NaN    NaN    NaN        11   \n",
       "23    NaN    NaN    NaN    NaN        12   \n",
       "24    NaN    NaN    NaN    NaN        13   \n",
       "25    NaN    NaN    NaN    NaN        14   \n",
       "26    NaN    NaN    NaN    NaN        15   \n",
       "27    NaN    NaN    NaN    NaN        16   \n",
       "28    NaN    NaN    NaN    NaN        17   \n",
       "29    NaN    NaN    NaN    NaN        18   \n",
       "30    NaN    NaN    NaN    NaN        19   \n",
       "31    NaN    NaN    NaN    NaN        20   \n",
       "32    NaN    NaN    NaN    NaN        21   \n",
       "33    NaN    NaN    NaN    NaN        22   \n",
       "34    NaN    NaN    NaN    NaN        23   \n",
       "35    NaN    NaN    NaN    NaN        24   \n",
       "36  449.0  541.0  692.0  724.0        25   \n",
       "37  488.0  487.0  747.0  754.0        26   \n",
       "\n",
       "                                              vidPath behavior  \\\n",
       "0   D:\\BeeTwoFlowerExperiment\\2018_02_27__14_04_52...        l   \n",
       "1   D:\\BeeTwoFlowerExperiment\\2018_02_27__14_04_52...        l   \n",
       "2   D:\\BeeTwoFlowerExperiment\\2018_02_27__14_04_52...        l   \n",
       "3   D:\\BeeTwoFlowerExperiment\\2018_02_27__14_04_52...        l   \n",
       "4   D:\\BeeTwoFlowerExperiment\\2018_02_27__14_04_52...        l   \n",
       "5   D:\\BeeTwoFlowerExperiment\\2018_02_27__14_04_52...        l   \n",
       "6   D:\\BeeTwoFlowerExperiment\\2018_02_27__14_04_52...        l   \n",
       "7   D:\\BeeTwoFlowerExperiment\\2018_02_27__14_04_52...        l   \n",
       "8   D:\\BeeTwoFlowerExperiment\\2018_02_27__14_04_52...        z   \n",
       "9   D:\\BeeTwoFlowerExperiment\\2018_02_27__14_04_52...        z   \n",
       "10  D:\\BeeTwoFlowerExperiment\\2018_02_27__14_04_52...        z   \n",
       "11  D:\\BeeTwoFlowerExperiment\\2018_02_27__14_04_52...        z   \n",
       "12  D:\\BeeTwoFlowerExperiment\\2018_02_27__14_04_52...        z   \n",
       "13  D:\\BeeTwoFlowerExperiment\\2018_02_27__14_04_52...        z   \n",
       "14  D:\\BeeTwoFlowerExperiment\\2018_02_27__14_04_52...        z   \n",
       "15  D:\\BeeTwoFlowerExperiment\\2018_02_27__14_04_52...        z   \n",
       "16  D:\\BeeTwoFlowerExperiment\\2018_02_27__14_04_52...        z   \n",
       "17  D:\\BeeTwoFlowerExperiment\\2018_02_27__14_04_52...        z   \n",
       "18  D:\\BeeTwoFlowerExperiment\\2018_02_27__14_04_52...        z   \n",
       "19  D:\\BeeTwoFlowerExperiment\\2018_02_27__14_04_52...        z   \n",
       "20  D:\\BeeTwoFlowerExperiment\\2018_02_27__14_04_52...        z   \n",
       "21  D:\\BeeTwoFlowerExperiment\\2018_02_27__14_04_52...        z   \n",
       "22  D:\\BeeTwoFlowerExperiment\\2018_02_27__14_04_52...        z   \n",
       "23  D:\\BeeTwoFlowerExperiment\\2018_02_27__14_04_52...        z   \n",
       "24  D:\\BeeTwoFlowerExperiment\\2018_02_27__14_04_52...        z   \n",
       "25  D:\\BeeTwoFlowerExperiment\\2018_02_27__14_04_52...        z   \n",
       "26  D:\\BeeTwoFlowerExperiment\\2018_02_27__14_04_52...        z   \n",
       "27  D:\\BeeTwoFlowerExperiment\\2018_02_27__14_04_52...        z   \n",
       "28  D:\\BeeTwoFlowerExperiment\\2018_02_27__14_04_52...        z   \n",
       "29  D:\\BeeTwoFlowerExperiment\\2018_02_27__14_04_52...        z   \n",
       "30  D:\\BeeTwoFlowerExperiment\\2018_02_27__14_04_52...        z   \n",
       "31  D:\\BeeTwoFlowerExperiment\\2018_02_27__14_04_52...        z   \n",
       "32  D:\\BeeTwoFlowerExperiment\\2018_02_27__14_04_52...        z   \n",
       "33  D:\\BeeTwoFlowerExperiment\\2018_02_27__14_04_52...        z   \n",
       "34  D:\\BeeTwoFlowerExperiment\\2018_02_27__14_04_52...        z   \n",
       "35  D:\\BeeTwoFlowerExperiment\\2018_02_27__14_04_52...        z   \n",
       "36  D:\\BeeTwoFlowerExperiment\\2018_02_27__14_04_52...        l   \n",
       "37  D:\\BeeTwoFlowerExperiment\\2018_02_27__14_04_52...        l   \n",
       "\n",
       "              notes  \n",
       "0                    \n",
       "1                    \n",
       "2                    \n",
       "3                    \n",
       "4                    \n",
       "5                    \n",
       "6                    \n",
       "7                    \n",
       "8   no bee in frame  \n",
       "9   no bee in frame  \n",
       "10  no bee in frame  \n",
       "11  no bee in frame  \n",
       "12  no bee in frame  \n",
       "13  no bee in frame  \n",
       "14  no bee in frame  \n",
       "15  no bee in frame  \n",
       "16  no bee in frame  \n",
       "17  no bee in frame  \n",
       "18  no bee in frame  \n",
       "19  no bee in frame  \n",
       "20  no bee in frame  \n",
       "21  no bee in frame  \n",
       "22  no bee in frame  \n",
       "23  no bee in frame  \n",
       "24  no bee in frame  \n",
       "25  no bee in frame  \n",
       "26  no bee in frame  \n",
       "27  no bee in frame  \n",
       "28  no bee in frame  \n",
       "29  no bee in frame  \n",
       "30  no bee in frame  \n",
       "31  no bee in frame  \n",
       "32  no bee in frame  \n",
       "33  no bee in frame  \n",
       "34  no bee in frame  \n",
       "35  no bee in frame  \n",
       "36                   \n",
       "37                   "
      ]
     },
     "execution_count": 97,
     "metadata": {},
     "output_type": "execute_result"
    }
   ],
   "source": [
    "# mouse hover and draw\n",
    "\n",
    "ix,iy = -1,-1\n",
    "drawing  = False\n",
    "moving = False\n",
    "buttonRelease = False\n",
    "# mouse callback function\n",
    "def draw_circle(event,x,y,flags,param):\n",
    "    global ix,iy, drawing, moving, im3, buttonRelease, xx, yy, im2\n",
    "    if event == cv2.EVENT_LBUTTONDOWN:\n",
    "        drawing = True\n",
    "        ix,iy = x,y\n",
    "    elif event == cv2.EVENT_MOUSEMOVE:\n",
    "        moving = True\n",
    "        im3 = img\n",
    "        #cv2.circle(img,(x,y),10,(255,0,0, 0.1),-1)\n",
    "        cv2.line(img,(img.shape[1],y),(0,y),  color = (0,0,0))\n",
    "        cv2.line(img,(x,0),(x,img.shape[0]),  color = (0,0,0))\n",
    "        if drawing == True:\n",
    "            cv2.rectangle(img,(ix,iy),(x,y),(100,100,255),1)\n",
    "\n",
    "    elif event == cv2.EVENT_LBUTTONUP:\n",
    "        buttonRelease = True\n",
    "        #moving = True\n",
    "        drawing = False\n",
    "        cv2.rectangle(im2,(ix,iy),(x,y),(0,255,0),1)\n",
    "        xx, yy = x,y\n",
    "        \n",
    "    \n",
    "img = imgs[0].copy()\n",
    "im2 = img.copy()\n",
    "im3 = img.copy()\n",
    "cv2.namedWindow('image')\n",
    "cv2.setMouseCallback('image',draw_circle)\n",
    "rect = []\n",
    "ctr = 0\n",
    "behavior = \"\"\n",
    "\n",
    "while(1):\n",
    "    font = cv2.FONT_HERSHEY_SIMPLEX\n",
    "    cv2.putText(img,'frame:' + str(ctr),(1,30), font, 1,(255,255,255),2,cv2.LINE_AA)\n",
    "    if ctr in doneFrames:\n",
    "        cv2.putText(img,'frame:' + str(ctr) + \" already done\",(1,30), font, 1,(255,255,255),2,cv2.LINE_AA)\n",
    "    cv2.imshow('image',img)\n",
    "    if moving: # if mouse is moving, then reload the image\n",
    "        img = im2.copy()\n",
    "    else:\n",
    "        img = im3\n",
    "    moving = False\n",
    "    if buttonRelease:\n",
    "        note = \"\"\n",
    "        \n",
    "        print([ix, iy, xx, yy])\n",
    "        buttonRelease = False\n",
    "        img = imgs[ctr].copy()\n",
    "        im2 = img.copy()\n",
    "        im3 = img.copy()\n",
    "        ctr += 1\n",
    "        while(1):\n",
    "            k = cv2.waitKey(1) & 0xFF\n",
    "            if k == ord('l'): # landing\n",
    "                break\n",
    "            elif k == ord(\"p\"): # pollinating\n",
    "                break\n",
    "            elif k == ord(\"f\"): # flying\n",
    "                break\n",
    "            elif k == ord(\"g\"): # grooming\n",
    "                break\n",
    "            elif k == ord(\"a\"): # add note\n",
    "                note = input(\"Notes \")\n",
    "                break\n",
    "            elif k == ord('n'): # next frame\n",
    "                break\n",
    "            elif k == ord('b'): # back one frame\n",
    "                ctr -= 1\n",
    "                break\n",
    "            elif k == ord(\"z\"): # if there is no bee in frame\n",
    "                note = \"no bee in frame\"\n",
    "                ix, iy, xx, yy = np.nan, np.nan, np.nan, np.nan\n",
    "                note = \"no bee in frame\"\n",
    "                break\n",
    "            elif k == 27:\n",
    "                break  \n",
    "                \n",
    "                \n",
    "        # refref: overwrite data if someone goes back        \n",
    "        doneFrames = [rect[i][4] for i in range(len(rect))]\n",
    "        whichFrames = [ctr == doneFrames[ii] for ii in range(len(doneFrames))]\n",
    "        print(any(whichFrames))\n",
    "        if any(whichFrames):\n",
    "            doneIndex = [i for i, x in enumerate(whichFrames) if x]\n",
    "            rect[doneIndex[0]] = [ix, iy, xx, yy, ctr, vidPath, chr(k), note]\n",
    "        else:\n",
    "            rect.append([ix, iy, xx, yy, ctr, vidPath, chr(k), note])\n",
    "            \n",
    "            \n",
    "\n",
    "    k = cv2.waitKey(1) & 0xFF\n",
    "    if k == 27:\n",
    "        break  \n",
    "    elif k == ord(\"b\"): # back one frame\n",
    "        ctr -= 1\n",
    "        img = imgs[ctr].copy()\n",
    "        im2 = img.copy()\n",
    "        im3 = img.copy()\n",
    "    elif k == ord(\"z\"): # if there is no bee in frame\n",
    "        ctr += 1\n",
    "        img = imgs[ctr].copy()\n",
    "        im2 = img.copy()\n",
    "        im3 = img.copy()\n",
    "        note = \"no bee in frame\"\n",
    "        rect.append([np.nan, np.nan, np.nan, np.nan, ctr, vidPath, chr(k), note])\n",
    "cv2.destroyAllWindows()\n",
    "\n",
    "pd.DataFrame(rect, columns = [\"x1\", \"y1\", \"x2\", \"y2\", \"frameNum\", \"vidPath\", \"behavior\", \"notes\"])"
   ]
  },
  {
   "cell_type": "code",
   "execution_count": 98,
   "metadata": {},
   "outputs": [
    {
     "data": {
      "text/plain": [
       "7"
      ]
     },
     "execution_count": 98,
     "metadata": {},
     "output_type": "execute_result"
    }
   ],
   "source": [
    "doneIndex[0]"
   ]
  },
  {
   "cell_type": "code",
   "execution_count": 81,
   "metadata": {},
   "outputs": [
    {
     "data": {
      "text/plain": [
       "[1]"
      ]
     },
     "execution_count": 81,
     "metadata": {},
     "output_type": "execute_result"
    }
   ],
   "source": [
    "doneFrames"
   ]
  },
  {
   "cell_type": "code",
   "execution_count": null,
   "metadata": {},
   "outputs": [],
   "source": [
    "[rect[ctr-1][4] == doneFrames[ii] for ii in range(len(doneFrames))]"
   ]
  },
  {
   "cell_type": "code",
   "execution_count": 86,
   "metadata": {},
   "outputs": [
    {
     "data": {
      "text/plain": [
       "2"
      ]
     },
     "execution_count": 86,
     "metadata": {},
     "output_type": "execute_result"
    }
   ],
   "source": [
    "\n",
    "ctr"
   ]
  },
  {
   "cell_type": "code",
   "execution_count": 64,
   "metadata": {},
   "outputs": [
    {
     "data": {
      "text/plain": [
       "True"
      ]
     },
     "execution_count": 64,
     "metadata": {},
     "output_type": "execute_result"
    }
   ],
   "source": [
    "rect[ctr][4] in [rect[i][4] for i in range(len(rect))]"
   ]
  },
  {
   "cell_type": "code",
   "execution_count": 75,
   "metadata": {},
   "outputs": [
    {
     "data": {
      "text/plain": [
       "[6, 9]"
      ]
     },
     "execution_count": 75,
     "metadata": {},
     "output_type": "execute_result"
    }
   ],
   "source": [
    "doneFrames = [rect[i][4] for i in range(len(rect))]\n",
    "\n",
    "whichFrames = [rect[ctr][4] == doneFrames[ii] for ii in range(len(doneFrames))]\n",
    "any(whichFrames)\n",
    "doneIndex = [i for i, x in enumerate(whichFrames) if x]\n",
    "doneIndex"
   ]
  },
  {
   "cell_type": "code",
   "execution_count": 51,
   "metadata": {},
   "outputs": [
    {
     "ename": "IndexError",
     "evalue": "list assignment index out of range",
     "output_type": "error",
     "traceback": [
      "\u001b[1;31m---------------------------------------------------------------------------\u001b[0m",
      "\u001b[1;31mIndexError\u001b[0m                                Traceback (most recent call last)",
      "\u001b[1;32m<ipython-input-51-a026aab230b4>\u001b[0m in \u001b[0;36m<module>\u001b[1;34m()\u001b[0m\n\u001b[0;32m      1\u001b[0m \u001b[0mrect\u001b[0m \u001b[1;33m=\u001b[0m \u001b[1;33m[\u001b[0m\u001b[1;33m]\u001b[0m\u001b[1;33m\u001b[0m\u001b[0m\n\u001b[1;32m----> 2\u001b[1;33m \u001b[0mrect\u001b[0m\u001b[1;33m[\u001b[0m\u001b[1;36m1\u001b[0m\u001b[1;33m]\u001b[0m \u001b[1;33m=\u001b[0m \u001b[1;34m\"hi\"\u001b[0m\u001b[1;33m\u001b[0m\u001b[0m\n\u001b[0m",
      "\u001b[1;31mIndexError\u001b[0m: list assignment index out of range"
     ]
    }
   ],
   "source": []
  },
  {
   "cell_type": "code",
   "execution_count": null,
   "metadata": {},
   "outputs": [],
   "source": [
    "img = np.zeros((512,512,3), np.uint8)\n",
    "cv2.rectangle(img,(33 ,28),(496 ,494),(0,255,0),-1)\n",
    "alpha = 0.1\n",
    "overlay = img.copy()\n",
    "cv2.addWeighted(overlay, alpha, img, 1-alpha, 0 )\n",
    "cv2.imshow('image',overlay)"
   ]
  },
  {
   "cell_type": "code",
   "execution_count": null,
   "metadata": {},
   "outputs": [],
   "source": [
    "img = imgs[0].copy()\n",
    "im3 = img.copy()\n",
    "alpha = 0.5\n",
    "cv2.rectangle(im3, (33 ,28),(496 ,494),(0, 0, 255), -1)\n",
    "cv2.addWeighted(im3, alpha, img, 1 - alpha,0, img)\n",
    "cv2.imshow(\"output\", img)"
   ]
  },
  {
   "cell_type": "code",
   "execution_count": null,
   "metadata": {},
   "outputs": [],
   "source": [
    "cv2.rectangle(img,(ix,iy),(xx,yy),(0,255,0),2)\n",
    "im2 = img.copy()\n",
    "io.imshow(im2)"
   ]
  },
  {
   "cell_type": "code",
   "execution_count": null,
   "metadata": {},
   "outputs": [],
   "source": [
    "# get user input\n",
    "for ii in range(4):\n",
    "    a = input(\"behavior\")\n",
    "    print(a)\n"
   ]
  },
  {
   "cell_type": "code",
   "execution_count": 36,
   "metadata": {},
   "outputs": [],
   "source": [
    "font = cv2.FONT_HERSHEY_SIMPLEX\n",
    "cv2.putText(img,'frame:' + str(ctr),(1,30), font, 1,(255,255,255),2,cv2.LINE_AA)\n",
    "cv2.imshow(\"img\", img)"
   ]
  },
  {
   "cell_type": "code",
   "execution_count": null,
   "metadata": {},
   "outputs": [],
   "source": []
  },
  {
   "cell_type": "code",
   "execution_count": null,
   "metadata": {},
   "outputs": [],
   "source": []
  },
  {
   "cell_type": "code",
   "execution_count": null,
   "metadata": {},
   "outputs": [],
   "source": [
    "# open dialog box"
   ]
  },
  {
   "cell_type": "code",
   "execution_count": 12,
   "metadata": {},
   "outputs": [
    {
     "name": "stdout",
     "output_type": "stream",
     "text": [
      "Your first name is  gg\n"
     ]
    }
   ],
   "source": [
    "import tkinter as tk\n",
    "from tkinter import simpledialog\n",
    "def center_window(root, width=300, height=300):\n",
    "    # get screen width and height\n",
    "    screen_width = root.winfo_screenwidth()\n",
    "    screen_height = root.winfo_screenheight()\n",
    "\n",
    "    # calculate position x and y coordinates\n",
    "    x = (screen_width/2) - (width/2)\n",
    "    y = (screen_height/2) - (height/2)\n",
    "    root.geometry('%dx%d+%d+%d' % (width, height, x, y))\n",
    "\n",
    "\n",
    "\n",
    "application_window = tk.Tk()\n",
    "center_window( application_window)\n",
    "\n",
    "\n",
    "answer = simpledialog.askstring(\"Input\", \"What the behavior?\",\n",
    "                                parent=application_window)\n",
    "if answer is not None:\n",
    "    print(\"Your first name is \", answer)\n",
    "else:\n",
    "    print(\"You don't have a first name?\")\n",
    "application_window.destroy()\n",
    "\n"
   ]
  },
  {
   "cell_type": "raw",
   "metadata": {},
   "source": [
    "\n",
    "\n"
   ]
  },
  {
   "cell_type": "code",
   "execution_count": null,
   "metadata": {},
   "outputs": [],
   "source": [
    "print(\"hi\")"
   ]
  },
  {
   "cell_type": "code",
   "execution_count": null,
   "metadata": {},
   "outputs": [],
   "source": []
  }
 ],
 "metadata": {
  "kernelspec": {
   "display_name": "opencv",
   "language": "python",
   "name": "opencv"
  },
  "language_info": {
   "codemirror_mode": {
    "name": "ipython",
    "version": 3
   },
   "file_extension": ".py",
   "mimetype": "text/x-python",
   "name": "python",
   "nbconvert_exporter": "python",
   "pygments_lexer": "ipython3",
   "version": "3.6.4"
  }
 },
 "nbformat": 4,
 "nbformat_minor": 2
}
