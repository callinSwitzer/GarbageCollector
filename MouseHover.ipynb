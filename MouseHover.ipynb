{
 "cells": [
  {
   "cell_type": "code",
   "execution_count": 209,
   "metadata": {},
   "outputs": [
    {
     "data": {
      "text/plain": [
       "'3.3.1'"
      ]
     },
     "execution_count": 209,
     "metadata": {},
     "output_type": "execute_result"
    }
   ],
   "source": [
    "import cv2\n",
    "cv2.__version__"
   ]
  },
  {
   "cell_type": "code",
   "execution_count": 210,
   "metadata": {},
   "outputs": [
    {
     "name": "stdout",
     "output_type": "stream",
     "text": [
      "3.6.5 | packaged by conda-forge | (default, Apr  6 2018, 16:13:55) [MSC v.1900 64 bit (AMD64)]\n"
     ]
    }
   ],
   "source": [
    "import sys\n",
    "print(sys.version)"
   ]
  },
  {
   "cell_type": "code",
   "execution_count": 211,
   "metadata": {},
   "outputs": [
    {
     "data": {
      "text/plain": [
       "'C:\\\\Users\\\\calli\\\\Anaconda3\\\\envs\\\\opencv2'"
      ]
     },
     "execution_count": 211,
     "metadata": {},
     "output_type": "execute_result"
    }
   ],
   "source": [
    "import numpy as np\n",
    "import matplotlib\n",
    "matplotlib.use(\"TkAgg\") # have to use this for tkinter to  work below\n",
    "from matplotlib import pyplot as plt\n",
    "%matplotlib tk\n",
    "import time\n",
    "import pandas as pd\n",
    "\n",
    "import skimage.io as io\n",
    "\n",
    "import os\n",
    "\n",
    "import imageio\n",
    "# print environment\n",
    "os.path.dirname(sys.executable)"
   ]
  },
  {
   "cell_type": "code",
   "execution_count": 212,
   "metadata": {},
   "outputs": [
    {
     "data": {
      "text/plain": [
       "True"
      ]
     },
     "execution_count": 212,
     "metadata": {},
     "output_type": "execute_result"
    }
   ],
   "source": [
    "#vidPath = \"D:/BeeTwoFlowerExperiment/2018_02_27__14_04_52_556/2018_02_27__14_04_55_680_cam1-0000.avi\"\n",
    "vidPath = r\"D:\\BeeTwoFlowerExperiment\\2018_02_27__14_04_52_556\\2018_02_27__14_04_55_680_cam1-0000.avi\"\n",
    "os.path.isfile(vidPath)"
   ]
  },
  {
   "cell_type": "code",
   "execution_count": 11,
   "metadata": {},
   "outputs": [
    {
     "name": "stdout",
     "output_type": "stream",
     "text": [
      "546 1280 1024 10.0\n"
     ]
    }
   ],
   "source": [
    "cap = cv2.VideoCapture(vidPath)\n",
    "\n",
    "\n",
    "length = int(cap.get(cv2.CAP_PROP_FRAME_COUNT))\n",
    "width  = int(cap.get(cv2.CAP_PROP_FRAME_WIDTH))\n",
    "height = int(cap.get(cv2.CAP_PROP_FRAME_HEIGHT))\n",
    "fps    = cap.get(cv2.CAP_PROP_FPS)\n",
    "\n",
    "print(length, width, height, fps)\n",
    "cap.release()"
   ]
  },
  {
   "cell_type": "code",
   "execution_count": 12,
   "metadata": {},
   "outputs": [],
   "source": [
    "def load_imgs(vidPath, start, stop):\n",
    "    cap = cv2.VideoCapture(vidPath)\n",
    "    imgs = []\n",
    "    for ff in range(length):\n",
    "        \n",
    "        \n",
    "        ret, frame = cap.read()\n",
    "        \n",
    "        if np.mod(ff, 10) == 0:\n",
    "            print(ff)\n",
    "        \n",
    "\n",
    "        img = cv2.cvtColor(frame, cv2.COLOR_BGR2RGB)\n",
    "        imgs.append(img)\n",
    "        \n",
    "        if ff > stop:\n",
    "            break\n",
    "            \n",
    "    cap.release()\n",
    "    return imgs"
   ]
  },
  {
   "cell_type": "code",
   "execution_count": 13,
   "metadata": {},
   "outputs": [
    {
     "name": "stdout",
     "output_type": "stream",
     "text": [
      "0\n",
      "10\n",
      "20\n",
      "30\n",
      "40\n",
      "50\n"
     ]
    }
   ],
   "source": [
    "imgs = load_imgs(vidPath, 0, 50)"
   ]
  },
  {
   "cell_type": "code",
   "execution_count": 14,
   "metadata": {},
   "outputs": [
    {
     "data": {
      "text/plain": [
       "<matplotlib.image.AxesImage at 0x1f33e911518>"
      ]
     },
     "execution_count": 14,
     "metadata": {},
     "output_type": "execute_result"
    }
   ],
   "source": [
    "io.imshow(imgs[0])"
   ]
  },
  {
   "cell_type": "code",
   "execution_count": 15,
   "metadata": {},
   "outputs": [],
   "source": [
    "r = cv2.selectROI(imgs[0], showCrosshair = True, fromCenter = False)\n",
    "cv2.destroyAllWindows()"
   ]
  },
  {
   "cell_type": "code",
   "execution_count": 16,
   "metadata": {},
   "outputs": [
    {
     "data": {
      "text/plain": [
       "(438, 625, 354, 159)"
      ]
     },
     "execution_count": 16,
     "metadata": {},
     "output_type": "execute_result"
    }
   ],
   "source": [
    "r"
   ]
  },
  {
   "cell_type": "code",
   "execution_count": 17,
   "metadata": {},
   "outputs": [
    {
     "name": "stdout",
     "output_type": "stream",
     "text": [
      "['EVENT_FLAG_ALTKEY', 'EVENT_FLAG_CTRLKEY', 'EVENT_FLAG_LBUTTON', 'EVENT_FLAG_MBUTTON', 'EVENT_FLAG_RBUTTON', 'EVENT_FLAG_SHIFTKEY', 'EVENT_LBUTTONDBLCLK', 'EVENT_LBUTTONDOWN', 'EVENT_LBUTTONUP', 'EVENT_MBUTTONDBLCLK', 'EVENT_MBUTTONDOWN', 'EVENT_MBUTTONUP', 'EVENT_MOUSEHWHEEL', 'EVENT_MOUSEMOVE', 'EVENT_MOUSEWHEEL', 'EVENT_RBUTTONDBLCLK', 'EVENT_RBUTTONDOWN', 'EVENT_RBUTTONUP']\n"
     ]
    }
   ],
   "source": [
    "# possible opencv events\n",
    "events = [i for i in dir(cv2) if 'EVENT' in i]\n",
    "print( events )"
   ]
  },
  {
   "cell_type": "code",
   "execution_count": 34,
   "metadata": {},
   "outputs": [
    {
     "data": {
      "text/plain": [
       "52"
      ]
     },
     "execution_count": 34,
     "metadata": {},
     "output_type": "execute_result"
    }
   ],
   "source": [
    "len(imgs)"
   ]
  },
  {
   "cell_type": "code",
   "execution_count": 208,
   "metadata": {},
   "outputs": [
    {
     "data": {
      "text/html": [
       "<div>\n",
       "<style scoped>\n",
       "    .dataframe tbody tr th:only-of-type {\n",
       "        vertical-align: middle;\n",
       "    }\n",
       "\n",
       "    .dataframe tbody tr th {\n",
       "        vertical-align: top;\n",
       "    }\n",
       "\n",
       "    .dataframe thead th {\n",
       "        text-align: right;\n",
       "    }\n",
       "</style>\n",
       "<table border=\"1\" class=\"dataframe\">\n",
       "  <thead>\n",
       "    <tr style=\"text-align: right;\">\n",
       "      <th></th>\n",
       "      <th>x1</th>\n",
       "      <th>y1</th>\n",
       "      <th>x2</th>\n",
       "      <th>y2</th>\n",
       "      <th>frameNum</th>\n",
       "      <th>vidPath</th>\n",
       "      <th>behavior</th>\n",
       "      <th>notes</th>\n",
       "    </tr>\n",
       "  </thead>\n",
       "  <tbody>\n",
       "    <tr>\n",
       "      <th>0</th>\n",
       "      <td>304</td>\n",
       "      <td>429</td>\n",
       "      <td>705</td>\n",
       "      <td>581</td>\n",
       "      <td>0</td>\n",
       "      <td>D:\\BeeTwoFlowerExperiment\\2018_02_27__14_04_52...</td>\n",
       "      <td>f</td>\n",
       "      <td></td>\n",
       "    </tr>\n",
       "    <tr>\n",
       "      <th>1</th>\n",
       "      <td>433</td>\n",
       "      <td>601</td>\n",
       "      <td>774</td>\n",
       "      <td>823</td>\n",
       "      <td>1</td>\n",
       "      <td>D:\\BeeTwoFlowerExperiment\\2018_02_27__14_04_52...</td>\n",
       "      <td>l</td>\n",
       "      <td></td>\n",
       "    </tr>\n",
       "  </tbody>\n",
       "</table>\n",
       "</div>"
      ],
      "text/plain": [
       "    x1   y1   x2   y2  frameNum  \\\n",
       "0  304  429  705  581         0   \n",
       "1  433  601  774  823         1   \n",
       "\n",
       "                                             vidPath behavior notes  \n",
       "0  D:\\BeeTwoFlowerExperiment\\2018_02_27__14_04_52...        f        \n",
       "1  D:\\BeeTwoFlowerExperiment\\2018_02_27__14_04_52...        l        "
      ]
     },
     "execution_count": 208,
     "metadata": {},
     "output_type": "execute_result"
    }
   ],
   "source": [
    "# mouse hover and draw\n",
    "\n",
    "\n",
    "vid = imgs\n",
    "\n",
    "\n",
    "\n",
    "rect = len(imgs) * [[None, None, None, None,None, None, None, None]]\n",
    "ix,iy = -1,-1\n",
    "drawing  = False\n",
    "moving = False\n",
    "buttonRelease = False\n",
    "doneFrames = []\n",
    "# mouse callback function\n",
    "def draw_circle(event,x,y,flags,param):\n",
    "    global ix,iy, drawing, moving, im3, buttonRelease, xx, yy, im2\n",
    "    if event == cv2.EVENT_LBUTTONDOWN:\n",
    "        drawing = True\n",
    "        ix,iy = x,y\n",
    "    elif event == cv2.EVENT_MOUSEMOVE:\n",
    "        moving = True\n",
    "        im3 = img\n",
    "        #cv2.circle(img,(x,y),10,(255,0,0, 0.1),-1)\n",
    "        cv2.line(img,(img.shape[1],y),(0,y),  color = (0,0,0))\n",
    "        cv2.line(img,(x,0),(x,img.shape[0]),  color = (0,0,0))\n",
    "        if drawing == True:\n",
    "            cv2.rectangle(img,(ix,iy),(x,y),(100,100,255),1)\n",
    "\n",
    "    elif event == cv2.EVENT_LBUTTONUP:\n",
    "        buttonRelease = True\n",
    "        #moving = True\n",
    "        drawing = False\n",
    "        cv2.rectangle(im2,(ix,iy),(x,y),(0,255,0),1)\n",
    "        xx, yy = x,y\n",
    "        \n",
    "    \n",
    "img = imgs[0].copy()\n",
    "im2 = img.copy()\n",
    "im3 = img.copy()\n",
    "cv2.namedWindow('image')\n",
    "cv2.setMouseCallback('image',draw_circle)\n",
    "\n",
    "ctr = 0\n",
    "behavior = \"\"\n",
    "\n",
    "while(1):\n",
    "    if ctr < 0:\n",
    "        ctr = 0\n",
    "        cv2.putText(img,\"1st frame of vid\",(450,30), font, 1,(100,100,100),2,cv2.LINE_AA)\n",
    "    font = cv2.FONT_HERSHEY_SIMPLEX\n",
    "    cv2.putText(img,'frame:' + str(ctr),(1,30), font, 1,(100,100,100),2,cv2.LINE_AA)\n",
    "    cv2.putText(img,'f:forward one frame, no change to data',(1,500), font, 1,(100,100,100),2,cv2.LINE_AA)\n",
    "    cv2.putText(img,'n:next frame, no bee in this frame',(1,530), font, 1,(100,100,100),2,cv2.LINE_AA)\n",
    "    \n",
    "    if ctr in doneFrames:\n",
    "        cv2.putText(img,'frame:' + str(ctr) + \" already done\",(1,30), font, 1,(100,100,100),2,cv2.LINE_AA)\n",
    "    if buttonRelease: \n",
    "        cv2.putText(img,\"Press a key to indicate behavior\",(1,60), font, 1,(100,100,100),2,cv2.LINE_AA)\n",
    "        cv2.putText(img,\"l:landing\",(1,90), font, 1,(100,100,100),2,cv2.LINE_AA)\n",
    "        cv2.putText(img,\"f:flying\",(1,120), font, 1,(100,100,100),2,cv2.LINE_AA)\n",
    "        cv2.putText(img,\"p:pollinating\",(1,150), font, 1,(100,100,100),2,cv2.LINE_AA)\n",
    "        cv2.putText(img,\"g:grooming (while landed)\",(1,180), font, 1,(100,100,100),2,cv2.LINE_AA)\n",
    "        cv2.putText(img,\"t:takeoff\",(1,210), font, 1,(100,100,100),2,cv2.LINE_AA)\n",
    "        cv2.putText(img,\"a:add manual note (in other window)\",(1,240), font, 1,(100,100,100),2,cv2.LINE_AA)\n",
    "        cv2.putText(img,\"f:forward frame- don't save data\",(1,270), font, 1,(100,100,100),2,cv2.LINE_AA)\n",
    "        cv2.putText(img,\"esc:retry drawing the box\",(1,300), font, 1,(100,100,100),2,cv2.LINE_AA)\n",
    "        cv2.putText(img,\"n:next frame, no bee in frame\",(1,330), font, 1,(100,100,100),2,cv2.LINE_AA)\n",
    "        \n",
    "    cv2.imshow('image',img)\n",
    "    if moving: # if mouse is moving, then reload the image\n",
    "        img = im2.copy()\n",
    "    else:\n",
    "        img = im3\n",
    "    moving = False\n",
    "    if buttonRelease:\n",
    "        note = \"\"\n",
    "#         print([ix, iy, xx, yy])\n",
    "        buttonRelease = False\n",
    "        img = imgs[ctr].copy()\n",
    "        im2 = img.copy()\n",
    "        im3 = img.copy()\n",
    "        while(1):\n",
    "            k = cv2.waitKey(1) & 0xFF\n",
    "            if k == ord('l'): # landing\n",
    "                break\n",
    "            elif k == ord(\"p\"): # pollinating\n",
    "                break\n",
    "            elif k == ord(\"f\"): # flying\n",
    "                break\n",
    "            elif k == ord(\"g\"): # grooming\n",
    "                break\n",
    "            elif k == ord(\"t\"): # takeoff \n",
    "                break\n",
    "            elif k == ord(\"a\"): # add note\n",
    "                note = input(\"Notes \")\n",
    "                break\n",
    "            elif k == ord(\"n\"): #move forward, no bee in frame\n",
    "                ix, iy, xx, yy, note, = np.nan, np.nan, np.nan, np.nan, \"no bee in frame\"\n",
    "                break\n",
    "            elif k == ord('b'): # back one frame\n",
    "                ctr -= 1\n",
    "                break\n",
    "            elif k == ord('f'):  # if there is no bee in frame\n",
    "                ix, iy, xx, yy = np.nan, np.nan, np.nan, None\n",
    "                note = \"\"\n",
    "                break\n",
    "            elif k == 27:\n",
    "                #ctr -= 1\n",
    "                ix, iy, xx, yy, note, = np.nan, np.nan, np.nan, np.nan, None\n",
    "                k = ord(\"e\")\n",
    "                break  \n",
    "            \n",
    "        if (ctr >= 0) and( k != ord(\"e\")):         \n",
    "            rect[ctr] = [ix, iy, xx, yy, int(ctr), vidPath, chr(k), note]\n",
    "            doneFrames = [ii for ii in range(len(rect)) if None not in rect[ii]]  \n",
    "            ctr += 1    \n",
    "\n",
    "    k = cv2.waitKey(1) & 0xFF\n",
    "    if k == 27:\n",
    "        break  \n",
    "    elif k == ord(\"b\"): # back one frame\n",
    "        ctr -= 1\n",
    "        img = imgs[ctr].copy()\n",
    "        im2 = img.copy()\n",
    "        im3 = img.copy()\n",
    "    elif k == ord(\"n\"): # if there is no bee in frame\n",
    "        rect[ctr] = [np.nan, np.nan, np.nan, np.nan, int(ctr), vidPath, chr(k), note]\n",
    "        doneFrames = [ii for ii in range(len(rect)) if None not in rect[ii]] \n",
    "        ctr += 1\n",
    "        img = imgs[ctr].copy()\n",
    "        im2 = img.copy()\n",
    "        im3 = img.copy()\n",
    "        note = \"no bee in frame\"\n",
    "    elif k == ord(\"f\"): # move forward without inputting any data\n",
    "        ctr += 1\n",
    "        img = imgs[ctr].copy()\n",
    "        im2 = img.copy()\n",
    "        im3 = img.copy()\n",
    "        note = \"no bee in frame\"\n",
    "        \n",
    "cv2.destroyAllWindows()\n",
    "\n",
    "rect2 = [rect[ii] for ii in doneFrames]\n",
    "pd.DataFrame(rect2, columns = [\"x1\", \"y1\", \"x2\", \"y2\", \"frameNum\", \"vidPath\", \"behavior\", \"notes\"])"
   ]
  },
  {
   "cell_type": "code",
   "execution_count": 197,
   "metadata": {},
   "outputs": [
    {
     "data": {
      "text/plain": [
       "[[None, None, None, None, None, None, None, None],\n",
       " [nan,\n",
       "  nan,\n",
       "  nan,\n",
       "  nan,\n",
       "  1,\n",
       "  'D:\\\\BeeTwoFlowerExperiment\\\\2018_02_27__14_04_52_556\\\\2018_02_27__14_04_55_680_cam1-0000.avi',\n",
       "  'n',\n",
       "  'no bee in frame'],\n",
       " [nan,\n",
       "  nan,\n",
       "  nan,\n",
       "  nan,\n",
       "  2,\n",
       "  'D:\\\\BeeTwoFlowerExperiment\\\\2018_02_27__14_04_52_556\\\\2018_02_27__14_04_55_680_cam1-0000.avi',\n",
       "  'n',\n",
       "  'no bee in frame'],\n",
       " [nan,\n",
       "  nan,\n",
       "  nan,\n",
       "  nan,\n",
       "  3,\n",
       "  'D:\\\\BeeTwoFlowerExperiment\\\\2018_02_27__14_04_52_556\\\\2018_02_27__14_04_55_680_cam1-0000.avi',\n",
       "  'n',\n",
       "  'no bee in frame'],\n",
       " [nan,\n",
       "  nan,\n",
       "  nan,\n",
       "  nan,\n",
       "  4,\n",
       "  'D:\\\\BeeTwoFlowerExperiment\\\\2018_02_27__14_04_52_556\\\\2018_02_27__14_04_55_680_cam1-0000.avi',\n",
       "  'n',\n",
       "  'no bee in frame'],\n",
       " [nan,\n",
       "  nan,\n",
       "  nan,\n",
       "  nan,\n",
       "  5,\n",
       "  'D:\\\\BeeTwoFlowerExperiment\\\\2018_02_27__14_04_52_556\\\\2018_02_27__14_04_55_680_cam1-0000.avi',\n",
       "  'n',\n",
       "  'no bee in frame'],\n",
       " [nan,\n",
       "  nan,\n",
       "  nan,\n",
       "  nan,\n",
       "  6,\n",
       "  'D:\\\\BeeTwoFlowerExperiment\\\\2018_02_27__14_04_52_556\\\\2018_02_27__14_04_55_680_cam1-0000.avi',\n",
       "  'n',\n",
       "  'no bee in frame'],\n",
       " [nan,\n",
       "  nan,\n",
       "  nan,\n",
       "  nan,\n",
       "  7,\n",
       "  'D:\\\\BeeTwoFlowerExperiment\\\\2018_02_27__14_04_52_556\\\\2018_02_27__14_04_55_680_cam1-0000.avi',\n",
       "  'n',\n",
       "  'no bee in frame'],\n",
       " [nan,\n",
       "  nan,\n",
       "  nan,\n",
       "  nan,\n",
       "  8,\n",
       "  'D:\\\\BeeTwoFlowerExperiment\\\\2018_02_27__14_04_52_556\\\\2018_02_27__14_04_55_680_cam1-0000.avi',\n",
       "  'n',\n",
       "  'no bee in frame'],\n",
       " [None, None, None, None, None, None, None, None],\n",
       " [None, None, None, None, None, None, None, None],\n",
       " [None, None, None, None, None, None, None, None],\n",
       " [None, None, None, None, None, None, None, None],\n",
       " [None, None, None, None, None, None, None, None],\n",
       " [None, None, None, None, None, None, None, None],\n",
       " [None, None, None, None, None, None, None, None],\n",
       " [None, None, None, None, None, None, None, None],\n",
       " [None, None, None, None, None, None, None, None],\n",
       " [None, None, None, None, None, None, None, None],\n",
       " [None, None, None, None, None, None, None, None],\n",
       " [None, None, None, None, None, None, None, None],\n",
       " [None, None, None, None, None, None, None, None],\n",
       " [None, None, None, None, None, None, None, None],\n",
       " [None, None, None, None, None, None, None, None],\n",
       " [None, None, None, None, None, None, None, None],\n",
       " [None, None, None, None, None, None, None, None],\n",
       " [None, None, None, None, None, None, None, None],\n",
       " [None, None, None, None, None, None, None, None],\n",
       " [None, None, None, None, None, None, None, None],\n",
       " [None, None, None, None, None, None, None, None],\n",
       " [None, None, None, None, None, None, None, None],\n",
       " [None, None, None, None, None, None, None, None],\n",
       " [None, None, None, None, None, None, None, None],\n",
       " [None, None, None, None, None, None, None, None],\n",
       " [None, None, None, None, None, None, None, None],\n",
       " [None, None, None, None, None, None, None, None],\n",
       " [None, None, None, None, None, None, None, None],\n",
       " [None, None, None, None, None, None, None, None],\n",
       " [None, None, None, None, None, None, None, None],\n",
       " [None, None, None, None, None, None, None, None],\n",
       " [None, None, None, None, None, None, None, None],\n",
       " [None, None, None, None, None, None, None, None],\n",
       " [None, None, None, None, None, None, None, None],\n",
       " [None, None, None, None, None, None, None, None],\n",
       " [None, None, None, None, None, None, None, None],\n",
       " [None, None, None, None, None, None, None, None],\n",
       " [None, None, None, None, None, None, None, None],\n",
       " [None, None, None, None, None, None, None, None],\n",
       " [None, None, None, None, None, None, None, None],\n",
       " [None, None, None, None, None, None, None, None],\n",
       " [None, None, None, None, None, None, None, None],\n",
       " [None, None, None, None, None, None, None, None]]"
      ]
     },
     "execution_count": 197,
     "metadata": {},
     "output_type": "execute_result"
    }
   ],
   "source": [
    "rect"
   ]
  },
  {
   "cell_type": "code",
   "execution_count": 112,
   "metadata": {},
   "outputs": [
    {
     "data": {
      "text/plain": [
       "[0, 1, 2, 3, 5, 6, 7, 8]"
      ]
     },
     "execution_count": 112,
     "metadata": {},
     "output_type": "execute_result"
    }
   ],
   "source": [
    "doneFrames = [ii for ii in range(len(rect)) if None not in rect[ii]]\n",
    "doneFrames"
   ]
  },
  {
   "cell_type": "code",
   "execution_count": 17,
   "metadata": {},
   "outputs": [
    {
     "data": {
      "text/plain": [
       "[False, False, False]"
      ]
     },
     "execution_count": 17,
     "metadata": {},
     "output_type": "execute_result"
    }
   ],
   "source": [
    "[rect[ctr-1][4] == doneFrames[ii] for ii in range(len(doneFrames))]"
   ]
  },
  {
   "cell_type": "code",
   "execution_count": 80,
   "metadata": {},
   "outputs": [
    {
     "data": {
      "text/plain": [
       "[[nan,\n",
       "  nan,\n",
       "  nan,\n",
       "  nan,\n",
       "  1,\n",
       "  'D:\\\\BeeTwoFlowerExperiment\\\\2018_02_27__14_04_52_556\\\\2018_02_27__14_04_55_680_cam1-0000.avi',\n",
       "  'n',\n",
       "  'no bee in frame'],\n",
       " [nan,\n",
       "  nan,\n",
       "  nan,\n",
       "  nan,\n",
       "  2,\n",
       "  'D:\\\\BeeTwoFlowerExperiment\\\\2018_02_27__14_04_52_556\\\\2018_02_27__14_04_55_680_cam1-0000.avi',\n",
       "  'n',\n",
       "  'no bee in frame'],\n",
       " [nan,\n",
       "  nan,\n",
       "  nan,\n",
       "  nan,\n",
       "  3,\n",
       "  'D:\\\\BeeTwoFlowerExperiment\\\\2018_02_27__14_04_52_556\\\\2018_02_27__14_04_55_680_cam1-0000.avi',\n",
       "  'n',\n",
       "  'no bee in frame'],\n",
       " [nan,\n",
       "  nan,\n",
       "  nan,\n",
       "  nan,\n",
       "  4,\n",
       "  'D:\\\\BeeTwoFlowerExperiment\\\\2018_02_27__14_04_52_556\\\\2018_02_27__14_04_55_680_cam1-0000.avi',\n",
       "  'n',\n",
       "  'no bee in frame'],\n",
       " [nan,\n",
       "  nan,\n",
       "  nan,\n",
       "  nan,\n",
       "  5,\n",
       "  'D:\\\\BeeTwoFlowerExperiment\\\\2018_02_27__14_04_52_556\\\\2018_02_27__14_04_55_680_cam1-0000.avi',\n",
       "  'n',\n",
       "  'no bee in frame'],\n",
       " [nan,\n",
       "  nan,\n",
       "  nan,\n",
       "  nan,\n",
       "  6,\n",
       "  'D:\\\\BeeTwoFlowerExperiment\\\\2018_02_27__14_04_52_556\\\\2018_02_27__14_04_55_680_cam1-0000.avi',\n",
       "  'n',\n",
       "  'no bee in frame'],\n",
       " [nan,\n",
       "  nan,\n",
       "  nan,\n",
       "  nan,\n",
       "  7,\n",
       "  'D:\\\\BeeTwoFlowerExperiment\\\\2018_02_27__14_04_52_556\\\\2018_02_27__14_04_55_680_cam1-0000.avi',\n",
       "  'n',\n",
       "  'no bee in frame'],\n",
       " [388,\n",
       "  575,\n",
       "  808,\n",
       "  871,\n",
       "  8,\n",
       "  'D:\\\\BeeTwoFlowerExperiment\\\\2018_02_27__14_04_52_556\\\\2018_02_27__14_04_55_680_cam1-0000.avi',\n",
       "  'l',\n",
       "  ''],\n",
       " [None]]"
      ]
     },
     "execution_count": 80,
     "metadata": {},
     "output_type": "execute_result"
    }
   ],
   "source": [
    "rect2 = [x for x in rect if x is not None]\n",
    "rect2"
   ]
  },
  {
   "cell_type": "code",
   "execution_count": 19,
   "metadata": {},
   "outputs": [
    {
     "ename": "IndexError",
     "evalue": "list index out of range",
     "output_type": "error",
     "traceback": [
      "\u001b[1;31m---------------------------------------------------------------------------\u001b[0m",
      "\u001b[1;31mIndexError\u001b[0m                                Traceback (most recent call last)",
      "\u001b[1;32m<ipython-input-19-b3445dd59dae>\u001b[0m in \u001b[0;36m<module>\u001b[1;34m()\u001b[0m\n\u001b[1;32m----> 1\u001b[1;33m \u001b[0mrect\u001b[0m\u001b[1;33m[\u001b[0m\u001b[0mctr\u001b[0m\u001b[1;33m]\u001b[0m\u001b[1;33m[\u001b[0m\u001b[1;36m4\u001b[0m\u001b[1;33m]\u001b[0m \u001b[1;32min\u001b[0m \u001b[1;33m[\u001b[0m\u001b[0mrect\u001b[0m\u001b[1;33m[\u001b[0m\u001b[0mi\u001b[0m\u001b[1;33m]\u001b[0m\u001b[1;33m[\u001b[0m\u001b[1;36m4\u001b[0m\u001b[1;33m]\u001b[0m \u001b[1;32mfor\u001b[0m \u001b[0mi\u001b[0m \u001b[1;32min\u001b[0m \u001b[0mrange\u001b[0m\u001b[1;33m(\u001b[0m\u001b[0mlen\u001b[0m\u001b[1;33m(\u001b[0m\u001b[0mrect\u001b[0m\u001b[1;33m)\u001b[0m\u001b[1;33m)\u001b[0m\u001b[1;33m]\u001b[0m\u001b[1;33m\u001b[0m\u001b[0m\n\u001b[0m",
      "\u001b[1;31mIndexError\u001b[0m: list index out of range"
     ]
    }
   ],
   "source": [
    "rect[ctr][4] in [rect[i][4] for i in range(len(rect))]"
   ]
  },
  {
   "cell_type": "code",
   "execution_count": null,
   "metadata": {},
   "outputs": [],
   "source": [
    "doneFrames = [rect[i][4] for i in range(len(rect))]\n",
    "\n",
    "whichFrames = [rect[ctr][4] == doneFrames[ii] for ii in range(len(doneFrames))]\n",
    "any(whichFrames)\n",
    "doneIndex = [i for i, x in enumerate(whichFrames) if x]\n",
    "doneIndex"
   ]
  },
  {
   "cell_type": "code",
   "execution_count": null,
   "metadata": {},
   "outputs": [],
   "source": []
  },
  {
   "cell_type": "code",
   "execution_count": null,
   "metadata": {},
   "outputs": [],
   "source": [
    "img = np.zeros((512,512,3), np.uint8)\n",
    "cv2.rectangle(img,(33 ,28),(496 ,494),(0,255,0),-1)\n",
    "alpha = 0.1\n",
    "overlay = img.copy()\n",
    "cv2.addWeighted(overlay, alpha, img, 1-alpha, 0 )\n",
    "cv2.imshow('image',overlay)"
   ]
  },
  {
   "cell_type": "code",
   "execution_count": null,
   "metadata": {},
   "outputs": [],
   "source": [
    "img = imgs[0].copy()\n",
    "im3 = img.copy()\n",
    "alpha = 0.5\n",
    "cv2.rectangle(im3, (33 ,28),(496 ,494),(0, 0, 255), -1)\n",
    "cv2.addWeighted(im3, alpha, img, 1 - alpha,0, img)\n",
    "cv2.imshow(\"output\", img)"
   ]
  },
  {
   "cell_type": "code",
   "execution_count": null,
   "metadata": {},
   "outputs": [],
   "source": [
    "cv2.rectangle(img,(ix,iy),(xx,yy),(0,255,0),2)\n",
    "im2 = img.copy()\n",
    "io.imshow(im2)"
   ]
  },
  {
   "cell_type": "code",
   "execution_count": null,
   "metadata": {},
   "outputs": [],
   "source": [
    "# get user input\n",
    "for ii in range(4):\n",
    "    a = input(\"behavior\")\n",
    "    print(a)\n"
   ]
  },
  {
   "cell_type": "code",
   "execution_count": null,
   "metadata": {},
   "outputs": [],
   "source": [
    "font = cv2.FONT_HERSHEY_SIMPLEX\n",
    "cv2.putText(img,'frame:' + str(ctr),(1,30), font, 1,(255,255,255),2,cv2.LINE_AA)\n",
    "cv2.imshow(\"img\", img)"
   ]
  },
  {
   "cell_type": "code",
   "execution_count": null,
   "metadata": {},
   "outputs": [],
   "source": []
  },
  {
   "cell_type": "code",
   "execution_count": null,
   "metadata": {},
   "outputs": [],
   "source": []
  },
  {
   "cell_type": "code",
   "execution_count": null,
   "metadata": {},
   "outputs": [],
   "source": [
    "# open dialog box"
   ]
  },
  {
   "cell_type": "code",
   "execution_count": null,
   "metadata": {},
   "outputs": [],
   "source": [
    "import tkinter as tk\n",
    "from tkinter import simpledialog\n",
    "def center_window(root, width=300, height=300):\n",
    "    # get screen width and height\n",
    "    screen_width = root.winfo_screenwidth()\n",
    "    screen_height = root.winfo_screenheight()\n",
    "\n",
    "    # calculate position x and y coordinates\n",
    "    x = (screen_width/2) - (width/2)\n",
    "    y = (screen_height/2) - (height/2)\n",
    "    root.geometry('%dx%d+%d+%d' % (width, height, x, y))\n",
    "\n",
    "\n",
    "\n",
    "application_window = tk.Tk()\n",
    "center_window( application_window)\n",
    "\n",
    "\n",
    "answer = simpledialog.askstring(\"Input\", \"What the behavior?\",\n",
    "                                parent=application_window)\n",
    "if answer is not None:\n",
    "    print(\"Your first name is \", answer)\n",
    "else:\n",
    "    print(\"You don't have a first name?\")\n",
    "application_window.destroy()\n",
    "\n"
   ]
  },
  {
   "cell_type": "raw",
   "metadata": {},
   "source": [
    "\n",
    "\n"
   ]
  },
  {
   "cell_type": "code",
   "execution_count": null,
   "metadata": {},
   "outputs": [],
   "source": [
    "print(\"hi\")"
   ]
  },
  {
   "cell_type": "code",
   "execution_count": null,
   "metadata": {},
   "outputs": [],
   "source": []
  }
 ],
 "metadata": {
  "kernelspec": {
   "display_name": "opencv2",
   "language": "python",
   "name": "opencv2"
  },
  "language_info": {
   "codemirror_mode": {
    "name": "ipython",
    "version": 3
   },
   "file_extension": ".py",
   "mimetype": "text/x-python",
   "name": "python",
   "nbconvert_exporter": "python",
   "pygments_lexer": "ipython3",
   "version": "3.6.5"
  }
 },
 "nbformat": 4,
 "nbformat_minor": 2
}
