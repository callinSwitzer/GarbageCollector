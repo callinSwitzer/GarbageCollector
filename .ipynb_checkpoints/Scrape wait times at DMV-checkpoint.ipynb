{
 "cells": [
  {
   "cell_type": "code",
   "execution_count": 1,
   "metadata": {
    "collapsed": true
   },
   "outputs": [],
   "source": [
    "#### Scrape wait times for Seattle DMV\n",
    "#### Save wait times to a .csv file\n",
    "### Callin Switzer\n",
    "### 12 Sept 2017\n",
    "## Python 3"
   ]
  },
  {
   "cell_type": "code",
   "execution_count": 191,
   "metadata": {
    "collapsed": true
   },
   "outputs": [],
   "source": [
    "from bs4 import BeautifulSoup\n",
    "\n",
    "import requests\n",
    "\n",
    "from datetime import datetime\n",
    "\n",
    "import os.path\n",
    "import os\n",
    "\n",
    "import re\n",
    "\n",
    "import time"
   ]
  },
  {
   "cell_type": "code",
   "execution_count": 189,
   "metadata": {},
   "outputs": [],
   "source": [
    "\n",
    "url_dtw = \"https://fortress.wa.gov/dol/dolprod/dsdoffices/OfficeInfo.aspx?cid=583&oid=24\"\n",
    "url_shl = 'https://fortress.wa.gov/dol/dolprod/dsdoffices/OfficeInfo.aspx?cid=594&oid=22'\n",
    "\n",
    "def getWaitTimes():\n",
    "    for ii in [url_dtw, url_shl]:\n",
    "        page = requests.get(ii)\n",
    "\n",
    "        if page.status_code == 200: \n",
    "            print(\"page status OK\")\n",
    "\n",
    "        # get soup\n",
    "        soup = BeautifulSoup(page.content, 'html.parser')\n",
    "\n",
    "        # find tag with waittime\n",
    "        div = soup.find(id=\"ctl00_Main_waittime\")\n",
    "\n",
    "        ttime = list(div)[1]\n",
    "        tme = list(ttime)[0].replace(\" \", \"\").replace(\".\",\"\")\n",
    "\n",
    "        print(tme)\n",
    "\n",
    "        todaysDate = datetime.today()\n",
    "        datetime_object = datetime.strptime(str(todaysDate)[0:10] + \" \" +  tme, '%Y-%m-%d %I:%M%p')\n",
    "\n",
    "\n",
    "        waitTime1 = list(div)[6]   \n",
    "\n",
    "        waitTime = re.sub(\",\", \"_\", waitTime1)\n",
    "        my_list = waitTime1.split(\",\")\n",
    "\n",
    "        # get only numbers\n",
    "        hourMins = [re.sub(\"[^0-9]\", \"\", ff) for ff in my_list]\n",
    "\n",
    "        if len(hourMins) > 1:\n",
    "            mins = 60 * int(hourMins[0]) + int(hourMins[1])\n",
    "        else: \n",
    "            mins = int(hourMins[0])\n",
    "\n",
    "        print(mins)\n",
    "\n",
    "        fname = '/Users/cswitzer/Desktop/waitTime.csv'\n",
    "\n",
    "\n",
    "        if not os.path.isfile(fname):\n",
    "            with open(fname,'w') as file:\n",
    "                file.write(\"dateTime_shoreline\" + \",\" + \"waitTime_shoreline\" + \",\" + \"mins_shl\" + \",\" \n",
    "                           + \"datetime_downtown\" + \",\" + \"waittime_downtown\" + \",\" +  \"mins_dtw\")\n",
    "                file.write('\\n')\n",
    "\n",
    "\n",
    "        # write to .csv file\n",
    "        with open(fname,'a') as file:\n",
    "            file.write(str(datetime_object) + \",\" + str(waitTime) + \",\" + str(mins) + \",\")\n",
    "            print (str(datetime_object) + \",\" + str(waitTime))\n",
    "            if ii == url_shl:\n",
    "                file.write('\\n')\n"
   ]
  },
  {
   "cell_type": "code",
   "execution_count": 194,
   "metadata": {},
   "outputs": [
    {
     "name": "stdout",
     "output_type": "stream",
     "text": [
      "0\n",
      "page status OK\n",
      "10:48am\n",
      "52\n",
      "2017-09-12 10:48:00,52 minutes\n",
      "page status OK\n",
      "10:48am\n",
      "84\n",
      "2017-09-12 10:48:00,1 hour_ 24 minutes\n"
     ]
    },
    {
     "ename": "KeyboardInterrupt",
     "evalue": "",
     "output_type": "error",
     "traceback": [
      "\u001b[0;31m---------------------------------------------------------------------------\u001b[0m",
      "\u001b[0;31mKeyboardInterrupt\u001b[0m                         Traceback (most recent call last)",
      "\u001b[0;32m<ipython-input-194-538a5da76d07>\u001b[0m in \u001b[0;36m<module>\u001b[0;34m()\u001b[0m\n\u001b[1;32m      2\u001b[0m     \u001b[0mprint\u001b[0m\u001b[0;34m(\u001b[0m\u001b[0mkk\u001b[0m\u001b[0;34m)\u001b[0m\u001b[0;34m\u001b[0m\u001b[0m\n\u001b[1;32m      3\u001b[0m     \u001b[0mgetWaitTimes\u001b[0m\u001b[0;34m(\u001b[0m\u001b[0;34m)\u001b[0m\u001b[0;34m\u001b[0m\u001b[0m\n\u001b[0;32m----> 4\u001b[0;31m     \u001b[0mtime\u001b[0m\u001b[0;34m.\u001b[0m\u001b[0msleep\u001b[0m\u001b[0;34m(\u001b[0m\u001b[0;36m900\u001b[0m\u001b[0;34m)\u001b[0m\u001b[0;34m\u001b[0m\u001b[0m\n\u001b[0m",
      "\u001b[0;31mKeyboardInterrupt\u001b[0m: "
     ]
    }
   ],
   "source": [
    "for kk in range (10): \n",
    "    print(kk) \n",
    "    getWaitTimes()\n",
    "    time.sleep(900)"
   ]
  },
  {
   "cell_type": "code",
   "execution_count": 196,
   "metadata": {},
   "outputs": [
    {
     "name": "stdout",
     "output_type": "stream",
     "text": [
      "\u0007\u0007\u0007\n"
     ]
    }
   ],
   "source": [
    " os.system('say \"Beer time. Beer Time !!! h\"'); print('\\a\\a\\a')"
   ]
  },
  {
   "cell_type": "code",
   "execution_count": null,
   "metadata": {
    "collapsed": true
   },
   "outputs": [],
   "source": []
  }
 ],
 "metadata": {
  "kernelspec": {
   "display_name": "Python 3",
   "language": "python",
   "name": "python3"
  },
  "language_info": {
   "codemirror_mode": {
    "name": "ipython",
    "version": 3
   },
   "file_extension": ".py",
   "mimetype": "text/x-python",
   "name": "python",
   "nbconvert_exporter": "python",
   "pygments_lexer": "ipython3",
   "version": "3.6.1"
  }
 },
 "nbformat": 4,
 "nbformat_minor": 2
}
