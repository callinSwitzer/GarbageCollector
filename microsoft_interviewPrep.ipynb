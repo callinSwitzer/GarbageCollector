{
 "cells": [
  {
   "cell_type": "code",
   "execution_count": 1,
   "metadata": {},
   "outputs": [],
   "source": [
    "# write a function to calculate specificity and sensitivity\n"
   ]
  },
  {
   "cell_type": "code",
   "execution_count": 6,
   "metadata": {},
   "outputs": [],
   "source": [
    "# answer\n",
    "\n",
    "# look up definitions\n",
    "# sensitivity = TP / (TP + FN)\n",
    "# specificity = TN / (TN + FP)\n",
    "\n",
    "# make example data\n",
    "import numpy as np\n",
    "preds =  np.array([1,1,1,1,1,1,1,0,0,0,0,0,0,0,0])\n",
    "actual = np.array([1,0,0,1,1,1,1,0,0,1,1,1,0,0,0])"
   ]
  },
  {
   "cell_type": "code",
   "execution_count": 13,
   "metadata": {},
   "outputs": [],
   "source": [
    "# write a function\n",
    "def specif_and_sentiv(actual, preds, calc = \"specificity\"):\n",
    "    '''\n",
    "    Calculate specificity or sensitivity\n",
    "    # sensitivity = TP / (TP + FN)\n",
    "    # specificity = TN / (TN + FP)\n",
    "    \n",
    "    \n",
    "    Params:\n",
    "    actual (1D array): actual values (0's or 1's)\n",
    "    predicted (1D array): predicted values\n",
    "    calc (string): either \"sensitivity\" or \"specificity\"\n",
    "    \n",
    "    Returns: \n",
    "    specificity or sensitivity (number between 0 and 1)\n",
    "    '''\n",
    "    \n",
    "    TP = np.sum((actual == 1) & (preds == 1))\n",
    "    TN = np.sum((actual == 0) & (preds == 0))\n",
    "    FP = np.sum((actual == 0) & (preds == 1))\n",
    "    FN = np.sum((actual == 1) & (preds == 0))\n",
    "    \n",
    "    if calc == \"specificity\":\n",
    "        returnVal = TN / (TN + FP)\n",
    "    elif calc == \"sensitivity\":\n",
    "        returnVal = TP / (TP + FN)\n",
    "    else:\n",
    "        returnVal = \"NA\"\n",
    "    return(returnVal)\n",
    "    "
   ]
  },
  {
   "cell_type": "code",
   "execution_count": 18,
   "metadata": {},
   "outputs": [
    {
     "name": "stdout",
     "output_type": "stream",
     "text": [
      "0.7142857142857143\n",
      "0.625\n"
     ]
    }
   ],
   "source": [
    "# check\n",
    "print(specif_and_sentiv(preds, actual, calc = \"sensitivity\"))\n",
    "print(specif_and_sentiv(preds, actual, calc = \"specificity\"))"
   ]
  },
  {
   "cell_type": "code",
   "execution_count": null,
   "metadata": {},
   "outputs": [],
   "source": []
  },
  {
   "cell_type": "code",
   "execution_count": null,
   "metadata": {},
   "outputs": [],
   "source": []
  },
  {
   "cell_type": "code",
   "execution_count": 71,
   "metadata": {},
   "outputs": [],
   "source": [
    "# Write a function to calculate a percentile from a 1D array\n",
    "\n",
    "# define percentile -- proportion at which x is below this point\n",
    "\n",
    "# make eample data\n",
    "dset = np.random.randn(107)\n",
    "dset = np.linspace(1, 100, num = 101, endpoint=True)"
   ]
  },
  {
   "cell_type": "code",
   "execution_count": 87,
   "metadata": {},
   "outputs": [],
   "source": [
    "# prototype \n",
    "\n",
    "\n",
    "\n",
    "def percentile(prop, dset):\n",
    "    '''\n",
    "    Calculate the percentile from a dataset\n",
    "    \n",
    "    Parameters:\n",
    "    prop (float): proportion between 0 and 1\n",
    "    dset (1D array): input data\n",
    "    \n",
    "    Returns: \n",
    "    percentile (float)\n",
    "    \n",
    "    '''\n",
    "\n",
    "    # sort data\n",
    "    dset = np.sort(dset)\n",
    "\n",
    "    # find index wher x prop is less\n",
    "    dta_index = prop * len(dset)\n",
    "    dta_index\n",
    "\n",
    "    if dta_index - np.ceil(dta_index) == 0:\n",
    "        percentile = np.mean([dset[int(dta_index - 1)], dset[int(dta_index)]])\n",
    "    else: \n",
    "        percentile = dset[int(np.ceil(dta_index))]\n",
    "\n",
    "    return(percentile)"
   ]
  },
  {
   "cell_type": "code",
   "execution_count": 98,
   "metadata": {},
   "outputs": [
    {
     "data": {
      "text/plain": [
       "1.9552798962168818"
      ]
     },
     "execution_count": 98,
     "metadata": {},
     "output_type": "execute_result"
    }
   ],
   "source": [
    "dset = np.random.randn(107000)\n",
    "\n",
    "percentile(0.975, dset)"
   ]
  },
  {
   "cell_type": "code",
   "execution_count": 49,
   "metadata": {},
   "outputs": [
    {
     "data": {
      "text/plain": [
       "81"
      ]
     },
     "execution_count": 49,
     "metadata": {},
     "output_type": "execute_result"
    }
   ],
   "source": [
    "int(np.ceil(dta_index))"
   ]
  },
  {
   "cell_type": "code",
   "execution_count": 57,
   "metadata": {},
   "outputs": [
    {
     "data": {
      "text/plain": [
       "51.0"
      ]
     },
     "execution_count": 57,
     "metadata": {},
     "output_type": "execute_result"
    }
   ],
   "source": [
    "dset[int(dta_index)]"
   ]
  },
  {
   "cell_type": "code",
   "execution_count": 58,
   "metadata": {},
   "outputs": [
    {
     "data": {
      "text/plain": [
       "50.5"
      ]
     },
     "execution_count": 58,
     "metadata": {},
     "output_type": "execute_result"
    }
   ],
   "source": [
    "np.median(dset)"
   ]
  },
  {
   "cell_type": "code",
   "execution_count": 100,
   "metadata": {},
   "outputs": [
    {
     "data": {
      "text/plain": [
       "0.962962962962963"
      ]
     },
     "execution_count": 100,
     "metadata": {},
     "output_type": "execute_result"
    }
   ],
   "source": [
    "1- (1/3)**3"
   ]
  },
  {
   "cell_type": "code",
   "execution_count": null,
   "metadata": {},
   "outputs": [],
   "source": []
  }
 ],
 "metadata": {
  "kernelspec": {
   "display_name": "Python3",
   "language": "python",
   "name": "python3"
  },
  "language_info": {
   "codemirror_mode": {
    "name": "ipython",
    "version": 3
   },
   "file_extension": ".py",
   "mimetype": "text/x-python",
   "name": "python",
   "nbconvert_exporter": "python",
   "pygments_lexer": "ipython3",
   "version": "3.7.3"
  }
 },
 "nbformat": 4,
 "nbformat_minor": 4
}
