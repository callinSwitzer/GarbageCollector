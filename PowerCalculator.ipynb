{
 "cells": [
  {
   "cell_type": "code",
   "execution_count": 1,
   "metadata": {},
   "outputs": [],
   "source": [
    "# Calculate power for t-test\n",
    "# where the two groups have unequal variance"
   ]
  },
  {
   "cell_type": "code",
   "execution_count": 2,
   "metadata": {},
   "outputs": [],
   "source": [
    "import numpy as np\n",
    "import pandas as pd\n",
    "import matplotlib.pyplot as plt\n",
    "import seaborn as sns\n",
    "\n",
    "from scipy import stats"
   ]
  },
  {
   "cell_type": "code",
   "execution_count": 3,
   "metadata": {},
   "outputs": [
    {
     "data": {
      "text/html": [
       "<div>\n",
       "<style scoped>\n",
       "    .dataframe tbody tr th:only-of-type {\n",
       "        vertical-align: middle;\n",
       "    }\n",
       "\n",
       "    .dataframe tbody tr th {\n",
       "        vertical-align: top;\n",
       "    }\n",
       "\n",
       "    .dataframe thead th {\n",
       "        text-align: right;\n",
       "    }\n",
       "</style>\n",
       "<table border=\"1\" class=\"dataframe\">\n",
       "  <thead>\n",
       "    <tr style=\"text-align: right;\">\n",
       "      <th></th>\n",
       "      <th>AnimalID</th>\n",
       "      <th>Treatment</th>\n",
       "      <th>Diff</th>\n",
       "    </tr>\n",
       "  </thead>\n",
       "  <tbody>\n",
       "    <tr>\n",
       "      <td>0</td>\n",
       "      <td>a</td>\n",
       "      <td>ctrl</td>\n",
       "      <td>0</td>\n",
       "    </tr>\n",
       "    <tr>\n",
       "      <td>1</td>\n",
       "      <td>b</td>\n",
       "      <td>trt</td>\n",
       "      <td>2</td>\n",
       "    </tr>\n",
       "    <tr>\n",
       "      <td>2</td>\n",
       "      <td>c</td>\n",
       "      <td>ctrl</td>\n",
       "      <td>-2</td>\n",
       "    </tr>\n",
       "    <tr>\n",
       "      <td>3</td>\n",
       "      <td>d</td>\n",
       "      <td>trt</td>\n",
       "      <td>3</td>\n",
       "    </tr>\n",
       "    <tr>\n",
       "      <td>4</td>\n",
       "      <td>e</td>\n",
       "      <td>ctrl</td>\n",
       "      <td>1</td>\n",
       "    </tr>\n",
       "    <tr>\n",
       "      <td>5</td>\n",
       "      <td>f</td>\n",
       "      <td>trt</td>\n",
       "      <td>12</td>\n",
       "    </tr>\n",
       "  </tbody>\n",
       "</table>\n",
       "</div>"
      ],
      "text/plain": [
       "  AnimalID Treatment  Diff\n",
       "0        a      ctrl     0\n",
       "1        b       trt     2\n",
       "2        c      ctrl    -2\n",
       "3        d       trt     3\n",
       "4        e      ctrl     1\n",
       "5        f       trt    12"
      ]
     },
     "execution_count": 3,
     "metadata": {},
     "output_type": "execute_result"
    }
   ],
   "source": [
    "# Preliminary (made up) data\n",
    "dat = pd.DataFrame({\"AnimalID\": [\"a\", \"b\", \"c\", \"d\", \"e\", \"f\"], \n",
    "                    \"Treatment\": [\"ctrl\", \"trt\", \"ctrl\", \"trt\", \"ctrl\", \"trt\"], \n",
    "                    \"Diff\": [0, 2, -2, 3, 1, 12]})\n",
    "dat"
   ]
  },
  {
   "cell_type": "code",
   "execution_count": 4,
   "metadata": {},
   "outputs": [
    {
     "data": {
      "image/png": "[encoded data removed]",
      "text/plain": [
       "<Figure size 432x288 with 1 Axes>"
      ]
     },
     "metadata": {
      "needs_background": "light"
     },
     "output_type": "display_data"
    }
   ],
   "source": [
    "# plot data\n",
    "sns.boxplot(x= \"Treatment\", y = \"Diff\", data = dat)\n",
    "plt.show()"
   ]
  },
  {
   "cell_type": "code",
   "execution_count": 8,
   "metadata": {},
   "outputs": [
    {
     "data": {
      "text/html": [
       "<div>\n",
       "<style scoped>\n",
       "    .dataframe tbody tr th:only-of-type {\n",
       "        vertical-align: middle;\n",
       "    }\n",
       "\n",
       "    .dataframe tbody tr th {\n",
       "        vertical-align: top;\n",
       "    }\n",
       "\n",
       "    .dataframe thead tr th {\n",
       "        text-align: left;\n",
       "    }\n",
       "\n",
       "    .dataframe thead tr:last-of-type th {\n",
       "        text-align: right;\n",
       "    }\n",
       "</style>\n",
       "<table border=\"1\" class=\"dataframe\">\n",
       "  <thead>\n",
       "    <tr>\n",
       "      <th></th>\n",
       "      <th colspan=\"3\" halign=\"left\">Diff</th>\n",
       "    </tr>\n",
       "    <tr>\n",
       "      <th></th>\n",
       "      <th>mean</th>\n",
       "      <th>std</th>\n",
       "      <th>count</th>\n",
       "    </tr>\n",
       "    <tr>\n",
       "      <th>Treatment</th>\n",
       "      <th></th>\n",
       "      <th></th>\n",
       "      <th></th>\n",
       "    </tr>\n",
       "  </thead>\n",
       "  <tbody>\n",
       "    <tr>\n",
       "      <td>ctrl</td>\n",
       "      <td>-0.333333</td>\n",
       "      <td>1.527525</td>\n",
       "      <td>3</td>\n",
       "    </tr>\n",
       "    <tr>\n",
       "      <td>trt</td>\n",
       "      <td>5.666667</td>\n",
       "      <td>5.507571</td>\n",
       "      <td>3</td>\n",
       "    </tr>\n",
       "  </tbody>\n",
       "</table>\n",
       "</div>"
      ],
      "text/plain": [
       "               Diff                \n",
       "               mean       std count\n",
       "Treatment                          \n",
       "ctrl      -0.333333  1.527525     3\n",
       "trt        5.666667  5.507571     3"
      ]
     },
     "execution_count": 8,
     "metadata": {},
     "output_type": "execute_result"
    }
   ],
   "source": [
    "# calculate mean and sd of original data\n",
    "result = dat.groupby(['Treatment'], as_index=True).agg(\n",
    "                      {'Diff':['mean','std', \"count\"]})\n",
    "result"
   ]
  },
  {
   "cell_type": "code",
   "execution_count": 10,
   "metadata": {},
   "outputs": [],
   "source": [
    "def simulate_test(samp_size_ctrl, mean_ctrl, sd_ctrl, \n",
    "                  samp_size_trt,  mean_trt,  sd_trt):\n",
    "    '''\n",
    "    Simulate data from two normal distributions and calculate p-value\n",
    "    from t-test (assuming unequal variance)\n",
    "    \n",
    "        Args: \n",
    "        sample sizes, means, and sd's from control and trt groups\n",
    "\n",
    "        Returns:\n",
    "        p-value from simulated data\n",
    "    '''\n",
    "    simdata_ctrl = np.random.normal(loc = mean_ctrl, scale = sd_ctrl, size = samp_size_ctrl)\n",
    "    simdata_trt = np.random.normal(loc = mean_trt, scale = sd_trt, size = samp_size_trt)\n",
    "    _, p = stats.ttest_ind(simdata_ctrl, simdata_trt, equal_var = False)\n",
    "    return(p)"
   ]
  },
  {
   "cell_type": "code",
   "execution_count": 11,
   "metadata": {},
   "outputs": [],
   "source": [
    "samp_size_ctrl = 9\n",
    "mean_ctrl = -0.33\n",
    "sd_ctrl = 1.52\n",
    "\n",
    "samp_size_trt = 9\n",
    "mean_trt = 5.7\n",
    "sd_trt = 5.5\n",
    "\n",
    "# simulate 10000 samples\n",
    "simulated_pvals = [simulate_test(samp_size_ctrl, mean_ctrl, sd_ctrl, \n",
    "                                 samp_size_trt, mean_trt, sd_trt) for ii in range(10000)]"
   ]
  },
  {
   "cell_type": "code",
   "execution_count": 12,
   "metadata": {},
   "outputs": [
    {
     "data": {
      "image/png": "[encoded data removed]",
      "text/plain": [
       "<Figure size 432x288 with 1 Axes>"
      ]
     },
     "metadata": {
      "needs_background": "light"
     },
     "output_type": "display_data"
    },
    {
     "name": "stdout",
     "output_type": "stream",
     "text": [
      "Power for sample size ( 9 9 ) =  0.8082\n"
     ]
    }
   ],
   "source": [
    "plt.hist(simulated_pvals)\n",
    "plt.show()\n",
    "\n",
    "# report power\n",
    "print(\"Power for sample size (\", samp_size_ctrl, samp_size_trt, \") = \",np.mean(np.array(simulated_pvals) < 0.05))"
   ]
  },
  {
   "cell_type": "code",
   "execution_count": null,
   "metadata": {},
   "outputs": [],
   "source": [
    "# according to above, to get a power of 0.8, we'd need a sample size of 9 individuals per group"
   ]
  }
 ],
 "metadata": {
  "kernelspec": {
   "display_name": "Python 3",
   "language": "python",
   "name": "python3"
  },
  "language_info": {
   "codemirror_mode": {
    "name": "ipython",
    "version": 3
   },
   "file_extension": ".py",
   "mimetype": "text/x-python",
   "name": "python",
   "nbconvert_exporter": "python",
   "pygments_lexer": "ipython3",
   "version": "3.7.3"
  }
 },
 "nbformat": 4,
 "nbformat_minor": 2
}
