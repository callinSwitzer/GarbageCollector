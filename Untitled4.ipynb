{
 "cells": [
  {
   "cell_type": "code",
   "execution_count": 1,
   "metadata": {},
   "outputs": [],
   "source": [
    "import datetime\n",
    "import numpy  as np\n",
    "\n",
    "\n",
    "def random_dates(start, end, starting_prob = 0.1, ending_prob = 1.0, num_samples = 2000):\n",
    "    \"\"\"\n",
    "    Generate increasing or decreasing counts of datetimes between `start` and `end`\n",
    "    \n",
    "    Parameters:\n",
    "    start: string in format'%b%d-%Y' (i.e. 'Sep19-2019')\n",
    "    end : string in format'%b%d-%Y'. must be after start\n",
    "    starting_prob: (float) relative probability of seeing a search on the first day\n",
    "    ending_prob: (float) relative probability of seeing a search on the last day\n",
    "    num_samples: number of dates in the list\n",
    "    \"\"\"\n",
    "    start_date = datetime.datetime.strptime(start, '%b%d-%Y')\n",
    "    end_date = datetime.datetime.strptime(end, '%b%d-%Y')\n",
    "    \n",
    "    # Get days between `start` and `end`\n",
    "    num_days = (end_date - start_date).days\n",
    "    \n",
    "    linear_probabilities = np.linspace(starting_prob, ending_prob, num_days)\n",
    "    \n",
    "    # normalize probabilities so they add up to 1\n",
    "    linear_probabilities /= np.sum(linear_probabilities)\n",
    "        \n",
    "    rand_days = np.random.choice(num_days, size = num_samples, replace = True,\n",
    "             p = linear_probabilities)\n",
    "\n",
    "    rand_date =  [(start_date + datetime.timedelta(int(rand_days[ii]))).strftime('%b%d-%Y') \n",
    "                  for ii in range(num_samples)]\n",
    "    \n",
    "    # return list of date strings\n",
    "    return rand_date"
   ]
  },
  {
   "cell_type": "markdown",
   "metadata": {},
   "source": [
    "Ex. if starting_prob = 0.1 and ending_prob = 1.0, then the probability of seeing a \n",
    "search on the start date is 1/10 of the probability of seeing a search on the \n",
    "end date\n",
    "\n",
    "If starting_prob = 1.0 and ending_prob = 0.1, then the probability of seeing a \n",
    "search on the end date is 1/10 of the probability of seeing a search on the \n",
    "start date\n",
    "    "
   ]
  },
  {
   "cell_type": "code",
   "execution_count": 12,
   "metadata": {},
   "outputs": [],
   "source": [
    "\n",
    "rdates_decreasing = random_dates(\"Jan01-2019\", \"Apr30-2019\",\n",
    "                      starting_prob = 1.0, ending_prob = 0.1, \n",
    "                      num_samples = 20000)\n",
    "\n",
    "rdates_increasing = random_dates(\"Jan01-2019\", \"Apr30-2019\",\n",
    "                      starting_prob = 0.1, ending_prob = 1.0, \n",
    "                      num_samples = 20000)\n",
    "rdates_random = random_dates(\"Jan01-2019\", \"Apr30-2019\",\n",
    "                      starting_prob = 1.0, ending_prob = 1.0, \n",
    "                      num_samples = 20000)\n"
   ]
  },
  {
   "cell_type": "code",
   "execution_count": 22,
   "metadata": {},
   "outputs": [
    {
     "data": {
      "image/png": "[encoded data removed]",
      "text/plain": [
       "<matplotlib.figure.Figure at 0x117d9e90b70>"
      ]
     },
     "metadata": {},
     "output_type": "display_data"
    }
   ],
   "source": [
    "from collections import Counter\n",
    "import pandas as pd\n",
    "import matplotlib.pyplot as plt\n",
    "%matplotlib inline\n",
    "\n",
    "# create dataframe\n",
    "df1 = pd.DataFrame({\"dates_decreasing\": list(Counter(rdates_decreasing).keys()), \n",
    "                      \"counts_decreasing\": list(Counter(rdates_decreasing).values()),\n",
    "                    \"dates_increasing\": list(Counter(rdates_increasing).keys()), \n",
    "                      \"counts_increasing\": list(Counter(rdates_increasing).values()),\n",
    "                    \"dates_random\": list(Counter(rdates_random).keys()), \n",
    "                      \"counts_random\": list(Counter(rdates_random).values()),\n",
    "                   }) \n",
    "\n",
    "# convert to datetime and sort\n",
    "df1['dates_decreasing']= pd.to_datetime(df1['dates_decreasing'])\n",
    "df1['dates_increasing']= pd.to_datetime(df1['dates_increasing'])\n",
    "df1['dates_random']= pd.to_datetime(df1['dates_random'])\n",
    "\n",
    "\n",
    "# plot\n",
    "fig, ax = plt.subplots()\n",
    "ax.plot(df1.dates_decreasing, df1.counts_decreasing, \"o\", label = \"decreasing\")\n",
    "ax.plot(df1.dates_increasing, df1.counts_increasing, \"o\", label = \"increasing\")\n",
    "ax.plot(df1.dates_random, df1.counts_random, \"o\", label = \"random\")\n",
    "ax.set_ylabel(\"count\")\n",
    "ax.legend()\n",
    "fig.autofmt_xdate()\n",
    "plt.show()"
   ]
  },
  {
   "cell_type": "code",
   "execution_count": 23,
   "metadata": {},
   "outputs": [],
   "source": [
    "pd.DataFrame({'dates_decreasing': rdates_decreasing, \n",
    "              'dates_increasing': rdates_increasing, \n",
    "              'dates_random': rdates_random, \n",
    "             }).to_csv(\"path\\to\\datefile.csv\", index = False)"
   ]
  },
  {
   "cell_type": "code",
   "execution_count": null,
   "metadata": {},
   "outputs": [],
   "source": [
    "import numpy as np\n",
    "import pandas as pd\n",
    "\n",
    "dates = pd.date_range(\"2019-1-1\", \"2020-1-1\", freq=\"D\")\n",
    "dates"
   ]
  },
  {
   "cell_type": "code",
   "execution_count": null,
   "metadata": {},
   "outputs": [],
   "source": [
    "def trend(count, start_weight=1, end_weight=0):\n",
    "    lin_sp = np.linspace(start_weight, end_weight, count)\n",
    "    return lin_sp/sum(lin_sp)\n",
    "\n",
    "date_trends = np.random.choice(dates,size=300, p=trend(len(dates)))\n",
    "np.unique(date_trends, return_counts=True)"
   ]
  },
  {
   "cell_type": "code",
   "execution_count": null,
   "metadata": {},
   "outputs": [],
   "source": [
    "start_date = datetime.datetime.strptime('Mar31-2019', '%b%d-%Y')\n",
    "end_date = datetime.datetime.strptime(\"Apr30-2019\", '%b%d-%Y')\n",
    "\n",
    "# Get a random amount of seconds between `start` and `end`\n",
    "rand_seconds = int((end_date - start_date).total_seconds())\n",
    "rand_seconds"
   ]
  },
  {
   "cell_type": "code",
   "execution_count": null,
   "metadata": {},
   "outputs": [],
   "source": [
    "np.random.choice(rand_seconds, \n",
    "                 p = np.linspace(0.5, 1, num =rand_seconds) / \n",
    "                 np.sum(np.linspace(0.5, 1, num = rand_seconds)))"
   ]
  },
  {
   "cell_type": "code",
   "execution_count": null,
   "metadata": {},
   "outputs": [],
   "source": [
    "np.linspace(0.5, 1, num =rand_seconds) / np.sum(np.linspace(0.5, 1, num = rand_seconds))"
   ]
  },
  {
   "cell_type": "code",
   "execution_count": null,
   "metadata": {},
   "outputs": [],
   "source": [
    "start = datetime.datetime.now()"
   ]
  },
  {
   "cell_type": "code",
   "execution_count": null,
   "metadata": {},
   "outputs": [],
   "source": [
    "start.strftime('%b%d-%Y')"
   ]
  },
  {
   "cell_type": "code",
   "execution_count": null,
   "metadata": {},
   "outputs": [],
   "source": [
    "datetime.datetime.strptime('Sep19-2019', '%b%d-%Y')"
   ]
  },
  {
   "cell_type": "code",
   "execution_count": null,
   "metadata": {},
   "outputs": [],
   "source": []
  },
  {
   "cell_type": "code",
   "execution_count": null,
   "metadata": {},
   "outputs": [],
   "source": []
  },
  {
   "cell_type": "code",
   "execution_count": null,
   "metadata": {},
   "outputs": [],
   "source": []
  },
  {
   "cell_type": "code",
   "execution_count": null,
   "metadata": {},
   "outputs": [],
   "source": []
  },
  {
   "cell_type": "code",
   "execution_count": null,
   "metadata": {},
   "outputs": [],
   "source": []
  },
  {
   "cell_type": "code",
   "execution_count": null,
   "metadata": {},
   "outputs": [],
   "source": []
  },
  {
   "cell_type": "code",
   "execution_count": null,
   "metadata": {},
   "outputs": [],
   "source": []
  },
  {
   "cell_type": "code",
   "execution_count": null,
   "metadata": {},
   "outputs": [],
   "source": [
    "import numpy as np\n",
    "import pandas as pd\n",
    "\n",
    "dates = pd.date_range(\"2019-1-1\", \"2019-4-1\", freq=\"D\")\n",
    "\n",
    "def trend(count, start_weight=1, end_weight=3):\n",
    "    lin_sp = np.linspace(start_weight, end_weight, count)\n",
    "    return lin_sp/sum(lin_sp)\n",
    "\n",
    "date_trends = np.random.choice(dates,size=20000, p=trend(len(dates)))\n",
    "\n",
    "print(\"Total dates\", len(date_trends))\n",
    "\n",
    "print(\"counts of each dates\")\n",
    "print(np.unique(date_trends, return_counts=True)[1])"
   ]
  },
  {
   "cell_type": "code",
   "execution_count": null,
   "metadata": {},
   "outputs": [],
   "source": [
    "date_trends"
   ]
  },
  {
   "cell_type": "code",
   "execution_count": null,
   "metadata": {},
   "outputs": [],
   "source": []
  },
  {
   "cell_type": "code",
   "execution_count": null,
   "metadata": {},
   "outputs": [],
   "source": []
  },
  {
   "cell_type": "code",
   "execution_count": null,
   "metadata": {},
   "outputs": [],
   "source": []
  },
  {
   "cell_type": "code",
   "execution_count": null,
   "metadata": {},
   "outputs": [],
   "source": []
  },
  {
   "cell_type": "code",
   "execution_count": 1,
   "metadata": {},
   "outputs": [],
   "source": [
    "import numpy as np\n",
    "import matplotlib.pyplot as mlp\n",
    "import pandas as pd\n",
    "\n",
    "#import datasets\n",
    "\n",
    "\n",
    "\n",
    "x = np.random.rand(100, 100, 100, 100)\n",
    "y = np.random.rand(100)\n"
   ]
  },
  {
   "cell_type": "code",
   "execution_count": 2,
   "metadata": {},
   "outputs": [],
   "source": [
    "#splitting training test set\n",
    "from sklearn.model_selection import train_test_split\n",
    "x_train,x_test,y_train,y_test=train_test_split(x,y,test_size=0.2,random_state=0)"
   ]
  },
  {
   "cell_type": "code",
   "execution_count": 3,
   "metadata": {},
   "outputs": [
    {
     "name": "stdout",
     "output_type": "stream",
     "text": [
      "0.20.3\n"
     ]
    }
   ],
   "source": [
    "import sklearn\n",
    "print(sklearn.__version__)"
   ]
  },
  {
   "cell_type": "code",
   "execution_count": 8,
   "metadata": {},
   "outputs": [],
   "source": [
    "#calculating missing data\n",
    "from sklearn.impute import SimpleImputer\n",
    "imputer=SimpleImputer(missing_values=np.nan,strategy='mean')\n",
    "y_test=impute.fit_transform(y_test.reshape(-1, 1))"
   ]
  },
  {
   "cell_type": "code",
   "execution_count": 20,
   "metadata": {},
   "outputs": [
    {
     "data": {
      "text/plain": [
       "array([0.56988975, 0.45460593, 0.35855971, 0.0710139 , 0.21240753,\n",
       "       0.43115221, 0.46698365, 0.92918279, 0.59319477, 0.31966956,\n",
       "       0.9941495 , 0.53729272, 0.84989849, 0.6322281 , 0.53687432,\n",
       "       0.86876737, 0.23311112, 0.89694667, 0.63029322, 0.34188649])"
      ]
     },
     "execution_count": 20,
     "metadata": {},
     "output_type": "execute_result"
    }
   ],
   "source": [
    "y_test[:,0]"
   ]
  },
  {
   "cell_type": "code",
   "execution_count": 12,
   "metadata": {},
   "outputs": [
    {
     "data": {
      "text/plain": [
       "(20,)"
      ]
     },
     "execution_count": 12,
     "metadata": {},
     "output_type": "execute_result"
    }
   ],
   "source": [
    "y_test.shape"
   ]
  },
  {
   "cell_type": "code",
   "execution_count": null,
   "metadata": {},
   "outputs": [],
   "source": []
  },
  {
   "cell_type": "code",
   "execution_count": null,
   "metadata": {},
   "outputs": [],
   "source": []
  },
  {
   "cell_type": "code",
   "execution_count": null,
   "metadata": {},
   "outputs": [],
   "source": []
  },
  {
   "cell_type": "code",
   "execution_count": null,
   "metadata": {},
   "outputs": [],
   "source": []
  },
  {
   "cell_type": "code",
   "execution_count": null,
   "metadata": {},
   "outputs": [],
   "source": []
  },
  {
   "cell_type": "code",
   "execution_count": 76,
   "metadata": {},
   "outputs": [
    {
     "name": "stdout",
     "output_type": "stream",
     "text": [
      "KMeans: 0.34\n"
     ]
    }
   ],
   "source": [
    "from sklearn.datasets import make_blobs\n",
    "from sklearn.model_selection import train_test_split\n",
    "from sklearn.cluster import KMeans\n",
    "from sklearn.metrics import accuracy_score\n",
    "\n",
    "\n",
    "\n",
    "X_full, y_full = make_blobs(n_samples=1000, centers=3, n_features=2)\n",
    "\n",
    "X, X_test, y, y_test = train_test_split(X_full, y_full, test_size=0.2)\n",
    "\n",
    "kmeans = KMeans(3, random_state=3)\n",
    "labels = kmeans.fit(X).predict(X_test)\n",
    "acc = accuracy_score(y_test, labels)\n",
    "print(\"KMeans:\",acc)"
   ]
  },
  {
   "cell_type": "code",
   "execution_count": 77,
   "metadata": {},
   "outputs": [],
   "source": [
    "from matplotlib import pyplot as plt\n",
    "%matplotlib inline"
   ]
  },
  {
   "cell_type": "code",
   "execution_count": 85,
   "metadata": {},
   "outputs": [],
   "source": [
    "import pandas as pd"
   ]
  },
  {
   "cell_type": "code",
   "execution_count": 106,
   "metadata": {},
   "outputs": [
    {
     "data": {
      "text/html": [
       "<div>\n",
       "<style scoped>\n",
       "    .dataframe tbody tr th:only-of-type {\n",
       "        vertical-align: middle;\n",
       "    }\n",
       "\n",
       "    .dataframe tbody tr th {\n",
       "        vertical-align: top;\n",
       "    }\n",
       "\n",
       "    .dataframe thead th {\n",
       "        text-align: right;\n",
       "    }\n",
       "</style>\n",
       "<table border=\"1\" class=\"dataframe\">\n",
       "  <thead>\n",
       "    <tr style=\"text-align: right;\">\n",
       "      <th></th>\n",
       "      <th>feature0</th>\n",
       "      <th>feature1</th>\n",
       "    </tr>\n",
       "    <tr>\n",
       "      <th>label</th>\n",
       "      <th></th>\n",
       "      <th></th>\n",
       "    </tr>\n",
       "  </thead>\n",
       "  <tbody>\n",
       "    <tr>\n",
       "      <th>0</th>\n",
       "      <td>-3.805583</td>\n",
       "      <td>1.984536</td>\n",
       "    </tr>\n",
       "    <tr>\n",
       "      <th>1</th>\n",
       "      <td>-4.234513</td>\n",
       "      <td>9.772482</td>\n",
       "    </tr>\n",
       "    <tr>\n",
       "      <th>2</th>\n",
       "      <td>-9.074514</td>\n",
       "      <td>6.581465</td>\n",
       "    </tr>\n",
       "  </tbody>\n",
       "</table>\n",
       "</div>"
      ],
      "text/plain": [
       "       feature0  feature1\n",
       "label                    \n",
       "0     -3.805583  1.984536\n",
       "1     -4.234513  9.772482\n",
       "2     -9.074514  6.581465"
      ]
     },
     "execution_count": 106,
     "metadata": {},
     "output_type": "execute_result"
    }
   ],
   "source": [
    "df1 = pd.DataFrame({\"label\":y, \n",
    "                    \"feature0\": X[:,0], \n",
    "                    \"feature1\": X[:,1]})\n",
    "df1\n",
    "df2 = df1.groupby(\"label\").mean()\n",
    "df2"
   ]
  },
  {
   "cell_type": "code",
   "execution_count": 81,
   "metadata": {},
   "outputs": [
    {
     "data": {
      "text/plain": [
       "<matplotlib.legend.Legend at 0x2b785293e80>"
      ]
     },
     "execution_count": 81,
     "metadata": {},
     "output_type": "execute_result"
    },
    {
     "data": {
      "image/png": "[encoded data removed]",
      "text/plain": [
       "<Figure size 432x288 with 1 Axes>"
      ]
     },
     "metadata": {
      "needs_background": "light"
     },
     "output_type": "display_data"
    }
   ],
   "source": [
    "plt.plot(X_full[y_full == 0,0], X_full[y_full == 0, 1], \"o\", label = \"0\")\n",
    "plt.plot(X_full[y_full == 1,0], X_full[y_full == 1, 1], \"o\", label = \"1\")\n",
    "plt.plot(X_full[y_full == 2,0], X_full[y_full == 2, 1], \"o\", label = \"2\")\n",
    "plt.legend()"
   ]
  },
  {
   "cell_type": "code",
   "execution_count": 82,
   "metadata": {},
   "outputs": [
    {
     "data": {
      "text/plain": [
       "<matplotlib.legend.Legend at 0x2b785306b38>"
      ]
     },
     "execution_count": 82,
     "metadata": {},
     "output_type": "execute_result"
    },
    {
     "data": {
      "image/png": "[encoded data removed]",
      "text/plain": [
       "<Figure size 432x288 with 1 Axes>"
      ]
     },
     "metadata": {
      "needs_background": "light"
     },
     "output_type": "display_data"
    }
   ],
   "source": [
    "plt.plot(X_test[labels == 0,0], X_test[labels == 0, 1], \"o\", label = \"0\")\n",
    "plt.plot(X_test[labels == 1,0], X_test[labels == 1, 1], \"o\", label = \"1\")\n",
    "plt.plot(X_test[labels == 2,0], X_test[labels == 2, 1], \"o\", label = \"2\")\n",
    "plt.legend()"
   ]
  },
  {
   "cell_type": "code",
   "execution_count": 109,
   "metadata": {},
   "outputs": [
    {
     "name": "stdout",
     "output_type": "stream",
     "text": [
      "KMeans: 1.0\n"
     ]
    }
   ],
   "source": [
    "from sklearn.metrics import v_measure_score\n",
    "\n",
    "labels = kmeans.fit(X).predict(X_test)\n",
    "acc = v_measure_score(y_test, labels)\n",
    "print(\"KMeans:\",acc)"
   ]
  },
  {
   "cell_type": "code",
   "execution_count": null,
   "metadata": {},
   "outputs": [],
   "source": []
  }
 ],
 "metadata": {
  "kernelspec": {
   "display_name": "Python 3",
   "language": "python",
   "name": "python3"
  },
  "language_info": {
   "codemirror_mode": {
    "name": "ipython",
    "version": 3
   },
   "file_extension": ".py",
   "mimetype": "text/x-python",
   "name": "python",
   "nbconvert_exporter": "python",
   "pygments_lexer": "ipython3",
   "version": "3.7.3"
  }
 },
 "nbformat": 4,
 "nbformat_minor": 4
}
