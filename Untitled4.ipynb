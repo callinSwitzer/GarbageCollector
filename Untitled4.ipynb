{
 "cells": [
  {
   "cell_type": "code",
   "execution_count": 1,
   "metadata": {},
   "outputs": [],
   "source": [
    "import datetime\n",
    "import numpy  as np\n",
    "\n",
    "\n",
    "def random_dates(start, end, starting_prob = 0.1, ending_prob = 1.0, num_samples = 2000):\n",
    "    \"\"\"\n",
    "    Generate increasing or decreasing counts of datetimes between `start` and `end`\n",
    "    \n",
    "    Parameters:\n",
    "    start: string in format'%b%d-%Y' (i.e. 'Sep19-2019')\n",
    "    end : string in format'%b%d-%Y'. must be after start\n",
    "    starting_prob: (float) relative probability of seeing a search on the first day\n",
    "    ending_prob: (float) relative probability of seeing a search on the last day\n",
    "    num_samples: number of dates in the list\n",
    "    \"\"\"\n",
    "    start_date = datetime.datetime.strptime(start, '%b%d-%Y')\n",
    "    end_date = datetime.datetime.strptime(end, '%b%d-%Y')\n",
    "    \n",
    "    # Get days between `start` and `end`\n",
    "    num_days = (end_date - start_date).days\n",
    "    \n",
    "    linear_probabilities = np.linspace(starting_prob, ending_prob, num_days)\n",
    "    \n",
    "    # normalize probabilities so they add up to 1\n",
    "    linear_probabilities /= np.sum(linear_probabilities)\n",
    "        \n",
    "    rand_days = np.random.choice(num_days, size = num_samples, replace = True,\n",
    "             p = linear_probabilities)\n",
    "\n",
    "    rand_date =  [(start_date + datetime.timedelta(int(rand_days[ii]))).strftime('%b%d-%Y') \n",
    "                  for ii in range(num_samples)]\n",
    "    \n",
    "    # return list of date strings\n",
    "    return rand_date"
   ]
  },
  {
   "cell_type": "markdown",
   "metadata": {},
   "source": [
    "Ex. if starting_prob = 0.1 and ending_prob = 1.0, then the probability of seeing a \n",
    "search on the start date is 1/10 of the probability of seeing a search on the \n",
    "end date\n",
    "\n",
    "If starting_prob = 1.0 and ending_prob = 0.1, then the probability of seeing a \n",
    "search on the end date is 1/10 of the probability of seeing a search on the \n",
    "start date\n",
    "    "
   ]
  },
  {
   "cell_type": "code",
   "execution_count": 12,
   "metadata": {},
   "outputs": [],
   "source": [
    "\n",
    "rdates_decreasing = random_dates(\"Jan01-2019\", \"Apr30-2019\",\n",
    "                      starting_prob = 1.0, ending_prob = 0.1, \n",
    "                      num_samples = 20000)\n",
    "\n",
    "rdates_increasing = random_dates(\"Jan01-2019\", \"Apr30-2019\",\n",
    "                      starting_prob = 0.1, ending_prob = 1.0, \n",
    "                      num_samples = 20000)\n",
    "rdates_random = random_dates(\"Jan01-2019\", \"Apr30-2019\",\n",
    "                      starting_prob = 1.0, ending_prob = 1.0, \n",
    "                      num_samples = 20000)\n"
   ]
  },
  {
   "cell_type": "code",
   "execution_count": 22,
   "metadata": {},
   "outputs": [
    {
     "data": {
      "image/png": "[encoded data removed]",
      "text/plain": [
       "<matplotlib.figure.Figure at 0x117d9e90b70>"
      ]
     },
     "metadata": {},
     "output_type": "display_data"
    }
   ],
   "source": [
    "from collections import Counter\n",
    "import pandas as pd\n",
    "import matplotlib.pyplot as plt\n",
    "%matplotlib inline\n",
    "\n",
    "# create dataframe\n",
    "df1 = pd.DataFrame({\"dates_decreasing\": list(Counter(rdates_decreasing).keys()), \n",
    "                      \"counts_decreasing\": list(Counter(rdates_decreasing).values()),\n",
    "                    \"dates_increasing\": list(Counter(rdates_increasing).keys()), \n",
    "                      \"counts_increasing\": list(Counter(rdates_increasing).values()),\n",
    "                    \"dates_random\": list(Counter(rdates_random).keys()), \n",
    "                      \"counts_random\": list(Counter(rdates_random).values()),\n",
    "                   }) \n",
    "\n",
    "# convert to datetime and sort\n",
    "df1['dates_decreasing']= pd.to_datetime(df1['dates_decreasing'])\n",
    "df1['dates_increasing']= pd.to_datetime(df1['dates_increasing'])\n",
    "df1['dates_random']= pd.to_datetime(df1['dates_random'])\n",
    "\n",
    "\n",
    "# plot\n",
    "fig, ax = plt.subplots()\n",
    "ax.plot(df1.dates_decreasing, df1.counts_decreasing, \"o\", label = \"decreasing\")\n",
    "ax.plot(df1.dates_increasing, df1.counts_increasing, \"o\", label = \"increasing\")\n",
    "ax.plot(df1.dates_random, df1.counts_random, \"o\", label = \"random\")\n",
    "ax.set_ylabel(\"count\")\n",
    "ax.legend()\n",
    "fig.autofmt_xdate()\n",
    "plt.show()"
   ]
  },
  {
   "cell_type": "code",
   "execution_count": 23,
   "metadata": {},
   "outputs": [],
   "source": [
    "pd.DataFrame({'dates_decreasing': rdates_decreasing, \n",
    "              'dates_increasing': rdates_increasing, \n",
    "              'dates_random': rdates_random, \n",
    "             }).to_csv(\"path\\to\\datefile.csv\", index = False)"
   ]
  },
  {
   "cell_type": "code",
   "execution_count": null,
   "metadata": {},
   "outputs": [],
   "source": [
    "import numpy as np\n",
    "import pandas as pd\n",
    "\n",
    "dates = pd.date_range(\"2019-1-1\", \"2020-1-1\", freq=\"D\")\n",
    "dates"
   ]
  },
  {
   "cell_type": "code",
   "execution_count": null,
   "metadata": {},
   "outputs": [],
   "source": [
    "def trend(count, start_weight=1, end_weight=0):\n",
    "    lin_sp = np.linspace(start_weight, end_weight, count)\n",
    "    return lin_sp/sum(lin_sp)\n",
    "\n",
    "date_trends = np.random.choice(dates,size=300, p=trend(len(dates)))\n",
    "np.unique(date_trends, return_counts=True)"
   ]
  },
  {
   "cell_type": "code",
   "execution_count": null,
   "metadata": {},
   "outputs": [],
   "source": [
    "start_date = datetime.datetime.strptime('Mar31-2019', '%b%d-%Y')\n",
    "end_date = datetime.datetime.strptime(\"Apr30-2019\", '%b%d-%Y')\n",
    "\n",
    "# Get a random amount of seconds between `start` and `end`\n",
    "rand_seconds = int((end_date - start_date).total_seconds())\n",
    "rand_seconds"
   ]
  },
  {
   "cell_type": "code",
   "execution_count": null,
   "metadata": {},
   "outputs": [],
   "source": [
    "np.random.choice(rand_seconds, \n",
    "                 p = np.linspace(0.5, 1, num =rand_seconds) / \n",
    "                 np.sum(np.linspace(0.5, 1, num = rand_seconds)))"
   ]
  },
  {
   "cell_type": "code",
   "execution_count": null,
   "metadata": {},
   "outputs": [],
   "source": [
    "np.linspace(0.5, 1, num =rand_seconds) / np.sum(np.linspace(0.5, 1, num = rand_seconds))"
   ]
  },
  {
   "cell_type": "code",
   "execution_count": null,
   "metadata": {},
   "outputs": [],
   "source": [
    "start = datetime.datetime.now()"
   ]
  },
  {
   "cell_type": "code",
   "execution_count": null,
   "metadata": {},
   "outputs": [],
   "source": [
    "start.strftime('%b%d-%Y')"
   ]
  },
  {
   "cell_type": "code",
   "execution_count": null,
   "metadata": {},
   "outputs": [],
   "source": [
    "datetime.datetime.strptime('Sep19-2019', '%b%d-%Y')"
   ]
  },
  {
   "cell_type": "code",
   "execution_count": null,
   "metadata": {},
   "outputs": [],
   "source": []
  },
  {
   "cell_type": "code",
   "execution_count": null,
   "metadata": {},
   "outputs": [],
   "source": []
  },
  {
   "cell_type": "code",
   "execution_count": null,
   "metadata": {},
   "outputs": [],
   "source": []
  },
  {
   "cell_type": "code",
   "execution_count": null,
   "metadata": {},
   "outputs": [],
   "source": []
  },
  {
   "cell_type": "code",
   "execution_count": null,
   "metadata": {},
   "outputs": [],
   "source": []
  },
  {
   "cell_type": "code",
   "execution_count": null,
   "metadata": {},
   "outputs": [],
   "source": []
  },
  {
   "cell_type": "code",
   "execution_count": null,
   "metadata": {},
   "outputs": [],
   "source": []
  },
  {
   "cell_type": "code",
   "execution_count": null,
   "metadata": {},
   "outputs": [],
   "source": [
    "import numpy as np\n",
    "import pandas as pd\n",
    "\n",
    "dates = pd.date_range(\"2019-1-1\", \"2019-4-1\", freq=\"D\")\n",
    "\n",
    "def trend(count, start_weight=1, end_weight=3):\n",
    "    lin_sp = np.linspace(start_weight, end_weight, count)\n",
    "    return lin_sp/sum(lin_sp)\n",
    "\n",
    "date_trends = np.random.choice(dates,size=20000, p=trend(len(dates)))\n",
    "\n",
    "print(\"Total dates\", len(date_trends))\n",
    "\n",
    "print(\"counts of each dates\")\n",
    "print(np.unique(date_trends, return_counts=True)[1])"
   ]
  },
  {
   "cell_type": "code",
   "execution_count": null,
   "metadata": {},
   "outputs": [],
   "source": [
    "date_trends"
   ]
  },
  {
   "cell_type": "code",
   "execution_count": null,
   "metadata": {},
   "outputs": [],
   "source": []
  },
  {
   "cell_type": "code",
   "execution_count": null,
   "metadata": {},
   "outputs": [],
   "source": []
  }
 ],
 "metadata": {
  "kernelspec": {
   "display_name": "opencv3",
   "language": "python",
   "name": "opencv3"
  },
  "language_info": {
   "codemirror_mode": {
    "name": "ipython",
    "version": 3
   },
   "file_extension": ".py",
   "mimetype": "text/x-python",
   "name": "python",
   "nbconvert_exporter": "python",
   "pygments_lexer": "ipython3",
   "version": "3.6.5"
  }
 },
 "nbformat": 4,
 "nbformat_minor": 4
}
