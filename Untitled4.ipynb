{
 "cells": [
  {
   "cell_type": "code",
   "execution_count": 1,
   "metadata": {},
   "outputs": [],
   "source": [
    "import datetime\n",
    "import numpy  as np\n",
    "\n",
    "\n",
    "def random_dates(start, end, increase, num_samples = 2000):\n",
    "    \"\"\"\n",
    "    Generate increasing or decreasing counts of datetimes between `start` and `end`\n",
    "    \n",
    "    Parameters:\n",
    "    start: string in format'%b%d-%Y' (i.e. 'Sep19-2019')\n",
    "    end : string in format'%b%d-%Y'. must be after start\n",
    "    increase: True if searches increase over time\n",
    "    num_samples: number of dates in the list\n",
    "    \"\"\"\n",
    "    start_date = datetime.datetime.strptime(start, '%b%d-%Y')\n",
    "    end_date = datetime.datetime.strptime(end, '%b%d-%Y')\n",
    "    \n",
    "    # Get a random amount of seconds between `start` and `end`\n",
    "    rand_seconds = int((end_date - start_date).total_seconds())\n",
    "    \n",
    "    if increase:\n",
    "        slope_of_line = np.linspace(0.1, 1, num =rand_seconds) \n",
    "        \n",
    "    else:\n",
    "        slope_of_line = np.linspace(1, 0.1, num =rand_seconds) \n",
    "        \n",
    "    seconds= np.random.choice(rand_seconds, size = num_samples, replace = True,\n",
    "             p = slope_of_line / \n",
    "             np.sum(slope_of_line))\n",
    "\n",
    "    rand_date =  [(start_date + datetime.timedelta(seconds = int(seconds[ii]))).strftime('%b%d-%Y') \n",
    "                  for ii in range(num_samples)]\n",
    "    \n",
    "    # return list of date strings\n",
    "    return rand_date"
   ]
  },
  {
   "cell_type": "code",
   "execution_count": 2,
   "metadata": {},
   "outputs": [
    {
     "data": {
      "text/plain": [
       "['Jan01-2019',\n",
       " 'Feb11-2019',\n",
       " 'Jan09-2019',\n",
       " 'Feb01-2019',\n",
       " 'Jan16-2019',\n",
       " 'Mar30-2019',\n",
       " 'Feb04-2019',\n",
       " 'Mar10-2019',\n",
       " 'Feb18-2019',\n",
       " 'Mar09-2019']"
      ]
     },
     "execution_count": 2,
     "metadata": {},
     "output_type": "execute_result"
    }
   ],
   "source": [
    "rdates = random_dates(\"Jan01-2019\", \"Apr01-2019\", False, 20000)\n",
    "rdates[:10]"
   ]
  },
  {
   "cell_type": "code",
   "execution_count": 4,
   "metadata": {},
   "outputs": [],
   "source": [
    "from collections import Counter\n",
    "\n",
    "import pandas as pd\n",
    "\n",
    "df1 = pd.DataFrame({\"dates\": list(Counter(rdates).keys()), \n",
    "              \"counts\": list(Counter(rdates).values())}) "
   ]
  },
  {
   "cell_type": "code",
   "execution_count": 7,
   "metadata": {},
   "outputs": [
    {
     "data": {
      "image/png": "[encoded data removed]",
      "text/plain": [
       "<Figure size 432x288 with 1 Axes>"
      ]
     },
     "metadata": {
      "needs_background": "light"
     },
     "output_type": "display_data"
    }
   ],
   "source": [
    "df1['dates']= pd.to_datetime(df1['dates'])\n",
    "df1 = df1.sort_values(by='dates')\n",
    "import matplotlib.pyplot as plt\n",
    "\n",
    "fig, ax = plt.subplots()\n",
    "ax.plot(df1.dates, df1.counts, \"o\")\n",
    "\n",
    "fig.autofmt_xdate()\n",
    "plt.show()"
   ]
  },
  {
   "cell_type": "code",
   "execution_count": null,
   "metadata": {},
   "outputs": [],
   "source": [
    "import numpy as np\n",
    "import pandas as pd\n",
    "\n",
    "dates = pd.date_range(\"2019-1-1\", \"2020-1-1\", freq=\"3M\")\n",
    "dates"
   ]
  },
  {
   "cell_type": "code",
   "execution_count": null,
   "metadata": {},
   "outputs": [],
   "source": [
    "def trend(count, start_weight=1, end_weight=0):\n",
    "    lin_sp = np.linspace(start_weight, end_weight, count)\n",
    "    return lin_sp/sum(lin_sp)\n",
    "\n",
    "date_trends = np.random.choice(dates,size=300, p=trend(len(dates)))\n",
    "np.unique(date_trends, return_counts=True)"
   ]
  },
  {
   "cell_type": "code",
   "execution_count": null,
   "metadata": {},
   "outputs": [],
   "source": [
    "start_date = datetime.datetime.strptime('Mar31-2019', '%b%d-%Y')\n",
    "end_date = datetime.datetime.strptime(\"Apr30-2019\", '%b%d-%Y')\n",
    "\n",
    "# Get a random amount of seconds between `start` and `end`\n",
    "rand_seconds = int((end_date - start_date).total_seconds())\n",
    "rand_seconds"
   ]
  },
  {
   "cell_type": "code",
   "execution_count": null,
   "metadata": {},
   "outputs": [],
   "source": [
    "np.random.choice(rand_seconds, \n",
    "                 p = np.linspace(0.5, 1, num =rand_seconds) / \n",
    "                 np.sum(np.linspace(0.5, 1, num = rand_seconds)))"
   ]
  },
  {
   "cell_type": "code",
   "execution_count": null,
   "metadata": {},
   "outputs": [],
   "source": [
    "np.linspace(0.5, 1, num =rand_seconds) / np.sum(np.linspace(0.5, 1, num = rand_seconds))"
   ]
  },
  {
   "cell_type": "code",
   "execution_count": null,
   "metadata": {},
   "outputs": [],
   "source": [
    "start = datetime.datetime.now()"
   ]
  },
  {
   "cell_type": "code",
   "execution_count": null,
   "metadata": {},
   "outputs": [],
   "source": [
    "start.strftime('%b%d-%Y')"
   ]
  },
  {
   "cell_type": "code",
   "execution_count": null,
   "metadata": {},
   "outputs": [],
   "source": [
    "datetime.datetime.strptime('Sep19-2019', '%b%d-%Y')"
   ]
  },
  {
   "cell_type": "code",
   "execution_count": null,
   "metadata": {},
   "outputs": [],
   "source": []
  }
 ],
 "metadata": {
  "kernelspec": {
   "display_name": "python2",
   "language": "python",
   "name": "python2"
  },
  "language_info": {
   "codemirror_mode": {
    "name": "ipython",
    "version": 3
   },
   "file_extension": ".py",
   "mimetype": "text/x-python",
   "name": "python",
   "nbconvert_exporter": "python",
   "pygments_lexer": "ipython3",
   "version": "3.7.3"
  }
 },
 "nbformat": 4,
 "nbformat_minor": 4
}
