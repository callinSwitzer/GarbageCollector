{
 "cells": [
  {
   "cell_type": "code",
   "execution_count": null,
   "metadata": {
    "collapsed": true
   },
   "outputs": [],
   "source": [
    "#### Scrape wait times for Seattle DMV\n",
    "#### Save wait times to a .csv file\n",
    "### Callin Switzer\n",
    "### 12 Sept 2017\n",
    "## Python 3"
   ]
  },
  {
   "cell_type": "code",
   "execution_count": 1,
   "metadata": {
    "collapsed": true
   },
   "outputs": [],
   "source": [
    "from bs4 import BeautifulSoup\n",
    "\n",
    "import requests\n",
    "\n",
    "from datetime import datetime\n",
    "\n",
    "import os.path\n",
    "import os\n",
    "\n",
    "import re\n",
    "\n",
    "import time"
   ]
  },
  {
   "cell_type": "code",
   "execution_count": 2,
   "metadata": {
    "collapsed": true
   },
   "outputs": [],
   "source": [
    "\n",
    "url_dtw = \"https://fortress.wa.gov/dol/dolprod/dsdoffices/OfficeInfo.aspx?cid=583&oid=24\"\n",
    "url_shl = 'https://fortress.wa.gov/dol/dolprod/dsdoffices/OfficeInfo.aspx?cid=594&oid=22'\n",
    "\n",
    "def getWaitTimes():\n",
    "    for ii in [url_dtw, url_shl]:\n",
    "        page = requests.get(ii)\n",
    "\n",
    "        if page.status_code == 200: \n",
    "            print(\"page status OK\")\n",
    "\n",
    "        # get soup\n",
    "        soup = BeautifulSoup(page.content, 'html.parser')\n",
    "\n",
    "        # find tag with waittime\n",
    "        div = soup.find(id=\"ctl00_Main_waittime\")\n",
    "\n",
    "        ttime = list(div)[1]\n",
    "        tme = list(ttime)[0].replace(\" \", \"\").replace(\".\",\"\")\n",
    "\n",
    "        print(tme)\n",
    "\n",
    "        todaysDate = datetime.today()\n",
    "        datetime_object = datetime.strptime(str(todaysDate)[0:10] + \" \" +  tme, '%Y-%m-%d %I:%M%p')\n",
    "\n",
    "\n",
    "        waitTime1 = list(div)[6]   \n",
    "\n",
    "        waitTime = re.sub(\",\", \"_\", waitTime1)\n",
    "        my_list = waitTime1.split(\",\")\n",
    "\n",
    "        # get only numbers\n",
    "        hourMins = [re.sub(\"[^0-9]\", \"\", ff) for ff in my_list]\n",
    "\n",
    "        if len(hourMins) > 1:\n",
    "            mins = 60 * int(hourMins[0]) + int(hourMins[1])\n",
    "        else: \n",
    "            mins = int(hourMins[0])\n",
    "\n",
    "        print(mins)\n",
    "\n",
    "        fname = '/Users/cswitzer/Desktop/waitTime.csv'\n",
    "\n",
    "\n",
    "        if not os.path.isfile(fname):\n",
    "            with open(fname,'w') as file:\n",
    "                file.write(\"datetime_downtown\" + \",\" + \"waittime_downtown\" + \",\" +  \"mins_dtw\" + \",\" \n",
    "                           + \"dateTime_shoreline\" + \",\" + \"waitTime_shoreline\" + \",\" + \"mins_shl\")\n",
    "                file.write('\\n')\n",
    "\n",
    "\n",
    "        # write to .csv file\n",
    "        with open(fname,'a') as file:\n",
    "            file.write(str(datetime_object) + \",\" + str(waitTime) + \",\" + str(mins) + \",\")\n",
    "            print (str(datetime_object) + \",\" + str(waitTime))\n",
    "            if ii == url_shl:\n",
    "                file.write('\\n')\n"
   ]
  },
  {
   "cell_type": "code",
   "execution_count": 3,
   "metadata": {},
   "outputs": [
    {
     "name": "stdout",
     "output_type": "stream",
     "text": [
      "0\n",
      "page status OK\n",
      "10:51am\n",
      "53\n",
      "2017-09-12 10:51:00,53 minutes\n",
      "page status OK\n",
      "10:51am\n",
      "86\n",
      "2017-09-12 10:51:00,1 hour_ 26 minutes\n",
      "1\n",
      "page status OK\n",
      "11:06am\n",
      "54\n",
      "2017-09-12 11:06:00,54 minutes\n",
      "page status OK\n",
      "11:06am\n",
      "93\n",
      "2017-09-12 11:06:00,1 hour_ 33 minutes\n",
      "2\n",
      "page status OK\n",
      "11:21am\n",
      "48\n",
      "2017-09-12 11:21:00,48 minutes\n",
      "page status OK\n",
      "11:21am\n",
      "95\n",
      "2017-09-12 11:21:00,1 hour_ 35 minutes\n",
      "3\n",
      "page status OK\n",
      "11:36am\n",
      "37\n",
      "2017-09-12 11:36:00,37 minutes\n",
      "page status OK\n",
      "11:36am\n",
      "102\n",
      "2017-09-12 11:36:00,1 hour_ 42 minutes\n",
      "4\n",
      "page status OK\n",
      "11:51am\n",
      "34\n",
      "2017-09-12 11:51:00,34 minutes\n",
      "page status OK\n",
      "11:51am\n",
      "114\n",
      "2017-09-12 11:51:00,1 hour_ 54 minutes\n",
      "5\n",
      "page status OK\n",
      "12:06pm\n",
      "40\n",
      "2017-09-12 12:06:00,40 minutes\n",
      "page status OK\n",
      "12:06pm\n",
      "113\n",
      "2017-09-12 12:06:00,1 hour_ 53 minutes\n",
      "6\n",
      "page status OK\n",
      "12:21pm\n",
      "49\n",
      "2017-09-12 12:21:00,49 minutes\n",
      "page status OK\n",
      "12:21pm\n",
      "121\n",
      "2017-09-12 12:21:00,2 hours_ 1 minute\n",
      "7\n",
      "page status OK\n",
      "12:36pm\n",
      "59\n",
      "2017-09-12 12:36:00,59 minutes\n",
      "page status OK\n",
      "12:36pm\n",
      "120\n",
      "2017-09-12 12:36:00,2 hours_ 0 minutes\n",
      "8\n",
      "page status OK\n",
      "12:51pm\n",
      "49\n",
      "2017-09-12 12:51:00,49 minutes\n",
      "page status OK\n",
      "12:51pm\n",
      "118\n",
      "2017-09-12 12:51:00,1 hour_ 58 minutes\n",
      "9\n",
      "page status OK\n",
      "1:06pm\n",
      "52\n",
      "2017-09-12 13:06:00,52 minutes\n",
      "page status OK\n",
      "1:06pm\n",
      "113\n",
      "2017-09-12 13:06:00,1 hour_ 53 minutes\n"
     ]
    },
    {
     "data": {
      "text/plain": [
       "0"
      ]
     },
     "execution_count": 3,
     "metadata": {},
     "output_type": "execute_result"
    }
   ],
   "source": [
    "for kk in range (10): \n",
    "    print(kk) \n",
    "    getWaitTimes()\n",
    "    time.sleep(900)\n",
    "    \n",
    "os.system('say \"Times up times up hurray keep it shred and of crunk\"')"
   ]
  },
  {
   "cell_type": "code",
   "execution_count": 5,
   "metadata": {},
   "outputs": [
    {
     "name": "stdout",
     "output_type": "stream",
     "text": [
      "0\n",
      "page status OK\n",
      "3:52pm\n",
      "35\n",
      "2017-09-12 15:52:00,35 minutes\n",
      "page status OK\n",
      "3:52pm\n",
      "111\n",
      "2017-09-12 15:52:00,1 hour_ 51 minutes\n",
      "1\n",
      "page status OK\n",
      "4:07pm\n",
      "20\n",
      "2017-09-12 16:07:00,20 minutes\n",
      "page status OK\n",
      "4:07pm\n",
      "117\n",
      "2017-09-12 16:07:00,1 hour_ 57 minutes\n",
      "2\n",
      "page status OK\n",
      "4:22pm\n",
      "19\n",
      "2017-09-12 16:22:00,19 minutes\n",
      "page status OK\n",
      "4:22pm\n",
      "104\n",
      "2017-09-12 16:22:00,1 hour_ 44 minutes\n",
      "3\n",
      "page status OK\n",
      "4:37pm\n",
      "12\n",
      "2017-09-12 16:37:00,12 minutes\n",
      "page status OK\n",
      "4:37pm\n",
      "99\n",
      "2017-09-12 16:37:00,1 hour_ 39 minutes\n",
      "4\n",
      "page status OK\n",
      "4:52pm\n",
      "0\n",
      "2017-09-12 16:52:00,0 minutes\n",
      "page status OK\n",
      "4:52pm\n",
      "79\n",
      "2017-09-12 16:52:00,1 hour_ 19 minutes\n"
     ]
    },
    {
     "ename": "KeyboardInterrupt",
     "evalue": "",
     "output_type": "error",
     "traceback": [
      "\u001b[0;31m---------------------------------------------------------------------------\u001b[0m",
      "\u001b[0;31mKeyboardInterrupt\u001b[0m                         Traceback (most recent call last)",
      "\u001b[0;32m<ipython-input-5-41b9c15a9175>\u001b[0m in \u001b[0;36m<module>\u001b[0;34m()\u001b[0m\n\u001b[1;32m      2\u001b[0m     \u001b[0mprint\u001b[0m\u001b[0;34m(\u001b[0m\u001b[0mkk\u001b[0m\u001b[0;34m)\u001b[0m\u001b[0;34m\u001b[0m\u001b[0m\n\u001b[1;32m      3\u001b[0m     \u001b[0mgetWaitTimes\u001b[0m\u001b[0;34m(\u001b[0m\u001b[0;34m)\u001b[0m\u001b[0;34m\u001b[0m\u001b[0m\n\u001b[0;32m----> 4\u001b[0;31m     \u001b[0mtime\u001b[0m\u001b[0;34m.\u001b[0m\u001b[0msleep\u001b[0m\u001b[0;34m(\u001b[0m\u001b[0;36m900\u001b[0m\u001b[0;34m)\u001b[0m\u001b[0;34m\u001b[0m\u001b[0m\n\u001b[0m\u001b[1;32m      5\u001b[0m \u001b[0;34m\u001b[0m\u001b[0m\n\u001b[1;32m      6\u001b[0m \u001b[0mos\u001b[0m\u001b[0;34m.\u001b[0m\u001b[0msystem\u001b[0m\u001b[0;34m(\u001b[0m\u001b[0;34m'say \"Times up times up hurray keep it shred and of crunk\"'\u001b[0m\u001b[0;34m)\u001b[0m\u001b[0;34m\u001b[0m\u001b[0m\n",
      "\u001b[0;31mKeyboardInterrupt\u001b[0m: "
     ]
    }
   ],
   "source": [
    "for kk in range (10): \n",
    "    print(kk) \n",
    "    getWaitTimes()\n",
    "    time.sleep(900)\n",
    "    \n",
    "os.system('say \"Times up times up hurray keep it shred and of crunk\"')"
   ]
  },
  {
   "cell_type": "code",
   "execution_count": 6,
   "metadata": {},
   "outputs": [
    {
     "name": "stdout",
     "output_type": "stream",
     "text": [
      "page status OK\n",
      "5:02pm\n",
      "0\n",
      "2017-09-12 17:02:00,0 minutes\n",
      "page status OK\n",
      "5:02pm\n",
      "66\n",
      "2017-09-12 17:02:00,1 hour_ 6 minutes\n"
     ]
    }
   ],
   "source": [
    "getWaitTimes()"
   ]
  },
  {
   "cell_type": "code",
   "execution_count": 1,
   "metadata": {
    "collapsed": true
   },
   "outputs": [],
   "source": [
    "# read in file and plot wait times\n",
    "\n",
    "import pandas as pd"
   ]
  },
  {
   "cell_type": "code",
   "execution_count": 2,
   "metadata": {
    "collapsed": true
   },
   "outputs": [],
   "source": [
    "wt = pd.read_csv('/Users/cswitzer/Desktop/waitTime.csv')"
   ]
  },
  {
   "cell_type": "code",
   "execution_count": 4,
   "metadata": {},
   "outputs": [
    {
     "data": {
      "text/html": [
       "<div>\n",
       "<style>\n",
       "    .dataframe thead tr:only-child th {\n",
       "        text-align: right;\n",
       "    }\n",
       "\n",
       "    .dataframe thead th {\n",
       "        text-align: left;\n",
       "    }\n",
       "\n",
       "    .dataframe tbody tr th {\n",
       "        vertical-align: top;\n",
       "    }\n",
       "</style>\n",
       "<table border=\"1\" class=\"dataframe\">\n",
       "  <thead>\n",
       "    <tr style=\"text-align: right;\">\n",
       "      <th></th>\n",
       "      <th>dateTime_dtn</th>\n",
       "      <th>waitTime_dtn</th>\n",
       "      <th>mins_dtn</th>\n",
       "      <th>datetime_shl</th>\n",
       "      <th>waittime_shl</th>\n",
       "      <th>mins_shl</th>\n",
       "      <th>Unnamed: 6</th>\n",
       "      <th>Unnamed: 7</th>\n",
       "      <th>Unnamed: 8</th>\n",
       "    </tr>\n",
       "  </thead>\n",
       "  <tbody>\n",
       "    <tr>\n",
       "      <th>0</th>\n",
       "      <td>9/12/17 10:42</td>\n",
       "      <td>48 minutes</td>\n",
       "      <td>48</td>\n",
       "      <td>9/12/17 10:42</td>\n",
       "      <td>1 hour_ 24 minutes</td>\n",
       "      <td>84</td>\n",
       "      <td>NaN</td>\n",
       "      <td>NaN</td>\n",
       "      <td>NaN</td>\n",
       "    </tr>\n",
       "    <tr>\n",
       "      <th>1</th>\n",
       "      <td>9/12/17 10:43</td>\n",
       "      <td>48 minutes</td>\n",
       "      <td>48</td>\n",
       "      <td>9/12/17 10:43</td>\n",
       "      <td>1 hour_ 24 minutes</td>\n",
       "      <td>84</td>\n",
       "      <td>NaN</td>\n",
       "      <td>NaN</td>\n",
       "      <td>NaN</td>\n",
       "    </tr>\n",
       "    <tr>\n",
       "      <th>2</th>\n",
       "      <td>9/12/17 10:46</td>\n",
       "      <td>50 minutes</td>\n",
       "      <td>50</td>\n",
       "      <td>9/12/17 10:46</td>\n",
       "      <td>1 hour_ 25 minutes</td>\n",
       "      <td>85</td>\n",
       "      <td>NaN</td>\n",
       "      <td>NaN</td>\n",
       "      <td>NaN</td>\n",
       "    </tr>\n",
       "    <tr>\n",
       "      <th>3</th>\n",
       "      <td>9/12/17 10:47</td>\n",
       "      <td>51 minutes</td>\n",
       "      <td>51</td>\n",
       "      <td>9/12/17 10:47</td>\n",
       "      <td>1 hour_ 22 minutes</td>\n",
       "      <td>82</td>\n",
       "      <td>NaN</td>\n",
       "      <td>NaN</td>\n",
       "      <td>NaN</td>\n",
       "    </tr>\n",
       "    <tr>\n",
       "      <th>4</th>\n",
       "      <td>9/12/17 10:48</td>\n",
       "      <td>52 minutes</td>\n",
       "      <td>52</td>\n",
       "      <td>9/12/17 10:48</td>\n",
       "      <td>1 hour_ 24 minutes</td>\n",
       "      <td>84</td>\n",
       "      <td>NaN</td>\n",
       "      <td>NaN</td>\n",
       "      <td>NaN</td>\n",
       "    </tr>\n",
       "  </tbody>\n",
       "</table>\n",
       "</div>"
      ],
      "text/plain": [
       "    dateTime_dtn waitTime_dtn  mins_dtn   datetime_shl        waittime_shl  \\\n",
       "0  9/12/17 10:42   48 minutes        48  9/12/17 10:42  1 hour_ 24 minutes   \n",
       "1  9/12/17 10:43   48 minutes        48  9/12/17 10:43  1 hour_ 24 minutes   \n",
       "2  9/12/17 10:46   50 minutes        50  9/12/17 10:46  1 hour_ 25 minutes   \n",
       "3  9/12/17 10:47   51 minutes        51  9/12/17 10:47  1 hour_ 22 minutes   \n",
       "4  9/12/17 10:48   52 minutes        52  9/12/17 10:48  1 hour_ 24 minutes   \n",
       "\n",
       "   mins_shl  Unnamed: 6  Unnamed: 7  Unnamed: 8  \n",
       "0        84         NaN         NaN         NaN  \n",
       "1        84         NaN         NaN         NaN  \n",
       "2        85         NaN         NaN         NaN  \n",
       "3        82         NaN         NaN         NaN  \n",
       "4        84         NaN         NaN         NaN  "
      ]
     },
     "execution_count": 4,
     "metadata": {},
     "output_type": "execute_result"
    }
   ],
   "source": [
    "wt.head()"
   ]
  },
  {
   "cell_type": "code",
   "execution_count": 13,
   "metadata": {
    "collapsed": true
   },
   "outputs": [],
   "source": [
    "import matplotlib.pyplot as plt\n",
    "%matplotlib inline\n",
    "\n",
    "from datetime import datetime\n"
   ]
  },
  {
   "cell_type": "code",
   "execution_count": 17,
   "metadata": {},
   "outputs": [
    {
     "data": {
      "text/plain": [
       "'9/12/17 10:43'"
      ]
     },
     "execution_count": 17,
     "metadata": {},
     "output_type": "execute_result"
    }
   ],
   "source": [
    "wt.dateTime_dtn[1]"
   ]
  },
  {
   "cell_type": "code",
   "execution_count": 26,
   "metadata": {},
   "outputs": [],
   "source": [
    "tms_dtn = [datetime.strptime(xx, \"%m/%d/%y %H:%M\") for xx in wt.dateTime_dtn]\n",
    "tms_shl = [datetime.strptime(xx, \"%m/%d/%y %H:%M\") for xx in wt.datetime_shl]"
   ]
  },
  {
   "cell_type": "code",
   "execution_count": 35,
   "metadata": {},
   "outputs": [
    {
     "data": {
      "image/png": "[encoded data removed]",
      "text/plain": [
       "<matplotlib.figure.Figure at 0x118bdd780>"
      ]
     },
     "metadata": {},
     "output_type": "display_data"
    },
    {
     "data": {
      "image/png": "[encoded data removed]",
      "text/plain": [
       "<matplotlib.figure.Figure at 0x118d0fda0>"
      ]
     },
     "metadata": {},
     "output_type": "display_data"
    }
   ],
   "source": [
    "plt.stem(tms_dtn, wt.mins_dtn)\n",
    "plt.gcf().autofmt_xdate()\n",
    "plt.ylim([0, 130])\n",
    "plt.show()\n",
    "\n",
    "plt.stem(tms_dtn, wt.mins_shl, \"r\")\n",
    "plt.gcf().autofmt_xdate()\n",
    "plt.ylim([0, 130])\n",
    "plt.show()"
   ]
  },
  {
   "cell_type": "code",
   "execution_count": null,
   "metadata": {
    "collapsed": true
   },
   "outputs": [],
   "source": []
  }
 ],
 "metadata": {
  "kernelspec": {
   "display_name": "Python 3",
   "language": "python",
   "name": "python3"
  },
  "language_info": {
   "codemirror_mode": {
    "name": "ipython",
    "version": 3
   },
   "file_extension": ".py",
   "mimetype": "text/x-python",
   "name": "python",
   "nbconvert_exporter": "python",
   "pygments_lexer": "ipython3",
   "version": "3.6.1"
  }
 },
 "nbformat": 4,
 "nbformat_minor": 2
}
