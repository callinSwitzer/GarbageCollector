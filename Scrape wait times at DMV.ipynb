{
 "cells": [
  {
   "cell_type": "code",
   "execution_count": null,
   "metadata": {
    "collapsed": true
   },
   "outputs": [],
   "source": [
    "#### Scrape wait times for Seattle DMV\n",
    "#### Save wait times to a .csv file\n",
    "### Callin Switzer\n",
    "### 12 Sept 2017\n",
    "## Python 3"
   ]
  },
  {
   "cell_type": "code",
   "execution_count": 7,
   "metadata": {
    "collapsed": true
   },
   "outputs": [],
   "source": [
    "from bs4 import BeautifulSoup\n",
    "\n",
    "import requests\n",
    "\n",
    "from datetime import datetime\n",
    "\n",
    "import os.path\n",
    "import os\n",
    "\n",
    "import re\n",
    "\n",
    "import time"
   ]
  },
  {
   "cell_type": "code",
   "execution_count": 8,
   "metadata": {
    "collapsed": true
   },
   "outputs": [],
   "source": [
    "\n",
    "url_dtw = \"https://fortress.wa.gov/dol/dolprod/dsdoffices/OfficeInfo.aspx?cid=583&oid=24\"\n",
    "url_shl = 'https://fortress.wa.gov/dol/dolprod/dsdoffices/OfficeInfo.aspx?cid=594&oid=22'\n",
    "\n",
    "def getWaitTimes():\n",
    "    for ii in [url_dtw, url_shl]:\n",
    "        page = requests.get(ii)\n",
    "\n",
    "        if page.status_code == 200: \n",
    "            print(\"page status OK\")\n",
    "\n",
    "        # get soup\n",
    "        soup = BeautifulSoup(page.content, 'html.parser')\n",
    "\n",
    "        # find tag with waittime\n",
    "        div = soup.find(id=\"ctl00_Main_waittime\")\n",
    "\n",
    "        ttime = list(div)[1]\n",
    "        tme = list(ttime)[0].replace(\" \", \"\").replace(\".\",\"\")\n",
    "\n",
    "        print(tme)\n",
    "\n",
    "        todaysDate = datetime.today()\n",
    "        datetime_object = datetime.strptime(str(todaysDate)[0:10] + \" \" +  tme, '%Y-%m-%d %I:%M%p')\n",
    "\n",
    "\n",
    "        waitTime1 = list(div)[6]   \n",
    "\n",
    "        waitTime = re.sub(\",\", \"_\", waitTime1)\n",
    "        my_list = waitTime1.split(\",\")\n",
    "\n",
    "        # get only numbers\n",
    "        hourMins = [re.sub(\"[^0-9]\", \"\", ff) for ff in my_list]\n",
    "\n",
    "        if len(hourMins) > 1:\n",
    "            mins = 60 * int(hourMins[0]) + int(hourMins[1])\n",
    "        else: \n",
    "            mins = int(hourMins[0])\n",
    "\n",
    "        print(mins)\n",
    "\n",
    "        fname = '/Users/cswitzer/Desktop/waitTime.csv'\n",
    "\n",
    "\n",
    "        if not os.path.isfile(fname):\n",
    "            with open(fname,'w') as file:\n",
    "                file.write(\"datetime_downtown\" + \",\" + \"waittime_downtown\" + \",\" +  \"mins_dtw\" + \",\" \n",
    "                           + \"dateTime_shoreline\" + \",\" + \"waitTime_shoreline\" + \",\" + \"mins_shl\")\n",
    "                file.write('\\n')\n",
    "\n",
    "\n",
    "        # write to .csv file\n",
    "        with open(fname,'a') as file:\n",
    "            file.write(str(datetime_object) + \",\" + str(waitTime) + \",\" + str(mins) + \",\")\n",
    "            print (str(datetime_object) + \",\" + str(waitTime))\n",
    "            if ii == url_shl:\n",
    "                file.write('\\n')\n"
   ]
  },
  {
   "cell_type": "code",
   "execution_count": 30,
   "metadata": {},
   "outputs": [
    {
     "name": "stdout",
     "output_type": "stream",
     "text": [
      "0\n",
      "page status OK\n",
      "1:35pm\n",
      "61\n",
      "2017-09-15 13:35:00,1 hour_ 1 minute\n",
      "page status OK\n",
      "1:35pm\n",
      "51\n",
      "2017-09-15 13:35:00,51 minutes\n",
      "1\n",
      "page status OK\n",
      "1:50pm\n",
      "64\n",
      "2017-09-15 13:50:00,1 hour_ 4 minutes\n",
      "page status OK\n",
      "1:50pm\n",
      "36\n",
      "2017-09-15 13:50:00,36 minutes\n",
      "2\n",
      "page status OK\n",
      "2:05pm\n",
      "60\n",
      "2017-09-15 14:05:00,1 hour_ 0 minutes\n",
      "page status OK\n",
      "2:05pm\n",
      "29\n",
      "2017-09-15 14:05:00,29 minutes\n",
      "3\n",
      "page status OK\n",
      "2:20pm\n",
      "45\n",
      "2017-09-15 14:20:00,45 minutes\n",
      "page status OK\n",
      "2:20pm\n",
      "28\n",
      "2017-09-15 14:20:00,28 minutes\n",
      "4\n",
      "page status OK\n",
      "2:35pm\n",
      "48\n",
      "2017-09-15 14:35:00,48 minutes\n",
      "page status OK\n",
      "2:35pm\n",
      "27\n",
      "2017-09-15 14:35:00,27 minutes\n",
      "5\n",
      "page status OK\n",
      "2:50pm\n",
      "58\n",
      "2017-09-15 14:50:00,58 minutes\n",
      "page status OK\n",
      "2:50pm\n",
      "26\n",
      "2017-09-15 14:50:00,26 minutes\n",
      "6\n",
      "page status OK\n",
      "3:05pm\n",
      "64\n",
      "2017-09-15 15:05:00,1 hour_ 4 minutes\n",
      "page status OK\n",
      "3:05pm\n",
      "16\n",
      "2017-09-15 15:05:00,16 minutes\n",
      "7\n",
      "page status OK\n",
      "3:20pm\n",
      "60\n",
      "2017-09-15 15:20:00,1 hour_ 0 minutes\n",
      "page status OK\n",
      "3:20pm\n",
      "16\n",
      "2017-09-15 15:20:00,16 minutes\n",
      "8\n",
      "page status OK\n",
      "3:35pm\n",
      "48\n",
      "2017-09-15 15:35:00,48 minutes\n",
      "page status OK\n",
      "3:35pm\n",
      "17\n",
      "2017-09-15 15:35:00,17 minutes\n",
      "9\n",
      "page status OK\n",
      "3:50pm\n",
      "24\n",
      "2017-09-15 15:50:00,24 minutes\n",
      "page status OK\n",
      "3:50pm\n",
      "25\n",
      "2017-09-15 15:50:00,25 minutes\n"
     ]
    },
    {
     "data": {
      "text/plain": [
       "0"
      ]
     },
     "execution_count": 30,
     "metadata": {},
     "output_type": "execute_result"
    }
   ],
   "source": [
    "for kk in range (10): \n",
    "    print(kk) \n",
    "    getWaitTimes()\n",
    "    time.sleep(900)\n",
    "    \n",
    "os.system('say \"Times up times up hurray keep it shred and of crunk\"')"
   ]
  },
  {
   "cell_type": "code",
   "execution_count": null,
   "metadata": {
    "collapsed": true
   },
   "outputs": [],
   "source": [
    "# getWaitTimes()"
   ]
  },
  {
   "cell_type": "code",
   "execution_count": 31,
   "metadata": {
    "collapsed": true
   },
   "outputs": [],
   "source": [
    "# read in file and plot wait times\n",
    "\n",
    "import pandas as pd"
   ]
  },
  {
   "cell_type": "code",
   "execution_count": 32,
   "metadata": {
    "collapsed": true
   },
   "outputs": [],
   "source": [
    "wt = pd.read_csv('/Users/cswitzer/Desktop/waitTime.csv')"
   ]
  },
  {
   "cell_type": "code",
   "execution_count": 33,
   "metadata": {},
   "outputs": [
    {
     "data": {
      "text/html": [
       "<div>\n",
       "<style>\n",
       "    .dataframe thead tr:only-child th {\n",
       "        text-align: right;\n",
       "    }\n",
       "\n",
       "    .dataframe thead th {\n",
       "        text-align: left;\n",
       "    }\n",
       "\n",
       "    .dataframe tbody tr th {\n",
       "        vertical-align: top;\n",
       "    }\n",
       "</style>\n",
       "<table border=\"1\" class=\"dataframe\">\n",
       "  <thead>\n",
       "    <tr style=\"text-align: right;\">\n",
       "      <th></th>\n",
       "      <th>dateTime_dtn</th>\n",
       "      <th>waitTime_dtn</th>\n",
       "      <th>mins_dtn</th>\n",
       "      <th>datetime_shl</th>\n",
       "      <th>waittime_shl</th>\n",
       "      <th>mins_shl</th>\n",
       "    </tr>\n",
       "  </thead>\n",
       "  <tbody>\n",
       "    <tr>\n",
       "      <th>0</th>\n",
       "      <td>9/12/17 10:42</td>\n",
       "      <td>48 minutes</td>\n",
       "      <td>48</td>\n",
       "      <td>9/12/17 10:42</td>\n",
       "      <td>1 hour_ 24 minutes</td>\n",
       "      <td>84</td>\n",
       "    </tr>\n",
       "    <tr>\n",
       "      <th>1</th>\n",
       "      <td>9/12/17 10:43</td>\n",
       "      <td>48 minutes</td>\n",
       "      <td>48</td>\n",
       "      <td>9/12/17 10:43</td>\n",
       "      <td>1 hour_ 24 minutes</td>\n",
       "      <td>84</td>\n",
       "    </tr>\n",
       "    <tr>\n",
       "      <th>2</th>\n",
       "      <td>9/12/17 10:46</td>\n",
       "      <td>50 minutes</td>\n",
       "      <td>50</td>\n",
       "      <td>9/12/17 10:46</td>\n",
       "      <td>1 hour_ 25 minutes</td>\n",
       "      <td>85</td>\n",
       "    </tr>\n",
       "    <tr>\n",
       "      <th>3</th>\n",
       "      <td>9/12/17 10:47</td>\n",
       "      <td>51 minutes</td>\n",
       "      <td>51</td>\n",
       "      <td>9/12/17 10:47</td>\n",
       "      <td>1 hour_ 22 minutes</td>\n",
       "      <td>82</td>\n",
       "    </tr>\n",
       "    <tr>\n",
       "      <th>4</th>\n",
       "      <td>9/12/17 10:48</td>\n",
       "      <td>52 minutes</td>\n",
       "      <td>52</td>\n",
       "      <td>9/12/17 10:48</td>\n",
       "      <td>1 hour_ 24 minutes</td>\n",
       "      <td>84</td>\n",
       "    </tr>\n",
       "  </tbody>\n",
       "</table>\n",
       "</div>"
      ],
      "text/plain": [
       "    dateTime_dtn waitTime_dtn  mins_dtn   datetime_shl        waittime_shl  \\\n",
       "0  9/12/17 10:42   48 minutes        48  9/12/17 10:42  1 hour_ 24 minutes   \n",
       "1  9/12/17 10:43   48 minutes        48  9/12/17 10:43  1 hour_ 24 minutes   \n",
       "2  9/12/17 10:46   50 minutes        50  9/12/17 10:46  1 hour_ 25 minutes   \n",
       "3  9/12/17 10:47   51 minutes        51  9/12/17 10:47  1 hour_ 22 minutes   \n",
       "4  9/12/17 10:48   52 minutes        52  9/12/17 10:48  1 hour_ 24 minutes   \n",
       "\n",
       "   mins_shl  \n",
       "0        84  \n",
       "1        84  \n",
       "2        85  \n",
       "3        82  \n",
       "4        84  "
      ]
     },
     "execution_count": 33,
     "metadata": {},
     "output_type": "execute_result"
    }
   ],
   "source": [
    "wt.head()"
   ]
  },
  {
   "cell_type": "code",
   "execution_count": 34,
   "metadata": {
    "collapsed": true
   },
   "outputs": [],
   "source": [
    "import matplotlib.pyplot as plt\n",
    "%matplotlib inline\n",
    "\n",
    "from datetime import datetime\n"
   ]
  },
  {
   "cell_type": "code",
   "execution_count": 35,
   "metadata": {
    "collapsed": true
   },
   "outputs": [],
   "source": [
    "tms_dtn = [datetime.strptime(xx, \"%m/%d/%y %H:%M\") for xx in wt.dateTime_dtn]\n",
    "tms_shl = [datetime.strptime(xx, \"%m/%d/%y %H:%M\") for xx in wt.datetime_shl]"
   ]
  },
  {
   "cell_type": "code",
   "execution_count": 36,
   "metadata": {},
   "outputs": [
    {
     "data": {
      "image/png": "[encoded data removed]",
      "text/plain": [
       "<matplotlib.figure.Figure at 0x113457e80>"
      ]
     },
     "metadata": {},
     "output_type": "display_data"
    },
    {
     "data": {
      "image/png": "[encoded data removed]",
      "text/plain": [
       "<matplotlib.figure.Figure at 0x115d3ad68>"
      ]
     },
     "metadata": {},
     "output_type": "display_data"
    }
   ],
   "source": [
    "plt.stem(tms_dtn, wt.mins_dtn)\n",
    "plt.gcf().autofmt_xdate()\n",
    "plt.ylim([0, 130])\n",
    "plt.title(\"Downtown\")\n",
    "plt.show()\n",
    "\n",
    "plt.stem(tms_dtn, wt.mins_shl, \"r\")\n",
    "plt.gcf().autofmt_xdate()\n",
    "plt.ylim([0, 130])\n",
    "plt.title(\"Shoreline\")\n",
    "plt.show()"
   ]
  },
  {
   "cell_type": "code",
   "execution_count": null,
   "metadata": {
    "collapsed": true
   },
   "outputs": [],
   "source": []
  }
 ],
 "metadata": {
  "kernelspec": {
   "display_name": "Python 3",
   "language": "python",
   "name": "python3"
  },
  "language_info": {
   "codemirror_mode": {
    "name": "ipython",
    "version": 3
   },
   "file_extension": ".py",
   "mimetype": "text/x-python",
   "name": "python",
   "nbconvert_exporter": "python",
   "pygments_lexer": "ipython3",
   "version": "3.6.1"
  }
 },
 "nbformat": 4,
 "nbformat_minor": 2
}
