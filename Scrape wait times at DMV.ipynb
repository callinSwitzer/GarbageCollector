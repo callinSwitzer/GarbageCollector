{
 "cells": [
  {
   "cell_type": "code",
   "execution_count": null,
   "metadata": {
    "collapsed": true
   },
   "outputs": [],
   "source": [
    "#### Scrape wait times for Seattle DMV\n",
    "#### Save wait times to a .csv file\n",
    "### Callin Switzer\n",
    "### 12 Sept 2017\n",
    "## Python 3"
   ]
  },
  {
   "cell_type": "code",
   "execution_count": 7,
   "metadata": {
    "collapsed": true
   },
   "outputs": [],
   "source": [
    "from bs4 import BeautifulSoup\n",
    "\n",
    "import requests\n",
    "\n",
    "from datetime import datetime\n",
    "\n",
    "import os.path\n",
    "import os\n",
    "\n",
    "import re\n",
    "\n",
    "import time"
   ]
  },
  {
   "cell_type": "code",
   "execution_count": 8,
   "metadata": {
    "collapsed": true
   },
   "outputs": [],
   "source": [
    "\n",
    "url_dtw = \"https://fortress.wa.gov/dol/dolprod/dsdoffices/OfficeInfo.aspx?cid=583&oid=24\"\n",
    "url_shl = 'https://fortress.wa.gov/dol/dolprod/dsdoffices/OfficeInfo.aspx?cid=594&oid=22'\n",
    "\n",
    "def getWaitTimes():\n",
    "    for ii in [url_dtw, url_shl]:\n",
    "        page = requests.get(ii)\n",
    "\n",
    "        if page.status_code == 200: \n",
    "            print(\"page status OK\")\n",
    "\n",
    "        # get soup\n",
    "        soup = BeautifulSoup(page.content, 'html.parser')\n",
    "\n",
    "        # find tag with waittime\n",
    "        div = soup.find(id=\"ctl00_Main_waittime\")\n",
    "\n",
    "        ttime = list(div)[1]\n",
    "        tme = list(ttime)[0].replace(\" \", \"\").replace(\".\",\"\")\n",
    "\n",
    "        print(tme)\n",
    "\n",
    "        todaysDate = datetime.today()\n",
    "        datetime_object = datetime.strptime(str(todaysDate)[0:10] + \" \" +  tme, '%Y-%m-%d %I:%M%p')\n",
    "\n",
    "\n",
    "        waitTime1 = list(div)[6]   \n",
    "\n",
    "        waitTime = re.sub(\",\", \"_\", waitTime1)\n",
    "        my_list = waitTime1.split(\",\")\n",
    "\n",
    "        # get only numbers\n",
    "        hourMins = [re.sub(\"[^0-9]\", \"\", ff) for ff in my_list]\n",
    "\n",
    "        if len(hourMins) > 1:\n",
    "            mins = 60 * int(hourMins[0]) + int(hourMins[1])\n",
    "        else: \n",
    "            mins = int(hourMins[0])\n",
    "\n",
    "        print(mins)\n",
    "\n",
    "        fname = '/Users/cswitzer/Desktop/waitTime.csv'\n",
    "\n",
    "\n",
    "        if not os.path.isfile(fname):\n",
    "            with open(fname,'w') as file:\n",
    "                file.write(\"datetime_downtown\" + \",\" + \"waittime_downtown\" + \",\" +  \"mins_dtw\" + \",\" \n",
    "                           + \"dateTime_shoreline\" + \",\" + \"waitTime_shoreline\" + \",\" + \"mins_shl\")\n",
    "                file.write('\\n')\n",
    "\n",
    "\n",
    "        # write to .csv file\n",
    "        with open(fname,'a') as file:\n",
    "            file.write(str(datetime_object) + \",\" + str(waitTime) + \",\" + str(mins) + \",\")\n",
    "            print (str(datetime_object) + \",\" + str(waitTime))\n",
    "            if ii == url_shl:\n",
    "                file.write('\\n')\n"
   ]
  },
  {
   "cell_type": "code",
   "execution_count": 15,
   "metadata": {},
   "outputs": [
    {
     "name": "stdout",
     "output_type": "stream",
     "text": [
      "0\n",
      "page status OK\n",
      "3:17pm\n",
      "58\n",
      "2017-09-14 15:17:00,58 minutes\n",
      "page status OK\n",
      "3:17pm\n",
      "21\n",
      "2017-09-14 15:17:00,21 minutes\n",
      "1\n",
      "page status OK\n",
      "3:32pm\n",
      "42\n",
      "2017-09-14 15:32:00,42 minutes\n",
      "page status OK\n",
      "3:32pm\n",
      "22\n",
      "2017-09-14 15:32:00,22 minutes\n",
      "2\n",
      "page status OK\n",
      "3:47pm\n",
      "30\n",
      "2017-09-14 15:47:00,30 minutes\n",
      "page status OK\n",
      "3:47pm\n",
      "5\n",
      "2017-09-14 15:47:00,5 minutes\n",
      "3\n",
      "page status OK\n",
      "4:02pm\n",
      "9\n",
      "2017-09-14 16:02:00,9 minutes\n",
      "page status OK\n",
      "4:02pm\n",
      "1\n",
      "2017-09-14 16:02:00,1 minute\n",
      "4\n",
      "page status OK\n",
      "4:17pm\n",
      "0\n",
      "2017-09-14 16:17:00,0 minutes\n",
      "page status OK\n",
      "4:17pm\n",
      "2\n",
      "2017-09-14 16:17:00,2 minutes\n",
      "5\n",
      "page status OK\n",
      "4:32pm\n",
      "0\n",
      "2017-09-14 16:32:00,0 minutes\n",
      "page status OK\n",
      "4:32pm\n",
      "8\n",
      "2017-09-14 16:32:00,8 minutes\n",
      "6\n",
      "page status OK\n",
      "4:47pm\n",
      "0\n",
      "2017-09-14 16:47:00,0 minutes\n",
      "page status OK\n",
      "4:47pm\n",
      "0\n",
      "2017-09-14 16:47:00,0 minutes\n",
      "7\n",
      "page status OK\n",
      "5:02pm\n",
      "0\n",
      "2017-09-14 17:02:00,0 minutes\n",
      "page status OK\n",
      "5:02pm\n",
      "0\n",
      "2017-09-14 17:02:00,0 minutes\n",
      "8\n",
      "page status OK\n",
      "5:17pm\n",
      "0\n",
      "2017-09-14 17:17:00,0 minutes\n",
      "page status OK\n",
      "5:17pm\n",
      "0\n",
      "2017-09-14 17:17:00,0 minutes\n",
      "9\n",
      "page status OK\n",
      "5:32pm\n",
      "0\n",
      "2017-09-14 17:32:00,0 minutes\n",
      "page status OK\n",
      "5:32pm\n",
      "0\n",
      "2017-09-14 17:32:00,0 minutes\n"
     ]
    },
    {
     "data": {
      "text/plain": [
       "0"
      ]
     },
     "execution_count": 15,
     "metadata": {},
     "output_type": "execute_result"
    }
   ],
   "source": [
    "for kk in range (10): \n",
    "    print(kk) \n",
    "    getWaitTimes()\n",
    "    time.sleep(900)\n",
    "    \n",
    "os.system('say \"Times up times up hurray keep it shred and of crunk\"')"
   ]
  },
  {
   "cell_type": "code",
   "execution_count": null,
   "metadata": {
    "collapsed": true
   },
   "outputs": [],
   "source": [
    "# getWaitTimes()"
   ]
  },
  {
   "cell_type": "code",
   "execution_count": 16,
   "metadata": {
    "collapsed": true
   },
   "outputs": [],
   "source": [
    "# read in file and plot wait times\n",
    "\n",
    "import pandas as pd"
   ]
  },
  {
   "cell_type": "code",
   "execution_count": 17,
   "metadata": {
    "collapsed": true
   },
   "outputs": [],
   "source": [
    "wt = pd.read_csv('/Users/cswitzer/Desktop/waitTime.csv')"
   ]
  },
  {
   "cell_type": "code",
   "execution_count": 18,
   "metadata": {},
   "outputs": [
    {
     "data": {
      "text/html": [
       "<div>\n",
       "<style>\n",
       "    .dataframe thead tr:only-child th {\n",
       "        text-align: right;\n",
       "    }\n",
       "\n",
       "    .dataframe thead th {\n",
       "        text-align: left;\n",
       "    }\n",
       "\n",
       "    .dataframe tbody tr th {\n",
       "        vertical-align: top;\n",
       "    }\n",
       "</style>\n",
       "<table border=\"1\" class=\"dataframe\">\n",
       "  <thead>\n",
       "    <tr style=\"text-align: right;\">\n",
       "      <th></th>\n",
       "      <th>dateTime_dtn</th>\n",
       "      <th>waitTime_dtn</th>\n",
       "      <th>mins_dtn</th>\n",
       "      <th>datetime_shl</th>\n",
       "      <th>waittime_shl</th>\n",
       "      <th>mins_shl</th>\n",
       "    </tr>\n",
       "  </thead>\n",
       "  <tbody>\n",
       "    <tr>\n",
       "      <th>0</th>\n",
       "      <td>9/12/17 10:42</td>\n",
       "      <td>48 minutes</td>\n",
       "      <td>48</td>\n",
       "      <td>9/12/17 10:42</td>\n",
       "      <td>1 hour_ 24 minutes</td>\n",
       "      <td>84</td>\n",
       "    </tr>\n",
       "    <tr>\n",
       "      <th>1</th>\n",
       "      <td>9/12/17 10:43</td>\n",
       "      <td>48 minutes</td>\n",
       "      <td>48</td>\n",
       "      <td>9/12/17 10:43</td>\n",
       "      <td>1 hour_ 24 minutes</td>\n",
       "      <td>84</td>\n",
       "    </tr>\n",
       "    <tr>\n",
       "      <th>2</th>\n",
       "      <td>9/12/17 10:46</td>\n",
       "      <td>50 minutes</td>\n",
       "      <td>50</td>\n",
       "      <td>9/12/17 10:46</td>\n",
       "      <td>1 hour_ 25 minutes</td>\n",
       "      <td>85</td>\n",
       "    </tr>\n",
       "    <tr>\n",
       "      <th>3</th>\n",
       "      <td>9/12/17 10:47</td>\n",
       "      <td>51 minutes</td>\n",
       "      <td>51</td>\n",
       "      <td>9/12/17 10:47</td>\n",
       "      <td>1 hour_ 22 minutes</td>\n",
       "      <td>82</td>\n",
       "    </tr>\n",
       "    <tr>\n",
       "      <th>4</th>\n",
       "      <td>9/12/17 10:48</td>\n",
       "      <td>52 minutes</td>\n",
       "      <td>52</td>\n",
       "      <td>9/12/17 10:48</td>\n",
       "      <td>1 hour_ 24 minutes</td>\n",
       "      <td>84</td>\n",
       "    </tr>\n",
       "  </tbody>\n",
       "</table>\n",
       "</div>"
      ],
      "text/plain": [
       "    dateTime_dtn waitTime_dtn  mins_dtn   datetime_shl        waittime_shl  \\\n",
       "0  9/12/17 10:42   48 minutes        48  9/12/17 10:42  1 hour_ 24 minutes   \n",
       "1  9/12/17 10:43   48 minutes        48  9/12/17 10:43  1 hour_ 24 minutes   \n",
       "2  9/12/17 10:46   50 minutes        50  9/12/17 10:46  1 hour_ 25 minutes   \n",
       "3  9/12/17 10:47   51 minutes        51  9/12/17 10:47  1 hour_ 22 minutes   \n",
       "4  9/12/17 10:48   52 minutes        52  9/12/17 10:48  1 hour_ 24 minutes   \n",
       "\n",
       "   mins_shl  \n",
       "0        84  \n",
       "1        84  \n",
       "2        85  \n",
       "3        82  \n",
       "4        84  "
      ]
     },
     "execution_count": 18,
     "metadata": {},
     "output_type": "execute_result"
    }
   ],
   "source": [
    "wt.head()"
   ]
  },
  {
   "cell_type": "code",
   "execution_count": 19,
   "metadata": {
    "collapsed": true
   },
   "outputs": [],
   "source": [
    "import matplotlib.pyplot as plt\n",
    "%matplotlib inline\n",
    "\n",
    "from datetime import datetime\n"
   ]
  },
  {
   "cell_type": "code",
   "execution_count": 20,
   "metadata": {
    "collapsed": true
   },
   "outputs": [],
   "source": [
    "tms_dtn = [datetime.strptime(xx, \"%m/%d/%y %H:%M\") for xx in wt.dateTime_dtn]\n",
    "tms_shl = [datetime.strptime(xx, \"%m/%d/%y %H:%M\") for xx in wt.datetime_shl]"
   ]
  },
  {
   "cell_type": "code",
   "execution_count": 21,
   "metadata": {},
   "outputs": [
    {
     "data": {
      "image/png": "[encoded data removed]",
      "text/plain": [
       "<matplotlib.figure.Figure at 0x115a71240>"
      ]
     },
     "metadata": {},
     "output_type": "display_data"
    },
    {
     "data": {
      "image/png": "[encoded data removed]",
      "text/plain": [
       "<matplotlib.figure.Figure at 0x1135fa2b0>"
      ]
     },
     "metadata": {},
     "output_type": "display_data"
    }
   ],
   "source": [
    "plt.stem(tms_dtn, wt.mins_dtn)\n",
    "plt.gcf().autofmt_xdate()\n",
    "plt.ylim([0, 130])\n",
    "plt.title(\"Downtown\")\n",
    "plt.show()\n",
    "\n",
    "plt.stem(tms_dtn, wt.mins_shl, \"r\")\n",
    "plt.gcf().autofmt_xdate()\n",
    "plt.ylim([0, 130])\n",
    "plt.title(\"Shoreline\")\n",
    "plt.show()"
   ]
  },
  {
   "cell_type": "code",
   "execution_count": null,
   "metadata": {
    "collapsed": true
   },
   "outputs": [],
   "source": []
  }
 ],
 "metadata": {
  "kernelspec": {
   "display_name": "Python 3",
   "language": "python",
   "name": "python3"
  },
  "language_info": {
   "codemirror_mode": {
    "name": "ipython",
    "version": 3
   },
   "file_extension": ".py",
   "mimetype": "text/x-python",
   "name": "python",
   "nbconvert_exporter": "python",
   "pygments_lexer": "ipython3",
   "version": "3.6.1"
  }
 },
 "nbformat": 4,
 "nbformat_minor": 2
}
