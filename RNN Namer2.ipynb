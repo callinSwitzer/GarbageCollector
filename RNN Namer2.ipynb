{
 "cells": [
  {
   "cell_type": "code",
   "execution_count": 2,
   "metadata": {
    "collapsed": true
   },
   "outputs": [],
   "source": [
    "from rnn import Rnn\n",
    "import numpy as np\n",
    "import random\n",
    "\n",
    "# note: use python2, not 3"
   ]
  },
  {
   "cell_type": "code",
   "execution_count": 3,
   "metadata": {
    "collapsed": true
   },
   "outputs": [],
   "source": [
    "class NameRnn(Rnn):\n",
    "    '''\n",
    "    RNN which learns from a list of names\n",
    "    '''\n",
    "\n",
    "    def __init__(self):\n",
    "        # note default is names.txt, I made names2.txt\n",
    "        super(NameRnn, self).__init__('femaleNames.txt')\n",
    "        self.minimum_name_length = 3\n",
    "        self.maximum_name_length = 7\n",
    "        self.iterations_per_log = 1000\n",
    "\n",
    "    def validate(self,name):\n",
    "        '''Validate that the first char and length are appropriate'''\n",
    "        return (self.is_letter(name[0]) and self.is_acceptable_length(name))\n",
    "\n",
    "    def is_letter(self, character):\n",
    "        return ord(character) in range(65,90)\n",
    "\n",
    "    def is_acceptable_length(self, name):\n",
    "        return self.meets_maximum_length(name) and self.meets_minimum_length(name)\n",
    "\n",
    "    def meets_minimum_length(self, name):\n",
    "        return len(name) >= self.minimum_name_length\n",
    "\n",
    "    def meets_maximum_length(self, name):\n",
    "        return len(name) <= self.maximum_name_length\n",
    "\n",
    "    def get(self,num):\n",
    "        '''Gets a list of generated names'''\n",
    "        names = []\n",
    "        while len(names) < num:\n",
    "            start_char_id = random.randint(0, len(self.char_to_ix)-1)\n",
    "            start = self.ix_to_char[start_char_id]\n",
    "\n",
    "            self.hprev = np.random.randn(len(self.hprev), 1)\n",
    "            sample_ix = self.sample(self.char_to_ix[start], 30, training=False)\n",
    "            txt = ''.join(self.ix_to_char[ix] for ix in sample_ix)\n",
    "\n",
    "            # Clean up\n",
    "            for name in txt.split():\n",
    "                if self.validate(name):\n",
    "                    names.append(name.capitalize())\n",
    "        self.saveParameters()\n",
    "        return names\n",
    "\n",
    "    def print_names(self, rows, columns):\n",
    "        for name in [self.get(columns) for i in range(rows)]:\n",
    "            out = ''\n",
    "            for x in name:\n",
    "                out += x.ljust(15)\n",
    "            print(out)\n",
    "\n",
    "    def step(self,p):\n",
    "        '''Does the heavy lifting'''\n",
    "        smooth_loss = -np.log(1.0/self.vocab_size)*self.seq_length # loss at iteration 0\n",
    "        # prepare inputs (we're sweeping from left to right in steps seq_length long)\n",
    "        if p+self.seq_length+1 >= len(self.data):\n",
    "            self.hprev = np.zeros((self.hidden_size,1)) # reset RNN memory\n",
    "            p = 0 # go from start of data\n",
    "\n",
    "        inputs = [self.char_to_ix[ch] for ch in self.data[p:p+self.seq_length]]\n",
    "        targets = [self.char_to_ix[ch] for ch in self.data[p+1:p+self.seq_length+1]]\n",
    "\n",
    "        # forward seq_length characters through the net and fetch gradient\n",
    "        loss, dWxh, dWhh, dWhy, dbh, dby = self.lossFun(inputs, targets)\n",
    "        smooth_loss = smooth_loss * 0.999 + loss * 0.001\n",
    "\n",
    "        # perform parameter update with Adagrad\n",
    "        for param, dparam, mem in zip([self.Wxh, self.Whh, self.Why, self.bh, self.by],\n",
    "                [dWxh, dWhh, dWhy, dbh, dby],\n",
    "                [self.mWxh, self.mWhh, self.mWhy, self.mbh, self.mby]):\n",
    "            mem += dparam * dparam\n",
    "            param += -self.learning_rate * dparam / np.sqrt(mem + 1e-8) # adagrad update\n",
    "\n",
    "        next_ind = p + self.data[p:p+self.seq_length].index(' ')+1 # move data pointer\n",
    "        #print(self.data[p:next_ind])\n",
    "        return next_ind"
   ]
  },
  {
   "cell_type": "code",
   "execution_count": 4,
   "metadata": {},
   "outputs": [
    {
     "name": "stdout",
     "output_type": "stream",
     "text": [
      "data has 30040 characters, 28 of which are unique.\n",
      "expected bytes-like object, not str\n"
     ]
    }
   ],
   "source": [
    "x = NameRnn()"
   ]
  },
  {
   "cell_type": "code",
   "execution_count": 5,
   "metadata": {},
   "outputs": [
    {
     "name": "stdout",
     "output_type": "stream",
     "text": [
      "----\n",
      " FVNZCBLHLXTAYZQSMOGUBMSXGCAYILBTNUMPMTQOGD\n",
      "CJUDDKNQJAOZZJEOGXLHPY\n",
      "TBPQEAEUGJUYESHMDDBY\n",
      "ATLZNSFBSGPUVILCCHFELUFCDN\n",
      "CTO\n",
      "BTQJQJYQPTCXQDGLGVYVYPIVLMRHXUVCKC\n",
      "AVSECJSHBTKDRUWTHVFESISZJZVMX\n",
      "MUEPABPQTAHCYGPUM \n",
      "----\n",
      "0.0% of process completed\n",
      "----\n",
      " ESAN\n",
      "JERET\n",
      "MEITE\n",
      "VIRIETENE\n",
      "TEBRTA\n",
      "ELYNA\n",
      "WHRI\n",
      "ASHARGA\n",
      "MAVITEL\n",
      "JOANE\n",
      "LOTRAR\n",
      "ERYELLAN\n",
      "JOMELITA\n",
      "GARGATTA\n",
      "ALWELZA\n",
      "MERRITLORIA\n",
      "FLERA\n",
      "MERLEL\n",
      "COURANISTA\n",
      "JEMA\n",
      "CELLI\n",
      "DEABENELOTMA\n",
      "MARILI\n",
      "A\n",
      "MERTA\n",
      "FFEDISTA\n",
      "RYDE\n",
      "C \n",
      "----\n",
      "20.0% of process completed\n",
      "----\n",
      " TE\n",
      "MARELE\n",
      "ELSNEL\n",
      "CHINNA\n",
      "CERRHOSHEL\n",
      "HANNA\n",
      "SSHRINGCARY\n",
      "JADEVENI\n",
      "RORORA\n",
      "KONDE\n",
      "MARIN\n",
      "DARTHIANN\n",
      "ALITTOLGA\n",
      "VESHA\n",
      "CHRLDATTA\n",
      "LORE\n",
      "ERNA\n",
      "ERLY\n",
      "ZANBEN\n",
      "VESLIDRY\n",
      "CAROOMDINDIANDA\n",
      "TOLICA\n",
      "MERACAN\n",
      "SUNIDA\n",
      "NABSIN\n",
      "VARRINA \n",
      "----\n",
      "40.0% of process completed\n",
      "----\n",
      " KAY\n",
      "VAINENA\n",
      "JEMAT\n",
      "NOMALVEX\n",
      "ARTENO\n",
      "CETRIE\n",
      "LAMIVY\n",
      "FAUDA\n",
      "AUDA\n",
      "ARVAZIENDE\n",
      "MAHY\n",
      "BOROSTA\n",
      "MOINE\n",
      "ANDICE\n",
      "ORANILA\n",
      "BANDE\n",
      "LERWEKA\n",
      "ILETTA\n",
      "LIU\n",
      "ROLARGIO\n",
      "AMVENDI\n",
      "SHETENY\n",
      "VRICQUELIE\n",
      "ERANIA\n",
      "KAMILOSHDA\n",
      "AONELEVELINA\n",
      "ERWY \n",
      "----\n",
      "60.0% of process completed\n",
      "----\n",
      " ELLE\n",
      "CEALDRINDA\n",
      "VEFESTYEE\n",
      "FLINA\n",
      "UCELLERREIGIL\n",
      "KANYN\n",
      "OLLANALA\n",
      "CHEONA\n",
      "FEIKA\n",
      "FLARLIN\n",
      "DURLIN\n",
      "INELNINDA\n",
      "MINEONAINASENTIA\n",
      "VIKA\n",
      "CORIE\n",
      "JAILA\n",
      "CONWISTA\n",
      "CARIE\n",
      "ADUZERA\n",
      "KAMOYLIALANA\n",
      "MILIA\n",
      "RELLAY\n",
      "LEIDA\n",
      "MANIE\n",
      "ISHANI \n",
      "----\n",
      "80.0% of process completed\n",
      "Training completed.\n"
     ]
    }
   ],
   "source": [
    "x.train(num_iterations=5000)"
   ]
  },
  {
   "cell_type": "code",
   "execution_count": 14,
   "metadata": {
    "collapsed": true
   },
   "outputs": [],
   "source": [
    "nms = [x.randomSample(28) for f in range(5000)]"
   ]
  },
  {
   "cell_type": "code",
   "execution_count": null,
   "metadata": {},
   "outputs": [],
   "source": []
  },
  {
   "cell_type": "code",
   "execution_count": 20,
   "metadata": {},
   "outputs": [
    {
     "data": {
      "text/plain": [
       "array(['AACKRETH', 'ABBITTA', 'ABETTI', ..., 'ZUSTIBA', 'ZUTKACE',\n",
       "       'ZUTRISTIEY'], dtype='<U22')"
      ]
     },
     "execution_count": 20,
     "metadata": {},
     "output_type": "execute_result"
    }
   ],
   "source": [
    "ll = [ii.splitlines() for ii in nms if \"T\" in ii]\n",
    "flattened_list = [y for x in ll for y in x]\n",
    "flattened_list2 = [f for f in flattened_list if \"T\" in f]\n",
    "np.unique(flattened_list2)"
   ]
  },
  {
   "cell_type": "code",
   "execution_count": 29,
   "metadata": {},
   "outputs": [
    {
     "data": {
      "text/plain": [
       "array(['S', 'SA', 'SABDY', 'SABGELBELET', 'SABHIE', 'SABORA', 'SABRIN',\n",
       "       'SABRYN', 'SACATHERI', 'SACIBE', 'SACLIEE', 'SACRINN', 'SADETTIE',\n",
       "       'SADIENN', 'SADRA', 'SADRACIRA', 'SADRIAN', 'SAGINA',\n",
       "       'SAGNOBELINE', 'SAGSEBRISTA', 'SAGTISIE', 'SAHELETTI', 'SAISSYE',\n",
       "       'SALBINIMANNA', 'SALELARIH', 'SALI', 'SALINE', 'SALRI', 'SAMA',\n",
       "       'SAMAREET', 'SAMBRISTE', 'SAMSATHEL', 'SAN', 'SANDA', 'SANDIELA',\n",
       "       'SANDRE', 'SANGALIA', 'SANGEE', 'SANGI', 'SANIALLE', 'SANISANDY',\n",
       "       'SANISANNA', 'SANMAE', 'SANNENA', 'SANRETENA', 'SANVIRIADE',\n",
       "       'SARCORUELE', 'SARGEBESTINA', 'SARRYE', 'SASRANE', 'SASTEVER',\n",
       "       'SASTORAWGEINE', 'SATHA', 'SATIN', 'SATS', 'SAUBERA', 'SAUMYE',\n",
       "       'SAUNITONITO', 'SAVYTTA', 'SAXIKORY', 'SBETTECHONSIE', 'SCHERIEL',\n",
       "       'SCSARVIDE', 'SE', 'SEANCHE', 'SEBET', 'SEDIE', 'SEELA', 'SEFIN',\n",
       "       'SEG', 'SEINDIE', 'SELDE', 'SELE', 'SELENE', 'SELENIE',\n",
       "       'SELETIMATHELRA', 'SELGIE', 'SELI', 'SELIA', 'SELIE', 'SELINA',\n",
       "       'SELIONRTA', 'SELITINA', 'SELITLA', 'SEMANE', 'SENDHA', 'SERISA',\n",
       "       'SETDY', 'SETRIE', 'SEUDE', 'SEVA', 'SH', 'SHA', 'SHAANA',\n",
       "       'SHAANNE', 'SHABE', 'SHABERIWANA', 'SHABI', 'SHABRIRI', 'SHADY',\n",
       "       'SHAERA', 'SHAGINA', 'SHAGMA', 'SHAH', 'SHAHE', 'SHAHIE',\n",
       "       'SHAIDIE', 'SHAKRIA', 'SHAL', 'SHALA', 'SHALI', 'SHALISA',\n",
       "       'SHALREY', 'SHALSIIBLAR', 'SHAMITS', 'SHAN', 'SHANA',\n",
       "       'SHANATISILINA', 'SHANBIE', 'SHANC', 'SHANDI', 'SHANDY', 'SHANE',\n",
       "       'SHANERINA', 'SHANGETIE', 'SHANIE', 'SHANIVE', 'SHANNA', 'SHANNE',\n",
       "       'SHANNIENDO', 'SHANRE', 'SHANVILD', 'SHAPHR', 'SHAR', 'SHARA',\n",
       "       'SHARBE', 'SHARCA', 'SHARDA', 'SHARGETLY', 'SHARGONE',\n",
       "       'SHARGUEINA', 'SHARGUISTA', 'SHARI', 'SHARICEE', 'SHARIE',\n",
       "       'SHARIEDO', 'SHARILI', 'SHARILLA', 'SHARINE', 'SHARIRTE',\n",
       "       'SHARISAUDELINE', 'SHARISHA', 'SHARISI', 'SHARITA', 'SHARLA',\n",
       "       'SHARLE', 'SHARLY', 'SHARNELE', 'SHARNITE', 'SHARQUATISABIEDNE',\n",
       "       'SHARRE', 'SHARRZENA', 'SHARS', 'SHARSAN', 'SHARSINA', 'SHARTIE',\n",
       "       'SHARTIN', 'SHARY', 'SHASATICHAREYNA', 'SHAT', 'SHATA', 'SHATE',\n",
       "       'SHATHA', 'SHATHEE', 'SHATHELLA', 'SHATHIAL', 'SHATICIA',\n",
       "       'SHATRISNA', 'SHATSIEDEY', 'SHATSISATTETINA', 'SHATSO', 'SHATT',\n",
       "       'SHATTA', 'SHATTINDE', 'SHAUDEOKA', 'SHAUNY', 'SHAURES', 'SHAY',\n",
       "       'SHAYBLDARI', 'SHDYNINE', 'SHE', 'SHEAGE', 'SHEDIA', 'SHEEL',\n",
       "       'SHEFLA', 'SHEFTIADRE', 'SHEINA', 'SHEL', 'SHELENISA', 'SHELI',\n",
       "       'SHELIE', 'SHELISTA', 'SHELITE', 'SHELKKI', 'SHELLA',\n",
       "       'SHELLORIETH', 'SHELMA', 'SHELRIE', 'SHELY', 'SHENA', 'SHENSIE',\n",
       "       'SHER', 'SHERAS', 'SHERCORAME', 'SHERDNE', 'SHERGIETTAN', 'SHERIA',\n",
       "       'SHERICE', 'SHERIE', 'SHERILANA', 'SHERILIANELLIE', 'SHERINE',\n",
       "       'SHERLIEN', 'SHERMA', 'SHERNITA', 'SHERRY', 'SHERTHA', 'SHERTHELY',\n",
       "       'SHERTISE', 'SHERTTA', 'SHERY', 'SHETA', 'SHETHE', 'SHETHELANA',\n",
       "       'SHETHTA', 'SHETTI', 'SHETTIE', 'SHETTORLE', 'SHEVIVAR',\n",
       "       'SHEXADEDI', 'SHEZIE', 'SHIE', 'SHIERITTELLE', 'SHILLILE',\n",
       "       'SHIRODA', 'SHNINA', 'SHOHRRA', 'SHONCIE', 'SHONDY', 'SHONNA',\n",
       "       'SHOUETNA', 'SHOWNI', 'SHRATIA', 'SHRI', 'SHRICTA', 'SHRYNDIE',\n",
       "       'SHTRRIS', 'SHUONIEL', 'SHYNATOGIA', 'SHYNIE', 'SIALE', 'SIBEWCHA',\n",
       "       'SICGANDA', 'SICHINA', 'SICKANRA', 'SICY', 'SIDE', 'SIDERALLGE',\n",
       "       'SIENA', 'SIENELONA', 'SIETT', 'SIGANRESTORIS', 'SILINE',\n",
       "       'SIMALENA', 'SINDE', 'SINELE', 'SINET', 'SINETREDAELOIADORANGAY',\n",
       "       'SINETTHIA', 'SINGIEL', 'SIOTA', 'SISHAITIELE', 'SISTE',\n",
       "       'SISTEBBRICL', 'SITEBESTONELUKITIE', 'SIXIELE', 'SIZ', 'SIZEBIE',\n",
       "       'SLAITA', 'SLARZ', 'SLASTI', 'SLATTIROE', 'SLEA', 'SLERTHA',\n",
       "       'SLETH', 'SLIDA', 'SLNISTINO', 'SLOLA', 'SMABY', 'SMAFRIUTTI',\n",
       "       'SMANE', 'SMIFDAE', 'SNANA', 'SNANGEE', 'SO', 'SOAHIENELA',\n",
       "       'SODUE', 'SOETWINFAYS', 'SOGRYNA', 'SOJEA', 'SOLA', 'SOLINE',\n",
       "       'SOLISIE', 'SOLLA', 'SOLLE', 'SOLONA', 'SOLTE', 'SOMASHADELA',\n",
       "       'SON', 'SONA', 'SONANA', 'SONAUNN', 'SONEL', 'SONN', 'SONNA',\n",
       "       'SORANIS', 'SORIE', 'SORINEED', 'SOROTI', 'SOSE', 'SOSONN',\n",
       "       'SOTILARAY', 'SOUSE', 'SOVIA', 'SOWINA', 'SP', 'SPASSIA', 'SPEL',\n",
       "       'SRANNIE', 'SRARO', 'SRIANIA', 'SRIN', 'SRISH', 'SRIZTORIANETHE',\n",
       "       'SROR', 'SRRICA', 'SSARITEUDE', 'SSAUNIE', 'SSELLINE', 'SSHANNE',\n",
       "       'SSHERINE', 'SSHVINE', 'SSI', 'SSIANNE', 'SSILARICE', 'SSILLIA',\n",
       "       'SSSEE', 'SSSELLA', 'SSUDE', 'ST', 'STA', 'STABR', 'STABRIE',\n",
       "       'STAERIN', 'STAIN', 'STALIMA', 'STAMARIS', 'STANCE', 'STANTONDEE',\n",
       "       'STARFANA', 'STARO', 'STARTARIS', 'STATHICE', 'STATTA', 'STAUDERA',\n",
       "       'STAULY', 'STAY', 'STE', 'STEANIE', 'STEANRRIE', 'STEB', 'STEBRE',\n",
       "       'STELITA', 'STELLIA', 'STEMBRI', 'STENANIE', 'STENDE', 'STERIE',\n",
       "       'STERLE', 'STHAGRIE', 'STI', 'STIDIE', 'STIE', 'STILA',\n",
       "       'STILEANNIE', 'STINA', 'STIQULA', 'STIRISA', 'STISABEEDETIE',\n",
       "       'STISENE', 'STISTYN', 'STOLA', 'STORIA', 'STORITENO', 'STOULE',\n",
       "       'STRYBDIE', 'STTEBLY', 'STYUE', 'SU', 'SUB', 'SUBB', 'SUBE',\n",
       "       'SUBELU', 'SUBENE', 'SUBI', 'SUBILA', 'SUBISAN', 'SUBITTELY',\n",
       "       'SUBR', 'SUBRA', 'SUBYA', 'SUCATANIA', 'SUCEREMA', 'SUCYA', 'SUD',\n",
       "       'SUDA', 'SUDE', 'SUDEL', 'SUDGINA', 'SUDIA', 'SUDINE', 'SUDIRA',\n",
       "       'SUDONA', 'SUDONIE', 'SUDRIET', 'SUDU', 'SUEISE', 'SUELLA',\n",
       "       'SUELLAINA', 'SUELLIE', 'SUELLOROCA', 'SUELNA', 'SUELORBITA',\n",
       "       'SUEMTANE', 'SUERTILED', 'SUETOLORORRA', 'SUETTE', 'SUFR', 'SUG',\n",
       "       'SUGA', 'SUGE', 'SUGENN', 'SUIE', 'SUINE', 'SULA', 'SULARA',\n",
       "       'SULAS', 'SULE', 'SULELI', 'SULELIYNA', 'SULETY', 'SULIE', 'SULIS',\n",
       "       'SULITA', 'SULLE', 'SULLERA', 'SULOUEA', 'SULSRIT', 'SUMILE',\n",
       "       'SUMMISANN', 'SUMORA', 'SUMRILONE', 'SUMY', 'SUNAINE', 'SUNCU',\n",
       "       'SUNDGEABE', 'SUNEDGRA', 'SUNIZLY', 'SUNNI', 'SUR', 'SURIENA',\n",
       "       'SURILE', 'SURRI', 'SUSHIEMILE', 'SUSINO', 'SUSOBAROUDRIC',\n",
       "       'SUSTHERA', 'SUSUDY', 'SUTHA', 'SUVE', 'SUVIERA', 'SUVIRE',\n",
       "       'SVAMMATTY', 'SWELISA', 'SWETTIE', 'SWINNIPE', 'SWMERI', 'SWY',\n",
       "       'SYA', 'SYEBE', 'SYEL', 'SYLHA', 'SYNGI', 'SYNNE'], dtype='<U22')"
      ]
     },
     "execution_count": 29,
     "metadata": {},
     "output_type": "execute_result"
    }
   ],
   "source": [
    "flattened_list2 = [f for f in flattened_list if f.startswith(\"S\")]\n",
    "np.unique(flattened_list2)"
   ]
  },
  {
   "cell_type": "code",
   "execution_count": null,
   "metadata": {},
   "outputs": [],
   "source": [
    "len(np.unique(flattened_list))"
   ]
  },
  {
   "cell_type": "code",
   "execution_count": null,
   "metadata": {},
   "outputs": [],
   "source": [
    "nlst = []\n",
    "\n",
    "for ii in np.arange(100): \n",
    "    print(x.randomSample(18))"
   ]
  },
  {
   "cell_type": "code",
   "execution_count": null,
   "metadata": {},
   "outputs": [],
   "source": [
    "nlst"
   ]
  },
  {
   "cell_type": "code",
   "execution_count": null,
   "metadata": {
    "collapsed": true
   },
   "outputs": [],
   "source": [
    "import pandas as pd"
   ]
  },
  {
   "cell_type": "code",
   "execution_count": null,
   "metadata": {},
   "outputs": [],
   "source": [
    "aa = np.array(np.transpose(pd.read_csv(\"names.txt\", sep = \" \", header = None, )))\n",
    "aa[0:10, :]"
   ]
  },
  {
   "cell_type": "code",
   "execution_count": null,
   "metadata": {},
   "outputs": [],
   "source": [
    "\"Ab\" in  aa"
   ]
  },
  {
   "cell_type": "code",
   "execution_count": null,
   "metadata": {
    "collapsed": true
   },
   "outputs": [],
   "source": [
    "# read in names and output it in the same format as names.txt\n",
    "bb = pd.read_table(\"dist.male.first.txt\", header = None, delimiter=r\"\\s+\")"
   ]
  },
  {
   "cell_type": "code",
   "execution_count": null,
   "metadata": {},
   "outputs": [],
   "source": [
    "bb.head()"
   ]
  },
  {
   "cell_type": "code",
   "execution_count": null,
   "metadata": {},
   "outputs": [],
   "source": [
    "bb.loc[1,:]"
   ]
  },
  {
   "cell_type": "code",
   "execution_count": null,
   "metadata": {},
   "outputs": [],
   "source": [
    "pd.read_csv(\"names.txt\", sep = \" \", header = None, )"
   ]
  },
  {
   "cell_type": "code",
   "execution_count": null,
   "metadata": {
    "collapsed": true
   },
   "outputs": [],
   "source": [
    "cc = bb.loc[:, 0]"
   ]
  },
  {
   "cell_type": "code",
   "execution_count": null,
   "metadata": {
    "collapsed": true
   },
   "outputs": [],
   "source": []
  },
  {
   "cell_type": "code",
   "execution_count": null,
   "metadata": {
    "collapsed": true
   },
   "outputs": [],
   "source": [
    "dd = pd.DataFrame(cc.values.reshape([1, len(bb)]))"
   ]
  },
  {
   "cell_type": "code",
   "execution_count": null,
   "metadata": {
    "collapsed": true
   },
   "outputs": [],
   "source": [
    "dd.to_csv(\"names2.txt\", sep = \" \", header = None, index = False)"
   ]
  },
  {
   "cell_type": "code",
   "execution_count": null,
   "metadata": {
    "collapsed": true
   },
   "outputs": [],
   "source": []
  }
 ],
 "metadata": {
  "kernelspec": {
   "display_name": "Python 3",
   "language": "python",
   "name": "python3"
  },
  "language_info": {
   "codemirror_mode": {
    "name": "ipython",
    "version": 3
   },
   "file_extension": ".py",
   "mimetype": "text/x-python",
   "name": "python",
   "nbconvert_exporter": "python",
   "pygments_lexer": "ipython3",
   "version": "3.7.3"
  }
 },
 "nbformat": 4,
 "nbformat_minor": 2
}
