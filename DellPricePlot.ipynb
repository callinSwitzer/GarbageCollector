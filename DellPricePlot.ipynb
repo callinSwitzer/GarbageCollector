{
 "cells": [
  {
   "cell_type": "code",
   "execution_count": 1,
   "metadata": {},
   "outputs": [],
   "source": [
    "import numpy as np\n",
    "import pandas as pd\n",
    "import matplotlib.pyplot as plt"
   ]
  },
  {
   "cell_type": "code",
   "execution_count": 2,
   "metadata": {},
   "outputs": [],
   "source": [
    "%matplotlib inline"
   ]
  },
  {
   "cell_type": "code",
   "execution_count": 3,
   "metadata": {},
   "outputs": [],
   "source": [
    "dat = pd.read_csv(r\"D:/Dropbox/AcademiaDropbox/dellXpsPrices.csv\")"
   ]
  },
  {
   "cell_type": "code",
   "execution_count": 4,
   "metadata": {},
   "outputs": [
    {
     "data": {
      "text/html": [
       "<div>\n",
       "<style scoped>\n",
       "    .dataframe tbody tr th:only-of-type {\n",
       "        vertical-align: middle;\n",
       "    }\n",
       "\n",
       "    .dataframe tbody tr th {\n",
       "        vertical-align: top;\n",
       "    }\n",
       "\n",
       "    .dataframe thead th {\n",
       "        text-align: right;\n",
       "    }\n",
       "</style>\n",
       "<table border=\"1\" class=\"dataframe\">\n",
       "  <thead>\n",
       "    <tr style=\"text-align: right;\">\n",
       "      <th></th>\n",
       "      <th>RegPrice</th>\n",
       "      <th>SalePrice</th>\n",
       "      <th>Datetime</th>\n",
       "    </tr>\n",
       "  </thead>\n",
       "  <tbody>\n",
       "    <tr>\n",
       "      <th>0</th>\n",
       "      <td>1928.99</td>\n",
       "      <td>1699.99</td>\n",
       "      <td>2019-03-18 20:20:20.960000</td>\n",
       "    </tr>\n",
       "    <tr>\n",
       "      <th>1</th>\n",
       "      <td>1928.99</td>\n",
       "      <td>1699.99</td>\n",
       "      <td>2019-03-18 20:23:17.234000</td>\n",
       "    </tr>\n",
       "    <tr>\n",
       "      <th>2</th>\n",
       "      <td>1928.99</td>\n",
       "      <td>1699.99</td>\n",
       "      <td>2019-03-18 20:28:40.226000</td>\n",
       "    </tr>\n",
       "    <tr>\n",
       "      <th>3</th>\n",
       "      <td>1928.99</td>\n",
       "      <td>1699.99</td>\n",
       "      <td>2019-03-19 08:08:52.145214</td>\n",
       "    </tr>\n",
       "    <tr>\n",
       "      <th>4</th>\n",
       "      <td>1928.99</td>\n",
       "      <td>1699.99</td>\n",
       "      <td>2019-03-19 08:08:52.145214</td>\n",
       "    </tr>\n",
       "  </tbody>\n",
       "</table>\n",
       "</div>"
      ],
      "text/plain": [
       "   RegPrice  SalePrice                    Datetime\n",
       "0   1928.99    1699.99  2019-03-18 20:20:20.960000\n",
       "1   1928.99    1699.99  2019-03-18 20:23:17.234000\n",
       "2   1928.99    1699.99  2019-03-18 20:28:40.226000\n",
       "3   1928.99    1699.99  2019-03-19 08:08:52.145214\n",
       "4   1928.99    1699.99  2019-03-19 08:08:52.145214"
      ]
     },
     "execution_count": 4,
     "metadata": {},
     "output_type": "execute_result"
    }
   ],
   "source": [
    "dat.head()"
   ]
  },
  {
   "cell_type": "code",
   "execution_count": 5,
   "metadata": {},
   "outputs": [
    {
     "data": {
      "text/html": [
       "<div>\n",
       "<style scoped>\n",
       "    .dataframe tbody tr th:only-of-type {\n",
       "        vertical-align: middle;\n",
       "    }\n",
       "\n",
       "    .dataframe tbody tr th {\n",
       "        vertical-align: top;\n",
       "    }\n",
       "\n",
       "    .dataframe thead th {\n",
       "        text-align: right;\n",
       "    }\n",
       "</style>\n",
       "<table border=\"1\" class=\"dataframe\">\n",
       "  <thead>\n",
       "    <tr style=\"text-align: right;\">\n",
       "      <th></th>\n",
       "      <th>RegPrice</th>\n",
       "      <th>SalePrice</th>\n",
       "      <th>Datetime</th>\n",
       "    </tr>\n",
       "  </thead>\n",
       "  <tbody>\n",
       "    <tr>\n",
       "      <th>37</th>\n",
       "      <td>1859.99</td>\n",
       "      <td>1549.99</td>\n",
       "      <td>2019-05-20 08:49:57.663718</td>\n",
       "    </tr>\n",
       "    <tr>\n",
       "      <th>38</th>\n",
       "      <td>1859.99</td>\n",
       "      <td>1549.99</td>\n",
       "      <td>2019-05-21 09:16:20.678238</td>\n",
       "    </tr>\n",
       "    <tr>\n",
       "      <th>39</th>\n",
       "      <td>1859.99</td>\n",
       "      <td>1549.99</td>\n",
       "      <td>2019-05-22 08:58:08.095200</td>\n",
       "    </tr>\n",
       "    <tr>\n",
       "      <th>40</th>\n",
       "      <td>1859.99</td>\n",
       "      <td>1649.99</td>\n",
       "      <td>2019-05-28 12:40:43.222866</td>\n",
       "    </tr>\n",
       "    <tr>\n",
       "      <th>41</th>\n",
       "      <td>1699.99</td>\n",
       "      <td>1449.99</td>\n",
       "      <td>2019-07-10 09:26:16.190102</td>\n",
       "    </tr>\n",
       "  </tbody>\n",
       "</table>\n",
       "</div>"
      ],
      "text/plain": [
       "    RegPrice  SalePrice                    Datetime\n",
       "37   1859.99    1549.99  2019-05-20 08:49:57.663718\n",
       "38   1859.99    1549.99  2019-05-21 09:16:20.678238\n",
       "39   1859.99    1549.99  2019-05-22 08:58:08.095200\n",
       "40   1859.99    1649.99  2019-05-28 12:40:43.222866\n",
       "41   1699.99    1449.99  2019-07-10 09:26:16.190102"
      ]
     },
     "execution_count": 5,
     "metadata": {},
     "output_type": "execute_result"
    }
   ],
   "source": [
    "dat.tail()"
   ]
  },
  {
   "cell_type": "code",
   "execution_count": 6,
   "metadata": {},
   "outputs": [],
   "source": [
    "dat[\"Datetime\"] = pd.to_datetime(dat[\"Datetime\"])"
   ]
  },
  {
   "cell_type": "code",
   "execution_count": 7,
   "metadata": {},
   "outputs": [
    {
     "data": {
      "image/png": "[encoded data removed]",
      "text/plain": [
       "<matplotlib.figure.Figure at 0x289db1422e8>"
      ]
     },
     "metadata": {},
     "output_type": "display_data"
    }
   ],
   "source": [
    "# Note: I bought around 2010/05/15\n",
    "\n",
    "plt.plot(dat.loc[:, \"Datetime\"],  dat.loc[:, \"RegPrice\"])\n",
    "plt.plot(dat.loc[:, \"Datetime\"], dat.loc[:, \"SalePrice\"])\n",
    "plt.gcf().autofmt_xdate()\n",
    "plt.show()"
   ]
  },
  {
   "cell_type": "code",
   "execution_count": 8,
   "metadata": {},
   "outputs": [],
   "source": [
    "import matplotlib.dates as mdates"
   ]
  },
  {
   "cell_type": "code",
   "execution_count": 9,
   "metadata": {},
   "outputs": [
    {
     "data": {
      "image/png": "[encoded data removed]",
      "text/plain": [
       "<matplotlib.figure.Figure at 0x289db1420f0>"
      ]
     },
     "metadata": {},
     "output_type": "display_data"
    }
   ],
   "source": [
    "fig = plt.figure()\n",
    "ax = fig.add_subplot(111)\n",
    "ax.plot(dat.loc[:, \"Datetime\"], dat.loc[:, \"SalePrice\"], label = \"sale price\", marker = \"o\")\n",
    "ax.plot(dat.loc[:, \"Datetime\"], dat.loc[:, \"RegPrice\"], label = \"regular price\", marker = \"o\")\n",
    "ax.legend()\n",
    "ax.xaxis.set_major_formatter(mdates.DateFormatter('%Y-%m-%d'))\n",
    "\n",
    "# rotate and align the tick labels so they look better\n",
    "fig.autofmt_xdate()"
   ]
  },
  {
   "cell_type": "code",
   "execution_count": null,
   "metadata": {},
   "outputs": [],
   "source": []
  }
 ],
 "metadata": {
  "kernelspec": {
   "display_name": "numSolve",
   "language": "python",
   "name": "numsolve"
  },
  "language_info": {
   "codemirror_mode": {
    "name": "ipython",
    "version": 3
   },
   "file_extension": ".py",
   "mimetype": "text/x-python",
   "name": "python",
   "nbconvert_exporter": "python",
   "pygments_lexer": "ipython3",
   "version": "3.6.6"
  }
 },
 "nbformat": 4,
 "nbformat_minor": 2
}
