{
 "cells": [
  {
   "cell_type": "code",
   "execution_count": 1,
   "metadata": {},
   "outputs": [],
   "source": [
    "import numpy as np\n",
    "import pandas as pd\n",
    "import matplotlib.pyplot as plt"
   ]
  },
  {
   "cell_type": "code",
   "execution_count": 2,
   "metadata": {},
   "outputs": [],
   "source": [
    "%matplotlib inline"
   ]
  },
  {
   "cell_type": "code",
   "execution_count": 3,
   "metadata": {},
   "outputs": [],
   "source": [
    "dat = pd.read_csv(r\"D:/Dropbox/AcademiaDropbox/dellXpsPrices.csv\")"
   ]
  },
  {
   "cell_type": "code",
   "execution_count": 4,
   "metadata": {},
   "outputs": [
    {
     "data": {
      "text/html": [
       "<div>\n",
       "<style scoped>\n",
       "    .dataframe tbody tr th:only-of-type {\n",
       "        vertical-align: middle;\n",
       "    }\n",
       "\n",
       "    .dataframe tbody tr th {\n",
       "        vertical-align: top;\n",
       "    }\n",
       "\n",
       "    .dataframe thead th {\n",
       "        text-align: right;\n",
       "    }\n",
       "</style>\n",
       "<table border=\"1\" class=\"dataframe\">\n",
       "  <thead>\n",
       "    <tr style=\"text-align: right;\">\n",
       "      <th></th>\n",
       "      <th>RegPrice</th>\n",
       "      <th>SalePrice</th>\n",
       "      <th>Datetime</th>\n",
       "    </tr>\n",
       "  </thead>\n",
       "  <tbody>\n",
       "    <tr>\n",
       "      <th>0</th>\n",
       "      <td>1928.99</td>\n",
       "      <td>1699.99</td>\n",
       "      <td>2019-03-18 20:20:20.960000</td>\n",
       "    </tr>\n",
       "    <tr>\n",
       "      <th>1</th>\n",
       "      <td>1928.99</td>\n",
       "      <td>1699.99</td>\n",
       "      <td>2019-03-18 20:23:17.234000</td>\n",
       "    </tr>\n",
       "    <tr>\n",
       "      <th>2</th>\n",
       "      <td>1928.99</td>\n",
       "      <td>1699.99</td>\n",
       "      <td>2019-03-18 20:28:40.226000</td>\n",
       "    </tr>\n",
       "    <tr>\n",
       "      <th>3</th>\n",
       "      <td>1928.99</td>\n",
       "      <td>1699.99</td>\n",
       "      <td>2019-03-19 08:08:52.145214</td>\n",
       "    </tr>\n",
       "    <tr>\n",
       "      <th>4</th>\n",
       "      <td>1928.99</td>\n",
       "      <td>1699.99</td>\n",
       "      <td>2019-03-19 08:08:52.145214</td>\n",
       "    </tr>\n",
       "  </tbody>\n",
       "</table>\n",
       "</div>"
      ],
      "text/plain": [
       "   RegPrice  SalePrice                    Datetime\n",
       "0   1928.99    1699.99  2019-03-18 20:20:20.960000\n",
       "1   1928.99    1699.99  2019-03-18 20:23:17.234000\n",
       "2   1928.99    1699.99  2019-03-18 20:28:40.226000\n",
       "3   1928.99    1699.99  2019-03-19 08:08:52.145214\n",
       "4   1928.99    1699.99  2019-03-19 08:08:52.145214"
      ]
     },
     "execution_count": 4,
     "metadata": {},
     "output_type": "execute_result"
    }
   ],
   "source": [
    "dat.head()"
   ]
  },
  {
   "cell_type": "code",
   "execution_count": 5,
   "metadata": {},
   "outputs": [
    {
     "data": {
      "text/html": [
       "<div>\n",
       "<style scoped>\n",
       "    .dataframe tbody tr th:only-of-type {\n",
       "        vertical-align: middle;\n",
       "    }\n",
       "\n",
       "    .dataframe tbody tr th {\n",
       "        vertical-align: top;\n",
       "    }\n",
       "\n",
       "    .dataframe thead th {\n",
       "        text-align: right;\n",
       "    }\n",
       "</style>\n",
       "<table border=\"1\" class=\"dataframe\">\n",
       "  <thead>\n",
       "    <tr style=\"text-align: right;\">\n",
       "      <th></th>\n",
       "      <th>RegPrice</th>\n",
       "      <th>SalePrice</th>\n",
       "      <th>Datetime</th>\n",
       "    </tr>\n",
       "  </thead>\n",
       "  <tbody>\n",
       "    <tr>\n",
       "      <th>17</th>\n",
       "      <td>1859.99</td>\n",
       "      <td>1799.99</td>\n",
       "      <td>2019-04-03 09:13:27.152230</td>\n",
       "    </tr>\n",
       "    <tr>\n",
       "      <th>18</th>\n",
       "      <td>1928.99</td>\n",
       "      <td>1799.99</td>\n",
       "      <td>2019-04-04 08:39:22.526207</td>\n",
       "    </tr>\n",
       "    <tr>\n",
       "      <th>19</th>\n",
       "      <td>1928.99</td>\n",
       "      <td>1799.99</td>\n",
       "      <td>2019-04-08 08:26:20.962208</td>\n",
       "    </tr>\n",
       "    <tr>\n",
       "      <th>20</th>\n",
       "      <td>1928.99</td>\n",
       "      <td>1799.99</td>\n",
       "      <td>2019-04-08 08:43:25.365851</td>\n",
       "    </tr>\n",
       "    <tr>\n",
       "      <th>21</th>\n",
       "      <td>1928.99</td>\n",
       "      <td>1749.99</td>\n",
       "      <td>2019-04-09 14:18:37.130000</td>\n",
       "    </tr>\n",
       "  </tbody>\n",
       "</table>\n",
       "</div>"
      ],
      "text/plain": [
       "    RegPrice  SalePrice                    Datetime\n",
       "17   1859.99    1799.99  2019-04-03 09:13:27.152230\n",
       "18   1928.99    1799.99  2019-04-04 08:39:22.526207\n",
       "19   1928.99    1799.99  2019-04-08 08:26:20.962208\n",
       "20   1928.99    1799.99  2019-04-08 08:43:25.365851\n",
       "21   1928.99    1749.99  2019-04-09 14:18:37.130000"
      ]
     },
     "execution_count": 5,
     "metadata": {},
     "output_type": "execute_result"
    }
   ],
   "source": [
    "dat.tail()"
   ]
  },
  {
   "cell_type": "code",
   "execution_count": 6,
   "metadata": {},
   "outputs": [],
   "source": [
    "dat[\"Datetime\"] = pd.to_datetime(dat[\"Datetime\"])"
   ]
  },
  {
   "cell_type": "code",
   "execution_count": 7,
   "metadata": {},
   "outputs": [
    {
     "data": {
      "image/png": "[encoded data removed]",
      "text/plain": [
       "<matplotlib.figure.Figure at 0x1c1dfc500b8>"
      ]
     },
     "metadata": {},
     "output_type": "display_data"
    }
   ],
   "source": [
    "plt.plot(dat.loc[:, \"Datetime\"],  dat.loc[:, \"RegPrice\"])\n",
    "plt.plot(dat.loc[:, \"Datetime\"], dat.loc[:, \"SalePrice\"])\n",
    "plt.show()"
   ]
  },
  {
   "cell_type": "code",
   "execution_count": 8,
   "metadata": {},
   "outputs": [],
   "source": [
    "import matplotlib.dates as mdates"
   ]
  },
  {
   "cell_type": "code",
   "execution_count": 9,
   "metadata": {},
   "outputs": [
    {
     "data": {
      "image/png": "[encoded data removed]",
      "text/plain": [
       "<matplotlib.figure.Figure at 0x1c1dfefbd68>"
      ]
     },
     "metadata": {},
     "output_type": "display_data"
    }
   ],
   "source": [
    "fig = plt.figure()\n",
    "ax = fig.add_subplot(111)\n",
    "ax.plot(dat.loc[:, \"Datetime\"], dat.loc[:, \"SalePrice\"], label = \"sale price\", marker = \"o\")\n",
    "ax.plot(dat.loc[:, \"Datetime\"], dat.loc[:, \"RegPrice\"], label = \"regular price\", marker = \"o\")\n",
    "ax.legend()\n",
    "ax.xaxis.set_major_formatter(mdates.DateFormatter('%Y-%m-%d'))\n",
    "\n",
    "# rotate and align the tick labels so they look better\n",
    "fig.autofmt_xdate()"
   ]
  },
  {
   "cell_type": "code",
   "execution_count": null,
   "metadata": {},
   "outputs": [],
   "source": []
  }
 ],
 "metadata": {
  "kernelspec": {
   "display_name": "numSolve",
   "language": "python",
   "name": "numsolve"
  },
  "language_info": {
   "codemirror_mode": {
    "name": "ipython",
    "version": 3
   },
   "file_extension": ".py",
   "mimetype": "text/x-python",
   "name": "python",
   "nbconvert_exporter": "python",
   "pygments_lexer": "ipython3",
   "version": "3.6.6"
  }
 },
 "nbformat": 4,
 "nbformat_minor": 2
}
