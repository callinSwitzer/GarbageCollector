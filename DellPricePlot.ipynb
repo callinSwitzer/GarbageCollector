{
 "cells": [
  {
   "cell_type": "code",
   "execution_count": 1,
   "metadata": {},
   "outputs": [],
   "source": [
    "import numpy as np\n",
    "import pandas as pd\n",
    "import matplotlib.pyplot as plt"
   ]
  },
  {
   "cell_type": "code",
   "execution_count": 2,
   "metadata": {},
   "outputs": [],
   "source": [
    "%matplotlib inline"
   ]
  },
  {
   "cell_type": "code",
   "execution_count": 3,
   "metadata": {},
   "outputs": [],
   "source": [
    "dat = pd.read_csv(r\"D:/Dropbox/AcademiaDropbox/dellXpsPrices.csv\")"
   ]
  },
  {
   "cell_type": "code",
   "execution_count": 4,
   "metadata": {},
   "outputs": [
    {
     "data": {
      "text/html": [
       "<div>\n",
       "<style scoped>\n",
       "    .dataframe tbody tr th:only-of-type {\n",
       "        vertical-align: middle;\n",
       "    }\n",
       "\n",
       "    .dataframe tbody tr th {\n",
       "        vertical-align: top;\n",
       "    }\n",
       "\n",
       "    .dataframe thead th {\n",
       "        text-align: right;\n",
       "    }\n",
       "</style>\n",
       "<table border=\"1\" class=\"dataframe\">\n",
       "  <thead>\n",
       "    <tr style=\"text-align: right;\">\n",
       "      <th></th>\n",
       "      <th>RegPrice</th>\n",
       "      <th>SalePrice</th>\n",
       "      <th>Datetime</th>\n",
       "    </tr>\n",
       "  </thead>\n",
       "  <tbody>\n",
       "    <tr>\n",
       "      <th>0</th>\n",
       "      <td>1928.99</td>\n",
       "      <td>1699.99</td>\n",
       "      <td>2019-03-18 20:20:20.960000</td>\n",
       "    </tr>\n",
       "    <tr>\n",
       "      <th>1</th>\n",
       "      <td>1928.99</td>\n",
       "      <td>1699.99</td>\n",
       "      <td>2019-03-18 20:23:17.234000</td>\n",
       "    </tr>\n",
       "    <tr>\n",
       "      <th>2</th>\n",
       "      <td>1928.99</td>\n",
       "      <td>1699.99</td>\n",
       "      <td>2019-03-18 20:28:40.226000</td>\n",
       "    </tr>\n",
       "    <tr>\n",
       "      <th>3</th>\n",
       "      <td>1928.99</td>\n",
       "      <td>1699.99</td>\n",
       "      <td>2019-03-19 08:08:52.145214</td>\n",
       "    </tr>\n",
       "    <tr>\n",
       "      <th>4</th>\n",
       "      <td>1928.99</td>\n",
       "      <td>1699.99</td>\n",
       "      <td>2019-03-19 08:08:52.145214</td>\n",
       "    </tr>\n",
       "  </tbody>\n",
       "</table>\n",
       "</div>"
      ],
      "text/plain": [
       "   RegPrice  SalePrice                    Datetime\n",
       "0   1928.99    1699.99  2019-03-18 20:20:20.960000\n",
       "1   1928.99    1699.99  2019-03-18 20:23:17.234000\n",
       "2   1928.99    1699.99  2019-03-18 20:28:40.226000\n",
       "3   1928.99    1699.99  2019-03-19 08:08:52.145214\n",
       "4   1928.99    1699.99  2019-03-19 08:08:52.145214"
      ]
     },
     "execution_count": 4,
     "metadata": {},
     "output_type": "execute_result"
    }
   ],
   "source": [
    "dat.head()"
   ]
  },
  {
   "cell_type": "code",
   "execution_count": 15,
   "metadata": {},
   "outputs": [
    {
     "data": {
      "text/html": [
       "<div>\n",
       "<style scoped>\n",
       "    .dataframe tbody tr th:only-of-type {\n",
       "        vertical-align: middle;\n",
       "    }\n",
       "\n",
       "    .dataframe tbody tr th {\n",
       "        vertical-align: top;\n",
       "    }\n",
       "\n",
       "    .dataframe thead th {\n",
       "        text-align: right;\n",
       "    }\n",
       "</style>\n",
       "<table border=\"1\" class=\"dataframe\">\n",
       "  <thead>\n",
       "    <tr style=\"text-align: right;\">\n",
       "      <th></th>\n",
       "      <th>RegPrice</th>\n",
       "      <th>SalePrice</th>\n",
       "      <th>Datetime</th>\n",
       "    </tr>\n",
       "  </thead>\n",
       "  <tbody>\n",
       "    <tr>\n",
       "      <th>14</th>\n",
       "      <td>1859.99</td>\n",
       "      <td>1799.99</td>\n",
       "      <td>2019-03-31 08:12:31.113000</td>\n",
       "    </tr>\n",
       "    <tr>\n",
       "      <th>15</th>\n",
       "      <td>1859.99</td>\n",
       "      <td>1799.99</td>\n",
       "      <td>2019-04-01 07:37:42.876851</td>\n",
       "    </tr>\n",
       "    <tr>\n",
       "      <th>16</th>\n",
       "      <td>1859.99</td>\n",
       "      <td>1799.99</td>\n",
       "      <td>2019-04-02 14:03:36.708000</td>\n",
       "    </tr>\n",
       "    <tr>\n",
       "      <th>17</th>\n",
       "      <td>1859.99</td>\n",
       "      <td>1799.99</td>\n",
       "      <td>2019-04-03 09:13:27.152230</td>\n",
       "    </tr>\n",
       "    <tr>\n",
       "      <th>18</th>\n",
       "      <td>1928.99</td>\n",
       "      <td>1799.99</td>\n",
       "      <td>2019-04-04 08:39:22.526207</td>\n",
       "    </tr>\n",
       "  </tbody>\n",
       "</table>\n",
       "</div>"
      ],
      "text/plain": [
       "    RegPrice  SalePrice                   Datetime\n",
       "14   1859.99    1799.99 2019-03-31 08:12:31.113000\n",
       "15   1859.99    1799.99 2019-04-01 07:37:42.876851\n",
       "16   1859.99    1799.99 2019-04-02 14:03:36.708000\n",
       "17   1859.99    1799.99 2019-04-03 09:13:27.152230\n",
       "18   1928.99    1799.99 2019-04-04 08:39:22.526207"
      ]
     },
     "execution_count": 15,
     "metadata": {},
     "output_type": "execute_result"
    }
   ],
   "source": [
    "dat.tail()"
   ]
  },
  {
   "cell_type": "code",
   "execution_count": 18,
   "metadata": {},
   "outputs": [],
   "source": [
    "dat[\"Datetime\"] = pd.to_datetime(dat[\"Datetime\"])"
   ]
  },
  {
   "cell_type": "code",
   "execution_count": 23,
   "metadata": {},
   "outputs": [
    {
     "data": {
      "image/png": "[encoded data removed]",
      "text/plain": [
       "<matplotlib.figure.Figure at 0x200cee5aef0>"
      ]
     },
     "metadata": {},
     "output_type": "display_data"
    }
   ],
   "source": [
    "plt.plot(dat.loc[:, \"Datetime\"],  dat.loc[:, \"RegPrice\"])\n",
    "plt.plot(dat.loc[:, \"Datetime\"], dat.loc[:, \"SalePrice\"])\n",
    "plt.show()"
   ]
  },
  {
   "cell_type": "code",
   "execution_count": 24,
   "metadata": {},
   "outputs": [],
   "source": [
    "import matplotlib.dates as mdates"
   ]
  },
  {
   "cell_type": "code",
   "execution_count": 33,
   "metadata": {},
   "outputs": [
    {
     "data": {
      "image/png": "[encoded data removed]",
      "text/plain": [
       "<matplotlib.figure.Figure at 0x200cef41748>"
      ]
     },
     "metadata": {},
     "output_type": "display_data"
    }
   ],
   "source": [
    "fig = plt.figure()\n",
    "ax = fig.add_subplot(111)\n",
    "ax.plot(dat.loc[:, \"Datetime\"], dat.loc[:, \"SalePrice\"], label = \"sale price\", marker = \"o\")\n",
    "ax.plot(dat.loc[:, \"Datetime\"], dat.loc[:, \"RegPrice\"], label = \"regular price\", marker = \"o\")\n",
    "ax.legend()\n",
    "ax.xaxis.set_major_formatter(mdates.DateFormatter('%Y-%m-%d'))\n",
    "\n",
    "# rotate and align the tick labels so they look better\n",
    "fig.autofmt_xdate()"
   ]
  },
  {
   "cell_type": "code",
   "execution_count": null,
   "metadata": {},
   "outputs": [],
   "source": []
  }
 ],
 "metadata": {
  "kernelspec": {
   "display_name": "numSolve",
   "language": "python",
   "name": "numsolve"
  },
  "language_info": {
   "codemirror_mode": {
    "name": "ipython",
    "version": 3
   },
   "file_extension": ".py",
   "mimetype": "text/x-python",
   "name": "python",
   "nbconvert_exporter": "python",
   "pygments_lexer": "ipython3",
   "version": "3.6.6"
  }
 },
 "nbformat": 4,
 "nbformat_minor": 2
}
