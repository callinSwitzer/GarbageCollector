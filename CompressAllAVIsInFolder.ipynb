{
 "cells": [
  {
   "cell_type": "code",
   "execution_count": 1,
   "metadata": {},
   "outputs": [
    {
     "name": "stdout",
     "output_type": "stream",
     "text": [
      "3.4.1\n"
     ]
    }
   ],
   "source": [
    "# read in videos to check -- before deleting\n",
    "\n",
    "\n",
    "\n",
    "import numpy as np\n",
    "\n",
    "import cv2\n",
    "print(cv2.__version__)\n",
    "\n",
    "\n",
    "import matplotlib\n",
    "matplotlib.use(\"TkAgg\") # have to use this for tkinter to  work below\n",
    "from matplotlib import pyplot as plt\n",
    "%matplotlib tk\n",
    "import time\n",
    "\n",
    "\n",
    "import skimage.io as io\n",
    "\n",
    "import os\n",
    "\n",
    "import imageio"
   ]
  },
  {
   "cell_type": "code",
   "execution_count": 26,
   "metadata": {},
   "outputs": [],
   "source": [
    "rootdir = r\"D:\\Dropbox\\AcademiaDropbox\\BuzzPollinationHSVids\"\n",
    "extensions =  ('.avi')\n",
    "\n",
    "vidPathList = []\n",
    "\n",
    "for subdir, dirs, files in os.walk(rootdir):\n",
    "    for file in files:\n",
    "        ext = os.path.splitext(file)[-1].lower()\n",
    "        if ext == extensions:\n",
    "            vidPathList.append(os.path.join(subdir, file))"
   ]
  },
  {
   "cell_type": "code",
   "execution_count": 27,
   "metadata": {},
   "outputs": [
    {
     "data": {
      "text/plain": [
       "['D:\\\\Dropbox\\\\AcademiaDropbox\\\\BuzzPollinationHSVids\\\\2015-06-26_000000.avi',\n",
       " 'D:\\\\Dropbox\\\\AcademiaDropbox\\\\BuzzPollinationHSVids\\\\Extra Videos Not In Paper1\\\\BlueBandedTomato-nocompress1.avi',\n",
       " 'D:\\\\Dropbox\\\\AcademiaDropbox\\\\BuzzPollinationHSVids\\\\June3ArboretumVids\\\\._FASTEC-TS3-104_2015-06-03_000000.avi',\n",
       " 'D:\\\\Dropbox\\\\AcademiaDropbox\\\\BuzzPollinationHSVids\\\\June3ArboretumVids\\\\._ts3_000010.avi',\n",
       " 'D:\\\\Dropbox\\\\AcademiaDropbox\\\\BuzzPollinationHSVids\\\\June3ArboretumVids\\\\._ts3_000014.avi',\n",
       " 'D:\\\\Dropbox\\\\AcademiaDropbox\\\\BuzzPollinationHSVids\\\\June3ArboretumVids\\\\._ts3_000017.avi',\n",
       " 'D:\\\\Dropbox\\\\AcademiaDropbox\\\\BuzzPollinationHSVids\\\\June3ArboretumVids\\\\2015-01-19_000000.avi',\n",
       " 'D:\\\\Dropbox\\\\AcademiaDropbox\\\\BuzzPollinationHSVids\\\\June3ArboretumVids\\\\2015-01-19_000003.avi',\n",
       " 'D:\\\\Dropbox\\\\AcademiaDropbox\\\\BuzzPollinationHSVids\\\\June3ArboretumVids\\\\FASTEC-TS3-104_2015-01-18_000000.avi',\n",
       " 'D:\\\\Dropbox\\\\AcademiaDropbox\\\\BuzzPollinationHSVids\\\\June3ArboretumVids\\\\FASTEC-TS3-104_2015-01-18_000002.avi']"
      ]
     },
     "execution_count": 27,
     "metadata": {},
     "output_type": "execute_result"
    }
   ],
   "source": [
    "vidPathList[0:10]"
   ]
  },
  {
   "cell_type": "code",
   "execution_count": 28,
   "metadata": {},
   "outputs": [
    {
     "data": {
      "text/plain": [
       "23"
      ]
     },
     "execution_count": 28,
     "metadata": {},
     "output_type": "execute_result"
    }
   ],
   "source": [
    "len(vidPathList)"
   ]
  },
  {
   "cell_type": "code",
   "execution_count": 29,
   "metadata": {},
   "outputs": [
    {
     "name": "stdout",
     "output_type": "stream",
     "text": [
      "0  of  23 2015-06-26_000000.avi 25.0  seconds\n",
      "1  of  23 BlueBandedTomato-nocompress1.avi 5.0  seconds\n",
      "2  of  23 ._FASTEC-TS3-104_2015-06-03_000000.avi 0.0  seconds\n",
      "3  of  23 ._ts3_000010.avi 0.0  seconds\n",
      "4  of  23 ._ts3_000014.avi 0.0  seconds\n",
      "5  of  23 ._ts3_000017.avi 0.0  seconds\n",
      "6  of  23 2015-01-19_000000.avi 5.0  seconds\n",
      "7  of  23 2015-01-19_000003.avi 5.0  seconds\n",
      "8  of  23 FASTEC-TS3-104_2015-01-18_000000.avi 3.0  seconds\n",
      "9  of  23 FASTEC-TS3-104_2015-01-18_000002.avi 3.0  seconds\n",
      "10  of  23 FASTEC-TS3-104_2015-01-18_000004.avi 5.0  seconds\n",
      "11  of  23 FASTEC-TS3-104_2015-01-18_000006.avi 7.0  seconds\n",
      "12  of  23 FASTEC-TS3-104_2015-06-03_000000.avi 22.0  seconds\n",
      "13  of  23 FASTEC-TS3-104_2015-06-03_000002.avi 25.0  seconds\n",
      "14  of  23 FASTEC-TS3-104_2_000001.avi 30.0  seconds\n",
      "15  of  23 FASTEC-TS3-104_2_000003.avi 14.0  seconds\n",
      "16  of  23 FASTEC-TS3-104_2_000005.avi 14.0  seconds\n",
      "17  of  23 FASTEC-TS3-104_2_000007.avi 34.0  seconds\n",
      "18  of  23 FASTEC-TS3-104_2_000008.avi 36.0  seconds\n",
      "19  of  23 FASTEC-TS3-104_2_000010.avi 36.0  seconds\n",
      "20  of  23 ts3_000003.avi 14.0  seconds\n",
      "21  of  23 ts3_000004.avi 17.0  seconds\n",
      "22  of  23 ts3_000005.avi 16.0  seconds\n"
     ]
    }
   ],
   "source": [
    "stta = time.time()\n",
    "\n",
    "for ii in range(len(vidPathList)):\n",
    "    stta = time.time()\n",
    "\n",
    "    # change directory\n",
    "    os.chdir(os.path.dirname(vidPathList[ii]) )\n",
    "    \n",
    "    # generate ffmpeg call\n",
    "    sys_call = ('ffmpeg -i '+\n",
    "            os.path.basename(vidPathList[ii])+\n",
    "            ' -vf \"scale=trunc(iw/2)*2:trunc(ih/2)*2\" -c:v mpeg4  -b:v 10000k -pix_fmt yuv420p -y '  +\n",
    "            os.path.splitext(os.path.basename(vidPathList[ii]))[0] + \".mp4\")\n",
    "    \n",
    "    # run ffmpeg\n",
    "    os.system(sys_call)\n",
    "    print(ii, \" of \", len(vidPathList), os.path.basename(vidPathList[ii]), np.round(time.time() - stta), \" seconds\")\n",
    "    \n",
    "    # delete avi files\n",
    "    os.remove(vidPathList[ii])"
   ]
  },
  {
   "cell_type": "code",
   "execution_count": null,
   "metadata": {},
   "outputs": [],
   "source": []
  },
  {
   "cell_type": "code",
   "execution_count": null,
   "metadata": {},
   "outputs": [],
   "source": []
  },
  {
   "cell_type": "code",
   "execution_count": 3,
   "metadata": {},
   "outputs": [
    {
     "name": "stdout",
     "output_type": "stream",
     "text": [
      "3.4.1\n"
     ]
    }
   ],
   "source": []
  },
  {
   "cell_type": "code",
   "execution_count": 10,
   "metadata": {},
   "outputs": [
    {
     "name": "stdout",
     "output_type": "stream",
     "text": [
      "4788 1280 1024 10.0\n"
     ]
    }
   ],
   "source": [
    "vidPath = r\"D:\\\\BeeTwoFlowerExperiment\\\\2018_01_29__14_17_52_820_cam1-0000.avi\"\n",
    "\n",
    "cap = cv2.VideoCapture(vidPath)\n",
    "\n",
    "# play vid\n",
    "while(cap.isOpened()):\n",
    "    ret, frame = cap.read()\n",
    "    cv2.imshow('frame',frame)\n",
    "    if cv2.waitKey(1) & 0xFF == ord('q'):\n",
    "        break\n",
    "\n",
    "length = int(cap.get(cv2.CAP_PROP_FRAME_COUNT))\n",
    "width  = int(cap.get(cv2.CAP_PROP_FRAME_WIDTH))\n",
    "height = int(cap.get(cv2.CAP_PROP_FRAME_HEIGHT))\n",
    "fps    = cap.get(cv2.CAP_PROP_FPS)\n",
    "\n",
    "print(length, width, height, fps)\n",
    "cap.release()"
   ]
  },
  {
   "cell_type": "code",
   "execution_count": 11,
   "metadata": {},
   "outputs": [
    {
     "name": "stdout",
     "output_type": "stream",
     "text": [
      "4788 1280 1024 10.0\n"
     ]
    }
   ],
   "source": [
    "vidPath = r\"D:\\\\BeeTwoFlowerExperiment\\\\2018_01_29__14_17_52_820_cam1-0000.mp4\"\n",
    "\n",
    "cap = cv2.VideoCapture(vidPath)\n",
    "\n",
    "# play vid\n",
    "while(cap.isOpened()):\n",
    "    ret, frame = cap.read()\n",
    "    cv2.imshow('frame',frame)\n",
    "    if cv2.waitKey(1) & 0xFF == ord('q'):\n",
    "        break\n",
    "\n",
    "\n",
    "length = int(cap.get(cv2.CAP_PROP_FRAME_COUNT))\n",
    "width  = int(cap.get(cv2.CAP_PROP_FRAME_WIDTH))\n",
    "height = int(cap.get(cv2.CAP_PROP_FRAME_HEIGHT))\n",
    "fps    = cap.get(cv2.CAP_PROP_FPS)\n",
    "\n",
    "print(length, width, height, fps)\n",
    "cap.release()"
   ]
  },
  {
   "cell_type": "code",
   "execution_count": null,
   "metadata": {},
   "outputs": [],
   "source": []
  }
 ],
 "metadata": {
  "kernelspec": {
   "display_name": "opencv3",
   "language": "python",
   "name": "opencv3"
  },
  "language_info": {
   "codemirror_mode": {
    "name": "ipython",
    "version": 3
   },
   "file_extension": ".py",
   "mimetype": "text/x-python",
   "name": "python",
   "nbconvert_exporter": "python",
   "pygments_lexer": "ipython3",
   "version": "3.6.5"
  }
 },
 "nbformat": 4,
 "nbformat_minor": 2
}
