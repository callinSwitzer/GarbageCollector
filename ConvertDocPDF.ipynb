{
 "cells": [
  {
   "cell_type": "code",
   "execution_count": 1,
   "metadata": {},
   "outputs": [],
   "source": [
    "#https://stackoverflow.com/questions/6011115/doc-to-pdf-using-python\n"
   ]
  },
  {
   "cell_type": "code",
   "execution_count": 2,
   "metadata": {},
   "outputs": [],
   "source": [
    "# import sys\n",
    "# import os\n",
    "# import comtypes.client\n",
    "\n",
    "# wdFormatPDF = 17\n",
    "\n",
    "# in_file = os.path.abspath(sys.argv[1])\n",
    "# out_file = os.path.abspath(sys.argv[2])\n",
    "\n",
    "# word = comtypes.client.CreateObject('Word.Application')\n",
    "# doc = word.Documents.Open(in_file)\n",
    "# doc.SaveAs(out_file, FileFormat=wdFormatPDF)\n",
    "# doc.Close()\n",
    "# word.Quit()"
   ]
  },
  {
   "cell_type": "code",
   "execution_count": null,
   "metadata": {},
   "outputs": [],
   "source": [
    "# https://stackoverflow.com/questions/50982064/converting-docx-to-pdf-with-pure-python-on-linux-without-libreoffice"
   ]
  },
  {
   "cell_type": "code",
   "execution_count": 3,
   "metadata": {},
   "outputs": [],
   "source": [
    "import sys\n",
    "import os\n",
    "import comtypes.client\n",
    "wdFormatPDF = 17\n",
    "DIR = r'D:\\Dropbox\\AcademiaDropbox\\CallinStuff\\JobAndGrantApplications\\UCBerkeley_Application_2018_ClusterHire'"
   ]
  },
  {
   "cell_type": "code",
   "execution_count": 13,
   "metadata": {},
   "outputs": [],
   "source": [
    "in_file = [os.path.abspath(os.path.join(DIR, \"CoverLetter_UCBerkeley.docx\")), \n",
    "           os.path.abspath(os.path.join(DIR, \"CV_UCBerkeley.docx\")), \n",
    "          os.path.abspath(os.path.join(DIR, \"ResearchStatement_UCBerkeley.docx\"))\n",
    "          ]\n",
    "out_file = [os.path.abspath(os.path.join(DIR, \"CoverLetter_UCBerkeley.pdf\")), \n",
    "           os.path.abspath(os.path.join(DIR, \"CV_UCBerkeley.pdf\")), \n",
    "           os.path.abspath(os.path.join(DIR, \"ResearchStatement_UCBerkeley.pdf\"))]"
   ]
  },
  {
   "cell_type": "code",
   "execution_count": 14,
   "metadata": {},
   "outputs": [
    {
     "data": {
      "text/plain": [
       "['D:\\\\Dropbox\\\\AcademiaDropbox\\\\CallinStuff\\\\JobAndGrantApplications\\\\UCBerkeley_Application_2018_ClusterHire\\\\CoverLetter_UCBerkeley.docx',\n",
       " 'D:\\\\Dropbox\\\\AcademiaDropbox\\\\CallinStuff\\\\JobAndGrantApplications\\\\UCBerkeley_Application_2018_ClusterHire\\\\CV_UCBerkeley.docx',\n",
       " 'D:\\\\Dropbox\\\\AcademiaDropbox\\\\CallinStuff\\\\JobAndGrantApplications\\\\UCBerkeley_Application_2018_ClusterHire\\\\ResearchStatement_UCBerkeley.docx']"
      ]
     },
     "execution_count": 14,
     "metadata": {},
     "output_type": "execute_result"
    }
   ],
   "source": [
    "in_file"
   ]
  },
  {
   "cell_type": "code",
   "execution_count": 15,
   "metadata": {},
   "outputs": [
    {
     "data": {
      "text/plain": [
       "0"
      ]
     },
     "execution_count": 15,
     "metadata": {},
     "output_type": "execute_result"
    }
   ],
   "source": [
    "word = comtypes.client.CreateObject('Word.Application')\n",
    "word.Visible = False\n",
    "# refref: put for loop here\n",
    "for ii in range(len(in_file)):\n",
    "    doc = word.Documents.Open(in_file[ii])\n",
    "    doc.SaveAs(out_file[ii], FileFormat=wdFormatPDF) # low quality images\n",
    "    doc.Close()\n",
    "word.Quit()"
   ]
  },
  {
   "cell_type": "code",
   "execution_count": 16,
   "metadata": {},
   "outputs": [],
   "source": [
    "word = comtypes.client.CreateObject('Word.Application')\n",
    "word.Visible = False"
   ]
  },
  {
   "cell_type": "code",
   "execution_count": 17,
   "metadata": {},
   "outputs": [],
   "source": [
    "ii = 0\n",
    "doc = word.Documents.Open(in_file[ii])"
   ]
  },
  {
   "cell_type": "code",
   "execution_count": null,
   "metadata": {},
   "outputs": [],
   "source": [
    "doc.PrintOut()"
   ]
  },
  {
   "cell_type": "code",
   "execution_count": null,
   "metadata": {},
   "outputs": [],
   "source": []
  },
  {
   "cell_type": "code",
   "execution_count": null,
   "metadata": {},
   "outputs": [],
   "source": []
  },
  {
   "cell_type": "code",
   "execution_count": null,
   "metadata": {},
   "outputs": [],
   "source": []
  },
  {
   "cell_type": "code",
   "execution_count": 5,
   "metadata": {},
   "outputs": [
    {
     "data": {
      "text/plain": [
       "'C:\\\\Users\\\\calli\\\\Documents\\\\GitRepos\\\\-f'"
      ]
     },
     "execution_count": 5,
     "metadata": {},
     "output_type": "execute_result"
    }
   ],
   "source": [
    "os.path.abspath(sys.argv[1])"
   ]
  },
  {
   "cell_type": "code",
   "execution_count": 6,
   "metadata": {},
   "outputs": [
    {
     "data": {
      "text/plain": [
       "'C:\\\\Users\\\\calli\\\\AppData\\\\Roaming\\\\jupyter\\\\runtime\\\\kernel-960ffe6b-74e4-4c19-8066-298d4a37b8f8.json'"
      ]
     },
     "execution_count": 6,
     "metadata": {},
     "output_type": "execute_result"
    }
   ],
   "source": [
    "os.path.abspath(sys.argv[2])"
   ]
  }
 ],
 "metadata": {
  "kernelspec": {
   "display_name": "converter",
   "language": "python",
   "name": "converter"
  },
  "language_info": {
   "codemirror_mode": {
    "name": "ipython",
    "version": 3
   },
   "file_extension": ".py",
   "mimetype": "text/x-python",
   "name": "python",
   "nbconvert_exporter": "python",
   "pygments_lexer": "ipython3",
   "version": "3.6.5"
  }
 },
 "nbformat": 4,
 "nbformat_minor": 2
}
