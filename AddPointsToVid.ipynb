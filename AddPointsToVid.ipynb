{
 "cells": [
  {
   "cell_type": "code",
   "execution_count": 2,
   "metadata": {
    "collapsed": true
   },
   "outputs": [],
   "source": [
    "## Callin Switzer\n",
    "\n",
    "## add points to a movie\n",
    "## Requirements: \n",
    "## -- opencv (to read and write video frames)\n",
    "## -- ffmpeg (to convert video frames to a full movie)"
   ]
  },
  {
   "cell_type": "code",
   "execution_count": 3,
   "metadata": {
    "collapsed": true
   },
   "outputs": [
    {
     "name": "stdout",
     "output_type": "stream",
     "text": [
      "opencv version: 3.4.1\n",
      "python version: 3.6.5 \n",
      "last run: 2019-05-09 16:04:33\n"
     ]
    }
   ],
   "source": [
    "import numpy as np\n",
    "import cv2\n",
    "import matplotlib\n",
    "#matplotlib.use(\"TkAgg\") # have to use this for tkinter to  work below\n",
    "from matplotlib import pyplot as plt\n",
    "%matplotlib inline\n",
    "import skimage.io as io\n",
    "import os\n",
    "import time\n",
    "import sys\n",
    "from datetime import datetime\n",
    "import pandas as pd\n",
    "\n",
    "print(\"opencv version: %s\" % cv2.__version__)\n",
    "print(\"python version: %s\" % sys.version[0:6])\n",
    "print(\"last run: %s\" % datetime.now().strftime('%Y-%m-%d %H:%M:%S'))"
   ]
  },
  {
   "cell_type": "code",
   "execution_count": 4,
   "metadata": {},
   "outputs": [],
   "source": [
    "# adjust gamma, if your vid is too dark\n",
    "def adjust_gamma(image, gamma=1.0):\n",
    "    # build a lookup table mapping the pixel values [0, 255] to\n",
    "    # their adjusted gamma values\n",
    "    invGamma = 1.0 / gamma\n",
    "    table = np.array([((i / 255.0) ** invGamma) * 255\n",
    "        for i in np.arange(0, 256)]).astype(\"uint8\")\n",
    " \n",
    "    # apply gamma correction using the lookup table\n",
    "    return cv2.LUT(image, table)"
   ]
  },
  {
   "cell_type": "code",
   "execution_count": 5,
   "metadata": {
    "collapsed": true
   },
   "outputs": [
    {
     "name": "stdout",
     "output_type": "stream",
     "text": [
      "dataset doesn not exist\n"
     ]
    }
   ],
   "source": [
    "# read in video\n",
    "vidPath = r\"D:\\Dropbox\\AcademiaDropbox\\dataAnalysisForOthers\\SujayFish\\BML 17-23.avi\"\n",
    "if not os.path.isfile(vidPath): print(\"video doesn not exist\")\n",
    "\n",
    "dataPath = \"\"\n",
    "if not os.path.isfile(dataPath): \n",
    "    print(\"dataset doesn not exist\")\n",
    "    \n",
    "else:\n",
    "    dataPoints = pd.read_csv(dataPath)"
   ]
  },
  {
   "cell_type": "code",
   "execution_count": 6,
   "metadata": {},
   "outputs": [
    {
     "name": "stdout",
     "output_type": "stream",
     "text": [
      "488 708 480 10.0\n"
     ]
    }
   ],
   "source": [
    "# get vid info\n",
    "cap = cv2.VideoCapture(vidPath)\n",
    "\n",
    "\n",
    "length = int(cap.get(cv2.CAP_PROP_FRAME_COUNT))\n",
    "width  = int(cap.get(cv2.CAP_PROP_FRAME_WIDTH))\n",
    "height = int(cap.get(cv2.CAP_PROP_FRAME_HEIGHT))\n",
    "fps    = cap.get(cv2.CAP_PROP_FPS)\n",
    "\n",
    "print(length, width, height, fps)\n",
    "cap.release()"
   ]
  },
  {
   "cell_type": "code",
   "execution_count": 7,
   "metadata": {},
   "outputs": [
    {
     "data": {
      "text/html": [
       "<div>\n",
       "<style scoped>\n",
       "    .dataframe tbody tr th:only-of-type {\n",
       "        vertical-align: middle;\n",
       "    }\n",
       "\n",
       "    .dataframe tbody tr th {\n",
       "        vertical-align: top;\n",
       "    }\n",
       "\n",
       "    .dataframe thead th {\n",
       "        text-align: right;\n",
       "    }\n",
       "</style>\n",
       "<table border=\"1\" class=\"dataframe\">\n",
       "  <thead>\n",
       "    <tr style=\"text-align: right;\">\n",
       "      <th></th>\n",
       "      <th>frameNum</th>\n",
       "      <th>x</th>\n",
       "      <th>y</th>\n",
       "    </tr>\n",
       "  </thead>\n",
       "  <tbody>\n",
       "    <tr>\n",
       "      <th>0</th>\n",
       "      <td>0</td>\n",
       "      <td>345.314955</td>\n",
       "      <td>258.005408</td>\n",
       "    </tr>\n",
       "    <tr>\n",
       "      <th>1</th>\n",
       "      <td>1</td>\n",
       "      <td>353.293719</td>\n",
       "      <td>253.437744</td>\n",
       "    </tr>\n",
       "    <tr>\n",
       "      <th>2</th>\n",
       "      <td>2</td>\n",
       "      <td>355.557547</td>\n",
       "      <td>241.410076</td>\n",
       "    </tr>\n",
       "    <tr>\n",
       "      <th>3</th>\n",
       "      <td>3</td>\n",
       "      <td>343.507189</td>\n",
       "      <td>239.551217</td>\n",
       "    </tr>\n",
       "    <tr>\n",
       "      <th>4</th>\n",
       "      <td>4</td>\n",
       "      <td>338.878387</td>\n",
       "      <td>232.951281</td>\n",
       "    </tr>\n",
       "  </tbody>\n",
       "</table>\n",
       "</div>"
      ],
      "text/plain": [
       "   frameNum           x           y\n",
       "0         0  345.314955  258.005408\n",
       "1         1  353.293719  253.437744\n",
       "2         2  355.557547  241.410076\n",
       "3         3  343.507189  239.551217\n",
       "4         4  338.878387  232.951281"
      ]
     },
     "execution_count": 7,
     "metadata": {},
     "output_type": "execute_result"
    }
   ],
   "source": [
    "\n",
    "\n",
    "from scipy.stats import norm\n",
    "np.random.seed(123)\n",
    "\n",
    "# Process parameters\n",
    "delta = 4\n",
    "dt = 0.5\n",
    "\n",
    "# Initial condition.\n",
    "x = width//2\n",
    "y = height//2\n",
    "\n",
    "# Number of iterations to compute.\n",
    "n = length\n",
    "\n",
    "# Iterate to compute the steps of the Brownian motion.\n",
    "xx = []\n",
    "for k in range(n):\n",
    "    x = x + norm.rvs(scale=delta**2*dt)\n",
    "    xx.append(x)\n",
    "    \n",
    "# Iterate to compute the steps of the Brownian motion.\n",
    "yy = []\n",
    "for k in range(n):\n",
    "    y = y + norm.rvs(scale=delta**2*dt)\n",
    "    yy.append(y)\n",
    "    \n",
    "# make fake dataset for testing purposes\n",
    "dataPoints = pd.DataFrame({\"frameNum\":np.arange(0, length), \n",
    "                          \"x\": xx, \n",
    "                          \"y\":yy})\n",
    "dataPoints.head()"
   ]
  },
  {
   "cell_type": "code",
   "execution_count": 8,
   "metadata": {},
   "outputs": [
    {
     "data": {
      "text/plain": [
       "(0, 480)"
      ]
     },
     "execution_count": 8,
     "metadata": {},
     "output_type": "execute_result"
    },
    {
     "data": {
      "image/png": "[encoded data removed]",
      "text/plain": [
       "<matplotlib.figure.Figure at 0x1ea9152b4e0>"
      ]
     },
     "metadata": {},
     "output_type": "display_data"
    }
   ],
   "source": [
    "plt.plot(xx, yy)\n",
    "plt.xlim([0, width])\n",
    "plt.ylim([0, height])"
   ]
  },
  {
   "cell_type": "code",
   "execution_count": 9,
   "metadata": {
    "collapsed": true
   },
   "outputs": [],
   "source": [
    "def load_imgs(vidPath):\n",
    "    '''\n",
    "    Reads frames from video and stores as a list\n",
    "    \n",
    "    Parameters: \n",
    "    vidPath (string): Path to video\n",
    "    \n",
    "    Returns: \n",
    "    list of images\n",
    "    '''\n",
    "    \n",
    "    cap = cv2.VideoCapture(vidPath)\n",
    "    imgs = []\n",
    "    for ff in range(length):\n",
    "        ret, frame = cap.read()\n",
    "        if np.mod(ff, 50) == 0:\n",
    "            print(ff) # prints progress in 50 frames\n",
    "        \n",
    "        # convert to grey\n",
    "        img = cv2.cvtColor(frame, cv2.COLOR_BGR2GRAY)\n",
    "        imgs.append(img)\n",
    "            \n",
    "    cap.release()\n",
    "    return imgs"
   ]
  },
  {
   "cell_type": "code",
   "execution_count": 10,
   "metadata": {},
   "outputs": [
    {
     "name": "stdout",
     "output_type": "stream",
     "text": [
      "0\n",
      "50\n",
      "100\n",
      "150\n",
      "200\n",
      "250\n",
      "300\n",
      "350\n",
      "400\n",
      "450\n"
     ]
    }
   ],
   "source": [
    "imList = load_imgs(vidPath)"
   ]
  },
  {
   "cell_type": "code",
   "execution_count": 11,
   "metadata": {},
   "outputs": [
    {
     "data": {
      "text/plain": [
       "<matplotlib.image.AxesImage at 0x1ea930d7438>"
      ]
     },
     "execution_count": 11,
     "metadata": {},
     "output_type": "execute_result"
    },
    {
     "data": {
      "image/png": "[encoded data removed]",
      "text/plain": [
       "<matplotlib.figure.Figure at 0x1ea92004f60>"
      ]
     },
     "metadata": {},
     "output_type": "display_data"
    }
   ],
   "source": [
    "# add points to video\n",
    "io.imshow(imList[0])"
   ]
  },
  {
   "cell_type": "code",
   "execution_count": 12,
   "metadata": {},
   "outputs": [
    {
     "name": "stdout",
     "output_type": "stream",
     "text": [
      "0\n",
      "50\n",
      "100\n",
      "150\n",
      "200\n",
      "250\n",
      "300\n",
      "350\n",
      "400\n",
      "450\n"
     ]
    }
   ],
   "source": [
    "# add circles up to XX points in the past\n",
    "\n",
    "lagPoints = 100 # number of points to plot on each frame\n",
    "alphaVals = np.flip(np.linspace(0, 0.2, lagPoints), axis = 0)\n",
    "\n",
    "outputImgs = []\n",
    "for frameNum in np.arange(0, length):\n",
    "    \n",
    "    # adjust gamma\n",
    "    im1 = adjust_gamma(imList[frameNum], 3)\n",
    "    \n",
    "    # convert to rgb, so I can add colored points\n",
    "    image = cv2.cvtColor(im1,cv2.COLOR_GRAY2RGB)\n",
    "    \n",
    "    \n",
    "    overlay = image.copy()\n",
    "    output = image.copy()\n",
    "    for jj in range(lagPoints):\n",
    "        # add circle, centered at closest integer value\n",
    "        cv2.circle(overlay, (int(dataPoints.x[np.max([frameNum-jj, 0])]), \n",
    "                             int(dataPoints.y[np.max([frameNum-jj, 0])])), \n",
    "                   3, (219, 189, 166), -1)\n",
    "        cv2.addWeighted(overlay, alphaVals[jj], output, 1 - alphaVals[jj],0, output)\n",
    "    outputImgs.append(output)\n",
    "    if np.mod(frameNum, 50) == 0:\n",
    "        print(frameNum)\n"
   ]
  },
  {
   "cell_type": "code",
   "execution_count": 13,
   "metadata": {},
   "outputs": [],
   "source": [
    "# make directory to store images\n",
    "tempImgDirectory = os.path.join(os.path.dirname(vidPath), \"tmpImgs\")\n",
    "if not os.path.exists(tempImgDirectory):\n",
    "    os.mkdir(tempImgDirectory)\n",
    "\n",
    "# play new  video & save images\n",
    "for ii in np.arange(1,len(outputImgs)):\n",
    "    frame = outputImgs[ii]\n",
    "    \n",
    "    # Display the resulting frame \n",
    "    cv2.imshow('Frame', frame) \n",
    "    \n",
    "    # save img\n",
    "    cv2.imwrite(os.path.join(tempImgDirectory, str(ii).zfill(4) + \".png\"), frame)\n",
    "   \n",
    "\n",
    "    # Press Q on keyboard to  exit \n",
    "    if cv2.waitKey(25) & 0xFF == ord('q'): \n",
    "        break\n",
    "cv2.destroyAllWindows()"
   ]
  },
  {
   "cell_type": "code",
   "execution_count": 15,
   "metadata": {},
   "outputs": [],
   "source": [
    "# # you can make images larger: \n",
    "# output = cv2.resize(output, (width*2, height*2), interpolation=cv2.INTER_CUBIC)"
   ]
  },
  {
   "cell_type": "code",
   "execution_count": 16,
   "metadata": {},
   "outputs": [],
   "source": [
    "# show a single image\n",
    "cv2.namedWindow('Output')\n",
    "cv2.imshow(\"Output\", output)\n",
    "\n",
    "# # destroy the window when the mouse clicks the \"X\"\n",
    "while cv2.getWindowProperty('Output', cv2.WND_PROP_VISIBLE) == 1:\n",
    "    if cv2.waitKey(25) & 0xFF == ord('q'): \n",
    "        break\n",
    "cv2.destroyAllWindows()"
   ]
  },
  {
   "cell_type": "code",
   "execution_count": 17,
   "metadata": {},
   "outputs": [],
   "source": [
    "# convert images to video with ffmpeg\n",
    "os.chdir(tempImgDirectory)\n",
    "print(tempImgDirectory)\n",
    "# use ffmpeg to convert directory to video\n",
    "# -r is output frame rate\n",
    "os.system('ffmpeg -start_number 0 -r 50 -i %04d.png -vf \"scale=trunc(iw/2)*2:trunc(ih/2)*2\" -c:v libx264 -pix_fmt yuv420p -y outputVid.mp4')"
   ]
  },
  {
   "cell_type": "code",
   "execution_count": 23,
   "metadata": {},
   "outputs": [],
   "source": [
    "# delete images from directory\n",
    "delFiles = [f for f in os.listdir(tempImgDirectory) if f.endswith(\"png\")]"
   ]
  },
  {
   "cell_type": "code",
   "execution_count": 27,
   "metadata": {},
   "outputs": [
    {
     "ename": "FileNotFoundError",
     "evalue": "[WinError 2] The system cannot find the file specified: 'D:\\\\Dropbox\\\\AcademiaDropbox\\\\dataAnalysisForOthers\\\\SujayFish\\\\tmpImgs\\\\0001.png'",
     "output_type": "error",
     "traceback": [
      "\u001b[1;31m---------------------------------------------------------------------------\u001b[0m",
      "\u001b[1;31mFileNotFoundError\u001b[0m                         Traceback (most recent call last)",
      "\u001b[1;32m<ipython-input-27-57219f9663b2>\u001b[0m in \u001b[0;36m<module>\u001b[1;34m()\u001b[0m\n\u001b[1;32m----> 1\u001b[1;33m \u001b[0mdlfs\u001b[0m \u001b[1;33m=\u001b[0m \u001b[1;33m[\u001b[0m\u001b[0mos\u001b[0m\u001b[1;33m.\u001b[0m\u001b[0mremove\u001b[0m\u001b[1;33m(\u001b[0m\u001b[0mos\u001b[0m\u001b[1;33m.\u001b[0m\u001b[0mpath\u001b[0m\u001b[1;33m.\u001b[0m\u001b[0mjoin\u001b[0m\u001b[1;33m(\u001b[0m\u001b[0mtempImgDirectory\u001b[0m\u001b[1;33m,\u001b[0m \u001b[0mdelFiles\u001b[0m\u001b[1;33m[\u001b[0m\u001b[0mii\u001b[0m\u001b[1;33m]\u001b[0m\u001b[1;33m)\u001b[0m\u001b[1;33m)\u001b[0m \u001b[1;32mfor\u001b[0m \u001b[0mii\u001b[0m \u001b[1;32min\u001b[0m \u001b[0mrange\u001b[0m\u001b[1;33m(\u001b[0m\u001b[0mlen\u001b[0m\u001b[1;33m(\u001b[0m\u001b[0mdelFiles\u001b[0m\u001b[1;33m)\u001b[0m\u001b[1;33m)\u001b[0m\u001b[1;33m]\u001b[0m\u001b[1;33m\u001b[0m\u001b[0m\n\u001b[0m",
      "\u001b[1;32m<ipython-input-27-57219f9663b2>\u001b[0m in \u001b[0;36m<listcomp>\u001b[1;34m(.0)\u001b[0m\n\u001b[1;32m----> 1\u001b[1;33m \u001b[0mdlfs\u001b[0m \u001b[1;33m=\u001b[0m \u001b[1;33m[\u001b[0m\u001b[0mos\u001b[0m\u001b[1;33m.\u001b[0m\u001b[0mremove\u001b[0m\u001b[1;33m(\u001b[0m\u001b[0mos\u001b[0m\u001b[1;33m.\u001b[0m\u001b[0mpath\u001b[0m\u001b[1;33m.\u001b[0m\u001b[0mjoin\u001b[0m\u001b[1;33m(\u001b[0m\u001b[0mtempImgDirectory\u001b[0m\u001b[1;33m,\u001b[0m \u001b[0mdelFiles\u001b[0m\u001b[1;33m[\u001b[0m\u001b[0mii\u001b[0m\u001b[1;33m]\u001b[0m\u001b[1;33m)\u001b[0m\u001b[1;33m)\u001b[0m \u001b[1;32mfor\u001b[0m \u001b[0mii\u001b[0m \u001b[1;32min\u001b[0m \u001b[0mrange\u001b[0m\u001b[1;33m(\u001b[0m\u001b[0mlen\u001b[0m\u001b[1;33m(\u001b[0m\u001b[0mdelFiles\u001b[0m\u001b[1;33m)\u001b[0m\u001b[1;33m)\u001b[0m\u001b[1;33m]\u001b[0m\u001b[1;33m\u001b[0m\u001b[0m\n\u001b[0m",
      "\u001b[1;31mFileNotFoundError\u001b[0m: [WinError 2] The system cannot find the file specified: 'D:\\\\Dropbox\\\\AcademiaDropbox\\\\dataAnalysisForOthers\\\\SujayFish\\\\tmpImgs\\\\0001.png'"
     ]
    }
   ],
   "source": [
    "dlfs = [os.remove(os.path.join(tempImgDirectory, delFiles[ii])) for ii in range(len(delFiles))]"
   ]
  },
  {
   "cell_type": "code",
   "execution_count": null,
   "metadata": {},
   "outputs": [],
   "source": []
  }
 ],
 "metadata": {
  "kernelspec": {
   "display_name": "opencv3",
   "language": "python",
   "name": "opencv3"
  },
  "language_info": {
   "codemirror_mode": {
    "name": "ipython",
    "version": 3
   },
   "file_extension": ".py",
   "mimetype": "text/x-python",
   "name": "python",
   "nbconvert_exporter": "python",
   "pygments_lexer": "ipython3",
   "version": "3.6.5"
  }
 },
 "nbformat": 4,
 "nbformat_minor": 2
}
