{
 "cells": [
  {
   "cell_type": "code",
   "execution_count": 1,
   "metadata": {
    "collapsed": true
   },
   "outputs": [],
   "source": [
    "## Callin Switzer\n",
    "\n",
    "## add points to a movie\n",
    "## Extra Requirements: \n",
    "## -- opencv (to read and write video frames)\n",
    "## -- ffmpeg (to convert video frames to a full movie)"
   ]
  },
  {
   "cell_type": "code",
   "execution_count": 2,
   "metadata": {
    "collapsed": true
   },
   "outputs": [
    {
     "name": "stdout",
     "output_type": "stream",
     "text": [
      "opencv version: 3.4.1\n",
      "python version: 3.6.5 \n",
      "last run: 2019-05-10 10:01:13\n"
     ]
    }
   ],
   "source": [
    "import numpy as np\n",
    "import cv2\n",
    "import matplotlib\n",
    "#matplotlib.use(\"TkAgg\") # have to use this for tkinter to  work below\n",
    "from matplotlib import pyplot as plt\n",
    "%matplotlib inline\n",
    "import skimage.io as io\n",
    "import os\n",
    "import time\n",
    "import sys\n",
    "from datetime import datetime\n",
    "import pandas as pd\n",
    "\n",
    "print(\"opencv version: %s\" % cv2.__version__)\n",
    "print(\"python version: %s\" % sys.version[0:6])\n",
    "print(\"last run: %s\" % datetime.now().strftime('%Y-%m-%d %H:%M:%S'))"
   ]
  },
  {
   "cell_type": "code",
   "execution_count": 3,
   "metadata": {},
   "outputs": [],
   "source": [
    "# adjust gamma, if your vid is too dark\n",
    "def adjust_gamma(image, gamma=1.0):\n",
    "    # build a lookup table mapping the pixel values [0, 255] to\n",
    "    # their adjusted gamma values\n",
    "    invGamma = 1.0 / gamma\n",
    "    table = np.array([((i / 255.0) ** invGamma) * 255\n",
    "        for i in np.arange(0, 256)]).astype(\"uint8\")\n",
    " \n",
    "    # apply gamma correction using the lookup table\n",
    "    return cv2.LUT(image, table)"
   ]
  },
  {
   "cell_type": "code",
   "execution_count": 193,
   "metadata": {
    "collapsed": true
   },
   "outputs": [
    {
     "data": {
      "text/html": [
       "<div>\n",
       "<style scoped>\n",
       "    .dataframe tbody tr th:only-of-type {\n",
       "        vertical-align: middle;\n",
       "    }\n",
       "\n",
       "    .dataframe tbody tr th {\n",
       "        vertical-align: top;\n",
       "    }\n",
       "\n",
       "    .dataframe thead th {\n",
       "        text-align: right;\n",
       "    }\n",
       "</style>\n",
       "<table border=\"1\" class=\"dataframe\">\n",
       "  <thead>\n",
       "    <tr style=\"text-align: right;\">\n",
       "      <th></th>\n",
       "      <th>FrameNumber</th>\n",
       "      <th>Name</th>\n",
       "      <th>X_position</th>\n",
       "      <th>Y_position</th>\n",
       "    </tr>\n",
       "  </thead>\n",
       "  <tbody>\n",
       "    <tr>\n",
       "      <th>0</th>\n",
       "      <td>26059</td>\n",
       "      <td>L0.1_c-3_m12</td>\n",
       "      <td>NaN</td>\n",
       "      <td>NaN</td>\n",
       "    </tr>\n",
       "    <tr>\n",
       "      <th>1</th>\n",
       "      <td>26060</td>\n",
       "      <td>L0.1_c-3_m12</td>\n",
       "      <td>633.0</td>\n",
       "      <td>81.0</td>\n",
       "    </tr>\n",
       "    <tr>\n",
       "      <th>2</th>\n",
       "      <td>26061</td>\n",
       "      <td>L0.1_c-3_m12</td>\n",
       "      <td>633.0</td>\n",
       "      <td>23.0</td>\n",
       "    </tr>\n",
       "    <tr>\n",
       "      <th>3</th>\n",
       "      <td>26062</td>\n",
       "      <td>L0.1_c-3_m12</td>\n",
       "      <td>615.0</td>\n",
       "      <td>84.0</td>\n",
       "    </tr>\n",
       "    <tr>\n",
       "      <th>4</th>\n",
       "      <td>26063</td>\n",
       "      <td>L0.1_c-3_m12</td>\n",
       "      <td>626.0</td>\n",
       "      <td>137.0</td>\n",
       "    </tr>\n",
       "  </tbody>\n",
       "</table>\n",
       "</div>"
      ],
      "text/plain": [
       "   FrameNumber          Name  X_position  Y_position\n",
       "0        26059  L0.1_c-3_m12         NaN         NaN\n",
       "1        26060  L0.1_c-3_m12       633.0        81.0\n",
       "2        26061  L0.1_c-3_m12       633.0        23.0\n",
       "3        26062  L0.1_c-3_m12       615.0        84.0\n",
       "4        26063  L0.1_c-3_m12       626.0       137.0"
      ]
     },
     "execution_count": 193,
     "metadata": {},
     "output_type": "execute_result"
    }
   ],
   "source": [
    "# read in video\n",
    "vidPath = r\"D:\\Dropbox\\AcademiaDropbox\\dataAnalysisForOthers\\MahadMovies\\L0.1_c-3_m12.mp4\"\n",
    "if not os.path.isfile(vidPath): print(\"video doesn not exist\")\n",
    "\n",
    "dataPath = r\"D:\\Dropbox\\AcademiaDropbox\\dataAnalysisForOthers\\MahadMovies\\Final_position_centroid_method_FirstTrial_L0.1_c-3_m12.csv\"\n",
    "#dataPath = r\"D:\\Dropbox\\AcademiaDropbox\\dataAnalysisForOthers\\MahadMovies\\Final_position_centroid_method_LastTrial_L0.1_c-3_m12.csv\"\n",
    "if not os.path.isfile(dataPath): \n",
    "    print(\"dataset doesn not exist\")\n",
    "    \n",
    "else:\n",
    "    dataPoints = pd.read_csv(dataPath, index_col  = 0)\n",
    "\n",
    "dataPoints.head()"
   ]
  },
  {
   "cell_type": "code",
   "execution_count": 194,
   "metadata": {},
   "outputs": [
    {
     "name": "stdout",
     "output_type": "stream",
     "text": [
      "97782 648 488 30.0\n"
     ]
    }
   ],
   "source": [
    "# get vid info\n",
    "cap = cv2.VideoCapture(vidPath)\n",
    "\n",
    "length = int(cap.get(cv2.CAP_PROP_FRAME_COUNT))\n",
    "width  = int(cap.get(cv2.CAP_PROP_FRAME_WIDTH))\n",
    "height = int(cap.get(cv2.CAP_PROP_FRAME_HEIGHT))\n",
    "fps    = cap.get(cv2.CAP_PROP_FPS)\n",
    "\n",
    "print(length, width, height, fps)\n",
    "cap.release()"
   ]
  },
  {
   "cell_type": "code",
   "execution_count": 195,
   "metadata": {},
   "outputs": [],
   "source": [
    "# data cleaning\n"
   ]
  },
  {
   "cell_type": "code",
   "execution_count": 196,
   "metadata": {},
   "outputs": [
    {
     "data": {
      "text/html": [
       "<div>\n",
       "<style scoped>\n",
       "    .dataframe tbody tr th:only-of-type {\n",
       "        vertical-align: middle;\n",
       "    }\n",
       "\n",
       "    .dataframe tbody tr th {\n",
       "        vertical-align: top;\n",
       "    }\n",
       "\n",
       "    .dataframe thead th {\n",
       "        text-align: right;\n",
       "    }\n",
       "</style>\n",
       "<table border=\"1\" class=\"dataframe\">\n",
       "  <thead>\n",
       "    <tr style=\"text-align: right;\">\n",
       "      <th></th>\n",
       "      <th>FrameNumber</th>\n",
       "      <th>Name</th>\n",
       "      <th>X_position</th>\n",
       "      <th>Y_position</th>\n",
       "      <th>X_filled</th>\n",
       "      <th>Y_filled</th>\n",
       "    </tr>\n",
       "  </thead>\n",
       "  <tbody>\n",
       "    <tr>\n",
       "      <th>0</th>\n",
       "      <td>26059</td>\n",
       "      <td>L0.1_c-3_m12</td>\n",
       "      <td>NaN</td>\n",
       "      <td>NaN</td>\n",
       "      <td>633.0</td>\n",
       "      <td>81.0</td>\n",
       "    </tr>\n",
       "    <tr>\n",
       "      <th>1</th>\n",
       "      <td>26060</td>\n",
       "      <td>L0.1_c-3_m12</td>\n",
       "      <td>633.0</td>\n",
       "      <td>81.0</td>\n",
       "      <td>633.0</td>\n",
       "      <td>81.0</td>\n",
       "    </tr>\n",
       "    <tr>\n",
       "      <th>2</th>\n",
       "      <td>26061</td>\n",
       "      <td>L0.1_c-3_m12</td>\n",
       "      <td>633.0</td>\n",
       "      <td>23.0</td>\n",
       "      <td>633.0</td>\n",
       "      <td>23.0</td>\n",
       "    </tr>\n",
       "    <tr>\n",
       "      <th>3</th>\n",
       "      <td>26062</td>\n",
       "      <td>L0.1_c-3_m12</td>\n",
       "      <td>615.0</td>\n",
       "      <td>84.0</td>\n",
       "      <td>615.0</td>\n",
       "      <td>84.0</td>\n",
       "    </tr>\n",
       "    <tr>\n",
       "      <th>4</th>\n",
       "      <td>26063</td>\n",
       "      <td>L0.1_c-3_m12</td>\n",
       "      <td>626.0</td>\n",
       "      <td>137.0</td>\n",
       "      <td>626.0</td>\n",
       "      <td>137.0</td>\n",
       "    </tr>\n",
       "  </tbody>\n",
       "</table>\n",
       "</div>"
      ],
      "text/plain": [
       "   FrameNumber          Name  X_position  Y_position  X_filled  Y_filled\n",
       "0        26059  L0.1_c-3_m12         NaN         NaN     633.0      81.0\n",
       "1        26060  L0.1_c-3_m12       633.0        81.0     633.0      81.0\n",
       "2        26061  L0.1_c-3_m12       633.0        23.0     633.0      23.0\n",
       "3        26062  L0.1_c-3_m12       615.0        84.0     615.0      84.0\n",
       "4        26063  L0.1_c-3_m12       626.0       137.0     626.0     137.0"
      ]
     },
     "execution_count": 196,
     "metadata": {},
     "output_type": "execute_result"
    }
   ],
   "source": [
    "dataPoints[\"X_filled\"] = dataPoints[\"X_position\"].interpolate().fillna(method = \"ffill\").fillna(method = \"bfill\")\n",
    "dataPoints[\"Y_filled\"] = dataPoints[\"Y_position\"].interpolate().fillna(method = \"ffill\").fillna(method = \"bfill\")\n",
    "dataPoints.head()"
   ]
  },
  {
   "cell_type": "code",
   "execution_count": 197,
   "metadata": {
    "collapsed": true
   },
   "outputs": [
    {
     "name": "stdout",
     "output_type": "stream",
     "text": [
      "26100\n",
      "26150\n",
      "26200\n",
      "26250\n",
      "26300\n",
      "26350\n",
      "26400\n",
      "26450\n",
      "26500\n",
      "26550\n",
      "26600\n",
      "26650\n",
      "26700\n",
      "26750\n",
      "26800\n",
      "26850\n",
      "26900\n",
      "26950\n",
      "27000\n",
      "27050\n",
      "27100\n",
      "27150\n",
      "27200\n",
      "27250\n",
      "27300\n",
      "27350\n",
      "27400\n"
     ]
    }
   ],
   "source": [
    "def load_imgs(vidPath, firstFrame, lastFrame):\n",
    "    '''\n",
    "    Reads frames from video and stores as a list\n",
    "    \n",
    "    Parameters: \n",
    "    vidPath (string): Path to video\n",
    "    \n",
    "    Returns: \n",
    "    list of images\n",
    "    '''\n",
    "    \n",
    "    cap = cv2.VideoCapture(vidPath)\n",
    "    length = int(cap.get(cv2.CAP_PROP_FRAME_COUNT))\n",
    "    imgs = []\n",
    "    for ff in range(length):\n",
    "        ret, frame = cap.read()\n",
    "        if ff < firstFrame:\n",
    "            continue\n",
    "        elif ff >= lastFrame:\n",
    "            break\n",
    "        else:\n",
    "            if np.mod(ff, 50) == 0:\n",
    "                print(ff) # prints progress in 50 frames\n",
    "\n",
    "            # convert to grey\n",
    "            #img = cv2.cvtColor(frame, cv2.COLOR_BGR2GRAY)\n",
    "            imgs.append(frame)\n",
    "            \n",
    "    cap.release()\n",
    "    return imgs\n",
    "\n",
    "\n",
    "# load images\n",
    "imList = load_imgs(vidPath, np.min(dataPoints.FrameNumber), np.max(dataPoints.FrameNumber))"
   ]
  },
  {
   "cell_type": "code",
   "execution_count": 198,
   "metadata": {},
   "outputs": [],
   "source": [
    "# smooth with a rolling mean\n",
    "dataPoints[\"Y_smoothed\"] = dataPoints[\"Y_filled\"].rolling(21, min_periods = 1, center = True).mean()\n",
    "dataPoints[\"X_smoothed\"] = dataPoints[\"X_filled\"].rolling(21, min_periods = 1, center = True).mean()"
   ]
  },
  {
   "cell_type": "code",
   "execution_count": 207,
   "metadata": {},
   "outputs": [],
   "source": [
    "# here's a little more smoothing -- a lowpass filter\n",
    "# smooth data\n",
    "from scipy import signal\n",
    "b, a = signal.butter(10, 0.4, btype=\"low\")\n",
    "\n",
    "# Applies filter forward and backward in time\n",
    "dataPoints[\"Y_smoothed2\"] = signal.filtfilt(b, a, dataPoints.Y_smoothed)\n",
    "dataPoints[\"X_smoothed2\"] = signal.filtfilt(b, a, dataPoints.X_smoothed)"
   ]
  },
  {
   "cell_type": "code",
   "execution_count": 208,
   "metadata": {},
   "outputs": [
    {
     "data": {
      "text/html": [
       "<div>\n",
       "<style scoped>\n",
       "    .dataframe tbody tr th:only-of-type {\n",
       "        vertical-align: middle;\n",
       "    }\n",
       "\n",
       "    .dataframe tbody tr th {\n",
       "        vertical-align: top;\n",
       "    }\n",
       "\n",
       "    .dataframe thead th {\n",
       "        text-align: right;\n",
       "    }\n",
       "</style>\n",
       "<table border=\"1\" class=\"dataframe\">\n",
       "  <thead>\n",
       "    <tr style=\"text-align: right;\">\n",
       "      <th></th>\n",
       "      <th>FrameNumber</th>\n",
       "      <th>Name</th>\n",
       "      <th>X_position</th>\n",
       "      <th>Y_position</th>\n",
       "      <th>X_filled</th>\n",
       "      <th>Y_filled</th>\n",
       "      <th>Y_smoothed</th>\n",
       "      <th>X_smoothed</th>\n",
       "      <th>Y_smoothed2</th>\n",
       "      <th>X_smoothed2</th>\n",
       "    </tr>\n",
       "  </thead>\n",
       "  <tbody>\n",
       "    <tr>\n",
       "      <th>0</th>\n",
       "      <td>26059</td>\n",
       "      <td>L0.1_c-3_m12</td>\n",
       "      <td>NaN</td>\n",
       "      <td>NaN</td>\n",
       "      <td>633.0</td>\n",
       "      <td>81.0</td>\n",
       "      <td>127.272727</td>\n",
       "      <td>619.454545</td>\n",
       "      <td>127.272458</td>\n",
       "      <td>619.453498</td>\n",
       "    </tr>\n",
       "    <tr>\n",
       "      <th>1</th>\n",
       "      <td>26060</td>\n",
       "      <td>L0.1_c-3_m12</td>\n",
       "      <td>633.0</td>\n",
       "      <td>81.0</td>\n",
       "      <td>633.0</td>\n",
       "      <td>81.0</td>\n",
       "      <td>134.000000</td>\n",
       "      <td>617.666667</td>\n",
       "      <td>134.272570</td>\n",
       "      <td>617.733192</td>\n",
       "    </tr>\n",
       "    <tr>\n",
       "      <th>2</th>\n",
       "      <td>26061</td>\n",
       "      <td>L0.1_c-3_m12</td>\n",
       "      <td>633.0</td>\n",
       "      <td>23.0</td>\n",
       "      <td>633.0</td>\n",
       "      <td>23.0</td>\n",
       "      <td>140.846154</td>\n",
       "      <td>616.384615</td>\n",
       "      <td>140.640403</td>\n",
       "      <td>616.503656</td>\n",
       "    </tr>\n",
       "    <tr>\n",
       "      <th>3</th>\n",
       "      <td>26062</td>\n",
       "      <td>L0.1_c-3_m12</td>\n",
       "      <td>615.0</td>\n",
       "      <td>84.0</td>\n",
       "      <td>615.0</td>\n",
       "      <td>84.0</td>\n",
       "      <td>146.428571</td>\n",
       "      <td>615.928571</td>\n",
       "      <td>146.371287</td>\n",
       "      <td>615.808183</td>\n",
       "    </tr>\n",
       "    <tr>\n",
       "      <th>4</th>\n",
       "      <td>26063</td>\n",
       "      <td>L0.1_c-3_m12</td>\n",
       "      <td>626.0</td>\n",
       "      <td>137.0</td>\n",
       "      <td>626.0</td>\n",
       "      <td>137.0</td>\n",
       "      <td>151.866667</td>\n",
       "      <td>615.333333</td>\n",
       "      <td>152.013436</td>\n",
       "      <td>615.265333</td>\n",
       "    </tr>\n",
       "  </tbody>\n",
       "</table>\n",
       "</div>"
      ],
      "text/plain": [
       "   FrameNumber          Name  X_position  Y_position  X_filled  Y_filled  \\\n",
       "0        26059  L0.1_c-3_m12         NaN         NaN     633.0      81.0   \n",
       "1        26060  L0.1_c-3_m12       633.0        81.0     633.0      81.0   \n",
       "2        26061  L0.1_c-3_m12       633.0        23.0     633.0      23.0   \n",
       "3        26062  L0.1_c-3_m12       615.0        84.0     615.0      84.0   \n",
       "4        26063  L0.1_c-3_m12       626.0       137.0     626.0     137.0   \n",
       "\n",
       "   Y_smoothed  X_smoothed  Y_smoothed2  X_smoothed2  \n",
       "0  127.272727  619.454545   127.272458   619.453498  \n",
       "1  134.000000  617.666667   134.272570   617.733192  \n",
       "2  140.846154  616.384615   140.640403   616.503656  \n",
       "3  146.428571  615.928571   146.371287   615.808183  \n",
       "4  151.866667  615.333333   152.013436   615.265333  "
      ]
     },
     "execution_count": 208,
     "metadata": {},
     "output_type": "execute_result"
    }
   ],
   "source": [
    "dataPoints.head()"
   ]
  },
  {
   "cell_type": "code",
   "execution_count": 209,
   "metadata": {},
   "outputs": [
    {
     "data": {
      "image/png": "[encoded data removed]",
      "text/plain": [
       "<matplotlib.figure.Figure at 0x17a57313cc0>"
      ]
     },
     "metadata": {},
     "output_type": "display_data"
    },
    {
     "data": {
      "image/png": "[encoded data removed]",
      "text/plain": [
       "<matplotlib.figure.Figure at 0x17a4a5774e0>"
      ]
     },
     "metadata": {},
     "output_type": "display_data"
    }
   ],
   "source": [
    "plt.plot(dataPoints.X_filled)\n",
    "plt.plot(dataPoints[\"X_smoothed\"])\n",
    "plt.plot(dataPoints[\"X_smoothed2\"])\n",
    "plt.show()\n",
    "\n",
    "plt.plot(dataPoints.Y_filled)\n",
    "plt.plot(dataPoints[\"Y_smoothed\"])\n",
    "plt.plot(dataPoints[\"Y_smoothed2\"])\n",
    "plt.show()\n"
   ]
  },
  {
   "cell_type": "code",
   "execution_count": 210,
   "metadata": {},
   "outputs": [
    {
     "data": {
      "text/plain": [
       "(0, 488)"
      ]
     },
     "execution_count": 210,
     "metadata": {},
     "output_type": "execute_result"
    },
    {
     "data": {
      "image/png": "[encoded data removed]",
      "text/plain": [
       "<matplotlib.figure.Figure at 0x17ab89ccc18>"
      ]
     },
     "metadata": {},
     "output_type": "display_data"
    }
   ],
   "source": [
    "plt.plot(dataPoints.X_position, dataPoints.Y_position)\n",
    "plt.plot(dataPoints.X_smoothed, dataPoints.Y_smoothed)\n",
    "plt.plot(dataPoints.X_smoothed2, dataPoints.Y_smoothed2)\n",
    "plt.xlim([0, width])\n",
    "plt.ylim([0, height])"
   ]
  },
  {
   "cell_type": "code",
   "execution_count": 211,
   "metadata": {},
   "outputs": [
    {
     "data": {
      "text/plain": [
       "<matplotlib.image.AxesImage at 0x17a574880f0>"
      ]
     },
     "execution_count": 211,
     "metadata": {},
     "output_type": "execute_result"
    },
    {
     "data": {
      "image/png": "[encoded data removed]",
      "text/plain": [
       "<matplotlib.figure.Figure at 0x17a5b093a90>"
      ]
     },
     "metadata": {},
     "output_type": "display_data"
    }
   ],
   "source": [
    "# show first image\n",
    "io.imshow(imList[0])"
   ]
  },
  {
   "cell_type": "code",
   "execution_count": 212,
   "metadata": {},
   "outputs": [
    {
     "data": {
      "text/plain": [
       "(488, 648, 3)"
      ]
     },
     "execution_count": 212,
     "metadata": {},
     "output_type": "execute_result"
    }
   ],
   "source": [
    "imList[0].shape"
   ]
  },
  {
   "cell_type": "code",
   "execution_count": 213,
   "metadata": {},
   "outputs": [
    {
     "name": "stdout",
     "output_type": "stream",
     "text": [
      "0  of  1352\n",
      "50  of  1352\n",
      "100  of  1352\n",
      "150  of  1352\n",
      "200  of  1352\n",
      "250  of  1352\n",
      "300  of  1352\n",
      "350  of  1352\n",
      "400  of  1352\n",
      "450  of  1352\n",
      "500  of  1352\n",
      "550  of  1352\n",
      "600  of  1352\n",
      "650  of  1352\n",
      "700  of  1352\n",
      "750  of  1352\n",
      "800  of  1352\n",
      "850  of  1352\n",
      "900  of  1352\n",
      "950  of  1352\n",
      "1000  of  1352\n",
      "1050  of  1352\n",
      "1100  of  1352\n",
      "1150  of  1352\n",
      "1200  of  1352\n",
      "1250  of  1352\n",
      "1300  of  1352\n",
      "1350  of  1352\n"
     ]
    }
   ],
   "source": [
    "# make directory to store images\n",
    "tempImgDirectory = os.path.join(os.path.dirname(vidPath), \"tmpImgs\")\n",
    "if not os.path.exists(tempImgDirectory):\n",
    "    os.mkdir(tempImgDirectory)\n",
    "\n",
    "# add circles up to XX points in the past\n",
    "\n",
    "lagPoints = 200 # number of points to plot on each frame\n",
    "alphaVals = np.flip(np.linspace(0, 0.2, lagPoints), axis = 0)\n",
    "vidLen = len(imList)\n",
    "outputImgs = []\n",
    "for frameNum in np.arange(0, vidLen):\n",
    "    \n",
    "    # adjust gamma\n",
    "    image = adjust_gamma(imList[frameNum], 1.5)\n",
    "    \n",
    "    # convert to rgb, so I can add colored points\n",
    "    #image = cv2.cvtColor(im1,cv2.COLOR_GRAY2RGB)\n",
    "    \n",
    "    \n",
    "    overlay = image.copy()\n",
    "    output = image.copy()\n",
    "    for jj in range(lagPoints):\n",
    "        # add circle, centered at closest integer value\n",
    "        cv2.circle(overlay, (int(dataPoints.X_smoothed2[np.max([frameNum-jj, 0])]), \n",
    "                             int(dataPoints.Y_smoothed2[np.max([frameNum-jj, 0])])), \n",
    "                   3, (219, 189, 166), -1)\n",
    "        cv2.addWeighted(overlay, alphaVals[jj], output, 1 - alphaVals[jj],0, output)\n",
    "    \n",
    "    # invert color\n",
    "    # output = cv2.bitwise_not(output)\n",
    "    \n",
    "    \n",
    "    outputImgs.append(output)\n",
    "    \n",
    "    # display image -- it may be a bit faster if you don't display the images\n",
    "    cv2.imshow('Output', output) \n",
    "     \n",
    "    # save img\n",
    "    cv2.imwrite(os.path.join(tempImgDirectory, str(frameNum).zfill(4) + \".png\"), output)\n",
    "    \n",
    "    # Press Q on keyboard to  exit \n",
    "    if cv2.waitKey(25) & 0xFF == ord('q'): \n",
    "        break\n",
    "    \n",
    "    if np.mod(frameNum, 50) == 0:\n",
    "        print(frameNum, \" of \", vidLen)\n",
    "\n",
    "cv2.destroyAllWindows()"
   ]
  },
  {
   "cell_type": "code",
   "execution_count": 15,
   "metadata": {},
   "outputs": [],
   "source": [
    "# # you can make images larger: \n",
    "# output = cv2.resize(output, (width*2, height*2), interpolation=cv2.INTER_CUBIC)"
   ]
  },
  {
   "cell_type": "code",
   "execution_count": 170,
   "metadata": {},
   "outputs": [],
   "source": [
    "# show a single image\n",
    "cv2.namedWindow('Output')\n",
    "cv2.imshow(\"Output\", output)\n",
    "\n",
    "# # destroy the window when the mouse clicks the \"X\"\n",
    "while cv2.getWindowProperty('Output', cv2.WND_PROP_VISIBLE) == 1:\n",
    "    if cv2.waitKey(25) & 0xFF == ord('q'): \n",
    "        break\n",
    "cv2.destroyAllWindows()"
   ]
  },
  {
   "cell_type": "code",
   "execution_count": 214,
   "metadata": {},
   "outputs": [
    {
     "name": "stdout",
     "output_type": "stream",
     "text": [
      "D:\\Dropbox\\AcademiaDropbox\\dataAnalysisForOthers\\MahadMovies\\tmpImgs\n"
     ]
    },
    {
     "data": {
      "text/plain": [
       "0"
      ]
     },
     "execution_count": 214,
     "metadata": {},
     "output_type": "execute_result"
    }
   ],
   "source": [
    "# convert images to video with ffmpeg\n",
    "os.chdir(tempImgDirectory)\n",
    "print(tempImgDirectory)\n",
    "# use ffmpeg to convert directory to video\n",
    "# -r is output frame rate\n",
    "os.system('ffmpeg -start_number 0 -r 50 -i %04d.png -vf \"scale=trunc(iw/2)*2:trunc(ih/2)*2\" -c:v libx264 -pix_fmt yuv420p -y outputVid3.mp4')"
   ]
  },
  {
   "cell_type": "code",
   "execution_count": 215,
   "metadata": {},
   "outputs": [],
   "source": [
    "# delete images from directory\n",
    "delFiles = [f for f in os.listdir(tempImgDirectory) if f.endswith(\"png\")]\n",
    "\n",
    "dlfs = [os.remove(os.path.join(tempImgDirectory, delFiles[ii])) for ii in range(len(delFiles))]"
   ]
  },
  {
   "cell_type": "code",
   "execution_count": null,
   "metadata": {},
   "outputs": [],
   "source": []
  }
 ],
 "metadata": {
  "kernelspec": {
   "display_name": "opencv3",
   "language": "python",
   "name": "opencv3"
  },
  "language_info": {
   "codemirror_mode": {
    "name": "ipython",
    "version": 3
   },
   "file_extension": ".py",
   "mimetype": "text/x-python",
   "name": "python",
   "nbconvert_exporter": "python",
   "pygments_lexer": "ipython3",
   "version": "3.6.5"
  }
 },
 "nbformat": 4,
 "nbformat_minor": 2
}
