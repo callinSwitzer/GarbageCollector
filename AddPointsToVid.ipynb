{
 "cells": [
  {
   "cell_type": "code",
   "execution_count": 1,
   "metadata": {
    "collapsed": true
   },
   "outputs": [],
   "source": [
    "## Callin Switzer\n",
    "\n",
    "## add points to a movie\n",
    "## Extra Requirements: \n",
    "## -- opencv (to read and write video frames)\n",
    "## -- ffmpeg (to convert video frames to a full movie)"
   ]
  },
  {
   "cell_type": "code",
   "execution_count": 1,
   "metadata": {
    "collapsed": true
   },
   "outputs": [
    {
     "name": "stdout",
     "output_type": "stream",
     "text": [
      "opencv version: 3.4.1\n",
      "python version: 3.6.5 \n",
      "last run: 2019-05-15 19:01:02\n"
     ]
    }
   ],
   "source": [
    "import numpy as np\n",
    "import cv2\n",
    "import matplotlib\n",
    "#matplotlib.use(\"TkAgg\") # have to use this for tkinter to  work below\n",
    "from matplotlib import pyplot as plt\n",
    "%matplotlib inline\n",
    "import skimage.io as io\n",
    "import os\n",
    "import time\n",
    "import sys\n",
    "from datetime import datetime\n",
    "import pandas as pd\n",
    "\n",
    "print(\"opencv version: %s\" % cv2.__version__)\n",
    "print(\"python version: %s\" % sys.version[0:6])\n",
    "print(\"last run: %s\" % datetime.now().strftime('%Y-%m-%d %H:%M:%S'))"
   ]
  },
  {
   "cell_type": "code",
   "execution_count": 2,
   "metadata": {},
   "outputs": [],
   "source": [
    "# adjust gamma, if your vid is too dark\n",
    "def adjust_gamma(image, gamma=1.0):\n",
    "    # build a lookup table mapping the pixel values [0, 255] to\n",
    "    # their adjusted gamma values\n",
    "    invGamma = 1.0 / gamma\n",
    "    table = np.array([((i / 255.0) ** invGamma) * 255\n",
    "        for i in np.arange(0, 256)]).astype(\"uint8\")\n",
    " \n",
    "    # apply gamma correction using the lookup table\n",
    "    return cv2.LUT(image, table)"
   ]
  },
  {
   "cell_type": "code",
   "execution_count": 6,
   "metadata": {
    "collapsed": true
   },
   "outputs": [
    {
     "data": {
      "text/html": [
       "<div>\n",
       "<style scoped>\n",
       "    .dataframe tbody tr th:only-of-type {\n",
       "        vertical-align: middle;\n",
       "    }\n",
       "\n",
       "    .dataframe tbody tr th {\n",
       "        vertical-align: top;\n",
       "    }\n",
       "\n",
       "    .dataframe thead th {\n",
       "        text-align: right;\n",
       "    }\n",
       "</style>\n",
       "<table border=\"1\" class=\"dataframe\">\n",
       "  <thead>\n",
       "    <tr style=\"text-align: right;\">\n",
       "      <th></th>\n",
       "      <th>FrameNumber</th>\n",
       "      <th>Name</th>\n",
       "      <th>X_position</th>\n",
       "      <th>Y_position</th>\n",
       "    </tr>\n",
       "  </thead>\n",
       "  <tbody>\n",
       "    <tr>\n",
       "      <th>0</th>\n",
       "      <td>29811</td>\n",
       "      <td>L0.1_c-3_m12</td>\n",
       "      <td>NaN</td>\n",
       "      <td>NaN</td>\n",
       "    </tr>\n",
       "    <tr>\n",
       "      <th>1</th>\n",
       "      <td>29812</td>\n",
       "      <td>L0.1_c-3_m12</td>\n",
       "      <td>64.0</td>\n",
       "      <td>21.0</td>\n",
       "    </tr>\n",
       "    <tr>\n",
       "      <th>2</th>\n",
       "      <td>29813</td>\n",
       "      <td>L0.1_c-3_m12</td>\n",
       "      <td>NaN</td>\n",
       "      <td>NaN</td>\n",
       "    </tr>\n",
       "    <tr>\n",
       "      <th>3</th>\n",
       "      <td>29814</td>\n",
       "      <td>L0.1_c-3_m12</td>\n",
       "      <td>NaN</td>\n",
       "      <td>NaN</td>\n",
       "    </tr>\n",
       "    <tr>\n",
       "      <th>4</th>\n",
       "      <td>29815</td>\n",
       "      <td>L0.1_c-3_m12</td>\n",
       "      <td>45.0</td>\n",
       "      <td>14.0</td>\n",
       "    </tr>\n",
       "  </tbody>\n",
       "</table>\n",
       "</div>"
      ],
      "text/plain": [
       "   FrameNumber          Name  X_position  Y_position\n",
       "0        29811  L0.1_c-3_m12         NaN         NaN\n",
       "1        29812  L0.1_c-3_m12        64.0        21.0\n",
       "2        29813  L0.1_c-3_m12         NaN         NaN\n",
       "3        29814  L0.1_c-3_m12         NaN         NaN\n",
       "4        29815  L0.1_c-3_m12        45.0        14.0"
      ]
     },
     "execution_count": 6,
     "metadata": {},
     "output_type": "execute_result"
    }
   ],
   "source": [
    "# read in video\n",
    "vidPath = r\"D:\\Dropbox\\AcademiaDropbox\\dataAnalysisForOthers\\MahadMovies\\L0.1_c-3_m12.mp4\"\n",
    "#vidPath = r\"/Users/cswitzer/Dropbox/AcademiaDropbox/dataAnalysisForOthers/MahadMovies/L0.1_c-3_m12.mp4\"\n",
    "if not os.path.isfile(vidPath): print(\"video doesn not exist\")\n",
    "\n",
    "#dataPath = r\"D:\\Dropbox\\AcademiaDropbox\\dataAnalysisForOthers\\MahadMovies\\Final_position_centroid_method_FirstTrial_L0.1_c-3_m12.csv\"\n",
    "dataPath = r\"D:\\Dropbox\\AcademiaDropbox\\dataAnalysisForOthers\\MahadMovies\\Final_position_centroid_method_LastTrial_L0.1_c-3_m12.csv\"\n",
    "#dataPath = r\"/Users/cswitzer/Dropbox/AcademiaDropbox/dataAnalysisForOthers/MahadMovies/Final_position_centroid_method_LastTrial_L0.1_c-3_m12.csv\"\n",
    "if not os.path.isfile(dataPath): \n",
    "    print(\"dataset doesn not exist\")  \n",
    "else:\n",
    "    dataPoints = pd.read_csv(dataPath, index_col  = 0)\n",
    "\n",
    "dataPoints.head()"
   ]
  },
  {
   "cell_type": "code",
   "execution_count": 7,
   "metadata": {},
   "outputs": [
    {
     "name": "stdout",
     "output_type": "stream",
     "text": [
      "97782 648 488 30.0\n"
     ]
    }
   ],
   "source": [
    "# get vid info\n",
    "cap = cv2.VideoCapture(vidPath)\n",
    "\n",
    "length = int(cap.get(cv2.CAP_PROP_FRAME_COUNT))\n",
    "width  = int(cap.get(cv2.CAP_PROP_FRAME_WIDTH))\n",
    "height = int(cap.get(cv2.CAP_PROP_FRAME_HEIGHT))\n",
    "fps    = cap.get(cv2.CAP_PROP_FPS)\n",
    "\n",
    "print(length, width, height, fps)\n",
    "cap.release()"
   ]
  },
  {
   "cell_type": "code",
   "execution_count": 8,
   "metadata": {},
   "outputs": [],
   "source": [
    "# data cleaning\n"
   ]
  },
  {
   "cell_type": "code",
   "execution_count": 9,
   "metadata": {},
   "outputs": [
    {
     "data": {
      "text/html": [
       "<div>\n",
       "<style scoped>\n",
       "    .dataframe tbody tr th:only-of-type {\n",
       "        vertical-align: middle;\n",
       "    }\n",
       "\n",
       "    .dataframe tbody tr th {\n",
       "        vertical-align: top;\n",
       "    }\n",
       "\n",
       "    .dataframe thead th {\n",
       "        text-align: right;\n",
       "    }\n",
       "</style>\n",
       "<table border=\"1\" class=\"dataframe\">\n",
       "  <thead>\n",
       "    <tr style=\"text-align: right;\">\n",
       "      <th></th>\n",
       "      <th>FrameNumber</th>\n",
       "      <th>Name</th>\n",
       "      <th>X_position</th>\n",
       "      <th>Y_position</th>\n",
       "      <th>X_filled</th>\n",
       "      <th>Y_filled</th>\n",
       "    </tr>\n",
       "  </thead>\n",
       "  <tbody>\n",
       "    <tr>\n",
       "      <th>0</th>\n",
       "      <td>29811</td>\n",
       "      <td>L0.1_c-3_m12</td>\n",
       "      <td>NaN</td>\n",
       "      <td>NaN</td>\n",
       "      <td>64.000000</td>\n",
       "      <td>21.000000</td>\n",
       "    </tr>\n",
       "    <tr>\n",
       "      <th>1</th>\n",
       "      <td>29812</td>\n",
       "      <td>L0.1_c-3_m12</td>\n",
       "      <td>64.0</td>\n",
       "      <td>21.0</td>\n",
       "      <td>64.000000</td>\n",
       "      <td>21.000000</td>\n",
       "    </tr>\n",
       "    <tr>\n",
       "      <th>2</th>\n",
       "      <td>29813</td>\n",
       "      <td>L0.1_c-3_m12</td>\n",
       "      <td>NaN</td>\n",
       "      <td>NaN</td>\n",
       "      <td>57.666667</td>\n",
       "      <td>18.666667</td>\n",
       "    </tr>\n",
       "    <tr>\n",
       "      <th>3</th>\n",
       "      <td>29814</td>\n",
       "      <td>L0.1_c-3_m12</td>\n",
       "      <td>NaN</td>\n",
       "      <td>NaN</td>\n",
       "      <td>51.333333</td>\n",
       "      <td>16.333333</td>\n",
       "    </tr>\n",
       "    <tr>\n",
       "      <th>4</th>\n",
       "      <td>29815</td>\n",
       "      <td>L0.1_c-3_m12</td>\n",
       "      <td>45.0</td>\n",
       "      <td>14.0</td>\n",
       "      <td>45.000000</td>\n",
       "      <td>14.000000</td>\n",
       "    </tr>\n",
       "  </tbody>\n",
       "</table>\n",
       "</div>"
      ],
      "text/plain": [
       "   FrameNumber          Name  X_position  Y_position   X_filled   Y_filled\n",
       "0        29811  L0.1_c-3_m12         NaN         NaN  64.000000  21.000000\n",
       "1        29812  L0.1_c-3_m12        64.0        21.0  64.000000  21.000000\n",
       "2        29813  L0.1_c-3_m12         NaN         NaN  57.666667  18.666667\n",
       "3        29814  L0.1_c-3_m12         NaN         NaN  51.333333  16.333333\n",
       "4        29815  L0.1_c-3_m12        45.0        14.0  45.000000  14.000000"
      ]
     },
     "execution_count": 9,
     "metadata": {},
     "output_type": "execute_result"
    }
   ],
   "source": [
    "dataPoints[\"X_filled\"] = dataPoints[\"X_position\"].interpolate().fillna(method = \"ffill\").fillna(method = \"bfill\")\n",
    "dataPoints[\"Y_filled\"] = dataPoints[\"Y_position\"].interpolate().fillna(method = \"ffill\").fillna(method = \"bfill\")\n",
    "dataPoints.head()"
   ]
  },
  {
   "cell_type": "code",
   "execution_count": 10,
   "metadata": {
    "collapsed": true
   },
   "outputs": [
    {
     "name": "stdout",
     "output_type": "stream",
     "text": [
      "29850\n",
      "29900\n",
      "29950\n",
      "30000\n",
      "30050\n"
     ]
    }
   ],
   "source": [
    "def load_imgs(vidPath, firstFrame, lastFrame):\n",
    "    '''\n",
    "    Reads frames from video and stores as a list\n",
    "    \n",
    "    Parameters: \n",
    "    vidPath (string): Path to video\n",
    "    \n",
    "    Returns: \n",
    "    list of images\n",
    "    '''\n",
    "    \n",
    "    cap = cv2.VideoCapture(vidPath)\n",
    "    length = int(cap.get(cv2.CAP_PROP_FRAME_COUNT))\n",
    "    imgs = []\n",
    "    for ff in range(length):\n",
    "        ret, frame = cap.read()\n",
    "        if ff < firstFrame:\n",
    "            continue\n",
    "        elif ff >= lastFrame:\n",
    "            break\n",
    "        else:\n",
    "            if np.mod(ff, 50) == 0:\n",
    "                print(ff) # prints progress in 50 frames\n",
    "\n",
    "            # convert to grey\n",
    "            #img = cv2.cvtColor(frame, cv2.COLOR_BGR2GRAY)\n",
    "            imgs.append(frame)\n",
    "            \n",
    "    cap.release()\n",
    "    return imgs\n",
    "\n",
    "\n",
    "# load images\n",
    "imList = load_imgs(vidPath, np.min(dataPoints.FrameNumber), np.max(dataPoints.FrameNumber))"
   ]
  },
  {
   "cell_type": "code",
   "execution_count": 11,
   "metadata": {},
   "outputs": [],
   "source": [
    "# smooth with a rolling mean\n",
    "dataPoints[\"Y_smoothed\"] = dataPoints[\"Y_filled\"].rolling(21, min_periods = 1, center = True).mean()\n",
    "dataPoints[\"X_smoothed\"] = dataPoints[\"X_filled\"].rolling(21, min_periods = 1, center = True).mean()"
   ]
  },
  {
   "cell_type": "code",
   "execution_count": 12,
   "metadata": {},
   "outputs": [],
   "source": [
    "# here's a little more smoothing -- a lowpass filter\n",
    "# smooth data\n",
    "from scipy import signal\n",
    "b, a = signal.butter(10, 0.4, btype=\"low\")\n",
    "\n",
    "# Applies filter forward and backward in time\n",
    "dataPoints[\"Y_smoothed2\"] = signal.filtfilt(b, a, dataPoints.Y_smoothed)\n",
    "dataPoints[\"X_smoothed2\"] = signal.filtfilt(b, a, dataPoints.X_smoothed)"
   ]
  },
  {
   "cell_type": "code",
   "execution_count": 13,
   "metadata": {},
   "outputs": [
    {
     "data": {
      "text/html": [
       "<div>\n",
       "<style scoped>\n",
       "    .dataframe tbody tr th:only-of-type {\n",
       "        vertical-align: middle;\n",
       "    }\n",
       "\n",
       "    .dataframe tbody tr th {\n",
       "        vertical-align: top;\n",
       "    }\n",
       "\n",
       "    .dataframe thead th {\n",
       "        text-align: right;\n",
       "    }\n",
       "</style>\n",
       "<table border=\"1\" class=\"dataframe\">\n",
       "  <thead>\n",
       "    <tr style=\"text-align: right;\">\n",
       "      <th></th>\n",
       "      <th>FrameNumber</th>\n",
       "      <th>Name</th>\n",
       "      <th>X_position</th>\n",
       "      <th>Y_position</th>\n",
       "      <th>X_filled</th>\n",
       "      <th>Y_filled</th>\n",
       "      <th>Y_smoothed</th>\n",
       "      <th>X_smoothed</th>\n",
       "      <th>Y_smoothed2</th>\n",
       "      <th>X_smoothed2</th>\n",
       "    </tr>\n",
       "  </thead>\n",
       "  <tbody>\n",
       "    <tr>\n",
       "      <th>0</th>\n",
       "      <td>29811</td>\n",
       "      <td>L0.1_c-3_m12</td>\n",
       "      <td>NaN</td>\n",
       "      <td>NaN</td>\n",
       "      <td>64.000000</td>\n",
       "      <td>21.000000</td>\n",
       "      <td>15.363636</td>\n",
       "      <td>52.772727</td>\n",
       "      <td>15.362831</td>\n",
       "      <td>52.774159</td>\n",
       "    </tr>\n",
       "    <tr>\n",
       "      <th>1</th>\n",
       "      <td>29812</td>\n",
       "      <td>L0.1_c-3_m12</td>\n",
       "      <td>64.0</td>\n",
       "      <td>21.0</td>\n",
       "      <td>64.000000</td>\n",
       "      <td>21.000000</td>\n",
       "      <td>15.250000</td>\n",
       "      <td>53.208333</td>\n",
       "      <td>15.091757</td>\n",
       "      <td>53.111031</td>\n",
       "    </tr>\n",
       "    <tr>\n",
       "      <th>2</th>\n",
       "      <td>29813</td>\n",
       "      <td>L0.1_c-3_m12</td>\n",
       "      <td>NaN</td>\n",
       "      <td>NaN</td>\n",
       "      <td>57.666667</td>\n",
       "      <td>18.666667</td>\n",
       "      <td>14.692308</td>\n",
       "      <td>52.807692</td>\n",
       "      <td>14.977800</td>\n",
       "      <td>54.213284</td>\n",
       "    </tr>\n",
       "    <tr>\n",
       "      <th>3</th>\n",
       "      <td>29814</td>\n",
       "      <td>L0.1_c-3_m12</td>\n",
       "      <td>NaN</td>\n",
       "      <td>NaN</td>\n",
       "      <td>51.333333</td>\n",
       "      <td>16.333333</td>\n",
       "      <td>15.214286</td>\n",
       "      <td>57.535714</td>\n",
       "      <td>15.211757</td>\n",
       "      <td>56.196530</td>\n",
       "    </tr>\n",
       "    <tr>\n",
       "      <th>4</th>\n",
       "      <td>29815</td>\n",
       "      <td>L0.1_c-3_m12</td>\n",
       "      <td>45.0</td>\n",
       "      <td>14.0</td>\n",
       "      <td>45.000000</td>\n",
       "      <td>14.000000</td>\n",
       "      <td>16.333333</td>\n",
       "      <td>58.966667</td>\n",
       "      <td>15.947965</td>\n",
       "      <td>58.498686</td>\n",
       "    </tr>\n",
       "  </tbody>\n",
       "</table>\n",
       "</div>"
      ],
      "text/plain": [
       "   FrameNumber          Name  X_position  Y_position   X_filled   Y_filled  \\\n",
       "0        29811  L0.1_c-3_m12         NaN         NaN  64.000000  21.000000   \n",
       "1        29812  L0.1_c-3_m12        64.0        21.0  64.000000  21.000000   \n",
       "2        29813  L0.1_c-3_m12         NaN         NaN  57.666667  18.666667   \n",
       "3        29814  L0.1_c-3_m12         NaN         NaN  51.333333  16.333333   \n",
       "4        29815  L0.1_c-3_m12        45.0        14.0  45.000000  14.000000   \n",
       "\n",
       "   Y_smoothed  X_smoothed  Y_smoothed2  X_smoothed2  \n",
       "0   15.363636   52.772727    15.362831    52.774159  \n",
       "1   15.250000   53.208333    15.091757    53.111031  \n",
       "2   14.692308   52.807692    14.977800    54.213284  \n",
       "3   15.214286   57.535714    15.211757    56.196530  \n",
       "4   16.333333   58.966667    15.947965    58.498686  "
      ]
     },
     "execution_count": 13,
     "metadata": {},
     "output_type": "execute_result"
    }
   ],
   "source": [
    "dataPoints.head()"
   ]
  },
  {
   "cell_type": "code",
   "execution_count": 14,
   "metadata": {},
   "outputs": [
    {
     "data": {
      "image/png": "[encoded data removed]",
      "text/plain": [
       "<matplotlib.figure.Figure at 0x1e00ede1da0>"
      ]
     },
     "metadata": {},
     "output_type": "display_data"
    },
    {
     "data": {
      "image/png": "[encoded data removed]",
      "text/plain": [
       "<matplotlib.figure.Figure at 0x1e00ee87630>"
      ]
     },
     "metadata": {},
     "output_type": "display_data"
    }
   ],
   "source": [
    "plt.plot(dataPoints.X_filled)\n",
    "plt.plot(dataPoints[\"X_smoothed\"])\n",
    "plt.plot(dataPoints[\"X_smoothed2\"])\n",
    "plt.show()\n",
    "\n",
    "plt.plot(dataPoints.Y_filled)\n",
    "plt.plot(dataPoints[\"Y_smoothed\"])\n",
    "plt.plot(dataPoints[\"Y_smoothed2\"])\n",
    "plt.show()\n"
   ]
  },
  {
   "cell_type": "code",
   "execution_count": 15,
   "metadata": {},
   "outputs": [
    {
     "data": {
      "text/plain": [
       "(0, 488)"
      ]
     },
     "execution_count": 15,
     "metadata": {},
     "output_type": "execute_result"
    },
    {
     "data": {
      "image/png": "[encoded data removed]",
      "text/plain": [
       "<matplotlib.figure.Figure at 0x1e07b968278>"
      ]
     },
     "metadata": {},
     "output_type": "display_data"
    }
   ],
   "source": [
    "plt.plot(dataPoints.X_position, dataPoints.Y_position)\n",
    "plt.plot(dataPoints.X_smoothed, dataPoints.Y_smoothed)\n",
    "plt.plot(dataPoints.X_smoothed2, dataPoints.Y_smoothed2)\n",
    "plt.xlim([0, width])\n",
    "plt.ylim([0, height])"
   ]
  },
  {
   "cell_type": "code",
   "execution_count": 16,
   "metadata": {},
   "outputs": [
    {
     "data": {
      "text/plain": [
       "<matplotlib.image.AxesImage at 0x1e00efc41d0>"
      ]
     },
     "execution_count": 16,
     "metadata": {},
     "output_type": "execute_result"
    },
    {
     "data": {
      "image/png": "[encoded data removed]",
      "text/plain": [
       "<matplotlib.figure.Figure at 0x1e00ef389e8>"
      ]
     },
     "metadata": {},
     "output_type": "display_data"
    }
   ],
   "source": [
    "# show first image\n",
    "io.imshow(imList[0])"
   ]
  },
  {
   "cell_type": "code",
   "execution_count": 17,
   "metadata": {},
   "outputs": [
    {
     "data": {
      "text/plain": [
       "(488, 648, 3)"
      ]
     },
     "execution_count": 17,
     "metadata": {},
     "output_type": "execute_result"
    }
   ],
   "source": [
    "imList[0].shape"
   ]
  },
  {
   "cell_type": "code",
   "execution_count": 18,
   "metadata": {},
   "outputs": [
    {
     "name": "stdout",
     "output_type": "stream",
     "text": [
      "0  of  273\n",
      "50  of  273\n",
      "100  of  273\n",
      "150  of  273\n",
      "200  of  273\n",
      "250  of  273\n"
     ]
    }
   ],
   "source": [
    "# make directory to store images\n",
    "tempImgDirectory = os.path.join(os.path.dirname(vidPath), \"tmpImgs\")\n",
    "if not os.path.exists(tempImgDirectory):\n",
    "    os.mkdir(tempImgDirectory)\n",
    "\n",
    "# add circles up to XX points in the past\n",
    "\n",
    "lagPoints = 50 # number of points to plot on each frame\n",
    "alphaVals = np.flip(np.linspace(0, 0.2, lagPoints), axis = 0)\n",
    "vidLen = len(imList)\n",
    "outputImgs = []\n",
    "for frameNum in np.arange(0, vidLen):\n",
    "    \n",
    "    # adjust gamma\n",
    "    image = adjust_gamma(imList[frameNum], 1.5)\n",
    "    \n",
    "    # convert to rgb, so I can add colored points\n",
    "    #image = cv2.cvtColor(im1,cv2.COLOR_GRAY2RGB)\n",
    "    \n",
    "    \n",
    "    overlay = image.copy()\n",
    "    output = image.copy()\n",
    "    for jj in range(lagPoints):\n",
    "        # add circle, centered at closest integer value\n",
    "        cv2.circle(overlay, (int(dataPoints.X_smoothed2[np.max([frameNum-jj, 0])]), \n",
    "                             int(dataPoints.Y_smoothed2[np.max([frameNum-jj, 0])])), \n",
    "                   3, (219, 189, 166), -1)\n",
    "        cv2.addWeighted(overlay, alphaVals[jj], output, 1 - alphaVals[jj],0, output)\n",
    "    \n",
    "    # invert color\n",
    "    # output = cv2.bitwise_not(output)\n",
    "    \n",
    "    \n",
    "    outputImgs.append(output)\n",
    "    \n",
    "    # display image -- it may be a bit faster if you don't display the images\n",
    "    cv2.imshow('Output', output) \n",
    "     \n",
    "    # save img\n",
    "    cv2.imwrite(os.path.join(tempImgDirectory, str(frameNum).zfill(4) + \".png\"), output)\n",
    "    \n",
    "    # Press Q on keyboard to  exit \n",
    "    if cv2.waitKey(25) & 0xFF == ord('q'): \n",
    "        break\n",
    "    \n",
    "    if np.mod(frameNum, 50) == 0:\n",
    "        print(frameNum, \" of \", vidLen)\n",
    "\n",
    "cv2.destroyAllWindows()"
   ]
  },
  {
   "cell_type": "code",
   "execution_count": 60,
   "metadata": {},
   "outputs": [],
   "source": [
    "# closes window on Mac\n",
    "cv2.destroyAllWindows()\n",
    "for i in range (1,5):\n",
    "    cv2.waitKey(1)"
   ]
  },
  {
   "cell_type": "code",
   "execution_count": 35,
   "metadata": {},
   "outputs": [],
   "source": [
    "# # you can make images larger: \n",
    "# output = cv2.resize(output, (width*2, height*2), interpolation=cv2.INTER_CUBIC)"
   ]
  },
  {
   "cell_type": "code",
   "execution_count": 19,
   "metadata": {},
   "outputs": [],
   "source": [
    "# show a single image\n",
    "cv2.namedWindow('Output')\n",
    "cv2.imshow(\"Output\", output)\n",
    "\n",
    "# # destroy the window when the mouse clicks the \"X\"\n",
    "while cv2.getWindowProperty('Output', cv2.WND_PROP_VISIBLE) == 1:\n",
    "    if cv2.waitKey(25) & 0xFF == ord('q'): \n",
    "        break\n",
    "cv2.destroyAllWindows()"
   ]
  },
  {
   "cell_type": "code",
   "execution_count": 20,
   "metadata": {},
   "outputs": [
    {
     "name": "stdout",
     "output_type": "stream",
     "text": [
      "D:\\Dropbox\\AcademiaDropbox\\dataAnalysisForOthers\\MahadMovies\\tmpImgs\n"
     ]
    },
    {
     "data": {
      "text/plain": [
       "0"
      ]
     },
     "execution_count": 20,
     "metadata": {},
     "output_type": "execute_result"
    }
   ],
   "source": [
    "# convert images to video with ffmpeg\n",
    "os.chdir(tempImgDirectory)\n",
    "print(tempImgDirectory)\n",
    "# use ffmpeg to convert directory to video\n",
    "# -r is output frame rate\n",
    "\n",
    "# use -c:v mpeg4 for mac\n",
    "# use -c:v libx264 on windows, and you don't need -b:v 10000k\n",
    "os.system('ffmpeg -start_number 0 -r 50 -i %04d.png -vf \"scale=trunc(iw/2)*2:trunc(ih/2)*2\" -c:v mpeg4  -b 10000k -pix_fmt yuv420p -y outputVid3_macVersion.mp4')"
   ]
  },
  {
   "cell_type": "code",
   "execution_count": 24,
   "metadata": {},
   "outputs": [
    {
     "data": {
      "text/plain": [
       "0"
      ]
     },
     "execution_count": 24,
     "metadata": {},
     "output_type": "execute_result"
    }
   ],
   "source": [
    "# speed up video, without speeding up frame rate\n",
    "os.system('ffmpeg -start_number 0 -r 60 -i %04d.png -vf \"scale=trunc(iw/2)*2:trunc(ih/2)*2\" -c:v mpeg4 -filter:v \"setpts=1.0*PTS\"  -b 10000k -pix_fmt yuv420p -y output_FasterFPS.mp4')"
   ]
  },
  {
   "cell_type": "code",
   "execution_count": null,
   "metadata": {},
   "outputs": [],
   "source": [
    "D:\\Dropbox\\AcademiaDropbox\\dataAnalysisForOthers\\MahadMovies\\tmpImgs\\outputVid3_macVersion.mp4"
   ]
  },
  {
   "cell_type": "code",
   "execution_count": 76,
   "metadata": {},
   "outputs": [],
   "source": [
    "# delete images from directory\n",
    "delFiles = [f for f in os.listdir(tempImgDirectory) if f.endswith(\"png\")]\n",
    "\n",
    "dlfs = [os.remove(os.path.join(tempImgDirectory, delFiles[ii])) for ii in range(len(delFiles))]"
   ]
  },
  {
   "cell_type": "code",
   "execution_count": null,
   "metadata": {},
   "outputs": [],
   "source": []
  }
 ],
 "metadata": {
  "kernelspec": {
   "display_name": "opencv3",
   "language": "python",
   "name": "opencv3"
  },
  "language_info": {
   "codemirror_mode": {
    "name": "ipython",
    "version": 3
   },
   "file_extension": ".py",
   "mimetype": "text/x-python",
   "name": "python",
   "nbconvert_exporter": "python",
   "pygments_lexer": "ipython3",
   "version": "3.6.5"
  }
 },
 "nbformat": 4,
 "nbformat_minor": 2
}
