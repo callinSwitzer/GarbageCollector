{
 "cells": [
  {
   "cell_type": "code",
   "execution_count": 1,
   "metadata": {},
   "outputs": [
    {
     "name": "stdout",
     "output_type": "stream",
     "text": [
      "3.6.7 (default, Feb 28 2019, 07:28:18) [MSC v.1900 64 bit (AMD64)]\n"
     ]
    }
   ],
   "source": [
    "import matplotlib.pyplot as plt\n",
    "%matplotlib inline\n",
    "import numpy as np\n",
    "import os\n",
    "import pandas as pd\n",
    "import seaborn as sns\n",
    "from scipy.integrate import odeint\n",
    "import random\n",
    "import time\n",
    "from datetime import datetime\n",
    "import sys\n",
    "import importlib\n",
    "import functools\n",
    "import sqlite3\n",
    "from collections import OrderedDict\n",
    "\n",
    "print(sys.version)"
   ]
  },
  {
   "cell_type": "code",
   "execution_count": 2,
   "metadata": {},
   "outputs": [
    {
     "name": "stdout",
     "output_type": "stream",
     "text": [
      "last run on 2019-05-17 14:15:39.434234\n"
     ]
    }
   ],
   "source": [
    "now = datetime.now()\n",
    "print(\"last run on \" + str(now))\n",
    "\n",
    "tmpSQLPath = r\"C:\\Users\\calli\\Desktop\\TmpSQL\"\n",
    "\n",
    "if not os.path.exists(tmpSQLPath):\n",
    "    os.mkdir(tmpSQLPath)"
   ]
  },
  {
   "cell_type": "code",
   "execution_count": 3,
   "metadata": {},
   "outputs": [
    {
     "data": {
      "text/html": [
       "<div>\n",
       "<style scoped>\n",
       "    .dataframe tbody tr th:only-of-type {\n",
       "        vertical-align: middle;\n",
       "    }\n",
       "\n",
       "    .dataframe tbody tr th {\n",
       "        vertical-align: top;\n",
       "    }\n",
       "\n",
       "    .dataframe thead th {\n",
       "        text-align: right;\n",
       "    }\n",
       "</style>\n",
       "<table border=\"1\" class=\"dataframe\">\n",
       "  <thead>\n",
       "    <tr style=\"text-align: right;\">\n",
       "      <th></th>\n",
       "      <th>Col1</th>\n",
       "      <th>Col2</th>\n",
       "      <th>Col3</th>\n",
       "    </tr>\n",
       "  </thead>\n",
       "  <tbody>\n",
       "    <tr>\n",
       "      <th>0</th>\n",
       "      <td>0.529309</td>\n",
       "      <td>0.142856</td>\n",
       "      <td>0.094092</td>\n",
       "    </tr>\n",
       "    <tr>\n",
       "      <th>1</th>\n",
       "      <td>0.662858</td>\n",
       "      <td>0.336135</td>\n",
       "      <td>0.503671</td>\n",
       "    </tr>\n",
       "    <tr>\n",
       "      <th>2</th>\n",
       "      <td>0.320586</td>\n",
       "      <td>0.245050</td>\n",
       "      <td>0.273769</td>\n",
       "    </tr>\n",
       "  </tbody>\n",
       "</table>\n",
       "</div>"
      ],
      "text/plain": [
       "       Col1      Col2      Col3\n",
       "0  0.529309  0.142856  0.094092\n",
       "1  0.662858  0.336135  0.503671\n",
       "2  0.320586  0.245050  0.273769"
      ]
     },
     "execution_count": 3,
     "metadata": {},
     "output_type": "execute_result"
    }
   ],
   "source": [
    "tab1 = pd.DataFrame(np.random.rand(3,3), columns= [\"Col1\", \"Col2\", \"Col3\"])\n",
    "tab1.head()"
   ]
  },
  {
   "cell_type": "code",
   "execution_count": 4,
   "metadata": {},
   "outputs": [
    {
     "data": {
      "text/html": [
       "<div>\n",
       "<style scoped>\n",
       "    .dataframe tbody tr th:only-of-type {\n",
       "        vertical-align: middle;\n",
       "    }\n",
       "\n",
       "    .dataframe tbody tr th {\n",
       "        vertical-align: top;\n",
       "    }\n",
       "\n",
       "    .dataframe thead th {\n",
       "        text-align: right;\n",
       "    }\n",
       "</style>\n",
       "<table border=\"1\" class=\"dataframe\">\n",
       "  <thead>\n",
       "    <tr style=\"text-align: right;\">\n",
       "      <th></th>\n",
       "      <th>Col1</th>\n",
       "      <th>Col2</th>\n",
       "      <th>Col3</th>\n",
       "    </tr>\n",
       "  </thead>\n",
       "  <tbody>\n",
       "    <tr>\n",
       "      <th>0</th>\n",
       "      <td>0.330347</td>\n",
       "      <td>0.203803</td>\n",
       "      <td>0.093609</td>\n",
       "    </tr>\n",
       "    <tr>\n",
       "      <th>1</th>\n",
       "      <td>0.273373</td>\n",
       "      <td>0.181913</td>\n",
       "      <td>0.159075</td>\n",
       "    </tr>\n",
       "    <tr>\n",
       "      <th>2</th>\n",
       "      <td>0.639538</td>\n",
       "      <td>0.977008</td>\n",
       "      <td>0.844068</td>\n",
       "    </tr>\n",
       "  </tbody>\n",
       "</table>\n",
       "</div>"
      ],
      "text/plain": [
       "       Col1      Col2      Col3\n",
       "0  0.330347  0.203803  0.093609\n",
       "1  0.273373  0.181913  0.159075\n",
       "2  0.639538  0.977008  0.844068"
      ]
     },
     "execution_count": 4,
     "metadata": {},
     "output_type": "execute_result"
    }
   ],
   "source": [
    "tab1 = pd.DataFrame(np.random.rand(3,3), columns= [\"Col1\", \"Col2\", \"Col3\"])\n",
    "tab1.head()"
   ]
  },
  {
   "cell_type": "code",
   "execution_count": 5,
   "metadata": {},
   "outputs": [
    {
     "data": {
      "text/html": [
       "<div>\n",
       "<style scoped>\n",
       "    .dataframe tbody tr th:only-of-type {\n",
       "        vertical-align: middle;\n",
       "    }\n",
       "\n",
       "    .dataframe tbody tr th {\n",
       "        vertical-align: top;\n",
       "    }\n",
       "\n",
       "    .dataframe thead th {\n",
       "        text-align: right;\n",
       "    }\n",
       "</style>\n",
       "<table border=\"1\" class=\"dataframe\">\n",
       "  <thead>\n",
       "    <tr style=\"text-align: right;\">\n",
       "      <th></th>\n",
       "      <th>Col1</th>\n",
       "      <th>Col2</th>\n",
       "      <th>Col3</th>\n",
       "    </tr>\n",
       "  </thead>\n",
       "  <tbody>\n",
       "    <tr>\n",
       "      <th>0</th>\n",
       "      <td>0.722938</td>\n",
       "      <td>0.582100</td>\n",
       "      <td>0.530395</td>\n",
       "    </tr>\n",
       "    <tr>\n",
       "      <th>1</th>\n",
       "      <td>0.040225</td>\n",
       "      <td>0.685206</td>\n",
       "      <td>0.887937</td>\n",
       "    </tr>\n",
       "    <tr>\n",
       "      <th>2</th>\n",
       "      <td>0.340414</td>\n",
       "      <td>0.230808</td>\n",
       "      <td>0.426791</td>\n",
       "    </tr>\n",
       "  </tbody>\n",
       "</table>\n",
       "</div>"
      ],
      "text/plain": [
       "       Col1      Col2      Col3\n",
       "0  0.722938  0.582100  0.530395\n",
       "1  0.040225  0.685206  0.887937\n",
       "2  0.340414  0.230808  0.426791"
      ]
     },
     "execution_count": 5,
     "metadata": {},
     "output_type": "execute_result"
    }
   ],
   "source": [
    "tab1 = pd.DataFrame(np.random.rand(3,3), columns= [\"Col1\", \"Col2\", \"Col3\"])\n",
    "tab1.head()"
   ]
  },
  {
   "cell_type": "code",
   "execution_count": 50,
   "metadata": {},
   "outputs": [],
   "source": [
    "\n",
    "con1 = sqlite3.connect(os.path.join(tmpSQLPath, \"twoTorqueData.db\"))\n",
    "\n",
    "tab1 = pd.DataFrame(np.random.rand(3,3), columns= [\"Col1\", \"Col2\", \"Col3\"])\n",
    "# get table names from database\n",
    "try:\n",
    "    cursorObj = con1.cursor()\n",
    "    cursorObj.execute('SELECT name from sqlite_master where type= \"table\"')\n",
    "    tableNames = cursorObj.fetchall()\n",
    "    cursorObj.close()\n",
    "except:\n",
    "    print(\"can't get table names\")\n",
    "    \n",
    "tab1.to_sql(\"training_\" + str(len(tableNames)).zfill(2), con1, if_exists = \"fail\", index = False)\n",
    "    \n",
    "# close connection\n",
    "con1.close()"
   ]
  },
  {
   "cell_type": "code",
   "execution_count": 51,
   "metadata": {},
   "outputs": [],
   "source": [
    "con1 = sqlite3.connect(os.path.join(tmpSQLPath, \"twoTorqueData.db\"))\n",
    "cursorObj = con1.cursor()\n",
    "con1.execute(\"DROP TABLE IF EXISTS foobar\")\n",
    "con1.execute(\"DROP TABLE IF EXISTS foobar1\")\n",
    "con1.close()\n",
    "             "
   ]
  },
  {
   "cell_type": "code",
   "execution_count": 22,
   "metadata": {},
   "outputs": [
    {
     "name": "stdout",
     "output_type": "stream",
     "text": [
      "['training_04', 'training_05', 'training_06', 'training_07', 'training_08', 'training_09', 'training_10', 'training_11', 'CombinedTraining']\n"
     ]
    }
   ],
   "source": [
    "# get table names in database\n",
    "con1 = sqlite3.connect(os.path.join(tmpSQLPath, \"twoTorqueData.db\"))\n",
    "cursorObj = con1.cursor()\n",
    "res = cursorObj.execute(\"SELECT name FROM sqlite_master WHERE type='table';\")\n",
    "tableNames = [name[0] for name in res]\n",
    "con1.close()\n",
    "print(tableNames)"
   ]
  },
  {
   "cell_type": "code",
   "execution_count": 53,
   "metadata": {},
   "outputs": [],
   "source": [
    "\n",
    "con1 = sqlite3.connect(os.path.join(tmpSQLPath, \"twoTorqueData.db\"))\n",
    "con1.execute(\"DROP TABLE IF EXISTS foobar1\")\n",
    "con1.execute('''CREATE TABLE foobar1 AS \n",
    "                SELECT * FROM foofoofoo_00 UNION ALL \n",
    "                SELECT * FROM foofoofoo_01 UNION ALL \n",
    "                SELECT * FROM foofoofoo_02 \n",
    "                ''')\n",
    "con1.close()"
   ]
  },
  {
   "cell_type": "code",
   "execution_count": 12,
   "metadata": {},
   "outputs": [
    {
     "name": "stdout",
     "output_type": "stream",
     "text": [
      "CREATE TABLE CombinedTraining AS SELECT * FROM training_04 UNION ALL SELECT * FROM training_05 UNION ALL SELECT * FROM training_06 UNION ALL SELECT * FROM training_07 UNION ALL SELECT * FROM training_08 UNION ALL SELECT * FROM training_09 UNION ALL SELECT * FROM training_10 UNION ALL SELECT * FROM training_11\n"
     ]
    }
   ],
   "source": [
    "\n",
    "con1 = sqlite3.connect(os.path.join(tmpSQLPath, \"twoTorqueData.db\"))\n",
    "con1.execute(\"DROP TABLE IF EXISTS CombinedTraining\")\n",
    "sqlStatement = \"CREATE TABLE CombinedTraining AS \" + \" UNION ALL \".join([\"SELECT * FROM \" + tableNames[ii] for ii in range(len(tableNames)) if tableNames[ii].startswith(\"train\")])\n",
    "print(sqlStatement)\n",
    "con1.execute(sqlStatement)\n",
    "con1.close()"
   ]
  },
  {
   "cell_type": "code",
   "execution_count": 13,
   "metadata": {},
   "outputs": [],
   "source": [
    "con1.close()"
   ]
  },
  {
   "cell_type": "code",
   "execution_count": 15,
   "metadata": {},
   "outputs": [
    {
     "data": {
      "text/html": [
       "<div>\n",
       "<style scoped>\n",
       "    .dataframe tbody tr th:only-of-type {\n",
       "        vertical-align: middle;\n",
       "    }\n",
       "\n",
       "    .dataframe tbody tr th {\n",
       "        vertical-align: top;\n",
       "    }\n",
       "\n",
       "    .dataframe thead th {\n",
       "        text-align: right;\n",
       "    }\n",
       "</style>\n",
       "<table border=\"1\" class=\"dataframe\">\n",
       "  <thead>\n",
       "    <tr style=\"text-align: right;\">\n",
       "      <th></th>\n",
       "      <th>Col1</th>\n",
       "      <th>Col2</th>\n",
       "      <th>Col3</th>\n",
       "    </tr>\n",
       "  </thead>\n",
       "  <tbody>\n",
       "    <tr>\n",
       "      <th>0</th>\n",
       "      <td>0.659781</td>\n",
       "      <td>0.870053</td>\n",
       "      <td>0.965115</td>\n",
       "    </tr>\n",
       "    <tr>\n",
       "      <th>1</th>\n",
       "      <td>0.663873</td>\n",
       "      <td>0.949080</td>\n",
       "      <td>0.358671</td>\n",
       "    </tr>\n",
       "    <tr>\n",
       "      <th>2</th>\n",
       "      <td>0.220292</td>\n",
       "      <td>0.895596</td>\n",
       "      <td>0.971828</td>\n",
       "    </tr>\n",
       "    <tr>\n",
       "      <th>3</th>\n",
       "      <td>0.332034</td>\n",
       "      <td>0.949383</td>\n",
       "      <td>0.180232</td>\n",
       "    </tr>\n",
       "    <tr>\n",
       "      <th>4</th>\n",
       "      <td>0.473184</td>\n",
       "      <td>0.507600</td>\n",
       "      <td>0.997520</td>\n",
       "    </tr>\n",
       "    <tr>\n",
       "      <th>5</th>\n",
       "      <td>0.702797</td>\n",
       "      <td>0.324776</td>\n",
       "      <td>0.190576</td>\n",
       "    </tr>\n",
       "    <tr>\n",
       "      <th>6</th>\n",
       "      <td>0.993464</td>\n",
       "      <td>0.926708</td>\n",
       "      <td>0.471613</td>\n",
       "    </tr>\n",
       "    <tr>\n",
       "      <th>7</th>\n",
       "      <td>0.907636</td>\n",
       "      <td>0.427622</td>\n",
       "      <td>0.375386</td>\n",
       "    </tr>\n",
       "    <tr>\n",
       "      <th>8</th>\n",
       "      <td>0.174086</td>\n",
       "      <td>0.345626</td>\n",
       "      <td>0.322837</td>\n",
       "    </tr>\n",
       "    <tr>\n",
       "      <th>9</th>\n",
       "      <td>0.965016</td>\n",
       "      <td>0.341177</td>\n",
       "      <td>0.949753</td>\n",
       "    </tr>\n",
       "    <tr>\n",
       "      <th>10</th>\n",
       "      <td>0.353118</td>\n",
       "      <td>0.287963</td>\n",
       "      <td>0.809170</td>\n",
       "    </tr>\n",
       "    <tr>\n",
       "      <th>11</th>\n",
       "      <td>0.935460</td>\n",
       "      <td>0.099678</td>\n",
       "      <td>0.641967</td>\n",
       "    </tr>\n",
       "    <tr>\n",
       "      <th>12</th>\n",
       "      <td>0.347752</td>\n",
       "      <td>0.622717</td>\n",
       "      <td>0.234007</td>\n",
       "    </tr>\n",
       "    <tr>\n",
       "      <th>13</th>\n",
       "      <td>0.072750</td>\n",
       "      <td>0.358466</td>\n",
       "      <td>0.949210</td>\n",
       "    </tr>\n",
       "    <tr>\n",
       "      <th>14</th>\n",
       "      <td>0.854828</td>\n",
       "      <td>0.697391</td>\n",
       "      <td>0.095448</td>\n",
       "    </tr>\n",
       "    <tr>\n",
       "      <th>15</th>\n",
       "      <td>0.737632</td>\n",
       "      <td>0.094728</td>\n",
       "      <td>0.081019</td>\n",
       "    </tr>\n",
       "    <tr>\n",
       "      <th>16</th>\n",
       "      <td>0.041406</td>\n",
       "      <td>0.554528</td>\n",
       "      <td>0.292638</td>\n",
       "    </tr>\n",
       "    <tr>\n",
       "      <th>17</th>\n",
       "      <td>0.351312</td>\n",
       "      <td>0.745461</td>\n",
       "      <td>0.864056</td>\n",
       "    </tr>\n",
       "    <tr>\n",
       "      <th>18</th>\n",
       "      <td>0.248560</td>\n",
       "      <td>0.446407</td>\n",
       "      <td>0.745112</td>\n",
       "    </tr>\n",
       "    <tr>\n",
       "      <th>19</th>\n",
       "      <td>0.797824</td>\n",
       "      <td>0.747216</td>\n",
       "      <td>0.207113</td>\n",
       "    </tr>\n",
       "    <tr>\n",
       "      <th>20</th>\n",
       "      <td>0.386521</td>\n",
       "      <td>0.900277</td>\n",
       "      <td>0.572696</td>\n",
       "    </tr>\n",
       "    <tr>\n",
       "      <th>21</th>\n",
       "      <td>0.188293</td>\n",
       "      <td>0.401408</td>\n",
       "      <td>0.704242</td>\n",
       "    </tr>\n",
       "    <tr>\n",
       "      <th>22</th>\n",
       "      <td>0.665359</td>\n",
       "      <td>0.240534</td>\n",
       "      <td>0.612469</td>\n",
       "    </tr>\n",
       "    <tr>\n",
       "      <th>23</th>\n",
       "      <td>0.725902</td>\n",
       "      <td>0.422028</td>\n",
       "      <td>0.030500</td>\n",
       "    </tr>\n",
       "  </tbody>\n",
       "</table>\n",
       "</div>"
      ],
      "text/plain": [
       "        Col1      Col2      Col3\n",
       "0   0.659781  0.870053  0.965115\n",
       "1   0.663873  0.949080  0.358671\n",
       "2   0.220292  0.895596  0.971828\n",
       "3   0.332034  0.949383  0.180232\n",
       "4   0.473184  0.507600  0.997520\n",
       "5   0.702797  0.324776  0.190576\n",
       "6   0.993464  0.926708  0.471613\n",
       "7   0.907636  0.427622  0.375386\n",
       "8   0.174086  0.345626  0.322837\n",
       "9   0.965016  0.341177  0.949753\n",
       "10  0.353118  0.287963  0.809170\n",
       "11  0.935460  0.099678  0.641967\n",
       "12  0.347752  0.622717  0.234007\n",
       "13  0.072750  0.358466  0.949210\n",
       "14  0.854828  0.697391  0.095448\n",
       "15  0.737632  0.094728  0.081019\n",
       "16  0.041406  0.554528  0.292638\n",
       "17  0.351312  0.745461  0.864056\n",
       "18  0.248560  0.446407  0.745112\n",
       "19  0.797824  0.747216  0.207113\n",
       "20  0.386521  0.900277  0.572696\n",
       "21  0.188293  0.401408  0.704242\n",
       "22  0.665359  0.240534  0.612469\n",
       "23  0.725902  0.422028  0.030500"
      ]
     },
     "execution_count": 15,
     "metadata": {},
     "output_type": "execute_result"
    }
   ],
   "source": [
    "# read in table \n",
    "con1 = sqlite3.connect(os.path.join(tmpSQLPath, \"twoTorqueData.db\"))\n",
    "inputDat = pd.read_sql_query('''\n",
    "                            SELECT * FROM combinedTraining\n",
    "                            ''', \n",
    "                            con1)\n",
    "inputDat"
   ]
  },
  {
   "cell_type": "code",
   "execution_count": 19,
   "metadata": {},
   "outputs": [
    {
     "data": {
      "text/plain": [
       "'DROP TABLE IF EXISTS foofoofoo_00; DROP TABLE IF EXISTS foofoofoo_01; DROP TABLE IF EXISTS foofoofoo_02; DROP TABLE IF EXISTS foobar1; DROP TABLE IF EXISTS foobar2; '"
      ]
     },
     "execution_count": 19,
     "metadata": {},
     "output_type": "execute_result"
    }
   ],
   "source": [
    "sqlStatement = \"\".join([\"DROP TABLE IF EXISTS \" + tableNames[ii] + \"; \" for ii in range(len(tableNames)) if tableNames[ii].startswith(\"foo\")])\n",
    "sqlStatement"
   ]
  },
  {
   "cell_type": "code",
   "execution_count": 21,
   "metadata": {},
   "outputs": [
    {
     "name": "stdout",
     "output_type": "stream",
     "text": [
      "DROP TABLE IF EXISTS foofoofoo_00; DROP TABLE IF EXISTS foofoofoo_01; DROP TABLE IF EXISTS foofoofoo_02; DROP TABLE IF EXISTS foobar1; DROP TABLE IF EXISTS foobar2; \n"
     ]
    }
   ],
   "source": [
    "con1 = sqlite3.connect(os.path.join(tmpSQLPath, \"twoTorqueData.db\"))\n",
    "sqlStatement = \"\".join([\"DROP TABLE IF EXISTS \" + tableNames[ii] + \"; \" for ii in range(len(tableNames)) if tableNames[ii].startswith(\"foo\")])\n",
    "print(sqlStatement)\n",
    "con1.executescript(sqlStatement)\n",
    "con1.close()"
   ]
  },
  {
   "cell_type": "code",
   "execution_count": 32,
   "metadata": {},
   "outputs": [],
   "source": []
  },
  {
   "cell_type": "code",
   "execution_count": 37,
   "metadata": {},
   "outputs": [
    {
     "data": {
      "text/plain": [
       "'CREATE TABLE foobar1 AS SELECT * FROM foofoofoo_00 UNION ALL SELECT * FROM foofoofoo_01 UNION ALL SELECT * FROM foofoofoo_02'"
      ]
     },
     "execution_count": 37,
     "metadata": {},
     "output_type": "execute_result"
    }
   ],
   "source": [
    "\"CREATE TABLE foobar1 AS \" + \" UNION ALL \".join([\"SELECT * FROM \" + tableNames[ii] for ii in range(len(tableNames))])"
   ]
  },
  {
   "cell_type": "code",
   "execution_count": null,
   "metadata": {},
   "outputs": [],
   "source": []
  }
 ],
 "metadata": {
  "kernelspec": {
   "display_name": "numSolve_parallel",
   "language": "python",
   "name": "numsolve_parallel"
  },
  "language_info": {
   "codemirror_mode": {
    "name": "ipython",
    "version": 3
   },
   "file_extension": ".py",
   "mimetype": "text/x-python",
   "name": "python",
   "nbconvert_exporter": "python",
   "pygments_lexer": "ipython3",
   "version": "3.6.7"
  }
 },
 "nbformat": 4,
 "nbformat_minor": 2
}
