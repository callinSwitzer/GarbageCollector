{
 "cells": [
  {
   "cell_type": "code",
   "execution_count": 1,
   "metadata": {},
   "outputs": [],
   "source": [
    "import scipy.io.wavfile\n",
    "import math\n",
    "import numpy as np\n",
    "%matplotlib inline\n",
    "import matplotlib.pylab as plt\n",
    "from matplotlib import gridspec\n"
   ]
  },
  {
   "cell_type": "code",
   "execution_count": 2,
   "metadata": {},
   "outputs": [],
   "source": [
    "audio = []\n",
    "sample_rate = 8000.0\n",
    "freq=440.0\n",
    "duration_milliseconds=12.0 * 60 * 60 * 1000\n",
    "volume=0.1\n",
    "\"\"\"\n",
    "The sine wave generated here is the standard beep.  If you want something\n",
    "more aggresive you could try a square or saw tooth waveform.   Though there\n",
    "are some rather complicated issues with making high quality square and\n",
    "sawtooth waves... which we won't address here :) \n",
    "\"\"\" \n",
    "\n",
    "num_samples = duration_milliseconds * (sample_rate / 1000.0)"
   ]
  },
  {
   "cell_type": "code",
   "execution_count": 3,
   "metadata": {},
   "outputs": [],
   "source": [
    "# for x in range(int(num_samples)):\n",
    "#     audio.append(volume * math.sin(2 * math.pi * freq * ( x / sample_rate )))"
   ]
  },
  {
   "cell_type": "code",
   "execution_count": 4,
   "metadata": {},
   "outputs": [],
   "source": [
    "# plt.plot(np.array(audio)[0:1000])"
   ]
  },
  {
   "cell_type": "code",
   "execution_count": 5,
   "metadata": {},
   "outputs": [
    {
     "data": {
      "text/plain": [
       "43200000.0"
      ]
     },
     "execution_count": 5,
     "metadata": {},
     "output_type": "execute_result"
    }
   ],
   "source": [
    "duration_milliseconds"
   ]
  },
  {
   "cell_type": "code",
   "execution_count": 6,
   "metadata": {},
   "outputs": [],
   "source": [
    "fname = \"C:\\\\Users\\\\callin\\\\Desktop\\\\whitenoise.wav\""
   ]
  },
  {
   "cell_type": "code",
   "execution_count": 7,
   "metadata": {},
   "outputs": [
    {
     "data": {
      "text/plain": [
       "array([], dtype=float64)"
      ]
     },
     "execution_count": 7,
     "metadata": {},
     "output_type": "execute_result"
    }
   ],
   "source": [
    "np.array(audio)"
   ]
  },
  {
   "cell_type": "code",
   "execution_count": 8,
   "metadata": {},
   "outputs": [
    {
     "data": {
      "text/plain": [
       "345600000.0"
      ]
     },
     "execution_count": 8,
     "metadata": {},
     "output_type": "execute_result"
    }
   ],
   "source": [
    "num_samples"
   ]
  },
  {
   "cell_type": "code",
   "execution_count": 9,
   "metadata": {},
   "outputs": [],
   "source": [
    "mu, sigma = 0, 0.1 # mean and standard deviation\n",
    "act = np.random.normal(mu, sigma, int(num_samples))\n",
    "#plt.plot(np.array(audio2)[0:1000])"
   ]
  },
  {
   "cell_type": "code",
   "execution_count": null,
   "metadata": {},
   "outputs": [],
   "source": [
    "# scipy.io.wavfile.write(fname, int(sample_rate), np.array(act))"
   ]
  },
  {
   "cell_type": "code",
   "execution_count": 10,
   "metadata": {},
   "outputs": [
    {
     "data": {
      "text/plain": [
       "8000"
      ]
     },
     "execution_count": 10,
     "metadata": {},
     "output_type": "execute_result"
    }
   ],
   "source": [
    "int(sample_rate)"
   ]
  },
  {
   "cell_type": "code",
   "execution_count": null,
   "metadata": {},
   "outputs": [
    {
     "name": "stderr",
     "output_type": "stream",
     "text": [
      "C:\\Users\\callin\\Anaconda3\\lib\\site-packages\\ipykernel_launcher.py:3: DeprecationWarning: object of type <class 'float'> cannot be safely interpreted as an integer.\n",
      "  This is separate from the ipykernel package so we can avoid doing imports until\n"
     ]
    }
   ],
   "source": [
    "# #fft practice\n",
    "# log_rate = int(sample_rate)\n",
    "# xx = np.linspace(0, 5, num = num_samples)\n",
    "\n",
    "\n",
    "# #plt.plot(xx, act)\n",
    "\n",
    "# #log_rate = 1000*10.0\n",
    "\n",
    "# n =len(act) # length of the signal\n",
    "# k = np.arange(n, step = 1)\n",
    "# T = n/log_rate\n",
    "# frq = k/T # two sides frequency range\n",
    "# frq = frq[range(int(n/2))] # one side frequency range\n",
    "\n",
    "# Y = np.fft.fft(act)/n *2 # fft computing and normalization\n",
    "# Y = Y[range(int(n/2))]\n",
    "\n",
    "# # calculate top frequency\n",
    "# ind = np.argpartition(abs(Y), -4)[-4:]\n",
    "# # Find highest point on the spectrum\n",
    "# peakFrq = frq[ind[::-1]]\n",
    "# pwr = (abs(Y)[ind[::-1]])\n",
    "# domPK = [x for (y,x) in sorted(zip(pwr,peakFrq), reverse = True)][0]\n",
    "\n",
    "# beeFrqPwr = pwr[peakFrq == domPK]\n",
    "\n",
    "# plt.figure(figsize=(10,4))\n",
    "# gs = gridspec.GridSpec(1, 2, width_ratios=[2,2]) \n",
    "\n",
    "# # create subplot 1\n",
    "# ax1 = plt.subplot(gs[0])\n",
    "\n",
    "# ax1.plot(xx,act,color = 'black', linewidth=0.5 )\n",
    "\n",
    "# ax2 = plt.subplot(gs[1])\n",
    "# ax2.plot(frq,abs(Y), color = \"black\", linewidth=0.5)\n",
    "# ax2.plot(domPK, beeFrqPwr,'o', color = 'black', markersize = 5)\n",
    "\n",
    "# ax2.set_xlim(-0, 5000)\n",
    "# print(beeFrqPwr)"
   ]
  },
  {
   "cell_type": "code",
   "execution_count": 11,
   "metadata": {},
   "outputs": [],
   "source": [
    "\n",
    "import pandas as pd\n",
    "from scipy import signal\n",
    "\n",
    "def sine_generator(timesteps, sinefreq):\n",
    "    nsamples = len(timesteps)\n",
    "    w = 2. * np.pi * sinefreq\n",
    "    y_sine = np.sin(w * timesteps)*3.22\n",
    "    result = pd.DataFrame({ \n",
    "        'data' : y_sine} ,index=timesteps)\n",
    "    return result\n",
    "\n",
    "def butter_highpass(cutoff, log_rate, order=5):\n",
    "    nyq = 0.5 * log_rate\n",
    "    normal_cutoff = cutoff / nyq\n",
    "    b, a = signal.butter(order, normal_cutoff, btype='low', analog=False)\n",
    "    return b, a\n",
    "\n",
    "def butter_highpass_filter(data, cutoff, log_rate, order=5):\n",
    "    b, a = butter_highpass(cutoff, log_rate, order=order)\n",
    "    y = signal.filtfilt(b, a, data)\n",
    "    return y\n",
    "\n",
    "\n"
   ]
  },
  {
   "cell_type": "code",
   "execution_count": 13,
   "metadata": {},
   "outputs": [],
   "source": [
    "filtered_sine = butter_highpass_filter(act, 500, sample_rate)\n",
    "\n",
    "# plt.figure(figsize=(20,10))\n",
    "# plt.subplot(211)\n",
    "# plt.plot(act)\n",
    "# plt.title('generated signal')\n",
    "# plt.subplot(212)\n",
    "# plt.plot(range(len(filtered_sine)),filtered_sine)\n",
    "# plt.title('filtered signal')\n",
    "# plt.show()"
   ]
  },
  {
   "cell_type": "code",
   "execution_count": null,
   "metadata": {},
   "outputs": [],
   "source": [
    "#fft practice\n",
    "log_rate = int(sample_rate)\n",
    "xx = np.linspace(0, 5, num = num_samples)\n",
    "act = filtered_sine\n",
    "\n",
    "#plt.plot(xx, act)\n",
    "\n",
    "#log_rate = 1000*10.0\n",
    "\n",
    "n =len(act) # length of the signal\n",
    "k = np.arange(n, step = 1)\n",
    "T = n/log_rate\n",
    "frq = k/T # two sides frequency range\n",
    "frq = frq[range(int(n/2))] # one side frequency range\n",
    "\n",
    "Y = np.fft.fft(act)/n *2 # fft computing and normalization\n",
    "Y = Y[range(int(n/2))]\n",
    "\n",
    "# calculate top frequency\n",
    "ind = np.argpartition(abs(Y), -4)[-4:]\n",
    "# Find highest point on the spectrum\n",
    "peakFrq = frq[ind[::-1]]\n",
    "pwr = (abs(Y)[ind[::-1]])\n",
    "domPK = [x for (y,x) in sorted(zip(pwr,peakFrq), reverse = True)][0]\n",
    "\n",
    "beeFrqPwr = pwr[peakFrq == domPK]\n",
    "\n",
    "plt.figure(figsize=(10,4))\n",
    "gs = gridspec.GridSpec(1, 2, width_ratios=[2,2]) \n",
    "\n",
    "# create subplot 1\n",
    "ax1 = plt.subplot(gs[0])\n",
    "\n",
    "ax1.plot(xx,act,color = 'black', linewidth=0.5 )\n",
    "\n",
    "ax2 = plt.subplot(gs[1])\n",
    "ax2.plot(frq,abs(Y), color = \"black\", linewidth=0.5)\n",
    "ax2.plot(domPK, beeFrqPwr,'o', color = 'black', markersize = 5)\n",
    "\n",
    "ax2.set_xlim(-0, 5000)\n",
    "print(beeFrqPwr)"
   ]
  },
  {
   "cell_type": "code",
   "execution_count": 14,
   "metadata": {},
   "outputs": [],
   "source": [
    "fname = \"C:\\\\Users\\\\callin\\\\Desktop\\\\whitenoise_lowpass.wav\"\n",
    "scipy.io.wavfile.write(fname, int(sample_rate), np.array(filtered_sine)[1000:])"
   ]
  },
  {
   "cell_type": "code",
   "execution_count": null,
   "metadata": {},
   "outputs": [],
   "source": []
  }
 ],
 "metadata": {
  "kernelspec": {
   "display_name": "Python 3",
   "language": "python",
   "name": "python3"
  },
  "language_info": {
   "codemirror_mode": {
    "name": "ipython",
    "version": 3
   },
   "file_extension": ".py",
   "mimetype": "text/x-python",
   "name": "python",
   "nbconvert_exporter": "python",
   "pygments_lexer": "ipython3",
   "version": "3.6.3"
  }
 },
 "nbformat": 4,
 "nbformat_minor": 2
}
