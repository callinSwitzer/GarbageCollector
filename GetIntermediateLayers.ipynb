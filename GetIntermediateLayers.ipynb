{
 "cells": [
  {
   "cell_type": "code",
   "execution_count": 1,
   "metadata": {},
   "outputs": [],
   "source": [
    "# Callin Switzer\n",
    "# 23 May 2017\n",
    "# Get all node values from a trained network, given a set of weights"
   ]
  },
  {
   "cell_type": "code",
   "execution_count": 5,
   "metadata": {},
   "outputs": [],
   "source": [
    "import numpy as np\n",
    "import pickle\n",
    "import os\n",
    "import pandas as pd"
   ]
  },
  {
   "cell_type": "code",
   "execution_count": 6,
   "metadata": {},
   "outputs": [],
   "source": [
    "# this function returns values of all layers\n",
    "def returnLayerValues(weights, inputData):\n",
    "    '''\n",
    "    Returns all layer values from fitted network (including input and output)\n",
    "    \n",
    "    The fitted network uses \"tanh\" activation for hidden layers and\n",
    "        \"linear\" activation for the final layer\n",
    "        \n",
    "    Params:\n",
    "        weights (list): list of weights from a fitted model\n",
    "        inputData (array or Data frame): input data that will be run through the network\n",
    "    \n",
    "    Returns:\n",
    "        layer values (list): values of all of the units in the network.\n",
    "            - the 0'th item in the list is the input data\n",
    "            - the final item in the list is the final prediction\n",
    "    '''\n",
    "    \n",
    "    LayerValues = [inputData.astype(\"float64\")]\n",
    "    for layerNum in np.arange(0, len(wts), 2):\n",
    "        \n",
    "        # calculate dot product and add bias\n",
    "        nextLayer = np.dot(LayerValues[-1], wts[layerNum]) + wts[layerNum+1]\n",
    "        \n",
    "        if layerNum != (len(wts)-2):\n",
    "            # apply activation function, except for final layer\n",
    "            nextLayer = np.tanh(nextLayer)\n",
    "        \n",
    "        # append to list\n",
    "        LayerValues.append(nextLayer)\n",
    "        \n",
    "    return(LayerValues)"
   ]
  },
  {
   "cell_type": "code",
   "execution_count": 7,
   "metadata": {},
   "outputs": [],
   "source": [
    "# load example data\n",
    "pathToTrainingX= r\"D:\\Dropbox\\AcademiaDropbox\\UW\\NNetVisualization\\ExampleData\\X_train_small.csv\"\n",
    "x_train = pd.read_csv(pathToTrainingX)\n",
    "\n",
    "# in case you want to compare predicted to actual, you can load the Y dataset\n",
    "pathToTrainingY= r\"D:\\Dropbox\\AcademiaDropbox\\UW\\NNetVisualization\\ExampleData\\Y_train_small.csv\"\n",
    "y_train = pd.read_csv(pathToTrainingY)"
   ]
  },
  {
   "cell_type": "code",
   "execution_count": 9,
   "metadata": {},
   "outputs": [
    {
     "name": "stdout",
     "output_type": "stream",
     "text": [
      "(10, 20)\n",
      "(20,)\n",
      "(20, 20)\n",
      "(20,)\n",
      "(20, 16)\n",
      "(16,)\n",
      "(16, 7)\n",
      "(7,)\n",
      "1095 total weights\n"
     ]
    }
   ],
   "source": [
    "# load weights\n",
    "pathToWeights = r\"D:\\Dropbox\\AcademiaDropbox\\UW\\NNetVisualization\\ExampleData\\Opt_rmsprop__Dro_0.0__Num_20_20_16__Wei_0_pruned_wts.pkl\"\n",
    "\n",
    "# read in weight data\n",
    "wts =  pickle.load(open(pathToWeights, 'rb'))\n",
    "\n",
    "# print sizes of each weight matrix\n",
    "wtLengths = []\n",
    "for ii in range(len(wts)):\n",
    "    print(wts[ii].shape)\n",
    "    wtLengths.append(np.prod(wts[ii].shape))\n",
    "\n",
    "# print total number of weights (including biases)\n",
    "print(np.sum(wtLengths), \"total weights\")"
   ]
  },
  {
   "cell_type": "code",
   "execution_count": 16,
   "metadata": {},
   "outputs": [
    {
     "data": {
      "text/plain": [
       "5"
      ]
     },
     "execution_count": 16,
     "metadata": {},
     "output_type": "execute_result"
    }
   ],
   "source": [
    "# calculate values at each layer, using the function above\n",
    "intermediateValues = returnLayerValues(wts, inputData= x_train)\n",
    "len(intermediateValues)"
   ]
  },
  {
   "cell_type": "code",
   "execution_count": 18,
   "metadata": {},
   "outputs": [
    {
     "data": {
      "text/plain": [
       "[phi_0          0.142728\n",
       " theta_0       -0.051374\n",
       " x_99          -0.189672\n",
       " y_99           0.038137\n",
       " phi_99         0.005685\n",
       " theta_99      -0.057947\n",
       " x_dot_0       -0.227377\n",
       " y_dot_0        0.085107\n",
       " phi_dot_0     -0.184476\n",
       " theta_dot_0   -0.226595\n",
       " Name: 9, dtype: float64,\n",
       " array([-0.02339151, -0.05434987, -0.03954071, -0.04073524, -0.0402231 ,\n",
       "        -0.03642044,  0.02371522, -0.09060205, -0.04408416, -0.02665334,\n",
       "         0.02554483, -0.03670677, -0.08306054,  0.07224588, -0.04319366,\n",
       "        -0.02207429, -0.05884106, -0.11353568, -0.00442196,  0.02604794]),\n",
       " array([ 0.20628507,  0.04794674, -0.30728182,  0.01005733, -0.00977822,\n",
       "         0.03256286,  0.05168823,  0.18786716, -0.15644673, -0.05612013,\n",
       "         0.07292053,  0.02183338,  0.54625831, -0.06618114, -0.01574573,\n",
       "        -0.01456413,  0.00579742,  0.07333504, -0.02280542,  0.04308808]),\n",
       " array([-0.09140476,  0.02169366, -0.016228  , -0.3850637 ,  0.18393699,\n",
       "        -0.15647436,  0.07730785,  0.05184893, -0.0414717 ,  0.04747711,\n",
       "         0.08970281, -0.27926063,  0.0482804 ,  0.38514872,  0.62812012,\n",
       "        -0.01015476]),\n",
       " array([ 0.02490285,  0.18816358, -0.06247856, -0.14671581,  0.00290295,\n",
       "         0.00156395, -0.04999002])]"
      ]
     },
     "execution_count": 18,
     "metadata": {},
     "output_type": "execute_result"
    }
   ],
   "source": [
    "# calculate intermediate values for only one input row\n",
    "intermediateValues = returnLayerValues(wts, inputData= x_train.iloc[9, :])\n",
    "intermediateValues"
   ]
  },
  {
   "cell_type": "code",
   "execution_count": 19,
   "metadata": {},
   "outputs": [],
   "source": [
    "! explorer ."
   ]
  },
  {
   "cell_type": "code",
   "execution_count": null,
   "metadata": {},
   "outputs": [],
   "source": []
  }
 ],
 "metadata": {
  "kernelspec": {
   "display_name": "deeplearning",
   "language": "python",
   "name": "deeplearning"
  },
  "language_info": {
   "codemirror_mode": {
    "name": "ipython",
    "version": 3
   },
   "file_extension": ".py",
   "mimetype": "text/x-python",
   "name": "python",
   "nbconvert_exporter": "python",
   "pygments_lexer": "ipython3",
   "version": "3.6.4"
  }
 },
 "nbformat": 4,
 "nbformat_minor": 2
}
