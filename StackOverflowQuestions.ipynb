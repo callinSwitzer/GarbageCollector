{
 "cells": [
  {
   "cell_type": "code",
   "execution_count": null,
   "metadata": {},
   "outputs": [],
   "source": [
    "from keras import Model\n",
    "from keras.layers import Input, Dense\n",
    "import pandas as pd\n",
    "import numpy as np\n",
    "import seaborn as sns\n",
    "import matplotlib.pyplot as plt\n",
    "%matplotlib inline"
   ]
  },
  {
   "cell_type": "code",
   "execution_count": null,
   "metadata": {},
   "outputs": [],
   "source": [
    "X = pd.DataFrame( (np.random.randn(1000,2)), columns=[\"A\", \"B\"] )\n",
    "X[\"B\"] = (X[\"A\"]) *6"
   ]
  },
  {
   "cell_type": "code",
   "execution_count": null,
   "metadata": {},
   "outputs": [],
   "source": [
    "plt.plot(X.A, X.B, \"o\")"
   ]
  },
  {
   "cell_type": "code",
   "execution_count": null,
   "metadata": {},
   "outputs": [],
   "source": [
    "def relu(x):\n",
    "    return(x * (x > 0))"
   ]
  },
  {
   "cell_type": "markdown",
   "metadata": {},
   "source": [
    "Yes. Keras initializes some negative and some positive weights, randomly by default -- you can also specify how the weights are initialized [link] (https://keras.io/initializers/). I think that you're right that some nodes could be dead at the start, if the incoming weights sum up to a value less than 0"
   ]
  },
  {
   "cell_type": "code",
   "execution_count": null,
   "metadata": {},
   "outputs": [],
   "source": [
    "################# CUSTOM LOSS FUNCTION ########################"
   ]
  },
  {
   "cell_type": "code",
   "execution_count": null,
   "metadata": {},
   "outputs": [],
   "source": [
    "from keras import Model\n",
    "from keras.layers import Input, Dense\n",
    "import pandas as pd\n",
    "import numpy as np\n",
    "import matplotlib.pyplot as plt\n",
    "%matplotlib inline\n",
    "\n",
    "\n",
    "from keras.backend import clear_session\n",
    "clear_session()\n",
    "\n",
    "from keras import losses\n",
    "\n",
    "def my_loss(y_true, y_pred):\n",
    "    final_loss = (losses.binary_crossentropy(y_true[:, 0], y_pred[:, 0]) + \n",
    "                    y_true[:, 0] * \n",
    "                  losses.categorical_crossentropy(y_true[:, 1:], y_pred[:,1:]))\n",
    "    return final_loss"
   ]
  },
  {
   "cell_type": "code",
   "execution_count": null,
   "metadata": {},
   "outputs": [],
   "source": [
    "from keras.layers import Concatenate\n",
    "XX = pd.DataFrame( (np.random.randn(1000,2)), columns=[\"A\", \"B\"] )\n",
    "XX[\"B\"] = (XX[\"A\"]) *6 + XX[\"B\"]\n",
    "yy = np.random.randn(1000, 2)\n",
    "\n",
    "n = 2\n",
    "\n",
    "input_layer = Input(shape=(n, ))\n",
    "shared = Dense(32)(input_layer)\n",
    "sub1 = Dense(16)(shared)\n",
    "sub2 = Dense(16)(shared)\n",
    "y1 = Dense(1, activation='sigmoid')(sub1)\n",
    "y2 = Dense(4, activation='softmax')(sub2)\n",
    "mergedOutput = Concatenate()([y1, y2])\n"
   ]
  },
  {
   "cell_type": "code",
   "execution_count": null,
   "metadata": {},
   "outputs": [],
   "source": [
    "model = Model(input_layer, mergedOutput)\n",
    "model.summary()\n",
    "\n",
    "model.compile(optimizer='adam', loss=my_loss)\n",
    "yy.shape"
   ]
  },
  {
   "cell_type": "code",
   "execution_count": null,
   "metadata": {},
   "outputs": [],
   "source": [
    "Trainmod = model.fit(x=XX, y=yy, epochs=10, batch_size=2**6)\n",
    "# plt.plot(XX.A, X.B, \"o\", label = \"actual\")\n",
    "# plt.plot(AE.predict(X)[:,0], AE.predict(X)[:,1], \"o\", label = \"preds\")\n",
    "\n",
    "#plt.legend()"
   ]
  },
  {
   "cell_type": "code",
   "execution_count": null,
   "metadata": {},
   "outputs": [],
   "source": [
    "model.predict(np.array([[13, .12]]))"
   ]
  },
  {
   "cell_type": "code",
   "execution_count": null,
   "metadata": {},
   "outputs": [],
   "source": [
    "np.array(XX)"
   ]
  },
  {
   "cell_type": "code",
   "execution_count": null,
   "metadata": {},
   "outputs": [],
   "source": [
    "\n",
    "\n",
    "\n",
    "def disemvowel(string):\n",
    "    message = []\n",
    "    vowels = ['a', 'e', 'i', 'o', 'u']\n",
    "    for letter in string:\n",
    "         if letter not in vowels:\n",
    "                message.append(letter)\n",
    "    return (message)\n",
    "\n",
    "disemvowel(\"Leol\")"
   ]
  },
  {
   "cell_type": "code",
   "execution_count": null,
   "metadata": {},
   "outputs": [],
   "source": []
  },
  {
   "cell_type": "code",
   "execution_count": null,
   "metadata": {},
   "outputs": [],
   "source": [
    "aeInput = Input((2,))\n",
    "encode = Dense(2, activation='relu')(aeInput)\n",
    "aeOutput = Dense(2, activation='relu')(encode)"
   ]
  },
  {
   "cell_type": "code",
   "execution_count": null,
   "metadata": {},
   "outputs": [],
   "source": [
    "import keras.backend as K\n",
    "\n",
    "# examples of custom loss functions\n",
    "def my_loss(y_true, y_pred):\n",
    "    # this example is mean squared error\n",
    "    # works if if y_pred and y_true are greater than 1D\n",
    "    return K.mean(K.square(y_pred - y_true))\n",
    "\n",
    "def my_loss(y_true, y_pred):\n",
    "    # calculate mean(abs(y_pred1*y_pred2 - y_true1*ytrue2)) \n",
    "    return K.mean(K.abs(K.prod(y_pred, axis = 1) - K.prod(y_true, axis = 1)))\n",
    "\n",
    "AE = Model(aeInput, aeOutput, name=\"autoencoder\")\n",
    "AE.compile(optimizer='adam', loss=my_loss, )"
   ]
  },
  {
   "cell_type": "code",
   "execution_count": null,
   "metadata": {},
   "outputs": [],
   "source": [
    "import tensorflow as tf\n",
    "\n",
    "y_true = np.random.rand(100, 2) + 1\n",
    "y_pred = np.random.rand(100, 2) + 1\n",
    "\n",
    "my_loss(y_true, y_pred) # tensor\n",
    "print(tf.Session().run(K.mean(my_loss(y_true, y_pred))))"
   ]
  },
  {
   "cell_type": "code",
   "execution_count": null,
   "metadata": {},
   "outputs": [],
   "source": [
    "wts = [np.array([[4,  5 ],\n",
    "        [2, 6]], dtype=\"float32\"),\n",
    " np.array([ 0, 0], dtype=\"float32\"),\n",
    " np.array([[1, 1],\n",
    "        [1, 1 ]], dtype=\"float32\"),\n",
    " np.array([0, 0  ], dtype=\"float32\")]\n",
    "\n",
    "AE.set_weights(wts)"
   ]
  },
  {
   "cell_type": "code",
   "execution_count": null,
   "metadata": {},
   "outputs": [],
   "source": [
    "\n",
    "AE.get_weights()"
   ]
  },
  {
   "cell_type": "code",
   "execution_count": null,
   "metadata": {},
   "outputs": [],
   "source": []
  },
  {
   "cell_type": "code",
   "execution_count": null,
   "metadata": {},
   "outputs": [],
   "source": []
  },
  {
   "cell_type": "code",
   "execution_count": null,
   "metadata": {},
   "outputs": [],
   "source": []
  },
  {
   "cell_type": "code",
   "execution_count": null,
   "metadata": {},
   "outputs": [],
   "source": [
    "TrainAE = AE.fit( x=X, y=X, epochs=10, batch_size=2**6)\n",
    "plt.plot(X.A, X.B, \"o\", label = \"actual\")\n",
    "plt.plot(AE.predict(X)[:,0], AE.predict(X)[:,1], \"o\", label = \"preds\")\n",
    "\n",
    "plt.legend()"
   ]
  },
  {
   "cell_type": "code",
   "execution_count": null,
   "metadata": {},
   "outputs": [],
   "source": [
    "AE.evaluate(X, X)"
   ]
  },
  {
   "cell_type": "code",
   "execution_count": null,
   "metadata": {},
   "outputs": [],
   "source": [
    "import tensorflow as tf\n",
    "\n",
    "y_true = X.astype(\"float32\")\n",
    "y_pred = AE.predict(X).astype(\"float32\")\n",
    "\n",
    "print(tf.Session().run((my_loss(y_true, y_pred))))"
   ]
  },
  {
   "cell_type": "code",
   "execution_count": null,
   "metadata": {},
   "outputs": [],
   "source": [
    "y_true = X\n",
    "y_pred = AE.predict(X)\n",
    "\n",
    "my_loss(y_true, y_pred) # tensor\n",
    "print(tf.Session().run(K.mean(my_loss(y_true, y_pred))))"
   ]
  },
  {
   "cell_type": "code",
   "execution_count": null,
   "metadata": {},
   "outputs": [],
   "source": [
    "AE.predict(X).shape"
   ]
  },
  {
   "cell_type": "code",
   "execution_count": null,
   "metadata": {},
   "outputs": [],
   "source": [
    "wts = AE.get_weights()\n",
    "wts = [np.array([[-0,  -0 ],\n",
    "        [ -0, -0]], dtype=\"float32\"),\n",
    " np.array([ 0, 0], dtype=\"float32\"),\n",
    " np.array([[ 0,  0 ],\n",
    "        [ 0 , 0 ]], dtype=\"float32\"),\n",
    " np.array([0, 0  ], dtype=\"float32\")]\n",
    "\n",
    "AE.set_weights(wts)"
   ]
  },
  {
   "cell_type": "code",
   "execution_count": null,
   "metadata": {},
   "outputs": [],
   "source": [
    "wtsConcatenated = [np.vstack([wts[ii + 1], wts[ii]]) for ii in np.arange(0, len(wts), 2)]"
   ]
  },
  {
   "cell_type": "code",
   "execution_count": null,
   "metadata": {},
   "outputs": [],
   "source": [
    "AE.predict(np.array([[-0.9, -0.33]]))"
   ]
  },
  {
   "cell_type": "code",
   "execution_count": null,
   "metadata": {},
   "outputs": [],
   "source": [
    "AE.predict(X).shape"
   ]
  },
  {
   "cell_type": "code",
   "execution_count": null,
   "metadata": {},
   "outputs": [],
   "source": [
    "LayerValues = []\n",
    "    \n",
    "inputData= np.array([[1, -0.9, -0.33]])\n",
    "LayerValues.append(inputData)\n",
    "\n",
    "jj = 0\n",
    "\n",
    "wtsConcatenated = [np.vstack([wts[ii + 1], wts[ii]]) for ii in np.arange(0, len(wts), 2)]\n",
    "\n",
    "nextLayer = np.dot(LayerValues[jj], wtsConcatenated[jj]).astype(\"float32\")\n",
    "nextLayer = np.hstack([np.array([1], dtype = \"float32\").reshape(-1,1), nextLayer] )\n",
    "nextLayer = relu(nextLayer) # apply relu\n",
    "print(nextLayer)\n",
    "jj = 1\n",
    "nextLayer = np.dot(np.array([nextLayer]), wtsConcatenated[jj]).astype(\"float32\")\n",
    "relu(nextLayer)"
   ]
  },
  {
   "cell_type": "code",
   "execution_count": null,
   "metadata": {},
   "outputs": [],
   "source": []
  },
  {
   "cell_type": "code",
   "execution_count": null,
   "metadata": {},
   "outputs": [],
   "source": [
    "plt.plot(X.A, X.B, \"o\", label = \"actual\")\n",
    "plt.plot(AE.predict(X)[:,0], AE.predict(X)[:,1], \"o\", label = \"preds\")\n",
    "\n",
    "plt.legend()"
   ]
  },
  {
   "cell_type": "code",
   "execution_count": null,
   "metadata": {},
   "outputs": [],
   "source": [
    "f, ax = plt.subplots(figsize=(8, 8))\n",
    "sns.kdeplot( X.A, X.B, shade=False, axis=ax)\n",
    "sns.kdeplot(AE.predict(X)[:,0], AE.predict(X)[:,1], shade=False, axis=ax)"
   ]
  },
  {
   "cell_type": "code",
   "execution_count": null,
   "metadata": {},
   "outputs": [],
   "source": [
    "plt.plot(AE.predict(X)[:,0], AE.predict(X)[:,1], \"o\")"
   ]
  },
  {
   "cell_type": "code",
   "execution_count": null,
   "metadata": {},
   "outputs": [],
   "source": []
  },
  {
   "cell_type": "code",
   "execution_count": null,
   "metadata": {},
   "outputs": [],
   "source": [
    "from PIL import Image\n",
    "import numpy as np\n",
    "from pylab import imshow, show, get_cmap\n",
    "from numpy import random\n",
    "\n",
    "Z = random.random((50,50))   # Test data\n",
    "\n",
    "imshow(Z, cmap=get_cmap(\"Spectral\"), interpolation='nearest')\n",
    "plt.savefig('your_file.tif')"
   ]
  },
  {
   "cell_type": "code",
   "execution_count": null,
   "metadata": {},
   "outputs": [],
   "source": [
    "import cv2\n",
    "\n",
    "BLACK_MIN = np.array([0, 20, 20], np.uint8)\n",
    "BLACK_MAX = np.array([120, 255, 255], np.uint8)\n",
    "imgg = cv2.imread('your_file.tif', 1)\n",
    "dst = cv2.inRange(imgg, BLACK_MIN, BLACK_MAX)\n",
    "\n",
    "no_black = cv2.countNonZero(dst)\n",
    "\n",
    "print('The number of black pixels is: ' + str(no_black))"
   ]
  },
  {
   "cell_type": "code",
   "execution_count": null,
   "metadata": {},
   "outputs": [],
   "source": [
    "imgg"
   ]
  },
  {
   "cell_type": "code",
   "execution_count": null,
   "metadata": {},
   "outputs": [],
   "source": [
    "import matplotlib.pyplot as plt\n",
    "plt.imshow(imgg)"
   ]
  },
  {
   "cell_type": "code",
   "execution_count": null,
   "metadata": {},
   "outputs": [],
   "source": []
  },
  {
   "cell_type": "code",
   "execution_count": null,
   "metadata": {},
   "outputs": [],
   "source": [
    "#### More custom losses"
   ]
  },
  {
   "cell_type": "code",
   "execution_count": null,
   "metadata": {},
   "outputs": [],
   "source": [
    "from keras import Model\n",
    "from keras.layers import Input, Dense\n",
    "import pandas as pd\n",
    "import numpy as np\n",
    "import matplotlib.pyplot as plt\n",
    "import keras.backend as K\n",
    "%matplotlib inline"
   ]
  },
  {
   "cell_type": "code",
   "execution_count": null,
   "metadata": {},
   "outputs": [],
   "source": [
    "class Losses:\n",
    "    def IoULoss(targets, inputs, smooth=1e-6):\n",
    "        #targets = K.flatten(targets)\n",
    "#         inputs = K.reshape(inputs, [1, -1]) # 1 row, as many columns as needed\n",
    "#         targets = K.reshape(targets, [-1, 1]) # 1 column, as many rows as needed\n",
    "        inputs = K.reshape(inputs, [1, -1]) # 1 row, as many columns as needed\n",
    "        targets = K.reshape(targets, [-1, 1]) # 1 column, as many rows as needed\n",
    "        print(inputs.shape, targets.shape)\n",
    "        print(K.sum(K.dot(targets, inputs)).shape)\n",
    "        \n",
    "        intersection = K.sum(K.dot(targets, inputs))\n",
    "        total = K.sum(targets) + K.sum(inputs)\n",
    "        union = total - intersection\n",
    "\n",
    "        IoU = (intersection + smooth) / (union + smooth)\n",
    "        return 1 - IoU\n",
    "\n",
    "aeInput = Input((2,))\n",
    "encode = Dense(2, activation='relu')(aeInput)\n",
    "aeOutput = Dense(2, activation='relu')(encode)\n",
    "model = Model(aeInput, aeOutput)\n",
    "\n",
    "model.compile(loss=Losses.IoULoss, optimizer=\"adam\",\n",
    "                      metrics=[\"accuracy\"])"
   ]
  },
  {
   "cell_type": "code",
   "execution_count": null,
   "metadata": {},
   "outputs": [],
   "source": []
  },
  {
   "cell_type": "code",
   "execution_count": null,
   "metadata": {},
   "outputs": [],
   "source": [
    "XX = pd.DataFrame( (np.random.randn(1000,2)), columns=[\"A\", \"B\"] )\n",
    "XX[\"B\"] = (XX[\"A\"]) *6 + XX[\"B\"]\n",
    "yy = np.random.randn(1000, 2)\n",
    "\n",
    "model.fit(XX, yy)"
   ]
  },
  {
   "cell_type": "code",
   "execution_count": null,
   "metadata": {},
   "outputs": [],
   "source": [
    "import tensorflow as tf\n",
    "import numpy as np\n",
    "\n",
    "xx = np.random.randn(100)\n",
    "xx = np.asarray(xx, np.float32)\n",
    "\n",
    "xx_tf = tf.convert_to_tensor(xx, np.float32)\n",
    "xx_tf = K.reshape(xx_tf, [-1, 1])\n",
    "print(xx_tf.shape)\n",
    "\n",
    "yy = np.random.randn(100)\n",
    "yy = np.asarray(yy, np.float32)\n",
    "\n",
    "yy_tf = tf.convert_to_tensor(xx, np.float32)\n",
    "yy_tf = K.reshape(yy_tf, [1, -1])\n",
    "K.dot(xx_tf, yy_tf)"
   ]
  },
  {
   "cell_type": "code",
   "execution_count": null,
   "metadata": {},
   "outputs": [],
   "source": [
    "xx_tf = K.reshape(xx_tf, [1, -1])\n",
    "yy_tf = K.reshape(yy_tf, [-1, 1])\n",
    "\n",
    "\n",
    "print(tf.Session().run(Losses.IoULoss(xx_tf, yy_tf)))"
   ]
  },
  {
   "cell_type": "code",
   "execution_count": null,
   "metadata": {},
   "outputs": [],
   "source": [
    "np.dot(np.random.rand(100), np.random.rand(100))"
   ]
  },
  {
   "cell_type": "code",
   "execution_count": null,
   "metadata": {},
   "outputs": [],
   "source": [
    "x = K.random_uniform_variable(shape=(100, 1), low=0, high=1)\n",
    "y = K.random_uniform_variable(shape=(1, 100), low=0, high=1)\n",
    "xy = K.dot(x, y)"
   ]
  },
  {
   "cell_type": "code",
   "execution_count": null,
   "metadata": {},
   "outputs": [],
   "source": [
    "x2 = K.flatten(y)\n",
    "x2.shape"
   ]
  },
  {
   "cell_type": "code",
   "execution_count": null,
   "metadata": {},
   "outputs": [],
   "source": [
    "x.shape"
   ]
  },
  {
   "cell_type": "code",
   "execution_count": null,
   "metadata": {},
   "outputs": [],
   "source": []
  },
  {
   "cell_type": "code",
   "execution_count": null,
   "metadata": {},
   "outputs": [],
   "source": []
  },
  {
   "cell_type": "code",
   "execution_count": null,
   "metadata": {},
   "outputs": [],
   "source": []
  },
  {
   "cell_type": "code",
   "execution_count": null,
   "metadata": {},
   "outputs": [],
   "source": []
  },
  {
   "cell_type": "code",
   "execution_count": null,
   "metadata": {},
   "outputs": [],
   "source": []
  },
  {
   "cell_type": "code",
   "execution_count": null,
   "metadata": {},
   "outputs": [],
   "source": [
    "import numpy as np\n",
    "from sklearn.neighbors import KNeighborsClassifier\n",
    "from sklearn.datasets import make_blobs\n",
    "import matplotlib.pyplot as plt\n",
    "\n",
    "\n",
    "X, y = make_blobs(n_samples = 100, n_features = 2, centers = 2, random_state = 123)\n",
    "\n",
    "# fit supervised KNN classifier\n",
    "knn = KNeighborsClassifier()\n",
    "knn.fit(X, y) \n",
    "\n",
    "# create 50 new data points\n",
    "# with the same number of features as the training set\n",
    "new_data = np.random.randn(50, 2)\n",
    "\n",
    "# predict new labels\n",
    "new_labels = knn.predict(new_data)\n",
    "\n",
    "# plot training clusters\n",
    "plt.plot(X[y== 1, 0], \n",
    "         X[y==1,1], \n",
    "         \"C1o\", label = \"training cluster 1\")\n",
    "plt.plot(X[y== 0, 0], \n",
    "         X[y==0,1], \n",
    "         \"C0o\", label = \"training custer 2\")\n",
    "\n",
    "# plot predictions on new data\n",
    "plt.plot(new_data[new_labels== 1, 0], \n",
    "         new_data[new_labels==1,1], \n",
    "         \"ro\", label = \"new data assigned to cluster 1\")\n",
    "plt.plot(new_data[new_labels== 0, 0], \n",
    "         new_data[new_labels==0,1], \n",
    "         \"bo\", label = \"new data assigned to cluster 2\")\n",
    "plt.legend()"
   ]
  },
  {
   "cell_type": "code",
   "execution_count": null,
   "metadata": {},
   "outputs": [],
   "source": [
    "iris_X_train = iris_X[indices[:-10]]\n",
    "iris_y_train = iris_y[indices[:-10]]\n",
    "iris_X_test = iris_X[indices[-10:]]\n",
    "iris_y_test = iris_y[indices[-10:]]\n",
    "# Create and fit a nearest-neighbor classifier\n",
    "\n",
    "knn = KNeighborsClassifier()\n",
    "knn.fit(iris_X_train, iris_y_train) \n",
    "\n",
    "\n",
    "\n",
    "knn.predict(iris_X_test)\n",
    "\n",
    "iris_y_test"
   ]
  },
  {
   "cell_type": "code",
   "execution_count": null,
   "metadata": {},
   "outputs": [],
   "source": [
    "import random \n",
    "import time\n",
    "\n",
    "players = input(\"Let's play Five's! How many are you?:\" )\n",
    "#print(\"you are\", players, \"players?\") #test number of players\n",
    "players = int(players)"
   ]
  },
  {
   "cell_type": "code",
   "execution_count": null,
   "metadata": {},
   "outputs": [],
   "source": [
    "if players <=1:\n",
    "    print(\"Game Over\")\n",
    "\n",
    "else:\n",
    "    while players >= 1:\n",
    "        #players = players+1\n",
    "\n",
    "#Decide possible values than can be chosen\n",
    "        options = [] #Possible options\n",
    "        for i in range(0,players):\n",
    "            x = i * 5\n",
    "            options.append(x)\n",
    "        print(\"Your choices are\", options)\n",
    "\n",
    "#Playing the game\n",
    "#Each turn\n",
    "        guess = random.choice(options)\n",
    "        print(\"Computer has chosen\", int(guess))\n",
    "        count_down = 3\n",
    "        while (count_down):\n",
    "            print(count_down)\n",
    "            time.sleep(1)\n",
    "            count_down -=  1\n",
    "        choice = input(\"Guess:\")\n",
    "        choice = int(choice)\n",
    "        if choice not in options: #If choice isn't a multiple of 5\n",
    "            input(\"Not allowed, choose again:\")\n",
    "        elif choice in options and choice != guess: #Valid choice but wrong\n",
    "                print(\"Wrong\")                      #so player is still in the\n",
    "        else:                                       #game\n",
    "            choice = int(choice)\n",
    "            if choice == guess: #Correct choice so player leaves game\n",
    "                print(\"You're Out.\") # this should reduce the player count\n",
    "        players -=1"
   ]
  },
  {
   "cell_type": "code",
   "execution_count": null,
   "metadata": {},
   "outputs": [],
   "source": [
    "import numpy as np\n",
    "\n",
    "def next_batch(X,y,batchsize):\n",
    "    for i in np.arange(0,X.shape[0],batchsize):\n",
    "        yield(X[i:i+batchsize],y[i:i+batchsize])\n",
    "\n",
    "def des(X,y,learning_rate,epoches, batchsize):\n",
    "    X=np.c_[np.ones((X.shape[0])),X]\n",
    "    W=np.random.uniform(size=(X.shape[1],))\n",
    "    lossHistory=[]\n",
    "    for epoch in np.arange(0,epoches):\n",
    "        epochLoss=[]\n",
    "        for (batchX,batchY) in next_batch(X,y,batchsize):\n",
    "            #batchY = batchY.reshape(-1)\n",
    "            preds=batchX.dot(W)\n",
    "            print(preds.shape, batchY.shape)\n",
    "            error=preds-batchY\n",
    "            loss=np.sum(error**2)\n",
    "            epochLoss.append(loss)\n",
    "            gradient=batchX.T.dot(error)/batchX.shape[0]\n",
    "            W+=-learning_rate*gradient\n",
    "    lossHistory.append(np.average(epochLoss))\n",
    "    return W,lossHistory"
   ]
  },
  {
   "cell_type": "code",
   "execution_count": null,
   "metadata": {},
   "outputs": [],
   "source": [
    "from sklearn.model_selection import train_test_split\n",
    "data = np.random.randn(150,13)\n",
    "target = np.random.randn(150)\n",
    "\n",
    "train_data_intercept = np.insert(data, 0, 1, axis=1) \n",
    "train_data,test_data,train_target,test_target = train_test_split(train_data_intercept,(target[:, np.newaxis]), test_size=0.2, random_state=42)\n",
    "#train_data,test_data,train_target,test_target = train_test_split(data,target, test_size=0.2, random_state=42)\n",
    "train_data.shape, train_target.shape\n"
   ]
  },
  {
   "cell_type": "code",
   "execution_count": null,
   "metadata": {},
   "outputs": [],
   "source": [
    "w, loss = des(train_data,train_target,0.01,10,32)\n",
    "w, loss"
   ]
  },
  {
   "cell_type": "code",
   "execution_count": null,
   "metadata": {},
   "outputs": [],
   "source": [
    "import pandas as pd\n",
    "pd.DataFrame(train_data)"
   ]
  },
  {
   "cell_type": "code",
   "execution_count": null,
   "metadata": {},
   "outputs": [],
   "source": [
    "from keras import Model\n",
    "from keras.layers import Input, Dense, LSTM\n",
    "import pandas as pd\n",
    "import numpy as np\n",
    "import matplotlib.pyplot as plt\n",
    "import keras.backend as K\n",
    "%matplotlib inline\n",
    "\n",
    "# Model.add(LSTM(32, input_shape=(5,2), return_sequences=True, activation='tanh'))\n"
   ]
  },
  {
   "cell_type": "code",
   "execution_count": null,
   "metadata": {},
   "outputs": [],
   "source": [
    "trainx = np.random.randn(5, 5000)\n",
    "trainx.shape[:-1]\n",
    "\n",
    "input_layer = Input(shape = (5, 1))\n",
    "l1 = LSTM(32, activation='tanh')(input_layer)\n",
    "y1 = Dense(1, activation='softmax')(l1)\n",
    "\n",
    "model = Model(input_layer, y1)\n",
    "trainx.shape"
   ]
  },
  {
   "cell_type": "code",
   "execution_count": null,
   "metadata": {},
   "outputs": [],
   "source": [
    "model.compile(optimizer='adam', loss=\"mean_squared_error\")\n",
    "model.summary()"
   ]
  },
  {
   "cell_type": "code",
   "execution_count": null,
   "metadata": {},
   "outputs": [],
   "source": [
    "Trainmod = model.fit(x=trainx, y=trainx, epochs=2, batch_size=2**6)"
   ]
  },
  {
   "cell_type": "code",
   "execution_count": null,
   "metadata": {},
   "outputs": [],
   "source": [
    "visible = Input(shape=(100,1))\n",
    "hidden1 = LSTM(10)(visible)\n",
    "hidden2 = Dense(10, activation='relu')(hidden1)\n",
    "output = Dense(1, activation='sigmoid')(hidden2)\n",
    "model = Model(inputs=visible, outputs=output)\n",
    "# summarize layers\n",
    "print(model.summary())"
   ]
  },
  {
   "cell_type": "code",
   "execution_count": null,
   "metadata": {},
   "outputs": [],
   "source": [
    "model.compile(optimizer='adam', loss=\"mean_squared_error\")"
   ]
  },
  {
   "cell_type": "code",
   "execution_count": null,
   "metadata": {},
   "outputs": [],
   "source": [
    "\n",
    "# refref here\n",
    "trainx = np.random.randn(5, 23, 1)\n",
    "trainy = np.random.randn(5, 1, )\n",
    "\n",
    "visible = Input(shape=(23,1))\n",
    "hidden1 = LSTM(10)(visible)\n",
    "hidden2 = Dense(10, activation='relu')(hidden1)\n",
    "output = Dense(1, activation='sigmoid')(hidden2)\n",
    "model = Model(inputs=visible, outputs=output)\n",
    "# summarize layers\n",
    "print(model.summary())\n",
    "model.compile(optimizer='adam', loss=\"mean_squared_error\")\n",
    "\n",
    "model.fit(x=trainx, y=trainy, epochs=2)"
   ]
  },
  {
   "cell_type": "code",
   "execution_count": null,
   "metadata": {},
   "outputs": [],
   "source": [
    "import pandas as pd\n",
    "import numpy as np\n",
    "import matplotlib.pyplot as plt\n",
    "\n",
    "\n",
    "df = pd.DataFrame({\"GFS\": [np.nan, np.nan, 1, 2, np.nan, \n",
    "                          2, 3, np.nan, np.nan, 4], \n",
    "                    \"RAP\": [-2.45832646,  0.56266567, -0.4453474 , \n",
    "                            -0.85447845, -1.34830127,\n",
    "                            -0.38113925, -0.41400397,  \n",
    "                            np.nan, -0.78764545, -0.02807674]})\n",
    "\n",
    "fh = np.array([\"Fri 4 am\", \"Fri 6 am\",\"Fri 8 am\",\"Fri 10 am\",\n",
    "                \"Fri 6 pm\",\"Fri 10 pm\",\"Sat 4 am\",\"Sat 6 am\",\n",
    "                \"Sat 8 am\",\"100az 10 am\"\n",
    "                ])\n",
    "\n",
    "gfs = df['GFS']\n",
    "rap = df['RAP']\n",
    "\n",
    "\n",
    "fig2, ax2 = plt.subplots(figsize=(10,8))\n",
    "\n",
    "# workaround to set the order of xlabels\n",
    "ax2.plot(fh, [np.nan]*len(fh)) \n",
    "\n",
    "# remove nan's  so that the points are connected\n",
    "ax2.plot(fh[~np.isnan(gfs)], gfs[~np.isnan(gfs)], \"ob-\") \n",
    "ax2.plot(fh[~np.isnan(rap)],rap[~np.isnan(rap)],marker='x')\n",
    "\n",
    "ax2.tick_params(which='major',labelsize='12')\n",
    "ax2.grid(which='major', color='#CCCCCC', linestyle='-')\n",
    "plt.xticks(rotation='90')\n",
    "plt.xlabel('Forecast Run')\n",
    "plt.ylabel('Snowfall Accumulation (in.)')"
   ]
  },
  {
   "cell_type": "code",
   "execution_count": null,
   "metadata": {},
   "outputs": [],
   "source": [
    "\n",
    "\n"
   ]
  },
  {
   "cell_type": "code",
   "execution_count": null,
   "metadata": {},
   "outputs": [],
   "source": [
    "~np.isnan(gfs)"
   ]
  },
  {
   "cell_type": "code",
   "execution_count": null,
   "metadata": {},
   "outputs": [],
   "source": []
  },
  {
   "cell_type": "code",
   "execution_count": null,
   "metadata": {},
   "outputs": [],
   "source": []
  },
  {
   "cell_type": "code",
   "execution_count": null,
   "metadata": {},
   "outputs": [],
   "source": []
  },
  {
   "cell_type": "code",
   "execution_count": null,
   "metadata": {},
   "outputs": [],
   "source": []
  },
  {
   "cell_type": "code",
   "execution_count": null,
   "metadata": {},
   "outputs": [],
   "source": []
  },
  {
   "cell_type": "code",
   "execution_count": null,
   "metadata": {},
   "outputs": [],
   "source": []
  },
  {
   "cell_type": "code",
   "execution_count": null,
   "metadata": {},
   "outputs": [],
   "source": [
    "import matplotlib.pyplot as plt\n",
    "from keras.layers import Input, Dense, Dropout\n",
    "from keras.models import Model\n",
    "from keras import optimizers\n",
    "\n",
    "import numpy as np\n",
    "import copy\n",
    "\n",
    "\n",
    "\n",
    "# data\n",
    "data = np.random.randn(20000, 2001) + 100# read my input samples. They are 1d functions of time and I have 2000 of them.\n",
    "# Each function has 2001 time components\n",
    "\n",
    "# shuffling data before training\n",
    "import random\n",
    "random.seed(5)\n",
    "random.shuffle(data)\n",
    "\n",
    "# split training (1500 samples) and testing (500 samples) dataset\n",
    "X_train = data[:1500]\n",
    "X_test = data[1500:]\n",
    "\n",
    "# normalize training and testing set using mean and std deviation of training set\n",
    "X_mean = X_train.mean()\n",
    "X_train -= X_mean\n",
    "X_std = X_train.std()\n",
    "X_train /= X_std\n",
    "\n",
    "X_test -= X_mean\n",
    "X_test /= X_std\n",
    "\n",
    "\n",
    "### MODEL ###\n",
    "\n",
    "# Architecture\n",
    "\n",
    "# input layer\n",
    "input_shape = [X_train.shape[1]]\n",
    "X_input = Input(input_shape)\n",
    "\n",
    "# hidden layers\n",
    "\n",
    "x = Dense(1000, activation='tanh', name='enc0')(X_input)\n",
    "encoded = Dense(500, activation='tanh', name='enc1')(x)\n",
    "encoded_2 = Dense(200, activation='tanh', name='enc2')(encoded)\n",
    "encoded_3 = Dense(50, activation='tanh', name='enc3')(encoded_2)\n",
    "decoded_2 = Dense(200, activation='tanh', name='dec2')(encoded_3)\n",
    "decoded_1 = Dense(500, activation='tanh', name='dec1')(decoded_2)\n",
    "x2 = Dense(1000, activation='tanh', name='dec0')(decoded_1)\n",
    "\n",
    "# output layer\n",
    "decoded = Dense(input_shape[0], name='out')(x2)\n",
    "\n",
    "# the Model\n",
    "model = Model(inputs=X_input, outputs=decoded, name='autoencoder')\n",
    "\n",
    "# optimizer\n",
    "opt = optimizers.Adamax()\n",
    "model.compile(optimizer=opt, loss='mse', metrics=['acc'])\n",
    "print(model.summary())\n",
    "\n",
    "###################"
   ]
  },
  {
   "cell_type": "code",
   "execution_count": null,
   "metadata": {},
   "outputs": [],
   "source": [
    "### TRAINING ###\n",
    "\n",
    "epochs = 200\n",
    "# train the model\n",
    "history = model.fit(x = X_train, y = X_train,\n",
    "                    epochs=epochs,\n",
    "                    batch_size=2000,\n",
    "                    validation_split=0.2)  # using 20% of training samples for validation"
   ]
  },
  {
   "cell_type": "code",
   "execution_count": null,
   "metadata": {},
   "outputs": [],
   "source": [
    "# Testing \n",
    "prediction = model.predict(X_test)\n",
    "for i in range(len(prediction)):\n",
    "    prediction[i] = np.multiply(prediction[i], X_std) + X_mean\n",
    "\n",
    "loss = history.history['loss']\n",
    "val_loss = history.history['val_loss']\n",
    "epochs_ = np.arange(epochs)\n",
    "plt.figure()\n",
    "plt.plot(epochs_, loss, 'bo', label='Training loss')\n",
    "plt.plot(epochs_, val_loss, 'b', label='Validation loss')\n",
    "plt.title('Training and validation loss')\n",
    "plt.legend()\n",
    "plt.show()\n",
    "plt.close()"
   ]
  },
  {
   "cell_type": "code",
   "execution_count": null,
   "metadata": {},
   "outputs": [],
   "source": [
    "from keras import losses"
   ]
  },
  {
   "cell_type": "code",
   "execution_count": null,
   "metadata": {},
   "outputs": [],
   "source": [
    "import tensorflow as tf\n",
    "from keras import losses\n",
    "prediction = model.predict(X_test)\n",
    "print(np.mean(tf.Session().run(losses.mean_squared_error(X_test, prediction))))\n"
   ]
  },
  {
   "cell_type": "code",
   "execution_count": null,
   "metadata": {},
   "outputs": [],
   "source": [
    "((prediction - X_test)**2).mean(axis=None)"
   ]
  },
  {
   "cell_type": "code",
   "execution_count": null,
   "metadata": {},
   "outputs": [],
   "source": [
    "import tensorflow as tf\n",
    "prediction = model.predict(X_test)\n",
    "for i in range(len(prediction)):\n",
    "    prediction[i] = np.multiply(prediction[i], X_std) + X_mean\n",
    "print(np.mean(tf.Session().run(losses.mean_squared_error(X_test, prediction))))\n"
   ]
  },
  {
   "cell_type": "code",
   "execution_count": null,
   "metadata": {},
   "outputs": [],
   "source": [
    "prediction = model.predict(X_train)\n",
    "print(np.mean(tf.Session().run(losses.mean_squared_error(X_train, prediction))))"
   ]
  },
  {
   "cell_type": "code",
   "execution_count": null,
   "metadata": {},
   "outputs": [],
   "source": [
    "xx = np.arange(0, 6000)\n",
    "yy = np.linspace(-0.2,1, num = len(xx))"
   ]
  },
  {
   "cell_type": "code",
   "execution_count": null,
   "metadata": {},
   "outputs": [],
   "source": [
    "plt.figure(figsize = [6, 5])\n",
    "plt.plot(xx, yy, \"w\")"
   ]
  },
  {
   "cell_type": "code",
   "execution_count": null,
   "metadata": {},
   "outputs": [],
   "source": [
    "import pandas as pd\n",
    "from scipy.optimize import curve_fit\n",
    "import numpy as np\n",
    "import matplotlib.pyplot as plt\n",
    "\n",
    "\n",
    "df = pd.DataFrame({\"x\": [0,1,2,3,4,5,6], \n",
    "                  \"y\": np.array([1, 2, 4, 8, 16, 32, 64]) + 10})\n",
    "\n",
    "def func(x, a, b, c):\n",
    "    return a*np.exp(x*b) + c\n",
    "\n",
    "def func(x, a, b):\n",
    "    return a*np.exp(x*b)\n",
    "\n",
    "popt, pcov = curve_fit(func, df['x'].values, df['y'].values, )"
   ]
  },
  {
   "cell_type": "code",
   "execution_count": null,
   "metadata": {},
   "outputs": [],
   "source": [
    "popt"
   ]
  },
  {
   "cell_type": "code",
   "execution_count": null,
   "metadata": {},
   "outputs": [],
   "source": [
    "plt.plot(df.x, df.y)\n",
    "x_pred = np.linspace(0, 6, 100)\n",
    "\n",
    "# y_pred = func(x_pred, popt[0], popt[1], popt[2])\n",
    "y_pred = func(x_pred, popt[0], popt[1])\n",
    "plt.plot(x_pred, y_pred)"
   ]
  },
  {
   "cell_type": "code",
   "execution_count": null,
   "metadata": {},
   "outputs": [],
   "source": [
    "x_pred = np.linspace(0, 6, 100)\n",
    "\n",
    "y_pred = func(x_pred, popt[0], popt[1])"
   ]
  },
  {
   "cell_type": "code",
   "execution_count": null,
   "metadata": {},
   "outputs": [],
   "source": [
    "plt.plot(x_pred, y_pred)"
   ]
  },
  {
   "cell_type": "code",
   "execution_count": null,
   "metadata": {},
   "outputs": [],
   "source": [
    "df.to_dict()"
   ]
  },
  {
   "cell_type": "code",
   "execution_count": null,
   "metadata": {},
   "outputs": [],
   "source": []
  },
  {
   "cell_type": "code",
   "execution_count": null,
   "metadata": {},
   "outputs": [],
   "source": []
  },
  {
   "cell_type": "code",
   "execution_count": null,
   "metadata": {},
   "outputs": [],
   "source": [
    "# Interview question from Insurance company\n",
    "#### Write a function to calculate the sum of digits in an integer\n",
    "\n",
    "\n",
    "# here's what I wrote in the interview\n",
    "def int_sum(integer):\n",
    "    int_string = \"\".split(str(integer)) \n",
    "    int_list = [int(i) for i in int_string]\n",
    "    return(sum(int_list))\n",
    "    \n",
    "int_sum(645)"
   ]
  },
  {
   "cell_type": "code",
   "execution_count": null,
   "metadata": {},
   "outputs": [],
   "source": [
    "# here's a correct way to do it:\n",
    "def int_sum(integer):\n",
    "    int_string = list(str(integer)) \n",
    "    int_list = [int(i) for i in int_string]\n",
    "    return(sum(int_list))\n",
    "    \n",
    "int_sum(645)"
   ]
  },
  {
   "cell_type": "code",
   "execution_count": null,
   "metadata": {},
   "outputs": [],
   "source": [
    "##### Question 2 -- write  a function that takes a list of integers\n",
    "##### and returns True if two integers in the list add up to a target integer\n",
    "import numpy as np\n",
    "\n",
    "# here's what I wrote\n",
    "def int_sum(list_of_ints, target):\n",
    "    \n",
    "    for ii in range(len(list_of_ints)):\n",
    "        for jj in np.arange(ii, len(list_of_ints)):\n",
    "            if list_of_ints[ii] + list_of_ints[jj] == target:\n",
    "                # print(ii, jj)\n",
    "                return(True)\n",
    "    \n",
    "    return(False)\n",
    "    \n",
    "    \n",
    "    \n",
    "int_sum([1,2,5], 4)"
   ]
  },
  {
   "cell_type": "code",
   "execution_count": null,
   "metadata": {},
   "outputs": [],
   "source": [
    "# the above was close, but not quite right\n",
    "# here's what I wrote\n",
    "def int_sum(list_of_ints, target):\n",
    "    \n",
    "    for ii in range(len(list_of_ints)):\n",
    "        for jj in np.arange(ii + 1, len(list_of_ints)): # this line was wrong above\n",
    "            if list_of_ints[ii] + list_of_ints[jj] == target:\n",
    "                # print(ii, jj)\n",
    "                return(True)\n",
    "    \n",
    "    return(False)\n",
    "\n",
    "int_sum([1,2,3], 4)"
   ]
  },
  {
   "cell_type": "code",
   "execution_count": null,
   "metadata": {},
   "outputs": [],
   "source": [
    "# example question:  Return true if there is a pallindrome anywhere in the list."
   ]
  },
  {
   "cell_type": "code",
   "execution_count": null,
   "metadata": {},
   "outputs": [],
   "source": []
  },
  {
   "cell_type": "code",
   "execution_count": null,
   "metadata": {},
   "outputs": [],
   "source": []
  },
  {
   "cell_type": "code",
   "execution_count": null,
   "metadata": {},
   "outputs": [],
   "source": []
  },
  {
   "cell_type": "code",
   "execution_count": null,
   "metadata": {},
   "outputs": [],
   "source": [
    "from skimage import io\n",
    "import pandas as pd\n",
    "import numpy as np\n",
    "import matplotlib.pyplot as plt\n",
    "import seaborn as sns\n",
    "\n",
    "\n",
    "xx = np.random.randn(100, 2)\n",
    "\n",
    "housing = pd.DataFrame({\"latitude\": np.random.randn(100) - 100, \n",
    "                       \"longitude\": np.random.randn(100) - 100, \n",
    "                       \"median_house_value\" : np.random.randn(100), \n",
    "                       \"size\": np.random.randint(100)})\n",
    "\n",
    "\n",
    "img = io.imread(r\"C:\\Users\\calli\\Documents\\R\\win-library\\3.5\\naivebayes\\help\\figures\\logo.png\")\n",
    "fig, ax  = plt.subplots(1,1,figsize=(12,8))\n",
    "\n",
    "sns.scatterplot(x=\"latitude\", y=\"longitude\", hue=\"median_house_value\", size='size' ,data=housing, palette=\"jet\", zorder=2)\n",
    "plt.imshow(img, origin = \"upper\", extent = [0, 120, 0, 120])\n",
    "\n",
    "plt.show()"
   ]
  },
  {
   "cell_type": "code",
   "execution_count": null,
   "metadata": {},
   "outputs": [],
   "source": [
    "plt.imshow(img)\n",
    "ax = sns.scatterplot(x=\"latitude\", y=\"longitude\", \n",
    "                hue=\"median_house_value\", size='size' ,data=housing, palette=\"jet\")\n",
    "plt.show()"
   ]
  },
  {
   "cell_type": "code",
   "execution_count": null,
   "metadata": {},
   "outputs": [],
   "source": [
    "import urllib\n",
    "import matplotlib.pyplot as plt\n",
    "\n",
    "# create a file-like object from the url\n",
    "f = urllib.request.urlopen(\"https://i.stack.imgur.com/1z6A0.png\")\n",
    "\n",
    "# read the image file in a numpy array\n",
    "a = plt.imread(f)\n",
    "plt.imshow(a, extent = [0, 500, 0, 500])\n",
    "plt.show()"
   ]
  },
  {
   "cell_type": "code",
   "execution_count": null,
   "metadata": {},
   "outputs": [],
   "source": []
  },
  {
   "cell_type": "code",
   "execution_count": null,
   "metadata": {},
   "outputs": [],
   "source": [
    "import urllib\n",
    "import matplotlib.pyplot as plt\n",
    "\n",
    "# create a file-like object from the url\n",
    "f = urllib.request.urlopen(\"https://i.stack.imgur.com/JXxJM.png\")\n",
    "\n",
    "# read the image file in a numpy array\n",
    "a = plt.imread(f)\n",
    "plt.imshow(a, extent = [0, 500, 0, 500])\n",
    "plt.show()"
   ]
  },
  {
   "cell_type": "code",
   "execution_count": null,
   "metadata": {},
   "outputs": [],
   "source": [
    "from skimage.filters import threshold_otsu\n",
    "\n",
    "from skimage.color import rgb2gray\n",
    "\n",
    "\n",
    "grayscale = rgb2gray(a)\n",
    "global_thresh = threshold_otsu(grayscale)\n",
    "binary_global = grayscale > global_thresh\n",
    "plt.figure(figsize=[10,10])\n",
    "plt.imshow(binary_global)"
   ]
  },
  {
   "cell_type": "code",
   "execution_count": null,
   "metadata": {},
   "outputs": [],
   "source": [
    "from skimage import measure\n",
    "\n",
    "# Find contours at a constant value of 0.8\n",
    "contours = measure.find_contours(binary_global, 0.8)\n",
    "\n",
    "# Display the image and plot all contours found\n",
    "fig, ax = plt.subplots(figsize=[10,10])\n",
    "ax.imshow(binary_global, cmap=plt.cm.gray)\n",
    "\n",
    "for n, contour in enumerate(contours):\n",
    "    ax.plot(contour[:, 1], contour[:, 0], linewidth=2)"
   ]
  },
  {
   "cell_type": "code",
   "execution_count": null,
   "metadata": {},
   "outputs": [],
   "source": [
    "from skimage.morphology import dilation, binary_dilation, erosion, binary_erosion\n",
    "from skimage.morphology import disk"
   ]
  },
  {
   "cell_type": "code",
   "execution_count": null,
   "metadata": {},
   "outputs": [],
   "source": [
    "selem = disk(30)\n",
    "eroded = binary_erosion(binary_global, selem)"
   ]
  },
  {
   "cell_type": "code",
   "execution_count": null,
   "metadata": {},
   "outputs": [],
   "source": [
    "plt.figure(figsize = [10,10])\n",
    "grayscale = eroded*grayscale\n",
    "plt.imshow(grayscale)"
   ]
  },
  {
   "cell_type": "code",
   "execution_count": null,
   "metadata": {},
   "outputs": [],
   "source": [
    "selem = disk(1)\n",
    "dilated = binary_dilation(eroded, selem)\n"
   ]
  },
  {
   "cell_type": "code",
   "execution_count": null,
   "metadata": {},
   "outputs": [],
   "source": [
    "plt.imshow(dilated)\n",
    "plt.show()\n",
    "plt.imshow(binary_global)"
   ]
  },
  {
   "cell_type": "code",
   "execution_count": null,
   "metadata": {},
   "outputs": [],
   "source": [
    "plt.figure(figsize=[10,10])\n",
    "plt.imshow(np.logical_xor(dilated, eroded)*1)"
   ]
  },
  {
   "cell_type": "code",
   "execution_count": null,
   "metadata": {},
   "outputs": [],
   "source": [
    "from scipy.signal import convolve2d\n",
    "bb  =  convolve2d(grayscale,np.array([[1,1,1], [1, 0, 1], [1, 1, 1]])/8, mode = \"same\")\n",
    "plt.imshow(bb)"
   ]
  },
  {
   "cell_type": "code",
   "execution_count": null,
   "metadata": {},
   "outputs": [],
   "source": [
    "plt.figure(figsize=[10,10])\n",
    "plt.imshow(grayscale + np.logical_xor(dilated, binary_global)*bb)"
   ]
  },
  {
   "cell_type": "code",
   "execution_count": null,
   "metadata": {},
   "outputs": [],
   "source": [
    "plt.imshow(np.logical_xor(dilated, eroded))"
   ]
  },
  {
   "cell_type": "code",
   "execution_count": null,
   "metadata": {},
   "outputs": [],
   "source": [
    "x, y = np.where(np.logical_xor(dilated, eroded) == 1)\n",
    "plt.plot(x, y, \"o\")"
   ]
  },
  {
   "cell_type": "code",
   "execution_count": null,
   "metadata": {},
   "outputs": [],
   "source": [
    "g2 = grayscale.copy()\n",
    "\n",
    "for ii in zip(x,y):\n",
    "    grayscale[ii[0], ii[1]] = (np.sum(grayscale[(ii[0]-1):(ii[0] + 2), (ii[1]-1):(ii[1] + 2)]*\n",
    "                                                                 dilated[(ii[0]-1):(ii[0] + 2), (ii[1]-1):(ii[1] + 2)]) / \n",
    "                                                           np.sum(dilated[(ii[0]-1):(ii[0] + 2), (ii[1]-1):(ii[1] + 2)]))"
   ]
  },
  {
   "cell_type": "code",
   "execution_count": null,
   "metadata": {},
   "outputs": [],
   "source": [
    "plt.imshow(grayscale)"
   ]
  },
  {
   "cell_type": "code",
   "execution_count": null,
   "metadata": {},
   "outputs": [],
   "source": [
    "plt.figure(figsize = [10,10])\n",
    "plt.imshow(grayscale - g2)"
   ]
  },
  {
   "cell_type": "code",
   "execution_count": null,
   "metadata": {},
   "outputs": [],
   "source": [
    "plt.imshow(grayscale)"
   ]
  },
  {
   "cell_type": "code",
   "execution_count": null,
   "metadata": {},
   "outputs": [],
   "source": [
    "from scipy.ndimage.filters import convolve\n",
    "bb  =  convolve(grayscale,np.array([[1,1,1], [1, 0, 1], [1, 1, 1]])/8, mode = \"same\")\n",
    "plt.imshow(bb)\n"
   ]
  },
  {
   "cell_type": "code",
   "execution_count": null,
   "metadata": {},
   "outputs": [],
   "source": []
  },
  {
   "cell_type": "code",
   "execution_count": null,
   "metadata": {},
   "outputs": [],
   "source": []
  },
  {
   "cell_type": "code",
   "execution_count": null,
   "metadata": {},
   "outputs": [],
   "source": []
  },
  {
   "cell_type": "code",
   "execution_count": null,
   "metadata": {},
   "outputs": [],
   "source": []
  },
  {
   "cell_type": "code",
   "execution_count": null,
   "metadata": {},
   "outputs": [],
   "source": [
    "# get original image\n",
    "import urllib\n",
    "import matplotlib.pyplot as plt\n",
    "import numpy as np\n",
    "from skimage.morphology import  binary_dilation, binary_erosion\n",
    "from skimage.morphology import disk\n",
    "from skimage.color import rgb2gray\n",
    "\n",
    "# create a file-like object from the url\n",
    "f = urllib.request.urlopen(\"https://i.stack.imgur.com/JXxJM.png\")\n",
    "\n",
    "# read the image file in a numpy array\n",
    "a = plt.imread(f)"
   ]
  },
  {
   "cell_type": "code",
   "execution_count": null,
   "metadata": {},
   "outputs": [],
   "source": [
    "# convert to greyscale and add padding 0's\n",
    "grayscale = np.pad(rgb2gray(a), 100, mode = \"constant\")\n",
    "global_thresh = 0.2\n",
    "binary_global = grayscale > global_thresh\n",
    "\n",
    "# erode by 5 px to get rid of edge effects\n",
    "eroded = binary_erosion(binary_global, disk(5))\n",
    "binary_global = eroded\n",
    "\n",
    "# turn everything less than the threshold to 0\n",
    "grayscale = grayscale * binary_global\n"
   ]
  },
  {
   "cell_type": "code",
   "execution_count": null,
   "metadata": {},
   "outputs": [],
   "source": [
    "num_px_to_expand = 80\n",
    "\n",
    "for jj in range(80):\n",
    "\n",
    "    # get ring of pixels to update\n",
    "    px_to_update = np.logical_xor(binary_dilation(binary_global, disk(1)), binary_global)\n",
    "\n",
    "    # update those pixels with the average of their neighborhood\n",
    "    x, y = np.where(px_to_update == 1)\n",
    "    for ii in zip(x,y):\n",
    "        grayscale[ii[0], ii[1]] = (np.sum(grayscale[(ii[0]-1):(ii[0] + 2), (ii[1]-1):(ii[1] + 2)]*\n",
    "                                                                     binary_global[(ii[0]-1):(ii[0] + 2), (ii[1]-1):(ii[1] + 2)]) / \n",
    "                                                               np.sum(binary_global[(ii[0]-1):(ii[0] + 2), (ii[1]-1):(ii[1] + 2)]))       \n",
    "    # increase binary_global by 1 px dilation\n",
    "    binary_global = binary_dilation(binary_global, disk(1))"
   ]
  },
  {
   "cell_type": "code",
   "execution_count": null,
   "metadata": {},
   "outputs": [],
   "source": [
    "plt.figure(figsize=[10,10])\n",
    "plt.imshow(grayscale, cmap=plt.cm.gray)"
   ]
  },
  {
   "cell_type": "code",
   "execution_count": null,
   "metadata": {},
   "outputs": [],
   "source": []
  },
  {
   "cell_type": "code",
   "execution_count": null,
   "metadata": {},
   "outputs": [],
   "source": []
  },
  {
   "cell_type": "code",
   "execution_count": 1,
   "metadata": {},
   "outputs": [],
   "source": [
    "import urllib\n",
    "import matplotlib.pyplot as plt\n",
    "import numpy as np\n",
    "from skimage.morphology import  binary_dilation, binary_erosion, disk\n",
    "from skimage.color import rgb2gray\n",
    "from skimage.filters import threshold_otsu\n",
    "\n",
    "# create a file-like object from the url\n",
    "f = urllib.request.urlopen(\"https://i.stack.imgur.com/JXxJM.png\")\n",
    "\n",
    "# read the image file in a numpy array\n",
    "a = plt.imread(f)"
   ]
  },
  {
   "cell_type": "code",
   "execution_count": 6,
   "metadata": {},
   "outputs": [
    {
     "data": {
      "text/plain": [
       "<matplotlib.image.AxesImage at 0x1f2d4d1d048>"
      ]
     },
     "execution_count": 6,
     "metadata": {},
     "output_type": "execute_result"
    },
    {
     "data": {
      "image/png": "[encoded data removed]",
      "text/plain": [
       "<matplotlib.figure.Figure at 0x1f2d477a390>"
      ]
     },
     "metadata": {},
     "output_type": "display_data"
    }
   ],
   "source": [
    "plt.imshow(binary_global1, cmap=plt.cm.gray)"
   ]
  },
  {
   "cell_type": "code",
   "execution_count": 2,
   "metadata": {},
   "outputs": [
    {
     "data": {
      "text/plain": [
       "<matplotlib.image.AxesImage at 0x1f2d46979b0>"
      ]
     },
     "execution_count": 2,
     "metadata": {},
     "output_type": "execute_result"
    },
    {
     "data": {
      "image/png": "[encoded data removed]",
      "text/plain": [
       "<matplotlib.figure.Figure at 0x1f2d1243080>"
      ]
     },
     "metadata": {},
     "output_type": "display_data"
    }
   ],
   "source": [
    "# add black padding around image 100 px wide\n",
    "a = np.pad(a, ((100,100), (100,100), (0,0)), mode = \"constant\")\n",
    "\n",
    "# convert to greyscale and perform otsu's thresholding\n",
    "grayscale = rgb2gray(a)\n",
    "global_thresh = threshold_otsu(grayscale)\n",
    "binary_global1 = grayscale > global_thresh\n",
    "\n",
    "# define number of pixels to expand the image\n",
    "num_px_to_expand = 50\n",
    "\n",
    "# process each channel (RGB) separately\n",
    "for channel in range(a.shape[2]):\n",
    "\n",
    "    # select a single channel\n",
    "    one_channel = a[:, :, channel]\n",
    "\n",
    "    # reset binary_global for the each channel\n",
    "    binary_global = binary_global1.copy()\n",
    "    \n",
    "    # erode by 5 px to get rid of unusual edges from original image\n",
    "    binary_global = binary_erosion(binary_global, disk(5))\n",
    "\n",
    "    # turn everything less than the threshold to 0\n",
    "    one_channel = one_channel * binary_global\n",
    "\n",
    "    # update pixels one at a time\n",
    "    for jj in range(num_px_to_expand):\n",
    "\n",
    "        # get 1 px ring of to update\n",
    "        px_to_update = np.logical_xor(binary_dilation(binary_global, disk(1)), \n",
    "                                      binary_global)\n",
    "\n",
    "        # update those pixels with the average of their neighborhood\n",
    "        x, y = np.where(px_to_update == 1)\n",
    "        \n",
    "        for x, y in zip(x,y):\n",
    "            # make 3 x 3 px slices\n",
    "            slices = np.s_[(x-1):(x+2), (y-1):(y+2)]\n",
    "            \n",
    "            # update a single pixel\n",
    "            one_channel[x, y] = (np.sum(one_channel[slices]*\n",
    "                                             binary_global[slices]) / \n",
    "                                       np.sum(binary_global[slices]))      \n",
    "\n",
    "        \n",
    "        # update original image\n",
    "        a[:,:, channel] = one_channel\n",
    "        \n",
    "        # increase binary_global by 1 px dilation\n",
    "        binary_global = binary_dilation(binary_global, disk(1))\n",
    "\n",
    "        \n",
    "        \n",
    "# plot image\n",
    "plt.figure(figsize=[10,10])\n",
    "plt.imshow(a)"
   ]
  },
  {
   "cell_type": "code",
   "execution_count": null,
   "metadata": {},
   "outputs": [],
   "source": []
  },
  {
   "cell_type": "code",
   "execution_count": null,
   "metadata": {},
   "outputs": [],
   "source": [
    "channel = 1\n",
    "one_channel = a[:, :, channel]\n",
    "global_thresh = 0.2\n",
    "binary_global = one_channel > global_thresh\n",
    "plt.imshow(one_channel)"
   ]
  },
  {
   "cell_type": "code",
   "execution_count": null,
   "metadata": {},
   "outputs": [],
   "source": [
    "plt.hist(a.reshape(-1))"
   ]
  },
  {
   "cell_type": "code",
   "execution_count": null,
   "metadata": {},
   "outputs": [],
   "source": []
  },
  {
   "cell_type": "code",
   "execution_count": null,
   "metadata": {},
   "outputs": [],
   "source": []
  },
  {
   "cell_type": "code",
   "execution_count": null,
   "metadata": {},
   "outputs": [],
   "source": [
    "ii = (32, 266)\n",
    "binary_global[(ii[0]-1):(ii[0] + 2), (ii[1]-1):(ii[1] + 2)]"
   ]
  },
  {
   "cell_type": "code",
   "execution_count": null,
   "metadata": {},
   "outputs": [],
   "source": [
    "\n"
   ]
  },
  {
   "cell_type": "code",
   "execution_count": 62,
   "metadata": {},
   "outputs": [
    {
     "data": {
      "text/plain": [
       "[<matplotlib.lines.Line2D at 0x1849683aa58>]"
      ]
     },
     "execution_count": 62,
     "metadata": {},
     "output_type": "execute_result"
    },
    {
     "data": {
      "image/png": "[encoded data removed]",
      "text/plain": [
       "<Figure size 432x288 with 1 Axes>"
      ]
     },
     "metadata": {
      "needs_background": "light"
     },
     "output_type": "display_data"
    }
   ],
   "source": [
    "import numpy as np\n",
    "import matplotlib.pyplot as plt\n",
    "\n",
    "x = np.random.randn(100)\n",
    "y = np.random.randn(100)  +  x\n",
    "\n",
    "plt.plot(x, y, \"o\")\n",
    "plt.plot(x[0], y[0], \"o\")"
   ]
  },
  {
   "cell_type": "code",
   "execution_count": 55,
   "metadata": {},
   "outputs": [],
   "source": [
    "from sklearn.linear_model import LinearRegression\n",
    "\n",
    "lm = LinearRegression(fit_intercept = False)\n",
    "\n",
    "# center data on x_0, y_0\n",
    "y2 = y - y[0]\n",
    "x2 = x - x[0]\n",
    "\n",
    "# fit model\n",
    "lm.fit(x2.reshape(-1, 1), y2)"
   ]
  },
  {
   "cell_type": "code",
   "execution_count": 63,
   "metadata": {},
   "outputs": [
    {
     "data": {
      "text/plain": [
       "[<matplotlib.lines.Line2D at 0x184968c27f0>]"
      ]
     },
     "execution_count": 63,
     "metadata": {},
     "output_type": "execute_result"
    },
    {
     "data": {
      "image/png": "[encoded data removed]",
      "text/plain": [
       "<Figure size 432x288 with 1 Axes>"
      ]
     },
     "metadata": {
      "needs_background": "light"
     },
     "output_type": "display_data"
    }
   ],
   "source": [
    "# predict line\n",
    "preds = lm.predict(np.arange(-5, 5, 0.1).reshape(-1,1))\n",
    "\n",
    "# plot on original scale\n",
    "plt.plot(x, y, \"o\")\n",
    "plt.plot(x[0], y[0], \"o\")\n",
    "plt.plot(np.arange(-5, 5, 0.1) + x[0], preds  + y[0])"
   ]
  },
  {
   "cell_type": "code",
   "execution_count": 26,
   "metadata": {},
   "outputs": [
    {
     "data": {
      "text/plain": [
       "0.9211715422038577"
      ]
     },
     "execution_count": 26,
     "metadata": {},
     "output_type": "execute_result"
    }
   ],
   "source": [
    "y[0]"
   ]
  },
  {
   "cell_type": "code",
   "execution_count": null,
   "metadata": {},
   "outputs": [],
   "source": [
    "lm.predict(np.arange(-2, 2, 0.1).reshape(-1,1)) + y[0]"
   ]
  },
  {
   "cell_type": "code",
   "execution_count": null,
   "metadata": {},
   "outputs": [],
   "source": []
  },
  {
   "cell_type": "code",
   "execution_count": null,
   "metadata": {},
   "outputs": [],
   "source": []
  },
  {
   "cell_type": "code",
   "execution_count": null,
   "metadata": {},
   "outputs": [],
   "source": []
  },
  {
   "cell_type": "code",
   "execution_count": null,
   "metadata": {},
   "outputs": [],
   "source": []
  },
  {
   "cell_type": "code",
   "execution_count": null,
   "metadata": {},
   "outputs": [],
   "source": []
  },
  {
   "cell_type": "code",
   "execution_count": 142,
   "metadata": {},
   "outputs": [
    {
     "name": "stdout",
     "output_type": "stream",
     "text": [
      "(5, 8)\n",
      "              var  var2  pi  summaryurl  htmlabstract  abstract  project_num  \\\n",
      "my_row_names                                                                   \n",
      "38              1     1   1           1             1         1            1   \n",
      "1               2     2   2           2             2         2            2   \n",
      "2               2     2   2           2             2         2            2   \n",
      "3               3     3   3           3             3         3            3   \n",
      "55656         888     4   4           4             4         4            4   \n",
      "\n",
      "              dateaasdf  \n",
      "my_row_names             \n",
      "38                  1.0  \n",
      "1                   2.0  \n",
      "2                   2.0  \n",
      "3                   NaN  \n",
      "55656               NaN  \n"
     ]
    }
   ],
   "source": [
    "import pandas as pd\n",
    "\n",
    "dataset = pd.read_excel(r\"C:\\Users\\calli\\Desktop\\test.xlsx\", index_col = 0)\n",
    "df = pd.DataFrame(dataset)\n",
    "print(df.shape)\n",
    "print(df.head())\n",
    "cols = [0,1]\n",
    "df = df.iloc[:, cols]\n"
   ]
  },
  {
   "cell_type": "code",
   "execution_count": 144,
   "metadata": {},
   "outputs": [
    {
     "name": "stdout",
     "output_type": "stream",
     "text": [
      "              var  var2\n",
      "my_row_names           \n",
      "38              1     1\n",
      "1               2     2\n",
      "2               2     2\n",
      "3               3     3\n",
      "55656         888     4\n"
     ]
    }
   ],
   "source": [
    "print(df)"
   ]
  },
  {
   "cell_type": "code",
   "execution_count": 145,
   "metadata": {},
   "outputs": [
    {
     "name": "stdout",
     "output_type": "stream",
     "text": [
      "<class 'pandas.core.frame.DataFrame'>\n",
      "Int64Index: 5 entries, 38 to 55656\n",
      "Data columns (total 2 columns):\n",
      "var     5 non-null int64\n",
      "var2    5 non-null int64\n",
      "dtypes: int64(2)\n",
      "memory usage: 120.0 bytes\n"
     ]
    }
   ],
   "source": [
    "df.info()"
   ]
  },
  {
   "cell_type": "code",
   "execution_count": 88,
   "metadata": {},
   "outputs": [
    {
     "data": {
      "text/plain": [
       "funding_end     2.0\n",
       "keywords        2.0\n",
       "pi              2.0\n",
       "summaryurl      2.0\n",
       "htmlabstract    2.0\n",
       "abstract        2.0\n",
       "project_num     2.0\n",
       "dateaasdf       2.0\n",
       "Name: 2, dtype: float64"
      ]
     },
     "execution_count": 88,
     "metadata": {},
     "output_type": "execute_result"
    }
   ],
   "source": [
    "df.iloc[1, :]"
   ]
  },
  {
   "cell_type": "code",
   "execution_count": null,
   "metadata": {},
   "outputs": [],
   "source": []
  },
  {
   "cell_type": "code",
   "execution_count": 5,
   "metadata": {},
   "outputs": [
    {
     "ename": "NameError",
     "evalue": "name 'allkeywords' is not defined",
     "output_type": "error",
     "traceback": [
      "\u001b[1;31m---------------------------------------------------------------------------\u001b[0m",
      "\u001b[1;31mNameError\u001b[0m                                 Traceback (most recent call last)",
      "\u001b[1;32m<ipython-input-5-3bf8d703b39e>\u001b[0m in \u001b[0;36m<module>\u001b[1;34m\u001b[0m\n\u001b[0;32m      8\u001b[0m \u001b[0mbb\u001b[0m \u001b[1;33m=\u001b[0m \u001b[0mdf\u001b[0m\u001b[1;33m.\u001b[0m\u001b[0mkeywords\u001b[0m\u001b[1;33m.\u001b[0m\u001b[0mtolist\u001b[0m\u001b[1;33m(\u001b[0m\u001b[1;33m)\u001b[0m\u001b[1;33m\u001b[0m\u001b[1;33m\u001b[0m\u001b[0m\n\u001b[0;32m      9\u001b[0m \u001b[1;32mfor\u001b[0m \u001b[0mb\u001b[0m \u001b[1;32min\u001b[0m \u001b[0mbb\u001b[0m\u001b[1;33m:\u001b[0m\u001b[1;33m\u001b[0m\u001b[1;33m\u001b[0m\u001b[0m\n\u001b[1;32m---> 10\u001b[1;33m     \u001b[0mallkeywords\u001b[0m\u001b[1;33m.\u001b[0m\u001b[0mappend\u001b[0m\u001b[1;33m(\u001b[0m\u001b[0mb\u001b[0m\u001b[1;33m)\u001b[0m\u001b[1;33m\u001b[0m\u001b[1;33m\u001b[0m\u001b[0m\n\u001b[0m\u001b[0;32m     11\u001b[0m \u001b[1;33m\u001b[0m\u001b[0m\n\u001b[0;32m     12\u001b[0m \u001b[0muu\u001b[0m \u001b[1;33m=\u001b[0m \u001b[0mdf\u001b[0m\u001b[1;33m[\u001b[0m\u001b[1;34m'pi'\u001b[0m\u001b[1;33m]\u001b[0m \u001b[1;33m=\u001b[0m \u001b[0mdf\u001b[0m\u001b[1;33m[\u001b[0m\u001b[1;34m'pi'\u001b[0m\u001b[1;33m]\u001b[0m\u001b[1;33m.\u001b[0m\u001b[0mastype\u001b[0m\u001b[1;33m(\u001b[0m\u001b[0mstr\u001b[0m\u001b[1;33m)\u001b[0m\u001b[1;33m\u001b[0m\u001b[1;33m\u001b[0m\u001b[0m\n",
      "\u001b[1;31mNameError\u001b[0m: name 'allkeywords' is not defined"
     ]
    }
   ],
   "source": [
    "tt = df['funding_end'] = df['funding_end'].astype(str)\n",
    "tt = df.funding_end.tolist()\n",
    "allenddates = []\n",
    "for t in tt:\n",
    "    allenddates.append(t)\n",
    "\n",
    "bb = df['keywords'] = df['keywords'].astype(str)\n",
    "bb = df.keywords.tolist()\n",
    "for b in bb:\n",
    "    allkeywords.append(b)\n",
    "\n",
    "uu = df['pi'] = df['pi'].astype(str)\n",
    "uu = df.pi.tolist()\n",
    "for u in uu:\n",
    "    allpis.append(u)\n",
    "\n",
    "vv = df['summaryurl'] = df['summaryurl'].astype(str)\n",
    "vv = df.summaryurl.tolist()\n",
    "for v in vv:\n",
    "    allsummaryurls.append(v)\n",
    "\n",
    "ww = df['htmlabstract'] = df['htmlabstract'].astype(str)\n",
    "ww = df.htmlabstract.tolist()\n",
    "for w in ww:\n",
    "    allhtmlabstracts.append(w) \n",
    "\n",
    "xx = df['abstract'] = df['abstract'].astype(str)\n",
    "xx = df.abstract.tolist()\n",
    "for x in xx:\n",
    "    allabstracts.append(x) \n",
    "\n",
    "yy = df['project_num'] = df['project_num'].astype(str)\n",
    "yy = df.project_num.tolist()\n",
    "for y in yy:\n",
    "    allprojectnums.append(y)    \n",
    "\n",
    "zz = df['title'] = df['title'].astype(str)\n",
    "zz = df.title.tolist()\n",
    "\n",
    "for z in zz:\n",
    "    alltitles.append(z) "
   ]
  },
  {
   "cell_type": "code",
   "execution_count": 168,
   "metadata": {},
   "outputs": [],
   "source": [
    "x=51\n",
    "def Fibonacci(x):\n",
    "    fib_array = [None]*x\n",
    "    First_Value=0\n",
    "    Second_Value=1\n",
    "    for i in range(x):\n",
    "        Next_value = First_Value\n",
    "        First_Value = Second_Value\n",
    "        Second_Value = Next_value + Second_Value\n",
    "        fib_array[i] = First_Value\n",
    "    return fib_array"
   ]
  },
  {
   "cell_type": "code",
   "execution_count": 169,
   "metadata": {},
   "outputs": [
    {
     "data": {
      "text/plain": [
       "[1, 1, 2, 3, 5, 8, 13, 21, 34, 55]"
      ]
     },
     "execution_count": 169,
     "metadata": {},
     "output_type": "execute_result"
    }
   ],
   "source": [
    "Fibonacci(10)"
   ]
  },
  {
   "cell_type": "code",
   "execution_count": 180,
   "metadata": {},
   "outputs": [
    {
     "name": "stdout",
     "output_type": "stream",
     "text": [
      "70.8 µs ± 2.03 µs per loop (mean ± std. dev. of 7 runs, 10000 loops each)\n"
     ]
    }
   ],
   "source": [
    "%%timeit\n",
    "Fibonacci(1000)"
   ]
  },
  {
   "cell_type": "code",
   "execution_count": 176,
   "metadata": {},
   "outputs": [],
   "source": [
    "def Fibonacci2(x):\n",
    "    fib_array = []\n",
    "    First_Value=0\n",
    "    Second_Value=1\n",
    "    for i in range(x):\n",
    "        Next_value = First_Value\n",
    "        First_Value = Second_Value\n",
    "        Second_Value = Next_value + Second_Value\n",
    "        fib_array.append(First_Value)\n",
    "    return fib_array"
   ]
  },
  {
   "cell_type": "code",
   "execution_count": 177,
   "metadata": {},
   "outputs": [
    {
     "data": {
      "text/plain": [
       "[1, 1, 2, 3, 5, 8, 13, 21, 34, 55]"
      ]
     },
     "execution_count": 177,
     "metadata": {},
     "output_type": "execute_result"
    }
   ],
   "source": [
    "Fibonacci2(10)"
   ]
  },
  {
   "cell_type": "code",
   "execution_count": 179,
   "metadata": {},
   "outputs": [
    {
     "name": "stdout",
     "output_type": "stream",
     "text": [
      "88.7 µs ± 2.21 µs per loop (mean ± std. dev. of 7 runs, 10000 loops each)\n"
     ]
    }
   ],
   "source": [
    "%%timeit\n",
    "Fibonacci2(1000)"
   ]
  },
  {
   "cell_type": "code",
   "execution_count": null,
   "metadata": {},
   "outputs": [],
   "source": []
  }
 ],
 "metadata": {
  "kernelspec": {
   "display_name": "Python 3",
   "language": "python",
   "name": "python3"
  },
  "language_info": {
   "codemirror_mode": {
    "name": "ipython",
    "version": 3
   },
   "file_extension": ".py",
   "mimetype": "text/x-python",
   "name": "python",
   "nbconvert_exporter": "python",
   "pygments_lexer": "ipython3",
   "version": "3.7.3"
  }
 },
 "nbformat": 4,
 "nbformat_minor": 4
}
